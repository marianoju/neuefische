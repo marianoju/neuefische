{
 "cells": [
  {
   "cell_type": "markdown",
   "metadata": {},
   "source": [
    "# List of all combinations of variables"
   ]
  },
  {
   "cell_type": "code",
   "execution_count": 1,
   "metadata": {},
   "outputs": [],
   "source": [
    "import itertools"
   ]
  },
  {
   "cell_type": "markdown",
   "metadata": {},
   "source": [
    "## Total number of all combinations of the variables\n",
    "\n",
    "e.g. {1,2,3,4} = 1 + 4 + 6 + 4 = 15 \n",
    "\n",
    "01. 1234\n",
    "02. 123\n",
    "03. 124\n",
    "04. 134\n",
    "05. 234\n",
    "06. 12\n",
    "07. 13\n",
    "08. 14\n",
    "09. 23\n",
    "10. 24\n",
    "11. 34\n",
    "12. 1\n",
    "13. 2\n",
    "14. 3\n",
    "15. 4"
   ]
  },
  {
   "cell_type": "code",
   "execution_count": 2,
   "metadata": {},
   "outputs": [
    {
     "name": "stdout",
     "output_type": "stream",
     "text": [
      "32\n"
     ]
    }
   ],
   "source": [
    "len_of_combinations = 1*4 + 4*3 + 6*2 + 4*1\n",
    "print(len_of_combinations)"
   ]
  },
  {
   "cell_type": "markdown",
   "metadata": {},
   "source": [
    "## List of Lists"
   ]
  },
  {
   "cell_type": "code",
   "execution_count": 3,
   "metadata": {},
   "outputs": [
    {
     "name": "stdout",
     "output_type": "stream",
     "text": [
      "[[1, 2], [2, 3], [3, 4]]\n"
     ]
    },
    {
     "data": {
      "text/plain": [
       "list"
      ]
     },
     "execution_count": 3,
     "metadata": {},
     "output_type": "execute_result"
    }
   ],
   "source": [
    "a = [1, 2]\n",
    "b = [2, 3]\n",
    "c = [3, 4]\n",
    "d = [a, b, c]\n",
    "\n",
    "print(d)\n",
    "type(d)"
   ]
  },
  {
   "cell_type": "code",
   "execution_count": 4,
   "metadata": {},
   "outputs": [
    {
     "data": {
      "text/plain": [
       "3"
      ]
     },
     "execution_count": 4,
     "metadata": {},
     "output_type": "execute_result"
    }
   ],
   "source": [
    "len(d)"
   ]
  },
  {
   "cell_type": "code",
   "execution_count": 5,
   "metadata": {},
   "outputs": [
    {
     "name": "stdout",
     "output_type": "stream",
     "text": [
      "[['var1', 'var2'], ['var2', 'var3'], ['var3', 'var4']]\n"
     ]
    },
    {
     "data": {
      "text/plain": [
       "list"
      ]
     },
     "execution_count": 5,
     "metadata": {},
     "output_type": "execute_result"
    }
   ],
   "source": [
    "a = ['var1', 'var2']\n",
    "b = ['var2', 'var3']\n",
    "c = ['var3', 'var4']\n",
    "d = [a, b, c]\n",
    "\n",
    "print(d)\n",
    "type(d)"
   ]
  },
  {
   "cell_type": "code",
   "execution_count": 6,
   "metadata": {},
   "outputs": [
    {
     "data": {
      "text/plain": [
       "3"
      ]
     },
     "execution_count": 6,
     "metadata": {},
     "output_type": "execute_result"
    }
   ],
   "source": [
    "len(d)"
   ]
  },
  {
   "cell_type": "markdown",
   "metadata": {},
   "source": [
    "--- "
   ]
  },
  {
   "cell_type": "code",
   "execution_count": 7,
   "metadata": {},
   "outputs": [
    {
     "name": "stdout",
     "output_type": "stream",
     "text": [
      "[('var1',), ('var2',), ('var3',), ('var4',), ('var1', 'var2'), ('var1', 'var3'), ('var1', 'var4'), ('var2', 'var3'), ('var2', 'var4'), ('var3', 'var4'), ('var1', 'var2', 'var3'), ('var1', 'var2', 'var4'), ('var1', 'var3', 'var4'), ('var2', 'var3', 'var4'), ('var1', 'var2', 'var3', 'var4')]\n"
     ]
    },
    {
     "data": {
      "text/plain": [
       "list"
      ]
     },
     "execution_count": 7,
     "metadata": {},
     "output_type": "execute_result"
    }
   ],
   "source": [
    "list_of_1 = list(itertools.combinations([\"var1\", \"var2\", \"var3\", \"var4\"], 1))\n",
    "list_of_2 = list(itertools.combinations([\"var1\", \"var2\", \"var3\", \"var4\"], 2))\n",
    "list_of_3 = list(itertools.combinations([\"var1\", \"var2\", \"var3\", \"var4\"], 3))\n",
    "list_of_4 = list(itertools.combinations([\"var1\", \"var2\", \"var3\", \"var4\"], 4))\n",
    "\n",
    "combinations = list_of_1 + list_of_2 + list_of_3 + list_of_4\n",
    "\n",
    "print(combinations)\n",
    "type(combinations)"
   ]
  },
  {
   "cell_type": "code",
   "execution_count": 8,
   "metadata": {},
   "outputs": [
    {
     "data": {
      "text/plain": [
       "15"
      ]
     },
     "execution_count": 8,
     "metadata": {},
     "output_type": "execute_result"
    }
   ],
   "source": [
    "len(combinations)"
   ]
  },
  {
   "cell_type": "markdown",
   "metadata": {},
   "source": [
    "--- "
   ]
  },
  {
   "cell_type": "code",
   "execution_count": 9,
   "metadata": {},
   "outputs": [
    {
     "name": "stdout",
     "output_type": "stream",
     "text": [
      "[('var1',), ('var2',), ('var3',), ('var4',), ('var5',), ('var6',), ('var1', 'var2'), ('var1', 'var3'), ('var1', 'var4'), ('var1', 'var5'), ('var1', 'var6'), ('var2', 'var3'), ('var2', 'var4'), ('var2', 'var5'), ('var2', 'var6'), ('var3', 'var4'), ('var3', 'var5'), ('var3', 'var6'), ('var4', 'var5'), ('var4', 'var6'), ('var5', 'var6'), ('var1', 'var2', 'var3'), ('var1', 'var2', 'var4'), ('var1', 'var2', 'var5'), ('var1', 'var2', 'var6'), ('var1', 'var3', 'var4'), ('var1', 'var3', 'var5'), ('var1', 'var3', 'var6'), ('var1', 'var4', 'var5'), ('var1', 'var4', 'var6'), ('var1', 'var5', 'var6'), ('var2', 'var3', 'var4'), ('var2', 'var3', 'var5'), ('var2', 'var3', 'var6'), ('var2', 'var4', 'var5'), ('var2', 'var4', 'var6'), ('var2', 'var5', 'var6'), ('var3', 'var4', 'var5'), ('var3', 'var4', 'var6'), ('var3', 'var5', 'var6'), ('var4', 'var5', 'var6'), ('var1', 'var2', 'var3', 'var4'), ('var1', 'var2', 'var3', 'var5'), ('var1', 'var2', 'var3', 'var6'), ('var1', 'var2', 'var4', 'var5'), ('var1', 'var2', 'var4', 'var6'), ('var1', 'var2', 'var5', 'var6'), ('var1', 'var3', 'var4', 'var5'), ('var1', 'var3', 'var4', 'var6'), ('var1', 'var3', 'var5', 'var6'), ('var1', 'var4', 'var5', 'var6'), ('var2', 'var3', 'var4', 'var5'), ('var2', 'var3', 'var4', 'var6'), ('var2', 'var3', 'var5', 'var6'), ('var2', 'var4', 'var5', 'var6'), ('var3', 'var4', 'var5', 'var6'), ('var1', 'var2', 'var3', 'var4', 'var5'), ('var1', 'var2', 'var3', 'var4', 'var6'), ('var1', 'var2', 'var3', 'var5', 'var6'), ('var1', 'var2', 'var4', 'var5', 'var6'), ('var1', 'var3', 'var4', 'var5', 'var6'), ('var2', 'var3', 'var4', 'var5', 'var6'), ('var1', 'var2', 'var3', 'var4', 'var5', 'var6')]\n"
     ]
    },
    {
     "data": {
      "text/plain": [
       "list"
      ]
     },
     "execution_count": 9,
     "metadata": {},
     "output_type": "execute_result"
    }
   ],
   "source": [
    "list_of_1 = list(itertools.combinations([\"var1\", \"var2\", \"var3\", \"var4\", \"var5\", \"var6\"], 1))\n",
    "list_of_2 = list(itertools.combinations([\"var1\", \"var2\", \"var3\", \"var4\", \"var5\", \"var6\"], 2))\n",
    "list_of_3 = list(itertools.combinations([\"var1\", \"var2\", \"var3\", \"var4\", \"var5\", \"var6\"], 3))\n",
    "list_of_4 = list(itertools.combinations([\"var1\", \"var2\", \"var3\", \"var4\", \"var5\", \"var6\"], 4))\n",
    "list_of_5 = list(itertools.combinations([\"var1\", \"var2\", \"var3\", \"var4\", \"var5\", \"var6\"], 5))\n",
    "list_of_6 = list(itertools.combinations([\"var1\", \"var2\", \"var3\", \"var4\", \"var5\", \"var6\"], 6))\n",
    "\n",
    "combinations = list_of_1 + list_of_2 + list_of_3 + list_of_4 + list_of_5 + list_of_6 \n",
    "\n",
    "print(combinations)\n",
    "type(combinations)"
   ]
  },
  {
   "cell_type": "code",
   "execution_count": 10,
   "metadata": {},
   "outputs": [
    {
     "data": {
      "text/plain": [
       "63"
      ]
     },
     "execution_count": 10,
     "metadata": {},
     "output_type": "execute_result"
    }
   ],
   "source": [
    "len(combinations)"
   ]
  },
  {
   "cell_type": "markdown",
   "metadata": {},
   "source": [
    "--- "
   ]
  },
  {
   "cell_type": "code",
   "execution_count": 11,
   "metadata": {},
   "outputs": [
    {
     "name": "stdout",
     "output_type": "stream",
     "text": [
      "[('var1',), ('var2',), ('var3',), ('var4',), ('var5',), ('var6',), ('var1', 'var2'), ('var1', 'var3'), ('var1', 'var4'), ('var1', 'var5'), ('var1', 'var6'), ('var2', 'var3'), ('var2', 'var4'), ('var2', 'var5'), ('var2', 'var6'), ('var3', 'var4'), ('var3', 'var5'), ('var3', 'var6'), ('var4', 'var5'), ('var4', 'var6'), ('var5', 'var6'), ('var1', 'var2', 'var3'), ('var1', 'var2', 'var4'), ('var1', 'var2', 'var5'), ('var1', 'var2', 'var6'), ('var1', 'var3', 'var4'), ('var1', 'var3', 'var5'), ('var1', 'var3', 'var6'), ('var1', 'var4', 'var5'), ('var1', 'var4', 'var6'), ('var1', 'var5', 'var6'), ('var2', 'var3', 'var4'), ('var2', 'var3', 'var5'), ('var2', 'var3', 'var6'), ('var2', 'var4', 'var5'), ('var2', 'var4', 'var6'), ('var2', 'var5', 'var6'), ('var3', 'var4', 'var5'), ('var3', 'var4', 'var6'), ('var3', 'var5', 'var6'), ('var4', 'var5', 'var6'), ('var1', 'var2', 'var3', 'var4'), ('var1', 'var2', 'var3', 'var5'), ('var1', 'var2', 'var3', 'var6'), ('var1', 'var2', 'var4', 'var5'), ('var1', 'var2', 'var4', 'var6'), ('var1', 'var2', 'var5', 'var6'), ('var1', 'var3', 'var4', 'var5'), ('var1', 'var3', 'var4', 'var6'), ('var1', 'var3', 'var5', 'var6'), ('var1', 'var4', 'var5', 'var6'), ('var2', 'var3', 'var4', 'var5'), ('var2', 'var3', 'var4', 'var6'), ('var2', 'var3', 'var5', 'var6'), ('var2', 'var4', 'var5', 'var6'), ('var3', 'var4', 'var5', 'var6'), ('var1', 'var2', 'var3', 'var4', 'var5'), ('var1', 'var2', 'var3', 'var4', 'var6'), ('var1', 'var2', 'var3', 'var5', 'var6'), ('var1', 'var2', 'var4', 'var5', 'var6'), ('var1', 'var3', 'var4', 'var5', 'var6'), ('var2', 'var3', 'var4', 'var5', 'var6'), ('var1', 'var2', 'var3', 'var4', 'var5', 'var6')]\n"
     ]
    }
   ],
   "source": [
    "list_of_variables = ['var1', 'var2', 'var3', 'var4', 'var5', 'var6']\n",
    "\n",
    "combinations = []\n",
    "\n",
    "for i in range(1, len(list_of_variables)+1):\n",
    "   combinations += itertools.combinations(list_of_variables, i)\n",
    "\n",
    "print(combinations)"
   ]
  },
  {
   "cell_type": "code",
   "execution_count": 12,
   "metadata": {},
   "outputs": [
    {
     "data": {
      "text/plain": [
       "list"
      ]
     },
     "execution_count": 12,
     "metadata": {},
     "output_type": "execute_result"
    }
   ],
   "source": [
    "type(combinations)"
   ]
  },
  {
   "cell_type": "code",
   "execution_count": 13,
   "metadata": {},
   "outputs": [
    {
     "data": {
      "text/plain": [
       "[('var1',),\n",
       " ('var2',),\n",
       " ('var3',),\n",
       " ('var4',),\n",
       " ('var5',),\n",
       " ('var6',),\n",
       " ('var1', 'var2'),\n",
       " ('var1', 'var3'),\n",
       " ('var1', 'var4'),\n",
       " ('var1', 'var5'),\n",
       " ('var1', 'var6'),\n",
       " ('var2', 'var3'),\n",
       " ('var2', 'var4'),\n",
       " ('var2', 'var5'),\n",
       " ('var2', 'var6'),\n",
       " ('var3', 'var4'),\n",
       " ('var3', 'var5'),\n",
       " ('var3', 'var6'),\n",
       " ('var4', 'var5'),\n",
       " ('var4', 'var6'),\n",
       " ('var5', 'var6'),\n",
       " ('var1', 'var2', 'var3'),\n",
       " ('var1', 'var2', 'var4'),\n",
       " ('var1', 'var2', 'var5'),\n",
       " ('var1', 'var2', 'var6'),\n",
       " ('var1', 'var3', 'var4'),\n",
       " ('var1', 'var3', 'var5'),\n",
       " ('var1', 'var3', 'var6'),\n",
       " ('var1', 'var4', 'var5'),\n",
       " ('var1', 'var4', 'var6'),\n",
       " ('var1', 'var5', 'var6'),\n",
       " ('var2', 'var3', 'var4'),\n",
       " ('var2', 'var3', 'var5'),\n",
       " ('var2', 'var3', 'var6'),\n",
       " ('var2', 'var4', 'var5'),\n",
       " ('var2', 'var4', 'var6'),\n",
       " ('var2', 'var5', 'var6'),\n",
       " ('var3', 'var4', 'var5'),\n",
       " ('var3', 'var4', 'var6'),\n",
       " ('var3', 'var5', 'var6'),\n",
       " ('var4', 'var5', 'var6'),\n",
       " ('var1', 'var2', 'var3', 'var4'),\n",
       " ('var1', 'var2', 'var3', 'var5'),\n",
       " ('var1', 'var2', 'var3', 'var6'),\n",
       " ('var1', 'var2', 'var4', 'var5'),\n",
       " ('var1', 'var2', 'var4', 'var6'),\n",
       " ('var1', 'var2', 'var5', 'var6'),\n",
       " ('var1', 'var3', 'var4', 'var5'),\n",
       " ('var1', 'var3', 'var4', 'var6'),\n",
       " ('var1', 'var3', 'var5', 'var6'),\n",
       " ('var1', 'var4', 'var5', 'var6'),\n",
       " ('var2', 'var3', 'var4', 'var5'),\n",
       " ('var2', 'var3', 'var4', 'var6'),\n",
       " ('var2', 'var3', 'var5', 'var6'),\n",
       " ('var2', 'var4', 'var5', 'var6'),\n",
       " ('var3', 'var4', 'var5', 'var6'),\n",
       " ('var1', 'var2', 'var3', 'var4', 'var5'),\n",
       " ('var1', 'var2', 'var3', 'var4', 'var6'),\n",
       " ('var1', 'var2', 'var3', 'var5', 'var6'),\n",
       " ('var1', 'var2', 'var4', 'var5', 'var6'),\n",
       " ('var1', 'var3', 'var4', 'var5', 'var6'),\n",
       " ('var2', 'var3', 'var4', 'var5', 'var6'),\n",
       " ('var1', 'var2', 'var3', 'var4', 'var5', 'var6')]"
      ]
     },
     "execution_count": 13,
     "metadata": {},
     "output_type": "execute_result"
    }
   ],
   "source": [
    "list(combinations)"
   ]
  },
  {
   "cell_type": "code",
   "execution_count": 14,
   "metadata": {},
   "outputs": [
    {
     "data": {
      "text/plain": [
       "63"
      ]
     },
     "execution_count": 14,
     "metadata": {},
     "output_type": "execute_result"
    }
   ],
   "source": [
    "len(combinations)"
   ]
  },
  {
   "cell_type": "markdown",
   "metadata": {},
   "source": [
    "--- "
   ]
  },
  {
   "cell_type": "code",
   "execution_count": 15,
   "metadata": {},
   "outputs": [
    {
     "name": "stdout",
     "output_type": "stream",
     "text": [
      "[('var1',), ('var2',), ('var3',), ('var4',), ('var5',), ('var6',), ('var1', 'var2'), ('var1', 'var3'), ('var1', 'var4'), ('var1', 'var5'), ('var1', 'var6'), ('var2', 'var3'), ('var2', 'var4'), ('var2', 'var5'), ('var2', 'var6'), ('var3', 'var4'), ('var3', 'var5'), ('var3', 'var6'), ('var4', 'var5'), ('var4', 'var6'), ('var5', 'var6'), ('var1', 'var2', 'var3'), ('var1', 'var2', 'var4'), ('var1', 'var2', 'var5'), ('var1', 'var2', 'var6'), ('var1', 'var3', 'var4'), ('var1', 'var3', 'var5'), ('var1', 'var3', 'var6'), ('var1', 'var4', 'var5'), ('var1', 'var4', 'var6'), ('var1', 'var5', 'var6'), ('var2', 'var3', 'var4'), ('var2', 'var3', 'var5'), ('var2', 'var3', 'var6'), ('var2', 'var4', 'var5'), ('var2', 'var4', 'var6'), ('var2', 'var5', 'var6'), ('var3', 'var4', 'var5'), ('var3', 'var4', 'var6'), ('var3', 'var5', 'var6'), ('var4', 'var5', 'var6'), ('var1', 'var2', 'var3', 'var4'), ('var1', 'var2', 'var3', 'var5'), ('var1', 'var2', 'var3', 'var6'), ('var1', 'var2', 'var4', 'var5'), ('var1', 'var2', 'var4', 'var6'), ('var1', 'var2', 'var5', 'var6'), ('var1', 'var3', 'var4', 'var5'), ('var1', 'var3', 'var4', 'var6'), ('var1', 'var3', 'var5', 'var6'), ('var1', 'var4', 'var5', 'var6'), ('var2', 'var3', 'var4', 'var5'), ('var2', 'var3', 'var4', 'var6'), ('var2', 'var3', 'var5', 'var6'), ('var2', 'var4', 'var5', 'var6'), ('var3', 'var4', 'var5', 'var6'), ('var1', 'var2', 'var3', 'var4', 'var5'), ('var1', 'var2', 'var3', 'var4', 'var6'), ('var1', 'var2', 'var3', 'var5', 'var6'), ('var1', 'var2', 'var4', 'var5', 'var6'), ('var1', 'var3', 'var4', 'var5', 'var6'), ('var2', 'var3', 'var4', 'var5', 'var6'), ('var1', 'var2', 'var3', 'var4', 'var5', 'var6')]\n"
     ]
    }
   ],
   "source": [
    "list_of_variables = ['var1', 'var2', 'var3', 'var4', 'var5', 'var6']\n",
    "\n",
    "combinations = []\n",
    "\n",
    "for i in range(1, len(list_of_variables)+1):\n",
    "   combinations += list(itertools.combinations(list_of_variables, i))\n",
    "\n",
    "print(combinations)"
   ]
  },
  {
   "cell_type": "code",
   "execution_count": 16,
   "metadata": {},
   "outputs": [
    {
     "data": {
      "text/plain": [
       "list"
      ]
     },
     "execution_count": 16,
     "metadata": {},
     "output_type": "execute_result"
    }
   ],
   "source": [
    "type(combinations)"
   ]
  },
  {
   "cell_type": "code",
   "execution_count": 17,
   "metadata": {},
   "outputs": [
    {
     "data": {
      "text/plain": [
       "63"
      ]
     },
     "execution_count": 17,
     "metadata": {},
     "output_type": "execute_result"
    }
   ],
   "source": [
    "len(combinations)"
   ]
  }
 ],
 "metadata": {
  "kernelspec": {
   "display_name": "Python 3",
   "language": "python",
   "name": "python3"
  },
  "language_info": {
   "codemirror_mode": {
    "name": "ipython",
    "version": 3
   },
   "file_extension": ".py",
   "mimetype": "text/x-python",
   "name": "python",
   "nbconvert_exporter": "python",
   "pygments_lexer": "ipython3",
   "version": "3.6.5"
  }
 },
 "nbformat": 4,
 "nbformat_minor": 2
}
