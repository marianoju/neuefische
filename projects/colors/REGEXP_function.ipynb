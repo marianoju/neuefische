{
 "cells": [
  {
   "cell_type": "markdown",
   "metadata": {},
   "source": [
    "# [sqlite3 : create function regexp with python](https://stackoverflow.com/questions/50063058/)"
   ]
  },
  {
   "cell_type": "code",
   "execution_count": 1,
   "metadata": {},
   "outputs": [],
   "source": [
    "import sqlite3\n",
    "import re"
   ]
  },
  {
   "cell_type": "code",
   "execution_count": 2,
   "metadata": {},
   "outputs": [],
   "source": [
    "def functionRegex(value, pattern):\n",
    "    c_pattern = re.compile(r\"\\b\" + pattern.lower() + r\"\\b\")\n",
    "    return c_pattern.search(value) is not None"
   ]
  },
  {
   "cell_type": "code",
   "execution_count": 3,
   "metadata": {},
   "outputs": [
    {
     "data": {
      "text/plain": [
       "<sqlite3.Cursor at 0x7ff5942c08f0>"
      ]
     },
     "execution_count": 3,
     "metadata": {},
     "output_type": "execute_result"
    }
   ],
   "source": [
    "connection = sqlite3.connect(':memory:')\n",
    "cur = connection.cursor()\n",
    "cur.execute('CREATE TABLE tweet(msg TEXT)')\n",
    "cur.execute('INSERT INTO tweet VALUES(\"This is a test message\")')\n",
    "cur.execute('INSERT INTO tweet VALUES(\"Another message\")')"
   ]
  },
  {
   "cell_type": "code",
   "execution_count": 4,
   "metadata": {},
   "outputs": [],
   "source": [
    "connection.create_function(\"REGEXP\", 2, functionRegex)"
   ]
  },
  {
   "cell_type": "code",
   "execution_count": 5,
   "metadata": {},
   "outputs": [
    {
     "name": "stdout",
     "output_type": "stream",
     "text": [
      "[]\n",
      "[]\n",
      "[]\n"
     ]
    }
   ],
   "source": [
    "print(cur.execute('SELECT * FROM tweet WHERE REGEXP(?, msg)', ('test',)).fetchall())\n",
    "print(cur.execute('SELECT * FROM tweet WHERE REGEXP(?, msg)', ('message',)).fetchall())\n",
    "print(cur.execute('SELECT * FROM tweet WHERE msg REGEXP ?', ('message',)).fetchall())"
   ]
  },
  {
   "cell_type": "code",
   "execution_count": null,
   "metadata": {},
   "outputs": [],
   "source": []
  }
 ],
 "metadata": {
  "kernelspec": {
   "display_name": "Python 3",
   "language": "python",
   "name": "python3"
  },
  "language_info": {
   "codemirror_mode": {
    "name": "ipython",
    "version": 3
   },
   "file_extension": ".py",
   "mimetype": "text/x-python",
   "name": "python",
   "nbconvert_exporter": "python",
   "pygments_lexer": "ipython3",
   "version": "3.6.6"
  }
 },
 "nbformat": 4,
 "nbformat_minor": 2
}
