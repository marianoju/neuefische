{
 "cells": [
  {
   "cell_type": "markdown",
   "metadata": {},
   "source": [
    "> The REGEXP operator is a special syntax for the regexp() user function. … the \"X REGEXP Y\" operator will be implemented as a call to \"regexp(Y,X)\"."
   ]
  },
  {
   "cell_type": "markdown",
   "metadata": {},
   "source": [
    "Source: [SQL As Understood By SQLite: The LIKE, GLOB, REGEXP, and MATCH operators](http://www.sqlite.org/lang_expr.html#like)"
   ]
  },
  {
   "cell_type": "markdown",
   "metadata": {},
   "source": [
    "## [sqlite3 : create function regexp with python](https://stackoverflow.com/questions/50063058/)"
   ]
  },
  {
   "cell_type": "code",
   "execution_count": 1,
   "metadata": {},
   "outputs": [],
   "source": [
    "import sqlite3\n",
    "import re"
   ]
  },
  {
   "cell_type": "code",
   "execution_count": 2,
   "metadata": {},
   "outputs": [],
   "source": [
    "def functionRegex(value, pattern):\n",
    "    c_pattern = re.compile(r\"\\b\" + pattern.lower() + r\"\\b\")\n",
    "    return c_pattern.search(value) is not None"
   ]
  },
  {
   "cell_type": "code",
   "execution_count": 3,
   "metadata": {},
   "outputs": [],
   "source": [
    "connection = sqlite3.connect(':memory:')\n",
    "cur = connection.cursor()"
   ]
  },
  {
   "cell_type": "code",
   "execution_count": 4,
   "metadata": {},
   "outputs": [
    {
     "data": {
      "text/plain": [
       "<sqlite3.Cursor at 0x7f0d31fd5810>"
      ]
     },
     "execution_count": 4,
     "metadata": {},
     "output_type": "execute_result"
    }
   ],
   "source": [
    "cur.execute('CREATE TABLE tweet(msg TEXT)')\n",
    "cur.execute('INSERT INTO tweet VALUES(\"This is a test message\")')\n",
    "cur.execute('INSERT INTO tweet VALUES(\"Another message\")')"
   ]
  },
  {
   "cell_type": "code",
   "execution_count": 5,
   "metadata": {},
   "outputs": [],
   "source": [
    "connection.create_function(\"REGEXP\", 2, functionRegex)"
   ]
  },
  {
   "cell_type": "code",
   "execution_count": 6,
   "metadata": {},
   "outputs": [
    {
     "name": "stdout",
     "output_type": "stream",
     "text": [
      "[]\n",
      "[]\n",
      "[]\n"
     ]
    }
   ],
   "source": [
    "print(cur.execute('SELECT * FROM tweet WHERE REGEXP(?, msg)', ('test',)).fetchall())\n",
    "print(cur.execute('SELECT * FROM tweet WHERE REGEXP(?, msg)', ('message',)).fetchall())\n",
    "print(cur.execute('SELECT * FROM tweet WHERE msg REGEXP ?', ('message',)).fetchall())"
   ]
  },
  {
   "cell_type": "markdown",
   "metadata": {},
   "source": [
    "--- "
   ]
  },
  {
   "cell_type": "markdown",
   "metadata": {},
   "source": [
    "## [Problem with regexp python and sqlite](https://stackoverflow.com/questions/5365451)"
   ]
  },
  {
   "cell_type": "code",
   "execution_count": 7,
   "metadata": {},
   "outputs": [],
   "source": [
    "import sqlite3\n",
    "import re"
   ]
  },
  {
   "cell_type": "code",
   "execution_count": 8,
   "metadata": {},
   "outputs": [],
   "source": [
    "def regexp(expr, item):\n",
    "    reg = re.compile(expr)\n",
    "    return reg.search(item) is not None"
   ]
  },
  {
   "cell_type": "code",
   "execution_count": 9,
   "metadata": {},
   "outputs": [
    {
     "name": "stdout",
     "output_type": "stream",
     "text": [
      "[('aaa\"test\"',)]\n"
     ]
    }
   ],
   "source": [
    "conn = sqlite3.connect(':memory:')\n",
    "conn.create_function(\"REGEXP\", 2, regexp)\n",
    "cursor = conn.cursor()\n",
    "cursor.execute('CREATE TABLE foo (bar TEXT)')\n",
    "cursor.executemany('INSERT INTO foo (bar) VALUES (?)',[('aaa\"test\"',),('blah',)])\n",
    "cursor.execute('SELECT bar FROM foo WHERE bar REGEXP ?',['\"test\"'])\n",
    "data=cursor.fetchall()\n",
    "print(data)"
   ]
  }
 ],
 "metadata": {
  "kernelspec": {
   "display_name": "Python 3",
   "language": "python",
   "name": "python3"
  },
  "language_info": {
   "codemirror_mode": {
    "name": "ipython",
    "version": 3
   },
   "file_extension": ".py",
   "mimetype": "text/x-python",
   "name": "python",
   "nbconvert_exporter": "python",
   "pygments_lexer": "ipython3",
   "version": "3.6.6"
  }
 },
 "nbformat": 4,
 "nbformat_minor": 2
}
