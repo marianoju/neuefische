{
 "cells": [
  {
   "cell_type": "markdown",
   "metadata": {},
   "source": [
    "# Regular expression implemented in Python for SQLite "
   ]
  },
  {
   "cell_type": "markdown",
   "metadata": {},
   "source": [
    "> The REGEXP operator is a special syntax for the regexp() user function. … the \"X REGEXP Y\" operator will be implemented as a call to \"regexp(Y,X)\"."
   ]
  },
  {
   "cell_type": "markdown",
   "metadata": {},
   "source": [
    "Source: [SQL As Understood By SQLite: The LIKE, GLOB, REGEXP, and MATCH operators](http://www.sqlite.org/lang_expr.html#like)"
   ]
  },
  {
   "cell_type": "markdown",
   "metadata": {},
   "source": [
    "> SQLite does not contain regular expression functionality by default.\n",
    "> \n",
    "> It defines a `REGEXP` operator, but this will fail with an error message unless you or your framework [define a user function](http://www.sqlite.org/c3ref/create_function.html) called `regexp()`. How you do this will depend on your platform.\n",
    "\n",
    "Source: [How do I use regex in a SQLite query?](https://stackoverflow.com/questions/5071601/) "
   ]
  },
  {
   "cell_type": "markdown",
   "metadata": {},
   "source": [
    "## Code adapted from these sources \n",
    "\n",
    "1. [sqlite3 : create function regexp with python](https://stackoverflow.com/questions/50063058/) \n",
    "2. [Problem with regexp python and sqlite](https://stackoverflow.com/questions/5365451)"
   ]
  },
  {
   "cell_type": "code",
   "execution_count": 1,
   "metadata": {},
   "outputs": [],
   "source": [
    "import sqlite3\n",
    "import re # Regular expression operations"
   ]
  },
  {
   "cell_type": "markdown",
   "metadata": {},
   "source": [
    "First I need to define a function to implement regular expressions in SQLite. "
   ]
  },
  {
   "cell_type": "code",
   "execution_count": 2,
   "metadata": {},
   "outputs": [],
   "source": [
    "def regexp(expr, item):\n",
    "    reg = re.compile(expr)\n",
    "    return reg.search(item) is not None"
   ]
  },
  {
   "cell_type": "markdown",
   "metadata": {},
   "source": [
    "I have created a small sample holding the first 100 rows of each table from `mainsurvey_sqldump.txt` ([SQLite dump, 84 MB .tar.gz file](http://xkcd.com/color/colorsurvey.tar.gz))."
   ]
  },
  {
   "cell_type": "code",
   "execution_count": 3,
   "metadata": {},
   "outputs": [],
   "source": [
    "connection = sqlite3.connect('data/sample.db')\n",
    "cursor = connection.cursor()"
   ]
  },
  {
   "cell_type": "markdown",
   "metadata": {},
   "source": [
    "Now I need to reference the user defined function `regexp()` to the the SQL operator `REGEXP`. "
   ]
  },
  {
   "cell_type": "code",
   "execution_count": 4,
   "metadata": {},
   "outputs": [],
   "source": [
    "connection.create_function(\"REGEXP\", 2, regexp)"
   ]
  },
  {
   "cell_type": "markdown",
   "metadata": {},
   "source": [
    "Now I can use the SQL operator `REGEXP`. "
   ]
  },
  {
   "cell_type": "code",
   "execution_count": 5,
   "metadata": {},
   "outputs": [
    {
     "data": {
      "text/plain": [
       "<sqlite3.Cursor at 0x7f8014247810>"
      ]
     },
     "execution_count": 5,
     "metadata": {},
     "output_type": "execute_result"
    }
   ],
   "source": [
    "cursor.execute('SELECT colorname FROM answers WHERE colorname REGEXP ?', ['[a-z]'])"
   ]
  },
  {
   "cell_type": "code",
   "execution_count": 6,
   "metadata": {},
   "outputs": [],
   "source": [
    "data = cursor.fetchall()"
   ]
  },
  {
   "cell_type": "code",
   "execution_count": 7,
   "metadata": {},
   "outputs": [
    {
     "name": "stdout",
     "output_type": "stream",
     "text": [
      "[('agua',), ('aqua',), ('aubergine',), ('baby blue',), ('black',), ('blue',), ('blue',), ('blue',), ('blue',), ('blue',), ('blue',), ('blue',), ('blue',), ('blue',), ('blue?',), ('bluish gray',), ('bright blue',), ('bright green',), ('bright green',), ('brown',), ('brown',), ('brown',), ('capslock purple',), ('carrot',), ('cornflower blue',), ('cyan',), ('dark blue',), ('dark green',), ('dark green',), ('dark iron',), ('dark orange',), ('dark tan',), ('faint violet',), ('forest green',), ('forest green',), ('fuchsia',), ('goldenrod',), ('goldish green',), ('gray',), ('green',), ('green',), ('green',), ('green',), ('green',), ('green',), ('green',), ('hot pink',), ('khaki',), ('khaki',), ('light blue',), ('light chocolate',), ('light green',), ('light purple',), ('lighter green',), ('lime green',), ('magenta',), ('magenta',), ('mauve',), ('moss green',), ('moss green',), ('mud',), ('mustard',), ('mustard yellow',), ('navy',), ('navy',), ('navy blue',), ('olive green',), ('orange',), ('pale green',), ('pale green',), ('pale lime',), ('pale rose',), ('pastel blue',), ('pea green',), ('pink',), ('pink',), ('pinkle',), ('purpink',), ('purple',), ('purple',), ('purple',), ('purple',), ('purple',), ('purple',), ('purple',), ('purplish blue',), ('red',), ('red',), ('red',), ('red brown',), ('sand',), ('sea blue',), ('tan',), ('teal',), ('teal',), ('teal purple',), ('tealish green',), ('violet',), ('violet blue',), ('wedgwood blue',)]\n"
     ]
    }
   ],
   "source": [
    "print(data)"
   ]
  },
  {
   "cell_type": "code",
   "execution_count": 8,
   "metadata": {},
   "outputs": [
    {
     "data": {
      "text/plain": [
       "100"
      ]
     },
     "execution_count": 8,
     "metadata": {},
     "output_type": "execute_result"
    }
   ],
   "source": [
    "len(data)"
   ]
  },
  {
   "cell_type": "markdown",
   "metadata": {},
   "source": [
    "--- "
   ]
  },
  {
   "cell_type": "markdown",
   "metadata": {},
   "source": [
    "## Using Regular Expressions "
   ]
  },
  {
   "cell_type": "markdown",
   "metadata": {},
   "source": [
    "First I will print all entries in colorname. "
   ]
  },
  {
   "cell_type": "code",
   "execution_count": 9,
   "metadata": {},
   "outputs": [
    {
     "name": "stdout",
     "output_type": "stream",
     "text": [
      "[('',), (\"                                                                                                      ok, now you're screwing with me\",), (\"                                                                               kasclaknvlzkxmnv;dfgojxx;kjvbx.vbzvlmzcnvl;dhgahxc ,,cb/lfkgjas;hgihsfblzxcb,sngas'dgpsidjga;dflkasfgjafg'afdga;dfgadfglkdjfg;dlfkjgafdg;lkadfgja'fg;akdfjgadfl'gdfakgjdfl'gkjdfg/m,nbv.vbmnfb'dfgkldfhdgf';fg'adfg;kjf';lgfkgs\",), ('                                 (o\")',), ('                                (\"o)',), ('                               (\"o)',), ('                               (o\")',), ('                               >>#',), ('                         >>==n;)',), ('                        (o\")',), ('                      (\"o)',), ('                     >>====\"o)',), ('                   (o\")',), ('                  >>====>(\"o)',), ('                (o\")',), ('               >>====>   (\"o)',), ('               yellow',), ('             (\"o)',), ('          (o\")',), ('         (o\")',), ('       (\"o)',), ('      >>====>            (\"o)',), ('    (o\")',), ('    what would you call this color?',), ('   1. turquoise',), ('   bmb',), ('  cornflowerblue',), ('  h',), ('  n mn',), ('  orange',), ('  turquoise',), (' !!!!!!1!!]',), (' #100c08',), (' #38acec',), (' #b57281',), (' #dd00ff (yes i looked it up)',), (' #e4d96f',), (' (\"o)',), (' (o\")',), (' +',), (' ,',), (' ... some off green',), (' 486',), (' 5gt',), (' 68f79oibjl',), (' 83 2inf',), (' a',), (' a cross between terra cotta and light pink',), (' a little bit light blue',), (' a mix of blue and purple',), (' a;sodifjoawiemv',), (' akjd f;oiaeg',), (' anastasia lavender',), (' aqua',), (' ash',), (' b',), (' baby blue',), (' baby vomit green',), (' bark',), (' battleship grey',), (' behbeh bloo',), (' beige',), (' beige brown',), (' beigh peach',), (' between sky and marine blue',), (' bilious green',), (' black',), (' blood red',), (' bloom',), (' blue',), (' blue -lightish',), (' blue green',), (' blue green blue',), (' blue green green',), (' blue purple',), (' blue!',), (' blue-gray',), (' blue-green',), (' blue-turquoise',), (' blue.',), (' bluebatone',), (' bluish',), (' blurple',), (' bnjk659gh',), (' brick red',), (' bright blue',), (' bright green',), (' bright meduim purple',), (' bright pink',), (' bright turquoise',), (' bright violet',), (' bro',), (' brown',), (' brown / orange',), (' brown green',), (' brown with reds in it',), (' brownish red',), (' burnt orange',), (' camo green',), (' cardinal red',)]\n"
     ]
    }
   ],
   "source": [
    "cursor.execute('SELECT colorname FROM names WHERE colorname REGEXP ?', ['.*'])\n",
    "data = cursor.fetchall()\n",
    "print(data)"
   ]
  },
  {
   "cell_type": "markdown",
   "metadata": {},
   "source": [
    "Next I will only print those entries in `colorname` that include **at least one** lowercase letter from a to z. \n",
    "\n",
    "This excludes: \n",
    "- `('',)`\n",
    "- `('                               >>#',)`\n",
    "- `(' !!!!!!1!!]',)`\n",
    "- `(' +',)`\n",
    "- `(' ,',)`\n",
    "- `(' 486',)`"
   ]
  },
  {
   "cell_type": "code",
   "execution_count": 10,
   "metadata": {},
   "outputs": [
    {
     "name": "stdout",
     "output_type": "stream",
     "text": [
      "[(\"                                                                                                      ok, now you're screwing with me\",), (\"                                                                               kasclaknvlzkxmnv;dfgojxx;kjvbx.vbzvlmzcnvl;dhgahxc ,,cb/lfkgjas;hgihsfblzxcb,sngas'dgpsidjga;dflkasfgjafg'afdga;dfgadfglkdjfg;dlfkjgafdg;lkadfgja'fg;akdfjgadfl'gdfakgjdfl'gkjdfg/m,nbv.vbmnfb'dfgkldfhdgf';fg'adfg;kjf';lgfkgs\",), ('                                 (o\")',), ('                                (\"o)',), ('                               (\"o)',), ('                               (o\")',), ('                         >>==n;)',), ('                        (o\")',), ('                      (\"o)',), ('                     >>====\"o)',), ('                   (o\")',), ('                  >>====>(\"o)',), ('                (o\")',), ('               >>====>   (\"o)',), ('               yellow',), ('             (\"o)',), ('          (o\")',), ('         (o\")',), ('       (\"o)',), ('      >>====>            (\"o)',), ('    (o\")',), ('    what would you call this color?',), ('   1. turquoise',), ('   bmb',), ('  cornflowerblue',), ('  h',), ('  n mn',), ('  orange',), ('  turquoise',), (' #100c08',), (' #38acec',), (' #b57281',), (' #dd00ff (yes i looked it up)',), (' #e4d96f',), (' (\"o)',), (' (o\")',), (' ... some off green',), (' 5gt',), (' 68f79oibjl',), (' 83 2inf',), (' a',), (' a cross between terra cotta and light pink',), (' a little bit light blue',), (' a mix of blue and purple',), (' a;sodifjoawiemv',), (' akjd f;oiaeg',), (' anastasia lavender',), (' aqua',), (' ash',), (' b',), (' baby blue',), (' baby vomit green',), (' bark',), (' battleship grey',), (' behbeh bloo',), (' beige',), (' beige brown',), (' beigh peach',), (' between sky and marine blue',), (' bilious green',), (' black',), (' blood red',), (' bloom',), (' blue',), (' blue -lightish',), (' blue green',), (' blue green blue',), (' blue green green',), (' blue purple',), (' blue!',), (' blue-gray',), (' blue-green',), (' blue-turquoise',), (' blue.',), (' bluebatone',), (' bluish',), (' blurple',), (' bnjk659gh',), (' brick red',), (' bright blue',), (' bright green',), (' bright meduim purple',), (' bright pink',), (' bright turquoise',), (' bright violet',), (' bro',), (' brown',), (' brown / orange',), (' brown green',), (' brown with reds in it',), (' brownish red',), (' burnt orange',), (' camo green',), (' cardinal red',)]\n"
     ]
    }
   ],
   "source": [
    "cursor.execute('SELECT colorname FROM names WHERE colorname REGEXP ?', ['[a-z]'])\n",
    "data = cursor.fetchall()\n",
    "print(data)"
   ]
  },
  {
   "cell_type": "code",
   "execution_count": 11,
   "metadata": {},
   "outputs": [
    {
     "data": {
      "text/plain": [
       "94"
      ]
     },
     "execution_count": 11,
     "metadata": {},
     "output_type": "execute_result"
    }
   ],
   "source": [
    "len(data)"
   ]
  },
  {
   "cell_type": "markdown",
   "metadata": {},
   "source": [
    "For better legibility I will remove padding whitespaces. Beware that the regular expression is matched *after* the trimming! \n",
    "\n",
    "`trim()` removes whitespaces *before* and *after* (i.e. padding) the string matching the regular expression. See https://www.techonthenet.com/sqlite/functions/trim.php"
   ]
  },
  {
   "cell_type": "code",
   "execution_count": 12,
   "metadata": {},
   "outputs": [
    {
     "name": "stdout",
     "output_type": "stream",
     "text": [
      "[(\"ok, now you're screwing with me\",), (\"kasclaknvlzkxmnv;dfgojxx;kjvbx.vbzvlmzcnvl;dhgahxc ,,cb/lfkgjas;hgihsfblzxcb,sngas'dgpsidjga;dflkasfgjafg'afdga;dfgadfglkdjfg;dlfkjgafdg;lkadfgja'fg;akdfjgadfl'gdfakgjdfl'gkjdfg/m,nbv.vbmnfb'dfgkldfhdgf';fg'adfg;kjf';lgfkgs\",), ('(o\")',), ('(\"o)',), ('(\"o)',), ('(o\")',), ('>>==n;)',), ('(o\")',), ('(\"o)',), ('>>====\"o)',), ('(o\")',), ('>>====>(\"o)',), ('(o\")',), ('>>====>   (\"o)',), ('yellow',), ('(\"o)',), ('(o\")',), ('(o\")',), ('(\"o)',), ('>>====>            (\"o)',), ('(o\")',), ('what would you call this color?',), ('1. turquoise',), ('bmb',), ('cornflowerblue',), ('h',), ('n mn',), ('orange',), ('turquoise',), ('#100c08',), ('#38acec',), ('#b57281',), ('#dd00ff (yes i looked it up)',), ('#e4d96f',), ('(\"o)',), ('(o\")',), ('... some off green',), ('5gt',), ('68f79oibjl',), ('83 2inf',), ('a',), ('a cross between terra cotta and light pink',), ('a little bit light blue',), ('a mix of blue and purple',), ('a;sodifjoawiemv',), ('akjd f;oiaeg',), ('anastasia lavender',), ('aqua',), ('ash',), ('b',), ('baby blue',), ('baby vomit green',), ('bark',), ('battleship grey',), ('behbeh bloo',), ('beige',), ('beige brown',), ('beigh peach',), ('between sky and marine blue',), ('bilious green',), ('black',), ('blood red',), ('bloom',), ('blue',), ('blue -lightish',), ('blue green',), ('blue green blue',), ('blue green green',), ('blue purple',), ('blue!',), ('blue-gray',), ('blue-green',), ('blue-turquoise',), ('blue.',), ('bluebatone',), ('bluish',), ('blurple',), ('bnjk659gh',), ('brick red',), ('bright blue',), ('bright green',), ('bright meduim purple',), ('bright pink',), ('bright turquoise',), ('bright violet',), ('bro',), ('brown',), ('brown / orange',), ('brown green',), ('brown with reds in it',), ('brownish red',), ('burnt orange',), ('camo green',), ('cardinal red',)]\n"
     ]
    }
   ],
   "source": [
    "cursor.execute('SELECT trim(colorname) AS trimmed_cname FROM names WHERE trimmed_cname REGEXP ?', ['[a-z]'])\n",
    "data = cursor.fetchall()\n",
    "print(data)"
   ]
  },
  {
   "cell_type": "code",
   "execution_count": 13,
   "metadata": {},
   "outputs": [
    {
     "data": {
      "text/plain": [
       "94"
      ]
     },
     "execution_count": 13,
     "metadata": {},
     "output_type": "execute_result"
    }
   ],
   "source": [
    "len(data)"
   ]
  },
  {
   "cell_type": "markdown",
   "metadata": {},
   "source": [
    "`[a-z]` includes all lower case letter from a to z. \n",
    "`.*` combines `.` for `Any character except new line (\\n)` and `*` for `0 or more`. \n",
    "\n",
    "Next I will only print those entries in `colorname` \n",
    "- that **start and end with a lowercase letter** from a to z \n",
    "- that consist of **at least two letters** \n",
    "\n",
    "This excludes: \n",
    "- `('(o\")',)`\n",
    "- `('(\"o)',)`\n",
    "- `('(\"o)',)`\n",
    "- `('(o\")',)`\n",
    "- `('>>==n;)',)`\n",
    "- `('(o\")',)`\n",
    "- `('(\"o)',)`\n",
    "- `('>>====\"o)',)`\n",
    "- `('(o\")',)`\n",
    "- `('>>====>(\"o)',)`\n",
    "- `('(o\")',)`\n",
    "- `('>>====>   (\"o)',)`\n",
    "- `('(\"o)',)`\n",
    "- `('(o\")',)`\n",
    "- `('(o\")',)`\n",
    "- `('(\"o)',)`\n",
    "- `('>>====>            (\"o)',)`\n",
    "- `('(o\")',)`\n",
    "- `('what would you call this color?',)`\n",
    "- `('1. turquoise',)`\n",
    "- `('h',)`\n",
    "- `('#100c08',)`\n",
    "- `('#38acec',)`\n",
    "- `('#b57281',)`\n",
    "- `('#dd00ff (yes i looked it up)',)`\n",
    "- `('#e4d96f',)`\n",
    "- `('(\"o)',)`\n",
    "- `('(o\")',)`\n",
    "- `('... some off green',)`\n",
    "- `('5gt',)`\n",
    "- `('68f79oibjl',)`\n",
    "- `('83 2inf',)`\n",
    "- `('a',)`\n",
    "- `('b',)`\n",
    "- `('blue!',)`\n",
    "- `('blue.',)`"
   ]
  },
  {
   "cell_type": "code",
   "execution_count": 14,
   "metadata": {},
   "outputs": [
    {
     "name": "stdout",
     "output_type": "stream",
     "text": [
      "[(\"ok, now you're screwing with me\",), (\"kasclaknvlzkxmnv;dfgojxx;kjvbx.vbzvlmzcnvl;dhgahxc ,,cb/lfkgjas;hgihsfblzxcb,sngas'dgpsidjga;dflkasfgjafg'afdga;dfgadfglkdjfg;dlfkjgafdg;lkadfgja'fg;akdfjgadfl'gdfakgjdfl'gkjdfg/m,nbv.vbmnfb'dfgkldfhdgf';fg'adfg;kjf';lgfkgs\",), ('yellow',), ('bmb',), ('cornflowerblue',), ('n mn',), ('orange',), ('turquoise',), ('a cross between terra cotta and light pink',), ('a little bit light blue',), ('a mix of blue and purple',), ('a;sodifjoawiemv',), ('akjd f;oiaeg',), ('anastasia lavender',), ('aqua',), ('ash',), ('baby blue',), ('baby vomit green',), ('bark',), ('battleship grey',), ('behbeh bloo',), ('beige',), ('beige brown',), ('beigh peach',), ('between sky and marine blue',), ('bilious green',), ('black',), ('blood red',), ('bloom',), ('blue',), ('blue -lightish',), ('blue green',), ('blue green blue',), ('blue green green',), ('blue purple',), ('blue-gray',), ('blue-green',), ('blue-turquoise',), ('bluebatone',), ('bluish',), ('blurple',), ('bnjk659gh',), ('brick red',), ('bright blue',), ('bright green',), ('bright meduim purple',), ('bright pink',), ('bright turquoise',), ('bright violet',), ('bro',), ('brown',), ('brown / orange',), ('brown green',), ('brown with reds in it',), ('brownish red',), ('burnt orange',), ('camo green',), ('cardinal red',)]\n"
     ]
    }
   ],
   "source": [
    "cursor.execute('SELECT trim(colorname) AS trimmed_cname FROM names WHERE trimmed_cname REGEXP ?', ['^[a-z].*[a-z]$'])\n",
    "data = cursor.fetchall()\n",
    "print(data)"
   ]
  },
  {
   "cell_type": "code",
   "execution_count": 15,
   "metadata": {},
   "outputs": [
    {
     "data": {
      "text/plain": [
       "58"
      ]
     },
     "execution_count": 15,
     "metadata": {},
     "output_type": "execute_result"
    }
   ],
   "source": [
    "len(data)"
   ]
  },
  {
   "cell_type": "markdown",
   "metadata": {},
   "source": [
    "`[:alpha:]` is a [POSIX](https://en.wikipedia.org/wiki/POSIX) standard for `All letters`, and supposedly identical to `[a-zA-Z]` <sup>[POSIX Bracket Expressions](https://www.regular-expressions.info/posixbrackets.html)</sup>\n",
    "\n",
    "I found however that the results diverge. "
   ]
  },
  {
   "cell_type": "code",
   "execution_count": 22,
   "metadata": {},
   "outputs": [
    {
     "name": "stdout",
     "output_type": "stream",
     "text": [
      "[('',), (\"ok, now you're screwing with me\",), (\"kasclaknvlzkxmnv;dfgojxx;kjvbx.vbzvlmzcnvl;dhgahxc ,,cb/lfkgjas;hgihsfblzxcb,sngas'dgpsidjga;dflkasfgjafg'afdga;dfgadfglkdjfg;dlfkjgafdg;lkadfgja'fg;akdfjgadfl'gdfakgjdfl'gkjdfg/m,nbv.vbmnfb'dfgkldfhdgf';fg'adfg;kjf';lgfkgs\",), ('(o\")',), ('(\"o)',), ('(\"o)',), ('(o\")',), ('>>#',), ('>>==n;)',), ('(o\")',), ('(\"o)',), ('>>====\"o)',), ('(o\")',), ('>>====>(\"o)',), ('(o\")',), ('>>====>   (\"o)',), ('yellow',), ('(\"o)',), ('(o\")',), ('(o\")',), ('(\"o)',), ('>>====>            (\"o)',), ('(o\")',), ('what would you call this color?',), ('1. turquoise',), ('bmb',), ('cornflowerblue',), ('h',), ('n mn',), ('orange',), ('turquoise',), ('!!!!!!1!!]',), ('#100c08',), ('#38acec',), ('#b57281',), ('#dd00ff (yes i looked it up)',), ('#e4d96f',), ('(\"o)',), ('(o\")',), ('+',), (',',), ('... some off green',), ('486',), ('5gt',), ('68f79oibjl',), ('83 2inf',), ('a',), ('a cross between terra cotta and light pink',), ('a little bit light blue',), ('a mix of blue and purple',), ('a;sodifjoawiemv',), ('akjd f;oiaeg',), ('anastasia lavender',), ('aqua',), ('ash',), ('b',), ('baby blue',), ('baby vomit green',), ('bark',), ('battleship grey',), ('behbeh bloo',), ('beige',), ('beige brown',), ('beigh peach',), ('between sky and marine blue',), ('bilious green',), ('black',), ('blood red',), ('bloom',), ('blue',), ('blue -lightish',), ('blue green',), ('blue green blue',), ('blue green green',), ('blue purple',), ('blue!',), ('blue-gray',), ('blue-green',), ('blue-turquoise',), ('blue.',), ('bluebatone',), ('bluish',), ('blurple',), ('bnjk659gh',), ('brick red',), ('bright blue',), ('bright green',), ('bright meduim purple',), ('bright pink',), ('bright turquoise',), ('bright violet',), ('bro',), ('brown',), ('brown / orange',), ('brown green',), ('brown with reds in it',), ('brownish red',), ('burnt orange',), ('camo green',), ('cardinal red',)]\n"
     ]
    }
   ],
   "source": [
    "cursor.execute('SELECT trim(colorname) AS trimmed_cname FROM names WHERE trimmed_cname REGEXP ?', ['.*'])\n",
    "data = cursor.fetchall()\n",
    "print(data)"
   ]
  },
  {
   "cell_type": "code",
   "execution_count": 23,
   "metadata": {},
   "outputs": [
    {
     "data": {
      "text/plain": [
       "100"
      ]
     },
     "execution_count": 23,
     "metadata": {},
     "output_type": "execute_result"
    }
   ],
   "source": [
    "len(data)"
   ]
  },
  {
   "cell_type": "code",
   "execution_count": 18,
   "metadata": {},
   "outputs": [
    {
     "name": "stdout",
     "output_type": "stream",
     "text": [
      "[(\"ok, now you're screwing with me\",), (\"kasclaknvlzkxmnv;dfgojxx;kjvbx.vbzvlmzcnvl;dhgahxc ,,cb/lfkgjas;hgihsfblzxcb,sngas'dgpsidjga;dflkasfgjafg'afdga;dfgadfglkdjfg;dlfkjgafdg;lkadfgja'fg;akdfjgadfl'gdfakgjdfl'gkjdfg/m,nbv.vbmnfb'dfgkldfhdgf';fg'adfg;kjf';lgfkgs\",), ('(o\")',), ('(\"o)',), ('(\"o)',), ('(o\")',), ('>>==n;)',), ('(o\")',), ('(\"o)',), ('>>====\"o)',), ('(o\")',), ('>>====>(\"o)',), ('(o\")',), ('>>====>   (\"o)',), ('yellow',), ('(\"o)',), ('(o\")',), ('(o\")',), ('(\"o)',), ('>>====>            (\"o)',), ('(o\")',), ('what would you call this color?',), ('1. turquoise',), ('bmb',), ('cornflowerblue',), ('h',), ('n mn',), ('orange',), ('turquoise',), ('#100c08',), ('#38acec',), ('#b57281',), ('#dd00ff (yes i looked it up)',), ('#e4d96f',), ('(\"o)',), ('(o\")',), ('... some off green',), ('5gt',), ('68f79oibjl',), ('83 2inf',), ('a',), ('a cross between terra cotta and light pink',), ('a little bit light blue',), ('a mix of blue and purple',), ('a;sodifjoawiemv',), ('akjd f;oiaeg',), ('anastasia lavender',), ('aqua',), ('ash',), ('b',), ('baby blue',), ('baby vomit green',), ('bark',), ('battleship grey',), ('behbeh bloo',), ('beige',), ('beige brown',), ('beigh peach',), ('between sky and marine blue',), ('bilious green',), ('black',), ('blood red',), ('bloom',), ('blue',), ('blue -lightish',), ('blue green',), ('blue green blue',), ('blue green green',), ('blue purple',), ('blue!',), ('blue-gray',), ('blue-green',), ('blue-turquoise',), ('blue.',), ('bluebatone',), ('bluish',), ('blurple',), ('bnjk659gh',), ('brick red',), ('bright blue',), ('bright green',), ('bright meduim purple',), ('bright pink',), ('bright turquoise',), ('bright violet',), ('bro',), ('brown',), ('brown / orange',), ('brown green',), ('brown with reds in it',), ('brownish red',), ('burnt orange',), ('camo green',), ('cardinal red',)]\n"
     ]
    }
   ],
   "source": [
    "cursor.execute('SELECT trim(colorname) AS trimmed_cname FROM names WHERE trimmed_cname REGEXP ?', ['[a-zA-Z]'])\n",
    "data = cursor.fetchall()\n",
    "print(data)"
   ]
  },
  {
   "cell_type": "code",
   "execution_count": 19,
   "metadata": {},
   "outputs": [
    {
     "data": {
      "text/plain": [
       "94"
      ]
     },
     "execution_count": 19,
     "metadata": {},
     "output_type": "execute_result"
    }
   ],
   "source": [
    "len(data)"
   ]
  },
  {
   "cell_type": "code",
   "execution_count": 20,
   "metadata": {},
   "outputs": [
    {
     "name": "stdout",
     "output_type": "stream",
     "text": [
      "[(\"ok, now you're screwing with me\",), (\"kasclaknvlzkxmnv;dfgojxx;kjvbx.vbzvlmzcnvl;dhgahxc ,,cb/lfkgjas;hgihsfblzxcb,sngas'dgpsidjga;dflkasfgjafg'afdga;dfgadfglkdjfg;dlfkjgafdg;lkadfgja'fg;akdfjgadfl'gdfakgjdfl'gkjdfg/m,nbv.vbmnfb'dfgkldfhdgf';fg'adfg;kjf';lgfkgs\",), ('yellow',), ('what would you call this color?',), ('cornflowerblue',), ('h',), ('orange',), ('#38acec',), ('#dd00ff (yes i looked it up)',), ('68f79oibjl',), ('a',), ('a cross between terra cotta and light pink',), ('a little bit light blue',), ('a mix of blue and purple',), ('a;sodifjoawiemv',), ('akjd f;oiaeg',), ('anastasia lavender',), ('aqua',), ('ash',), ('baby blue',), ('baby vomit green',), ('bark',), ('battleship grey',), ('behbeh bloo',), ('beigh peach',), ('between sky and marine blue',), ('bilious green',), ('black',), ('blood red',), ('bloom',), ('blue',), ('blue -lightish',), ('blue green',), ('blue green blue',), ('blue green green',), ('blue purple',), ('blue!',), ('blue-gray',), ('blue-green',), ('blue-turquoise',), ('blue.',), ('bluebatone',), ('bluish',), ('blurple',), ('bnjk659gh',), ('bright blue',), ('bright green',), ('bright meduim purple',), ('bright pink',), ('bright turquoise',), ('bright violet',), ('brown / orange',), ('brown with reds in it',), ('brownish red',), ('burnt orange',), ('camo green',), ('cardinal red',)]\n"
     ]
    }
   ],
   "source": [
    "cursor.execute('SELECT trim(colorname) AS trimmed_cname FROM names WHERE trimmed_cname REGEXP ?', ['[:alpha:]'])\n",
    "data = cursor.fetchall()\n",
    "print(data)"
   ]
  },
  {
   "cell_type": "code",
   "execution_count": 21,
   "metadata": {},
   "outputs": [
    {
     "data": {
      "text/plain": [
       "57"
      ]
     },
     "execution_count": 21,
     "metadata": {},
     "output_type": "execute_result"
    }
   ],
   "source": [
    "len(data)"
   ]
  },
  {
   "cell_type": "markdown",
   "metadata": {},
   "source": [
    "The results puzzled me until I realized that `[:alpha:]` is not recognized as a POSIX, so all strings are excluded that do not contain `a`, `l`, `p` or `h`. \n",
    "- e.g. `('#100c08',)` but not `('#38acec',)`\n",
    "- e.g. `('... some off green',)` but not `('a;sodifjoawiemv',)`\n",
    "\n",
    "If in doubt check e.g. with [Rubular](http://rubular.com/). "
   ]
  },
  {
   "cell_type": "code",
   "execution_count": null,
   "metadata": {},
   "outputs": [],
   "source": []
  }
 ],
 "metadata": {
  "kernelspec": {
   "display_name": "Python 3",
   "language": "python",
   "name": "python3"
  },
  "language_info": {
   "codemirror_mode": {
    "name": "ipython",
    "version": 3
   },
   "file_extension": ".py",
   "mimetype": "text/x-python",
   "name": "python",
   "nbconvert_exporter": "python",
   "pygments_lexer": "ipython3",
   "version": "3.6.6"
  }
 },
 "nbformat": 4,
 "nbformat_minor": 2
}
