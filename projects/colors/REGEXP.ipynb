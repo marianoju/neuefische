{
 "cells": [
  {
   "cell_type": "markdown",
   "metadata": {},
   "source": [
    "# Regular expression implemented in Python for SQLite "
   ]
  },
  {
   "cell_type": "markdown",
   "metadata": {},
   "source": [
    "> The REGEXP operator is a special syntax for the regexp() user function. … the \"X REGEXP Y\" operator will be implemented as a call to \"regexp(Y,X)\"."
   ]
  },
  {
   "cell_type": "markdown",
   "metadata": {},
   "source": [
    "Source: [SQL As Understood By SQLite: The LIKE, GLOB, REGEXP, and MATCH operators](http://www.sqlite.org/lang_expr.html#like)"
   ]
  },
  {
   "cell_type": "markdown",
   "metadata": {},
   "source": [
    "> SQLite does not contain regular expression functionality by default.\n",
    "> \n",
    "> It defines a `REGEXP` operator, but this will fail with an error message unless you or your framework [define a user function](http://www.sqlite.org/c3ref/create_function.html) called `regexp()`. How you do this will depend on your platform.\n",
    "\n",
    "Source: [How do I use regex in a SQLite query?](https://stackoverflow.com/questions/5071601/) "
   ]
  },
  {
   "cell_type": "markdown",
   "metadata": {},
   "source": [
    "## Code adapted from these sources: \n",
    "\n",
    "1. [sqlite3 : create function regexp with python](https://stackoverflow.com/questions/50063058/) (could not reproduce output with code provided in example) \n",
    "\n",
    "2. [Problem with regexp python and sqlite](https://stackoverflow.com/questions/5365451)"
   ]
  },
  {
   "cell_type": "code",
   "execution_count": 1,
   "metadata": {},
   "outputs": [],
   "source": [
    "import sqlite3\n",
    "import re # Regular expression operations"
   ]
  },
  {
   "cell_type": "code",
   "execution_count": 2,
   "metadata": {},
   "outputs": [],
   "source": [
    "def regexp(expr, item):\n",
    "    reg = re.compile(expr)\n",
    "    return reg.search(item) is not None"
   ]
  },
  {
   "cell_type": "code",
   "execution_count": 3,
   "metadata": {},
   "outputs": [],
   "source": [
    "conn = sqlite3.connect('data/sample.db')\n",
    "cursor = conn.cursor()"
   ]
  },
  {
   "cell_type": "code",
   "execution_count": 4,
   "metadata": {},
   "outputs": [],
   "source": [
    "conn.create_function(\"REGEXP\", 2, regexp)"
   ]
  },
  {
   "cell_type": "code",
   "execution_count": 5,
   "metadata": {},
   "outputs": [
    {
     "data": {
      "text/plain": [
       "<sqlite3.Cursor at 0x7f139c7d0960>"
      ]
     },
     "execution_count": 5,
     "metadata": {},
     "output_type": "execute_result"
    }
   ],
   "source": [
    "cursor.execute('SELECT colorname FROM answers WHERE colorname REGEXP ?', ['[a-z]'])"
   ]
  },
  {
   "cell_type": "code",
   "execution_count": 6,
   "metadata": {},
   "outputs": [],
   "source": [
    "data = cursor.fetchall()"
   ]
  },
  {
   "cell_type": "code",
   "execution_count": 7,
   "metadata": {},
   "outputs": [
    {
     "name": "stdout",
     "output_type": "stream",
     "text": [
      "[('aubergine',), ('baby blue',), ('black',), ('blue',), ('blue',), ('blue',), ('blue',), ('blue',), ('blue',), ('bright green',), ('brown',), ('carrot',), ('cornflower blue',), ('cyan',), ('dark green',), ('dark iron',), ('dark orange',), ('dark tan',), ('faint violet',), ('goldenrod',), ('gray',), ('green',), ('green',), ('green',), ('light blue',), ('light chocolate',), ('light purple',), ('lime green',), ('magenta',), ('moss green',), ('mud',), ('mustard',), ('navy',), ('navy blue',), ('olive green',), ('orange',), ('pale green',), ('pale rose',), ('pastel blue',), ('pink',), ('purple',), ('purple',), ('purple',), ('purple',), ('purplish blue',), ('red',), ('red brown',), ('teal',), ('wedgwood blue',)]\n"
     ]
    }
   ],
   "source": [
    "print(data)"
   ]
  },
  {
   "cell_type": "code",
   "execution_count": 8,
   "metadata": {},
   "outputs": [
    {
     "data": {
      "text/plain": [
       "49"
      ]
     },
     "execution_count": 8,
     "metadata": {},
     "output_type": "execute_result"
    }
   ],
   "source": [
    "len(data)"
   ]
  },
  {
   "cell_type": "code",
   "execution_count": 9,
   "metadata": {},
   "outputs": [
    {
     "name": "stdout",
     "output_type": "stream",
     "text": [
      "[(\"                                                                                                      ok, now you're screwing with me\",), (\"                                                                               kasclaknvlzkxmnv;dfgojxx;kjvbx.vbzvlmzcnvl;dhgahxc ,,cb/lfkgjas;hgihsfblzxcb,sngas'dgpsidjga;dflkasfgjafg'afdga;dfgadfglkdjfg;dlfkjgafdg;lkadfgja'fg;akdfjgadfl'gdfakgjdfl'gkjdfg/m,nbv.vbmnfb'dfgkldfhdgf';fg'adfg;kjf';lgfkgs\",), ('                                 (o\")',), ('                                (\"o)',), ('                               (\"o)',), ('                               (o\")',), ('                         >>==n;)',), ('                        (o\")',), ('                      (\"o)',), ('                     >>====\"o)',), ('                   (o\")',), ('                  >>====>(\"o)',), ('                (o\")',), ('               >>====>   (\"o)',), ('               yellow',), ('             (\"o)',), ('          (o\")',), ('         (o\")',), ('       (\"o)',), ('      >>====>            (\"o)',), ('    (o\")',), ('    what would you call this color?',), ('   1. turquoise',), ('   bmb',), ('  cornflowerblue',), ('  h',), ('  n mn',), ('  orange',), ('  turquoise',), (' #100c08',), (' #38acec',), (' #b57281',), (' #dd00ff (yes i looked it up)',), (' #e4d96f',), (' (\"o)',), (' (o\")',), (' ... some off green',), (' 5gt',), (' 68f79oibjl',), (' 83 2inf',), (' a',), (' a cross between terra cotta and light pink',), (' a little bit light blue',), (' a mix of blue and purple',)]\n"
     ]
    }
   ],
   "source": [
    "cursor.execute('SELECT colorname FROM names WHERE colorname REGEXP ?', ['[a-z]'])\n",
    "data = cursor.fetchall()\n",
    "print(data)"
   ]
  },
  {
   "cell_type": "code",
   "execution_count": 10,
   "metadata": {},
   "outputs": [
    {
     "data": {
      "text/plain": [
       "44"
      ]
     },
     "execution_count": 10,
     "metadata": {},
     "output_type": "execute_result"
    }
   ],
   "source": [
    "len(data)"
   ]
  },
  {
   "cell_type": "code",
   "execution_count": 11,
   "metadata": {},
   "outputs": [
    {
     "name": "stdout",
     "output_type": "stream",
     "text": [
      "[(\"ok, now you're screwing with me\",), (\"kasclaknvlzkxmnv;dfgojxx;kjvbx.vbzvlmzcnvl;dhgahxc ,,cb/lfkgjas;hgihsfblzxcb,sngas'dgpsidjga;dflkasfgjafg'afdga;dfgadfglkdjfg;dlfkjgafdg;lkadfgja'fg;akdfjgadfl'gdfakgjdfl'gkjdfg/m,nbv.vbmnfb'dfgkldfhdgf';fg'adfg;kjf';lgfkgs\",), ('yellow',), ('what would you call this color?',), ('cornflowerblue',), ('h',), ('orange',), ('#38acec',), ('#dd00ff (yes i looked it up)',), ('68f79oibjl',), ('a',), ('a cross between terra cotta and light pink',), ('a little bit light blue',), ('a mix of blue and purple',)]\n"
     ]
    }
   ],
   "source": [
    "# trim() removes whitespaces \n",
    "# see https://www.techonthenet.com/sqlite/functions/trim.php\n",
    "cursor.execute('SELECT trim(colorname) AS trimmed_colorname FROM names WHERE trimmed_colorname REGEXP ?', ['[:alpha:]'])\n",
    "data = cursor.fetchall()\n",
    "print(data)"
   ]
  },
  {
   "cell_type": "code",
   "execution_count": 12,
   "metadata": {},
   "outputs": [
    {
     "data": {
      "text/plain": [
       "14"
      ]
     },
     "execution_count": 12,
     "metadata": {},
     "output_type": "execute_result"
    }
   ],
   "source": [
    "len(data)"
   ]
  },
  {
   "cell_type": "code",
   "execution_count": 13,
   "metadata": {},
   "outputs": [
    {
     "name": "stdout",
     "output_type": "stream",
     "text": [
      "[(\"ok, now you're screwing with me\",), (\"kasclaknvlzkxmnv;dfgojxx;kjvbx.vbzvlmzcnvl;dhgahxc ,,cb/lfkgjas;hgihsfblzxcb,sngas'dgpsidjga;dflkasfgjafg'afdga;dfgadfglkdjfg;dlfkjgafdg;lkadfgja'fg;akdfjgadfl'gdfakgjdfl'gkjdfg/m,nbv.vbmnfb'dfgkldfhdgf';fg'adfg;kjf';lgfkgs\",), ('yellow',), ('bmb',), ('cornflowerblue',), ('n mn',), ('orange',), ('turquoise',), ('a cross between terra cotta and light pink',), ('a little bit light blue',), ('a mix of blue and purple',)]\n"
     ]
    }
   ],
   "source": [
    "cursor.execute('SELECT trim(colorname) AS trim_name FROM names WHERE trim_name REGEXP ?', ['^[a-z].*[a-z]$'])\n",
    "data = cursor.fetchall()\n",
    "print(data)"
   ]
  },
  {
   "cell_type": "code",
   "execution_count": 14,
   "metadata": {},
   "outputs": [
    {
     "data": {
      "text/plain": [
       "11"
      ]
     },
     "execution_count": 14,
     "metadata": {},
     "output_type": "execute_result"
    }
   ],
   "source": [
    "len(data)"
   ]
  }
 ],
 "metadata": {
  "kernelspec": {
   "display_name": "Python 3",
   "language": "python",
   "name": "python3"
  },
  "language_info": {
   "codemirror_mode": {
    "name": "ipython",
    "version": 3
   },
   "file_extension": ".py",
   "mimetype": "text/x-python",
   "name": "python",
   "nbconvert_exporter": "python",
   "pygments_lexer": "ipython3",
   "version": "3.6.6"
  }
 },
 "nbformat": 4,
 "nbformat_minor": 2
}
