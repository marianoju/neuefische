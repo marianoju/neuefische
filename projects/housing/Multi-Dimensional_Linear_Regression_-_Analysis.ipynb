{
 "cells": [
  {
   "cell_type": "markdown",
   "metadata": {},
   "source": [
    "# Multi-Dimensional Linear Regression \n",
    "# Analysis"
   ]
  },
  {
   "cell_type": "markdown",
   "metadata": {},
   "source": [
    "The [dataset](https://github.com/ageron/handson-ml/tree/master/datasets/housing) used for this excercise in Multi-Dimensional Linear Regression is a modified version of the California Housing dataset available from [Luís Torgo's page](http://www.dcc.fc.up.pt/%7Eltorgo/Regression/cal_housing.html) (University of Porto). Luís Torgo obtained it from the StatLib repository (which is closed now). The dataset may also be downloaded from StatLib mirrors.\n",
    "\n",
    "This dataset appeared in a 1997 paper titled Sparse Spatial Autoregressions by Pace, R. Kelley and Ronald Barry, published in the Statistics and Probability Letters journal. They built it using the 1990 California census data. It contains one row per census block group. A block group is the smallest geographical unit for which the U.S. Census Bureau publishes sample data (a block group typically has a population of 600 to 3,000 people)."
   ]
  },
  {
   "cell_type": "markdown",
   "metadata": {},
   "source": [
    "## Theoretical background \n",
    "\n",
    "- [Generalized Linear Models](http://scikit-learn.org/stable/modules/linear_model.html)\n",
    "- [Linear Regression Example](http://scikit-learn.org/stable/auto_examples/linear_model/plot_ols.html) \n",
    "- [immoverkauf24: „Lage, Lage, Lage – alte Immobilienweisheit“](https://www.immoverkauf24.de/immobilienverkauf/immobilienverkauf-a-z/lage-lage-lage/)\n",
    "--- "
   ]
  },
  {
   "cell_type": "code",
   "execution_count": 1,
   "metadata": {},
   "outputs": [],
   "source": [
    "import numpy as np\n",
    "import pandas as pd\n",
    "import matplotlib.pyplot as plt\n",
    "import scipy, scipy.stats\n",
    "from sklearn import datasets, linear_model\n",
    "from sklearn.metrics import mean_squared_error, r2_score\n",
    "from sklearn.model_selection import train_test_split\n",
    "import statsmodels.api as sm\n",
    "import itertools\n",
    "\n",
    "import seaborn as sns\n",
    "sns.set()"
   ]
  },
  {
   "cell_type": "markdown",
   "metadata": {},
   "source": [
    "## Import data subsets "
   ]
  },
  {
   "cell_type": "code",
   "execution_count": 2,
   "metadata": {},
   "outputs": [],
   "source": [
    "data_train = pd.read_csv(\"data/data_train.csv\", na_values='') \n",
    "data_test = pd.read_csv(\"data/data_test.csv\", na_values='') "
   ]
  },
  {
   "cell_type": "code",
   "execution_count": 3,
   "metadata": {},
   "outputs": [
    {
     "data": {
      "text/html": [
       "<div>\n",
       "<style scoped>\n",
       "    .dataframe tbody tr th:only-of-type {\n",
       "        vertical-align: middle;\n",
       "    }\n",
       "\n",
       "    .dataframe tbody tr th {\n",
       "        vertical-align: top;\n",
       "    }\n",
       "\n",
       "    .dataframe thead th {\n",
       "        text-align: right;\n",
       "    }\n",
       "</style>\n",
       "<table border=\"1\" class=\"dataframe\">\n",
       "  <thead>\n",
       "    <tr style=\"text-align: right;\">\n",
       "      <th></th>\n",
       "      <th>longitude</th>\n",
       "      <th>latitude</th>\n",
       "      <th>housing_median_age</th>\n",
       "      <th>total_rooms</th>\n",
       "      <th>total_bedrooms</th>\n",
       "      <th>population</th>\n",
       "      <th>households</th>\n",
       "      <th>median_income</th>\n",
       "      <th>median_house_value</th>\n",
       "      <th>NEAR BAY</th>\n",
       "      <th>&lt;1H OCEAN</th>\n",
       "      <th>INLAND</th>\n",
       "      <th>NEAR OCEAN</th>\n",
       "      <th>ISLAND</th>\n",
       "    </tr>\n",
       "  </thead>\n",
       "  <tbody>\n",
       "    <tr>\n",
       "      <th>0</th>\n",
       "      <td>-118.29</td>\n",
       "      <td>34.04</td>\n",
       "      <td>48.0</td>\n",
       "      <td>1353.0</td>\n",
       "      <td>488.0</td>\n",
       "      <td>1945.0</td>\n",
       "      <td>487.0</td>\n",
       "      <td>2.4359</td>\n",
       "      <td>123700.0</td>\n",
       "      <td>0.0</td>\n",
       "      <td>1.0</td>\n",
       "      <td>0.0</td>\n",
       "      <td>0.0</td>\n",
       "      <td>0.0</td>\n",
       "    </tr>\n",
       "    <tr>\n",
       "      <th>1</th>\n",
       "      <td>-122.05</td>\n",
       "      <td>37.36</td>\n",
       "      <td>29.0</td>\n",
       "      <td>1733.0</td>\n",
       "      <td>255.0</td>\n",
       "      <td>679.0</td>\n",
       "      <td>278.0</td>\n",
       "      <td>7.5337</td>\n",
       "      <td>406800.0</td>\n",
       "      <td>0.0</td>\n",
       "      <td>1.0</td>\n",
       "      <td>0.0</td>\n",
       "      <td>0.0</td>\n",
       "      <td>0.0</td>\n",
       "    </tr>\n",
       "    <tr>\n",
       "      <th>2</th>\n",
       "      <td>-118.42</td>\n",
       "      <td>34.19</td>\n",
       "      <td>33.0</td>\n",
       "      <td>3353.0</td>\n",
       "      <td>790.0</td>\n",
       "      <td>2318.0</td>\n",
       "      <td>775.0</td>\n",
       "      <td>2.2589</td>\n",
       "      <td>269700.0</td>\n",
       "      <td>0.0</td>\n",
       "      <td>1.0</td>\n",
       "      <td>0.0</td>\n",
       "      <td>0.0</td>\n",
       "      <td>0.0</td>\n",
       "    </tr>\n",
       "    <tr>\n",
       "      <th>3</th>\n",
       "      <td>-122.22</td>\n",
       "      <td>37.79</td>\n",
       "      <td>44.0</td>\n",
       "      <td>1487.0</td>\n",
       "      <td>314.0</td>\n",
       "      <td>961.0</td>\n",
       "      <td>272.0</td>\n",
       "      <td>3.5156</td>\n",
       "      <td>109500.0</td>\n",
       "      <td>1.0</td>\n",
       "      <td>0.0</td>\n",
       "      <td>0.0</td>\n",
       "      <td>0.0</td>\n",
       "      <td>0.0</td>\n",
       "    </tr>\n",
       "    <tr>\n",
       "      <th>4</th>\n",
       "      <td>-116.95</td>\n",
       "      <td>32.81</td>\n",
       "      <td>31.0</td>\n",
       "      <td>1277.0</td>\n",
       "      <td>293.0</td>\n",
       "      <td>698.0</td>\n",
       "      <td>237.0</td>\n",
       "      <td>3.1106</td>\n",
       "      <td>147700.0</td>\n",
       "      <td>0.0</td>\n",
       "      <td>1.0</td>\n",
       "      <td>0.0</td>\n",
       "      <td>0.0</td>\n",
       "      <td>0.0</td>\n",
       "    </tr>\n",
       "  </tbody>\n",
       "</table>\n",
       "</div>"
      ],
      "text/plain": [
       "   longitude  latitude  housing_median_age  total_rooms  total_bedrooms  \\\n",
       "0    -118.29     34.04                48.0       1353.0           488.0   \n",
       "1    -122.05     37.36                29.0       1733.0           255.0   \n",
       "2    -118.42     34.19                33.0       3353.0           790.0   \n",
       "3    -122.22     37.79                44.0       1487.0           314.0   \n",
       "4    -116.95     32.81                31.0       1277.0           293.0   \n",
       "\n",
       "   population  households  median_income  median_house_value  NEAR BAY  \\\n",
       "0      1945.0       487.0         2.4359            123700.0       0.0   \n",
       "1       679.0       278.0         7.5337            406800.0       0.0   \n",
       "2      2318.0       775.0         2.2589            269700.0       0.0   \n",
       "3       961.0       272.0         3.5156            109500.0       1.0   \n",
       "4       698.0       237.0         3.1106            147700.0       0.0   \n",
       "\n",
       "   <1H OCEAN  INLAND  NEAR OCEAN  ISLAND  \n",
       "0        1.0     0.0         0.0     0.0  \n",
       "1        1.0     0.0         0.0     0.0  \n",
       "2        1.0     0.0         0.0     0.0  \n",
       "3        0.0     0.0         0.0     0.0  \n",
       "4        1.0     0.0         0.0     0.0  "
      ]
     },
     "execution_count": 3,
     "metadata": {},
     "output_type": "execute_result"
    }
   ],
   "source": [
    "data_train.head()"
   ]
  },
  {
   "cell_type": "markdown",
   "metadata": {},
   "source": [
    "--- \n",
    "\n",
    "## Multiple Linear Regression "
   ]
  },
  {
   "cell_type": "markdown",
   "metadata": {},
   "source": [
    "I attempt to deliberately select variables in order to optimize the multi-dimensional linear regression. "
   ]
  },
  {
   "cell_type": "markdown",
   "metadata": {},
   "source": [
    "### 1. First attempt"
   ]
  },
  {
   "cell_type": "markdown",
   "metadata": {},
   "source": [
    "In a first step I will do a multiple linear regression for the target variable ```median_house_value``` including the following variables: ```longitude, latitude, housing_median_age, total_rooms, total_bedrooms, population, households, median_income```. "
   ]
  },
  {
   "cell_type": "code",
   "execution_count": 4,
   "metadata": {},
   "outputs": [],
   "source": [
    "\"\"\" --------------------------------------------------------------------\n",
    "define variables by selecting columns with iloc, see \n",
    "\n",
    "URL: https://pandas.pydata.org/pandas-docs/version/0.17.0/generated/\n",
    "     pandas.DataFrame.iloc.html\n",
    "-------------------------------------------------------------------- \"\"\"\n",
    "\n",
    "# define variables \n",
    "X_train = data_train.iloc[:,0:8]\n",
    "y_train = pd.DataFrame(data_train.iloc[:,8])\n",
    "X_test = data_test.iloc[:,0:8]\n",
    "y_test = pd.DataFrame(data_test.iloc[:,8])"
   ]
  },
  {
   "cell_type": "code",
   "execution_count": 5,
   "metadata": {},
   "outputs": [],
   "source": [
    "# create linear regression object \n",
    "lm = linear_model.LinearRegression()\n",
    "\n",
    "# fit linear model to training subset \n",
    "model = lm.fit(X_train, y_train)\n",
    "\n",
    "# make a prediction using the test subset\n",
    "y_prediction = lm.predict(X_test)"
   ]
  },
  {
   "cell_type": "code",
   "execution_count": 6,
   "metadata": {},
   "outputs": [
    {
     "name": "stdout",
     "output_type": "stream",
     "text": [
      "R² score : 0.5963 / 1.0000\n",
      "Mean Squared Error: 3795395562.03 (smaller is better!)\n",
      "Intercept : -3155985.7409410370\n"
     ]
    }
   ],
   "source": [
    "# return the R² score, the Mean Squared Error, the coefficients and the estimated intercept \n",
    "\n",
    "# R² score \n",
    "print(\"R² score : %.4f / 1.0000\"\n",
    "    % r2_score(y_test, y_prediction))\n",
    "\n",
    "# Mean Squared Error \n",
    "print(\"Mean Squared Error: %.2f (smaller is better!)\"\n",
    "    % mean_squared_error(y_test, y_prediction))\n",
    "\n",
    "# coefficients for the predictors\n",
    "# print(\"Coefficients: %.4f\"\n",
    "#      % lm.coef_)\n",
    "# This produces TypeError: only size-1 arrays can be converted to Python scalars\n",
    "\n",
    "# predicted intercept at x=0 \n",
    "print(\"Intercept : %.10f\"\n",
    "    % lm.intercept_)"
   ]
  },
  {
   "cell_type": "markdown",
   "metadata": {},
   "source": [
    "### 2. Second attempt"
   ]
  },
  {
   "cell_type": "markdown",
   "metadata": {},
   "source": [
    "In a second step I will remove following variables: ```longitude, latitude, population, households, median_income```. \n",
    "\n",
    "I do a multiple linear regression for the target variable ```median_house_value``` including the following variables: ```housing_median_age, total_rooms, total_bedrooms```. "
   ]
  },
  {
   "cell_type": "code",
   "execution_count": 7,
   "metadata": {},
   "outputs": [],
   "source": [
    "\"\"\" --------------------------------------------------------------------\n",
    "define variables by selecting columns with iloc, see \n",
    "\n",
    "URL: https://pandas.pydata.org/pandas-docs/version/0.17.0/generated/\n",
    "     pandas.DataFrame.iloc.html\n",
    "-------------------------------------------------------------------- \"\"\"\n",
    "\n",
    "# define variables \n",
    "X_train = data_train.iloc[:,2:5]\n",
    "y_train = data_train.iloc[:,8]\n",
    "X_test = data_test.iloc[:,2:5]\n",
    "y_test = data_test.iloc[:,8]"
   ]
  },
  {
   "cell_type": "code",
   "execution_count": 8,
   "metadata": {},
   "outputs": [],
   "source": [
    "# create linear regression object \n",
    "lm = linear_model.LinearRegression()\n",
    "\n",
    "# fit linear model to training subset \n",
    "model = lm.fit(X_train, y_train)\n",
    "\n",
    "# make a prediction using the test subset\n",
    "y_prediction = lm.predict(X_test)"
   ]
  },
  {
   "cell_type": "code",
   "execution_count": 9,
   "metadata": {},
   "outputs": [
    {
     "name": "stdout",
     "output_type": "stream",
     "text": [
      "R² score : 0.0513 / 1.0000\n",
      "Mean Squared Error: 8919366356.67 (smaller is better!)\n",
      "Intercept : 154095.3232664964\n"
     ]
    }
   ],
   "source": [
    "# return the R² score, the Mean Squared Error, the coefficients and the estimated intercept \n",
    "\n",
    "# R² score \n",
    "print(\"R² score : %.4f / 1.0000\"\n",
    "    % r2_score(y_test, y_prediction))\n",
    "\n",
    "# Mean Squared Error \n",
    "print(\"Mean Squared Error: %.2f (smaller is better!)\"\n",
    "    % mean_squared_error(y_test, y_prediction))\n",
    "\n",
    "# coefficients for the predictors\n",
    "# print(\"Coefficients: %.4f\"\n",
    "#      % lm.coef_)\n",
    "# This produces TypeError: only size-1 arrays can be converted to Python scalars\n",
    "\n",
    "# predicted intercept at x=0 \n",
    "print(\"Intercept : %.10f\"\n",
    "    % lm.intercept_)"
   ]
  },
  {
   "cell_type": "markdown",
   "metadata": {},
   "source": [
    "### 3. Third attempt"
   ]
  },
  {
   "cell_type": "markdown",
   "metadata": {},
   "source": [
    "In a third step I will only use the highest correlating variable ```median_income``` and two (out of three) derived features (```rooms_per_household``` and ```population_per_household```) to do a multiple linear regression for the target variable ```median_house_value```. This procedure is based on \n",
    "[sonarsushant's work](https://github.com/sonarsushant/California-House-Price-Prediction/blob/master/EDA%20and%20Data%20Cleaning.ipynb)."
   ]
  },
  {
   "cell_type": "code",
   "execution_count": 10,
   "metadata": {},
   "outputs": [],
   "source": [
    "data_train['rooms_per_household']=data_train['total_rooms']/data_train['households']\n",
    "data_train['bedrooms_per_room']=data_train['total_bedrooms']/data_train['total_rooms']\n",
    "data_train['population_per_household']=data_train['population']/data_train['households']"
   ]
  },
  {
   "cell_type": "code",
   "execution_count": 11,
   "metadata": {},
   "outputs": [],
   "source": [
    "data_test['rooms_per_household']=data_test['total_rooms']/data_test['households']\n",
    "data_test['bedrooms_per_room']=data_test['total_bedrooms']/data_test['total_rooms']\n",
    "data_test['population_per_household']=data_test['population']/data_test['households']"
   ]
  },
  {
   "cell_type": "code",
   "execution_count": 12,
   "metadata": {},
   "outputs": [],
   "source": [
    "\"\"\" --------------------------------------------------------------------\n",
    "define variables by aggregating columns to a series \n",
    "-------------------------------------------------------------------- \"\"\"\n",
    "\n",
    "# define variables \n",
    "X_train_series = data_train['median_income'], data_train['rooms_per_household'], \\\n",
    "                 data_train['population_per_household'] # independent variables\n",
    "X_train = pd.concat(X_train_series, axis=1)\n",
    "y_train = data_train['median_house_value'] # dependent variable\n",
    "\n",
    "X_test_series = data_test['median_income'], data_test['rooms_per_household'], \\\n",
    "                 data_test['population_per_household'] # independent variables\n",
    "X_test = pd.concat(X_test_series, axis=1)\n",
    "y_test = data_test['median_house_value']"
   ]
  },
  {
   "cell_type": "code",
   "execution_count": 13,
   "metadata": {},
   "outputs": [],
   "source": [
    "# create linear regression object \n",
    "lm = linear_model.LinearRegression()\n",
    "\n",
    "# fit linear model to training subset \n",
    "model = lm.fit(X_train, y_train)\n",
    "\n",
    "# make a prediction using the test subset\n",
    "y_prediction = lm.predict(X_test)"
   ]
  },
  {
   "cell_type": "code",
   "execution_count": 14,
   "metadata": {},
   "outputs": [
    {
     "name": "stdout",
     "output_type": "stream",
     "text": [
      "R² score : 0.4337 / 1.0000\n",
      "Mean Squared Error: 5324521151.15 (smaller is better!)\n",
      "Intercept : 55879.9488204201\n"
     ]
    }
   ],
   "source": [
    "# return the R² score, the Mean Squared Error, the coefficients and the estimated intercept \n",
    "\n",
    "# R² score \n",
    "print(\"R² score : %.4f / 1.0000\"\n",
    "    % r2_score(y_test, y_prediction))\n",
    "\n",
    "# Mean Squared Error \n",
    "print(\"Mean Squared Error: %.2f (smaller is better!)\"\n",
    "    % mean_squared_error(y_test, y_prediction))\n",
    "\n",
    "# coefficients for the predictors\n",
    "# print(\"Coefficients: %.4f\"\n",
    "#      % lm.coef_)\n",
    "# This produces TypeError: only size-1 arrays can be converted to Python scalars\n",
    "\n",
    "# predicted intercept at x=0 \n",
    "print(\"Intercept : %.10f\"\n",
    "    % lm.intercept_)"
   ]
  },
  {
   "cell_type": "markdown",
   "metadata": {},
   "source": [
    "--- \n",
    "## Brute-force: Multiple Linear Regression on *all combinations* of variables "
   ]
  },
  {
   "cell_type": "code",
   "execution_count": 15,
   "metadata": {},
   "outputs": [],
   "source": [
    "# create linear regression object \n",
    "lm = linear_model.LinearRegression()"
   ]
  },
  {
   "cell_type": "code",
   "execution_count": 16,
   "metadata": {},
   "outputs": [],
   "source": [
    "# open an empty dictionary for the results of the calculation \n",
    "results = {}"
   ]
  },
  {
   "cell_type": "code",
   "execution_count": 17,
   "metadata": {},
   "outputs": [],
   "source": [
    "\"\"\" --------------------------------------------------------------------\n",
    "calc_r2_score fits a linear model to a training subset, \n",
    "makes a prediction for the test subset, \n",
    "and returns the R² score (quality of prediction index)\n",
    "-------------------------------------------------------------------- \"\"\"\n",
    "\n",
    "def calc_r2_score(item): \n",
    "    # define variables \n",
    "    X_train = data_train.loc[:,features] \n",
    "    y_train = data_train.loc[:,target]\n",
    "    X_test = data_test.loc[:,features] \n",
    "    y_test = data_test.loc[:,target]\n",
    "    \n",
    "    # fit linear model to training subset \n",
    "    model = lm.fit(X_train, y_train)\n",
    "    \n",
    "    # make a prediction using the test subset\n",
    "    y_prediction = lm.predict(X_test)\n",
    "    \n",
    "    # return the R² score \n",
    "    return r2_score(y_test, y_prediction)\n",
    "\n",
    "\"\"\" --------------------------------------------------------------------\n",
    "calc_MSE returns the Mean Squared Error \n",
    "-------------------------------------------------------------------- \"\"\"\n",
    "\n",
    "def calc_MSE(item):\n",
    "    return mean_squared_error(y_test, y_prediction)\n"
   ]
  },
  {
   "cell_type": "code",
   "execution_count": 18,
   "metadata": {},
   "outputs": [],
   "source": [
    "\"\"\" --------------------------------------------------------------------\n",
    "define independent variables and target variable\n",
    "-------------------------------------------------------------------- \"\"\"\n",
    "\n",
    "features = [\"longitude\", \"latitude\", \"housing_median_age\", \\\n",
    "            \"total_rooms\", \"total_bedrooms\", \"population\", \\\n",
    "            \"households\", \"median_income\"]\n",
    "target = [\"median_house_value\"]\n",
    "\n",
    "combinations = []\n",
    "\n",
    "for i in range(2, len(features)+1):\n",
    "   combinations += itertools.combinations(features, i)"
   ]
  },
  {
   "cell_type": "code",
   "execution_count": 19,
   "metadata": {},
   "outputs": [
    {
     "data": {
      "text/plain": [
       "247"
      ]
     },
     "execution_count": 19,
     "metadata": {},
     "output_type": "execute_result"
    }
   ],
   "source": [
    "len(combinations)"
   ]
  },
  {
   "cell_type": "markdown",
   "metadata": {},
   "source": [
    "    \"\"\" --------------------------------------------------------------------\n",
    "                                   T O   D O\n",
    "    \n",
    "    write items in list as keys to the up-to-now empty dictionary \n",
    "    then run for-loop and write results as values back to dictionary \n",
    "    -------------------------------------------------------------------- \"\"\""
   ]
  },
  {
   "cell_type": "code",
   "execution_count": 20,
   "metadata": {},
   "outputs": [
    {
     "name": "stdout",
     "output_type": "stream",
     "text": [
      "0.2675142853655378 0 ('longitude', 'latitude') 2\n",
      "0.0003843241902227179 1 ('longitude', 'housing_median_age') 2\n",
      "0.012681064320332558 2 ('longitude', 'total_rooms') 2\n",
      "0.0015548891235491746 3 ('longitude', 'total_bedrooms') 2\n",
      "-0.0019176421500162188 4 ('longitude', 'population') 2\n",
      "0.0033391001705973533 5 ('longitude', 'households') 2\n",
      "0.4217275353052885 6 ('longitude', 'median_income') 2\n",
      "0.024041004141290845 7 ('latitude', 'housing_median_age') 2\n",
      "0.03591988375463495 8 ('latitude', 'total_rooms') 2\n",
      "0.024826375354610186 9 ('latitude', 'total_bedrooms') 2\n",
      "0.023390474203204614 10 ('latitude', 'population') 2\n",
      "0.026316437102783752 11 ('latitude', 'households') 2\n",
      "0.43551855127062544 12 ('latitude', 'median_income') 2\n",
      "0.01957702593064614 13 ('housing_median_age', 'total_rooms') 2\n",
      "0.0034292467395503623 14 ('housing_median_age', 'total_bedrooms') 2\n",
      "-0.002084852881989674 15 ('housing_median_age', 'population') 2\n",
      "0.005779036939385862 16 ('housing_median_age', 'households') 2\n",
      "0.45025530763703014 17 ('housing_median_age', 'median_income') 2\n",
      "0.04041055001977878 18 ('total_rooms', 'total_bedrooms') 2\n",
      "0.051857393465805535 19 ('total_rooms', 'population') 2\n",
      "0.02244878349927748 20 ('total_rooms', 'households') 2\n",
      "0.42113926184778383 21 ('total_rooms', 'median_income') 2\n",
      "0.01270123627136599 22 ('total_bedrooms', 'population') 2\n",
      "0.007927552091644752 23 ('total_bedrooms', 'households') 2\n",
      "0.4234216141189341 24 ('total_bedrooms', 'median_income') 2\n",
      "0.02744512816103717 25 ('population', 'households') 2\n",
      "0.4215187272459944 26 ('population', 'median_income') 2\n",
      "0.4234473172593739 27 ('households', 'median_income') 2\n",
      "0.27121493501408855 28 ('longitude', 'latitude', 'housing_median_age') 3\n",
      "0.2842958730181264 29 ('longitude', 'latitude', 'total_rooms') 3\n",
      "0.2695353641998709 30 ('longitude', 'latitude', 'total_bedrooms') 3\n",
      "0.26753666884386906 31 ('longitude', 'latitude', 'population') 3\n",
      "0.2686515620117673 32 ('longitude', 'latitude', 'households') 3\n",
      "0.5605782927637255 33 ('longitude', 'latitude', 'median_income') 3\n",
      "0.021010734137154707 34 ('longitude', 'housing_median_age', 'total_rooms') 3\n",
      "0.004938362087501091 35 ('longitude', 'housing_median_age', 'total_bedrooms') 3\n",
      "-0.0008595487595126627 36 ('longitude', 'housing_median_age', 'population') 3\n",
      "0.007242589319644388 37 ('longitude', 'housing_median_age', 'households') 3\n",
      "0.4503065959577003 38 ('longitude', 'housing_median_age', 'median_income') 3\n",
      "0.04073860661058226 39 ('longitude', 'total_rooms', 'total_bedrooms') 3\n",
      "0.0514823016853877 40 ('longitude', 'total_rooms', 'population') 3\n",
      "0.023624020379729216 41 ('longitude', 'total_rooms', 'households') 3\n",
      "0.4214373994361369 42 ('longitude', 'total_rooms', 'median_income') 3\n",
      "0.013626904337937007 43 ('longitude', 'total_bedrooms', 'population') 3\n",
      "0.00895543210641847 44 ('longitude', 'total_bedrooms', 'households') 3\n",
      "0.42392672701761125 45 ('longitude', 'total_bedrooms', 'median_income') 3\n",
      "0.027590036497603943 46 ('longitude', 'population', 'households') 3\n",
      "0.42177885122268366 47 ('longitude', 'population', 'median_income') 3\n",
      "0.4239137350977199 48 ('longitude', 'households', 'median_income') 3\n",
      "0.04271324278952149 49 ('latitude', 'housing_median_age', 'total_rooms') 3\n",
      "0.026893005693035765 50 ('latitude', 'housing_median_age', 'total_bedrooms') 3\n",
      "0.023480759638899174 51 ('latitude', 'housing_median_age', 'population') 3\n",
      "0.02886947539274587 52 ('latitude', 'housing_median_age', 'households') 3\n",
      "0.46201168297244244 53 ('latitude', 'housing_median_age', 'median_income') 3\n",
      "0.07147292445175002 54 ('latitude', 'total_rooms', 'total_bedrooms') 3\n",
      "0.08594705999670904 55 ('latitude', 'total_rooms', 'population') 3\n",
      "0.05119697390435707 56 ('latitude', 'total_rooms', 'households') 3\n",
      "0.43526605552691744 57 ('latitude', 'total_rooms', 'median_income') 3\n",
      "0.04097816064366744 58 ('latitude', 'total_bedrooms', 'population') 3\n",
      "0.03221045098297537 59 ('latitude', 'total_bedrooms', 'households') 3\n",
      "0.4369532743564172 60 ('latitude', 'total_bedrooms', 'median_income') 3\n",
      "0.056520740850111606 61 ('latitude', 'population', 'households') 3\n",
      "0.43631407421523993 62 ('latitude', 'population', 'median_income') 3\n",
      "0.4369614237799867 63 ('latitude', 'households', 'median_income') 3\n",
      "0.051287122537368446 64 ('housing_median_age', 'total_rooms', 'total_bedrooms') 3\n",
      "0.06452495466037544 65 ('housing_median_age', 'total_rooms', 'population') 3\n",
      "0.033172402895874864 66 ('housing_median_age', 'total_rooms', 'households') 3\n",
      "0.4526354183478425 67 ('housing_median_age', 'total_rooms', 'median_income') 3\n",
      "0.016589366660271554 68 ('housing_median_age', 'total_bedrooms', 'population') 3\n",
      "0.010611007638672065 69 ('housing_median_age', 'total_bedrooms', 'households') 3\n",
      "0.462744962968764 70 ('housing_median_age', 'total_bedrooms', 'median_income') 3\n",
      "0.03189507450120632 71 ('housing_median_age', 'population', 'households') 3\n",
      "0.4505752069863147 72 ('housing_median_age', 'population', 'median_income') 3\n",
      "0.46181551542107613 73 ('housing_median_age', 'households', 'median_income') 3\n",
      "0.06234320126558768 74 ('total_rooms', 'total_bedrooms', 'population') 3\n",
      "0.04660145748647515 75 ('total_rooms', 'total_bedrooms', 'households') 3\n",
      "0.4635943346501642 76 ('total_rooms', 'total_bedrooms', 'median_income') 3\n",
      "0.05092229689049066 77 ('total_rooms', 'population', 'households') 3\n",
      "0.4215842235949324 78 ('total_rooms', 'population', 'median_income') 3\n",
      "0.4519400539117099 79 ('total_rooms', 'households', 'median_income') 3\n",
      "0.038708649314250554 80 ('total_bedrooms', 'population', 'households') 3\n",
      "0.437608667718812 81 ('total_bedrooms', 'population', 'median_income') 3\n",
      "0.423383177323423 82 ('total_bedrooms', 'households', 'median_income') 3\n",
      "0.44150637576885643 83 ('population', 'households', 'median_income') 3\n",
      "0.2842636655260531 84 ('longitude', 'latitude', 'housing_median_age', 'total_rooms') 4\n",
      "0.27195780364581845 85 ('longitude', 'latitude', 'housing_median_age', 'total_bedrooms') 4\n",
      "0.2737046705086438 86 ('longitude', 'latitude', 'housing_median_age', 'population') 4\n",
      "0.27142189386910354 87 ('longitude', 'latitude', 'housing_median_age', 'households') 4\n",
      "0.565322691115075 88 ('longitude', 'latitude', 'housing_median_age', 'median_income') 4\n",
      "0.32703636427913585 89 ('longitude', 'latitude', 'total_rooms', 'total_bedrooms') 4\n",
      "0.34924360629140705 90 ('longitude', 'latitude', 'total_rooms', 'population') 4\n",
      "0.3255804426865707 91 ('longitude', 'latitude', 'total_rooms', 'households') 4\n",
      "0.5606627939740699 92 ('longitude', 'latitude', 'total_rooms', 'median_income') 4\n",
      "0.29179590618793716 93 ('longitude', 'latitude', 'total_bedrooms', 'population') 4\n",
      "0.2700961845902272 94 ('longitude', 'latitude', 'total_bedrooms', 'households') 4\n",
      "0.5628603490594433 95 ('longitude', 'latitude', 'total_bedrooms', 'median_income') 4\n",
      "0.2924585895542061 96 ('longitude', 'latitude', 'population', 'households') 4\n",
      "0.5615884769876782 97 ('longitude', 'latitude', 'population', 'median_income') 4\n",
      "0.5615251413270336 98 ('longitude', 'latitude', 'households', 'median_income') 4\n",
      "0.051460693518887934 99 ('longitude', 'housing_median_age', 'total_rooms', 'total_bedrooms') 4\n",
      "0.06401288766778279 100 ('longitude', 'housing_median_age', 'total_rooms', 'population') 4\n",
      "0.034124832952761364 101 ('longitude', 'housing_median_age', 'total_rooms', 'households') 4\n",
      "0.45274949518436325 102 ('longitude', 'housing_median_age', 'total_rooms', 'median_income') 4\n",
      "0.017450251036039477 103 ('longitude', 'housing_median_age', 'total_bedrooms', 'population') 4\n",
      "0.011604085382161067 104 ('longitude', 'housing_median_age', 'total_bedrooms', 'households') 4\n",
      "0.4630597069702176 105 ('longitude', 'housing_median_age', 'total_bedrooms', 'median_income') 4\n",
      "0.03198777167941236 106 ('longitude', 'housing_median_age', 'population', 'households') 4\n",
      "0.4507403359535457 107 ('longitude', 'housing_median_age', 'population', 'median_income') 4\n",
      "0.46205664942602553 108 ('longitude', 'housing_median_age', 'households', 'median_income') 4\n",
      "0.061770375779481856 109 ('longitude', 'total_rooms', 'total_bedrooms', 'population') 4\n",
      "0.046653619516638156 110 ('longitude', 'total_rooms', 'total_bedrooms', 'households') 4\n",
      "0.4649770449207955 111 ('longitude', 'total_rooms', 'total_bedrooms', 'median_income') 4\n",
      "0.05047286301117482 112 ('longitude', 'total_rooms', 'population', 'households') 4\n",
      "0.4217753123711995 113 ('longitude', 'total_rooms', 'population', 'median_income') 4\n",
      "0.4525694788864306 114 ('longitude', 'total_rooms', 'households', 'median_income') 4\n",
      "0.03835532419194143 115 ('longitude', 'total_bedrooms', 'population', 'households') 4\n",
      "0.43765828836498755 116 ('longitude', 'total_bedrooms', 'population', 'median_income') 4\n",
      "0.4238244463720605 117 ('longitude', 'total_bedrooms', 'households', 'median_income') 4\n",
      "0.4412025358683518 118 ('longitude', 'population', 'households', 'median_income') 4\n",
      "0.08040185178887005 119 ('latitude', 'housing_median_age', 'total_rooms', 'total_bedrooms') 4\n",
      "0.09666942737608697 120 ('latitude', 'housing_median_age', 'total_rooms', 'population') 4\n",
      "0.06018876125767891 121 ('latitude', 'housing_median_age', 'total_rooms', 'households') 4\n",
      "0.4640926906179337 122 ('latitude', 'housing_median_age', 'total_rooms', 'median_income') 4\n",
      "0.04333843272567672 123 ('latitude', 'housing_median_age', 'total_bedrooms', 'population') 4\n",
      "0.03366057052721061 124 ('latitude', 'housing_median_age', 'total_bedrooms', 'households') 4\n",
      "0.4727372009813252 125 ('latitude', 'housing_median_age', 'total_bedrooms', 'median_income') 4\n",
      "0.05925294922822233 126 ('latitude', 'housing_median_age', 'population', 'households') 4\n",
      "0.46196954634289833 127 ('latitude', 'housing_median_age', 'population', 'median_income') 4\n",
      "0.47188296038655475 128 ('latitude', 'housing_median_age', 'households', 'median_income') 4\n",
      "0.09892620185202883 129 ('latitude', 'total_rooms', 'total_bedrooms', 'population') 4\n",
      "0.07692925954097174 130 ('latitude', 'total_rooms', 'total_bedrooms', 'households') 4\n"
     ]
    },
    {
     "name": "stdout",
     "output_type": "stream",
     "text": [
      "0.47108610280298535 131 ('latitude', 'total_rooms', 'total_bedrooms', 'median_income') 4\n",
      "0.08482840230511113 132 ('latitude', 'total_rooms', 'population', 'households') 4\n",
      "0.43682873567128533 133 ('latitude', 'total_rooms', 'population', 'median_income') 4\n",
      "0.4609863058084863 134 ('latitude', 'total_rooms', 'households', 'median_income') 4\n",
      "0.06790005598895577 135 ('latitude', 'total_bedrooms', 'population', 'households') 4\n",
      "0.4536202629622532 136 ('latitude', 'total_bedrooms', 'population', 'median_income') 4\n",
      "0.4369148245447997 137 ('latitude', 'total_bedrooms', 'households', 'median_income') 4\n",
      "0.4579010147907093 138 ('latitude', 'population', 'households', 'median_income') 4\n",
      "0.07576663603934175 139 ('housing_median_age', 'total_rooms', 'total_bedrooms', 'population') 4\n",
      "0.056193024155354765 140 ('housing_median_age', 'total_rooms', 'total_bedrooms', 'households') 4\n",
      "0.4951852141971329 141 ('housing_median_age', 'total_rooms', 'total_bedrooms', 'median_income') 4\n",
      "0.06351038263994047 142 ('housing_median_age', 'total_rooms', 'population', 'households') 4\n",
      "0.4536433815087485 143 ('housing_median_age', 'total_rooms', 'population', 'median_income') 4\n",
      "0.480384070637492 144 ('housing_median_age', 'total_rooms', 'households', 'median_income') 4\n",
      "0.04131152889256817 145 ('housing_median_age', 'total_bedrooms', 'population', 'households') 4\n",
      "0.47893422559825694 146 ('housing_median_age', 'total_bedrooms', 'population', 'median_income') 4\n",
      "0.4625972258282537 147 ('housing_median_age', 'total_bedrooms', 'households', 'median_income') 4\n",
      "0.4813012472767162 148 ('housing_median_age', 'population', 'households', 'median_income') 4\n",
      "0.0896585260424756 149 ('total_rooms', 'total_bedrooms', 'population', 'households') 4\n",
      "0.47014384829939826 150 ('total_rooms', 'total_bedrooms', 'population', 'median_income') 4\n",
      "0.4631884909680901 151 ('total_rooms', 'total_bedrooms', 'households', 'median_income') 4\n",
      "0.46613676398385184 152 ('total_rooms', 'population', 'households', 'median_income') 4\n",
      "0.4421882118840874 153 ('total_bedrooms', 'population', 'households', 'median_income') 4\n",
      "0.3264958375296644 154 ('longitude', 'latitude', 'housing_median_age', 'total_rooms', 'total_bedrooms') 5\n",
      "0.34857199683895945 155 ('longitude', 'latitude', 'housing_median_age', 'total_rooms', 'population') 5\n",
      "0.32509473897677466 156 ('longitude', 'latitude', 'housing_median_age', 'total_rooms', 'households') 5\n",
      "0.5672662674124285 157 ('longitude', 'latitude', 'housing_median_age', 'total_rooms', 'median_income') 5\n",
      "0.2936127585102919 158 ('longitude', 'latitude', 'housing_median_age', 'total_bedrooms', 'population') 5\n",
      "0.2724574584323315 159 ('longitude', 'latitude', 'housing_median_age', 'total_bedrooms', 'households') 5\n",
      "0.5716606264149939 160 ('longitude', 'latitude', 'housing_median_age', 'total_bedrooms', 'median_income') 5\n",
      "0.2942164201507339 161 ('longitude', 'latitude', 'housing_median_age', 'population', 'households') 5\n",
      "0.5654442627935752 162 ('longitude', 'latitude', 'housing_median_age', 'population', 'median_income') 5\n",
      "0.5692194580965966 163 ('longitude', 'latitude', 'housing_median_age', 'households', 'median_income') 5\n",
      "0.36365537249291036 164 ('longitude', 'latitude', 'total_rooms', 'total_bedrooms', 'population') 5\n",
      "0.32937979350491575 165 ('longitude', 'latitude', 'total_rooms', 'total_bedrooms', 'households') 5\n",
      "0.5743710553472701 166 ('longitude', 'latitude', 'total_rooms', 'total_bedrooms', 'median_income') 5\n",
      "0.3536390634193094 167 ('longitude', 'latitude', 'total_rooms', 'population', 'households') 5\n",
      "0.5692205040891003 168 ('longitude', 'latitude', 'total_rooms', 'population', 'median_income') 5\n",
      "0.5638169113719991 169 ('longitude', 'latitude', 'total_rooms', 'households', 'median_income') 5\n",
      "0.2925407918436569 170 ('longitude', 'latitude', 'total_bedrooms', 'population', 'households') 5\n",
      "0.583546130424835 171 ('longitude', 'latitude', 'total_bedrooms', 'population', 'median_income') 5\n",
      "0.567232134067672 172 ('longitude', 'latitude', 'total_bedrooms', 'households', 'median_income') 5\n",
      "0.579169001673168 173 ('longitude', 'latitude', 'population', 'households', 'median_income') 5\n",
      "0.07509575270356328 174 ('longitude', 'housing_median_age', 'total_rooms', 'total_bedrooms', 'population') 5\n",
      "0.05615303632105739 175 ('longitude', 'housing_median_age', 'total_rooms', 'total_bedrooms', 'households') 5\n",
      "0.49617849339366327 176 ('longitude', 'housing_median_age', 'total_rooms', 'total_bedrooms', 'median_income') 5\n",
      "0.06293655100624507 177 ('longitude', 'housing_median_age', 'total_rooms', 'population', 'households') 5\n",
      "0.4536434544333743 178 ('longitude', 'housing_median_age', 'total_rooms', 'population', 'median_income') 5\n",
      "0.48076179388106144 179 ('longitude', 'housing_median_age', 'total_rooms', 'households', 'median_income') 5\n",
      "0.04095888412987736 180 ('longitude', 'housing_median_age', 'total_bedrooms', 'population', 'households') 5\n",
      "0.4788773132452231 181 ('longitude', 'housing_median_age', 'total_bedrooms', 'population', 'median_income') 5\n",
      "0.46290714773647856 182 ('longitude', 'housing_median_age', 'total_bedrooms', 'households', 'median_income') 5\n",
      "0.48098761013719527 183 ('longitude', 'housing_median_age', 'population', 'households', 'median_income') 5\n",
      "0.08834592150206533 184 ('longitude', 'total_rooms', 'total_bedrooms', 'population', 'households') 5\n",
      "0.47101931274130016 185 ('longitude', 'total_rooms', 'total_bedrooms', 'population', 'median_income') 5\n",
      "0.46447679987320223 186 ('longitude', 'total_rooms', 'total_bedrooms', 'households', 'median_income') 5\n",
      "0.46609294256130807 187 ('longitude', 'total_rooms', 'population', 'households', 'median_income') 5\n",
      "0.44181263250662195 188 ('longitude', 'total_bedrooms', 'population', 'households', 'median_income') 5\n",
      "0.11034097062879511 189 ('latitude', 'housing_median_age', 'total_rooms', 'total_bedrooms', 'population') 5\n",
      "0.08476752801870024 190 ('latitude', 'housing_median_age', 'total_rooms', 'total_bedrooms', 'households') 5\n",
      "0.5007528193260495 191 ('latitude', 'housing_median_age', 'total_rooms', 'total_bedrooms', 'median_income') 5\n",
      "0.0955408826265487 192 ('latitude', 'housing_median_age', 'total_rooms', 'population', 'households') 5\n",
      "0.4664677784011715 193 ('latitude', 'housing_median_age', 'total_rooms', 'population', 'median_income') 5\n",
      "0.48759899748551483 194 ('latitude', 'housing_median_age', 'total_rooms', 'households', 'median_income') 5\n",
      "0.06904965089309223 195 ('latitude', 'housing_median_age', 'total_bedrooms', 'population', 'households') 5\n",
      "0.49112606831872985 196 ('latitude', 'housing_median_age', 'total_bedrooms', 'population', 'median_income') 5\n",
      "0.47263190590309956 197 ('latitude', 'housing_median_age', 'total_bedrooms', 'households', 'median_income') 5\n",
      "0.49387417826841207 198 ('latitude', 'housing_median_age', 'population', 'households', 'median_income') 5\n",
      "0.1274163264892335 199 ('latitude', 'total_rooms', 'total_bedrooms', 'population', 'households') 5\n",
      "0.47938940271468966 200 ('latitude', 'total_rooms', 'total_bedrooms', 'population', 'median_income') 5\n",
      "0.47074286252666275 201 ('latitude', 'total_rooms', 'total_bedrooms', 'households', 'median_income') 5\n",
      "0.47754924794840314 202 ('latitude', 'total_rooms', 'population', 'households', 'median_income') 5\n",
      "0.4586786676962257 203 ('latitude', 'total_bedrooms', 'population', 'households', 'median_income') 5\n",
      "0.10107557061775074 204 ('housing_median_age', 'total_rooms', 'total_bedrooms', 'population', 'households') 5\n",
      "0.5037748354531737 205 ('housing_median_age', 'total_rooms', 'total_bedrooms', 'population', 'median_income') 5\n",
      "0.49471966708666915 206 ('housing_median_age', 'total_rooms', 'total_bedrooms', 'households', 'median_income') 5\n",
      "0.49648621075722876 207 ('housing_median_age', 'total_rooms', 'population', 'households', 'median_income') 5\n",
      "0.48128046469309427 208 ('housing_median_age', 'total_bedrooms', 'population', 'households', 'median_income') 5\n",
      "0.47174119131726167 209 ('total_rooms', 'total_bedrooms', 'population', 'households', 'median_income') 5\n",
      "0.3629144778873975 210 ('longitude', 'latitude', 'housing_median_age', 'total_rooms', 'total_bedrooms', 'population') 6\n",
      "0.328822763333008 211 ('longitude', 'latitude', 'housing_median_age', 'total_rooms', 'total_bedrooms', 'households') 6\n",
      "0.5824801104275056 212 ('longitude', 'latitude', 'housing_median_age', 'total_rooms', 'total_bedrooms', 'median_income') 6\n",
      "0.35291150468932575 213 ('longitude', 'latitude', 'housing_median_age', 'total_rooms', 'population', 'households') 6\n",
      "0.5760299481805742 214 ('longitude', 'latitude', 'housing_median_age', 'total_rooms', 'population', 'median_income') 6\n"
     ]
    },
    {
     "name": "stdout",
     "output_type": "stream",
     "text": [
      "0.5707988113275912 215 ('longitude', 'latitude', 'housing_median_age', 'total_rooms', 'households', 'median_income') 6\n",
      "0.29414784449745934 216 ('longitude', 'latitude', 'housing_median_age', 'total_bedrooms', 'population', 'households') 6\n",
      "0.5929741513450231 217 ('longitude', 'latitude', 'housing_median_age', 'total_bedrooms', 'population', 'median_income') 6\n",
      "0.5764686745575538 218 ('longitude', 'latitude', 'housing_median_age', 'total_bedrooms', 'households', 'median_income') 6\n",
      "0.5875687507677667 219 ('longitude', 'latitude', 'housing_median_age', 'population', 'households', 'median_income') 6\n",
      "0.36455294352211487 220 ('longitude', 'latitude', 'total_rooms', 'total_bedrooms', 'population', 'households') 6\n",
      "0.5892937288822131 221 ('longitude', 'latitude', 'total_rooms', 'total_bedrooms', 'population', 'median_income') 6\n",
      "0.5778989242344414 222 ('longitude', 'latitude', 'total_rooms', 'total_bedrooms', 'households', 'median_income') 6\n",
      "0.5804405986667069 223 ('longitude', 'latitude', 'total_rooms', 'population', 'households', 'median_income') 6\n",
      "0.5816742820778291 224 ('longitude', 'latitude', 'total_bedrooms', 'population', 'households', 'median_income') 6\n",
      "0.09985456008918547 225 ('longitude', 'housing_median_age', 'total_rooms', 'total_bedrooms', 'population', 'households') 6\n",
      "0.5042893931520078 226 ('longitude', 'housing_median_age', 'total_rooms', 'total_bedrooms', 'population', 'median_income') 6\n",
      "0.4957026611513552 227 ('longitude', 'housing_median_age', 'total_rooms', 'total_bedrooms', 'households', 'median_income') 6\n",
      "0.4963369663047391 228 ('longitude', 'housing_median_age', 'total_rooms', 'population', 'households', 'median_income') 6\n",
      "0.4809502180599947 229 ('longitude', 'housing_median_age', 'total_bedrooms', 'population', 'households', 'median_income') 6\n",
      "0.4720557829768376 230 ('longitude', 'total_rooms', 'total_bedrooms', 'population', 'households', 'median_income') 6\n",
      "0.13682630673583895 231 ('latitude', 'housing_median_age', 'total_rooms', 'total_bedrooms', 'population', 'households') 6\n",
      "0.5110448073239853 232 ('latitude', 'housing_median_age', 'total_rooms', 'total_bedrooms', 'population', 'median_income') 6\n",
      "0.5003589807180007 233 ('latitude', 'housing_median_age', 'total_rooms', 'total_bedrooms', 'households', 'median_income') 6\n",
      "0.5059164517556876 234 ('latitude', 'housing_median_age', 'total_rooms', 'population', 'households', 'median_income') 6\n",
      "0.4938441593586834 235 ('latitude', 'housing_median_age', 'total_bedrooms', 'population', 'households', 'median_income') 6\n",
      "0.4814698867600894 236 ('latitude', 'total_rooms', 'total_bedrooms', 'population', 'households', 'median_income') 6\n",
      "0.5042080186281401 237 ('housing_median_age', 'total_rooms', 'total_bedrooms', 'population', 'households', 'median_income') 6\n",
      "0.3636853389021447 238 ('longitude', 'latitude', 'housing_median_age', 'total_rooms', 'total_bedrooms', 'population', 'households') 7\n",
      "0.59819798033181 239 ('longitude', 'latitude', 'housing_median_age', 'total_rooms', 'total_bedrooms', 'population', 'median_income') 7\n",
      "0.5864246207674046 240 ('longitude', 'latitude', 'housing_median_age', 'total_rooms', 'total_bedrooms', 'households', 'median_income') 7\n",
      "0.5883510929974956 241 ('longitude', 'latitude', 'housing_median_age', 'total_rooms', 'population', 'households', 'median_income') 7\n",
      "0.5911538605793711 242 ('longitude', 'latitude', 'housing_median_age', 'total_bedrooms', 'population', 'households', 'median_income') 7\n",
      "0.5872996749800143 243 ('longitude', 'latitude', 'total_rooms', 'total_bedrooms', 'population', 'households', 'median_income') 7\n",
      "0.5043558163741326 244 ('longitude', 'housing_median_age', 'total_rooms', 'total_bedrooms', 'population', 'households', 'median_income') 7\n",
      "0.5118048636969137 245 ('latitude', 'housing_median_age', 'total_rooms', 'total_bedrooms', 'population', 'households', 'median_income') 7\n",
      "0.5963008468573252 246 ('longitude', 'latitude', 'housing_median_age', 'total_rooms', 'total_bedrooms', 'population', 'households', 'median_income') 8\n"
     ]
    }
   ],
   "source": [
    "for index, features in enumerate(combinations):\n",
    "    print(calc_r2_score(combinations[index]), index, features, len(combinations[index]))"
   ]
  },
  {
   "cell_type": "code",
   "execution_count": 21,
   "metadata": {},
   "outputs": [],
   "source": [
    "results_df = pd.read_csv(\"data/results_1.csv\", sep=\",\") "
   ]
  },
  {
   "cell_type": "code",
   "execution_count": 22,
   "metadata": {},
   "outputs": [
    {
     "data": {
      "text/html": [
       "<div>\n",
       "<style scoped>\n",
       "    .dataframe tbody tr th:only-of-type {\n",
       "        vertical-align: middle;\n",
       "    }\n",
       "\n",
       "    .dataframe tbody tr th {\n",
       "        vertical-align: top;\n",
       "    }\n",
       "\n",
       "    .dataframe thead th {\n",
       "        text-align: right;\n",
       "    }\n",
       "</style>\n",
       "<table border=\"1\" class=\"dataframe\">\n",
       "  <thead>\n",
       "    <tr style=\"text-align: right;\">\n",
       "      <th></th>\n",
       "      <th>r2_score</th>\n",
       "      <th>index</th>\n",
       "      <th>features</th>\n",
       "      <th>no_of_features</th>\n",
       "    </tr>\n",
       "  </thead>\n",
       "  <tbody>\n",
       "    <tr>\n",
       "      <th>0</th>\n",
       "      <td>0.598198</td>\n",
       "      <td>239</td>\n",
       "      <td>longitude+latitude+housing_median_age+total_ro...</td>\n",
       "      <td>7</td>\n",
       "    </tr>\n",
       "    <tr>\n",
       "      <th>1</th>\n",
       "      <td>0.596301</td>\n",
       "      <td>246</td>\n",
       "      <td>longitude+latitude+housing_median_age+total_ro...</td>\n",
       "      <td>8</td>\n",
       "    </tr>\n",
       "    <tr>\n",
       "      <th>2</th>\n",
       "      <td>0.592974</td>\n",
       "      <td>217</td>\n",
       "      <td>longitude+latitude+housing_median_age+total_be...</td>\n",
       "      <td>6</td>\n",
       "    </tr>\n",
       "    <tr>\n",
       "      <th>3</th>\n",
       "      <td>0.591154</td>\n",
       "      <td>242</td>\n",
       "      <td>longitude+latitude+housing_median_age+total_be...</td>\n",
       "      <td>7</td>\n",
       "    </tr>\n",
       "    <tr>\n",
       "      <th>4</th>\n",
       "      <td>0.589294</td>\n",
       "      <td>221</td>\n",
       "      <td>longitude+latitude+total_rooms+total_bedrooms+...</td>\n",
       "      <td>6</td>\n",
       "    </tr>\n",
       "  </tbody>\n",
       "</table>\n",
       "</div>"
      ],
      "text/plain": [
       "   r2_score  index                                           features  \\\n",
       "0  0.598198    239  longitude+latitude+housing_median_age+total_ro...   \n",
       "1  0.596301    246  longitude+latitude+housing_median_age+total_ro...   \n",
       "2  0.592974    217  longitude+latitude+housing_median_age+total_be...   \n",
       "3  0.591154    242  longitude+latitude+housing_median_age+total_be...   \n",
       "4  0.589294    221  longitude+latitude+total_rooms+total_bedrooms+...   \n",
       "\n",
       "   no_of_features  \n",
       "0               7  \n",
       "1               8  \n",
       "2               6  \n",
       "3               7  \n",
       "4               6  "
      ]
     },
     "execution_count": 22,
     "metadata": {},
     "output_type": "execute_result"
    }
   ],
   "source": [
    "results_df.head()"
   ]
  },
  {
   "cell_type": "code",
   "execution_count": 23,
   "metadata": {},
   "outputs": [
    {
     "data": {
      "image/png": "[encoded data removed]",
      "text/plain": [
       "<Figure size 1440x720 with 1 Axes>"
      ]
     },
     "metadata": {},
     "output_type": "display_data"
    }
   ],
   "source": [
    "# Plot outputs\n",
    "plt.figure(figsize=(20,10))\n",
    "plt.scatter(results_df[\"no_of_features\"], results_df[\"r2_score\"], color='black')\n",
    "\n",
    "plt.show();"
   ]
  },
  {
   "cell_type": "code",
   "execution_count": null,
   "metadata": {},
   "outputs": [],
   "source": []
  }
 ],
 "metadata": {
  "kernelspec": {
   "display_name": "Python 2",
   "language": "python",
   "name": "python2"
  },
  "language_info": {
   "codemirror_mode": {
    "name": "ipython",
    "version": 3
   },
   "file_extension": ".py",
   "mimetype": "text/x-python",
   "name": "python",
   "nbconvert_exporter": "python",
   "pygments_lexer": "ipython3",
   "version": "3.6.6"
  }
 },
 "nbformat": 4,
 "nbformat_minor": 2
}
