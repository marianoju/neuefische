{
 "cells": [
  {
   "cell_type": "markdown",
   "metadata": {},
   "source": [
    "# Multi-Dimensional Linear Regression \n",
    "# Re-Analysis"
   ]
  },
  {
   "cell_type": "markdown",
   "metadata": {},
   "source": [
    "The [dataset](https://github.com/ageron/handson-ml/tree/master/datasets/housing) used for this excercise in Multi-Dimensional Linear Regression is a modified version of the California Housing dataset available from [Luís Torgo's page](http://www.dcc.fc.up.pt/%7Eltorgo/Regression/cal_housing.html) (University of Porto). Luís Torgo obtained it from the StatLib repository (which is closed now). The dataset may also be downloaded from StatLib mirrors.\n",
    "\n",
    "This dataset appeared in a 1997 paper titled Sparse Spatial Autoregressions by Pace, R. Kelley and Ronald Barry, published in the Statistics and Probability Letters journal. They built it using the 1990 California census data. It contains one row per census block group. A block group is the smallest geographical unit for which the U.S. Census Bureau publishes sample data (a block group typically has a population of 600 to 3,000 people)."
   ]
  },
  {
   "cell_type": "markdown",
   "metadata": {},
   "source": [
    "## Theoretical background \n",
    "\n",
    "- [Generalized Linear Models](http://scikit-learn.org/stable/modules/linear_model.html)\n",
    "- [Linear Regression Example](http://scikit-learn.org/stable/auto_examples/linear_model/plot_ols.html) \n",
    "- [immoverkauf24: „Lage, Lage, Lage – alte Immobilienweisheit“](https://www.immoverkauf24.de/immobilienverkauf/immobilienverkauf-a-z/lage-lage-lage/)\n",
    "--- "
   ]
  },
  {
   "cell_type": "code",
   "execution_count": 1,
   "metadata": {},
   "outputs": [],
   "source": [
    "import numpy as np\n",
    "import pandas as pd\n",
    "import matplotlib.pyplot as plt\n",
    "import scipy, scipy.stats\n",
    "from sklearn import datasets, linear_model\n",
    "from sklearn.metrics import mean_squared_error, r2_score\n",
    "from sklearn.model_selection import train_test_split\n",
    "import statsmodels.api as sm\n",
    "import itertools\n",
    "from math import sqrt\n",
    "\n",
    "import seaborn as sns\n",
    "sns.set()"
   ]
  },
  {
   "cell_type": "markdown",
   "metadata": {},
   "source": [
    "## Import data subsets "
   ]
  },
  {
   "cell_type": "code",
   "execution_count": 2,
   "metadata": {},
   "outputs": [],
   "source": [
    "data_train = pd.read_csv(\"data/data_train.csv\", na_values='') \n",
    "data_test = pd.read_csv(\"data/data_test.csv\", na_values='') "
   ]
  },
  {
   "cell_type": "code",
   "execution_count": 3,
   "metadata": {},
   "outputs": [
    {
     "data": {
      "text/html": [
       "<div>\n",
       "<style scoped>\n",
       "    .dataframe tbody tr th:only-of-type {\n",
       "        vertical-align: middle;\n",
       "    }\n",
       "\n",
       "    .dataframe tbody tr th {\n",
       "        vertical-align: top;\n",
       "    }\n",
       "\n",
       "    .dataframe thead th {\n",
       "        text-align: right;\n",
       "    }\n",
       "</style>\n",
       "<table border=\"1\" class=\"dataframe\">\n",
       "  <thead>\n",
       "    <tr style=\"text-align: right;\">\n",
       "      <th></th>\n",
       "      <th>longitude</th>\n",
       "      <th>latitude</th>\n",
       "      <th>housing_median_age</th>\n",
       "      <th>total_rooms</th>\n",
       "      <th>total_bedrooms</th>\n",
       "      <th>population</th>\n",
       "      <th>households</th>\n",
       "      <th>median_income</th>\n",
       "      <th>median_house_value</th>\n",
       "      <th>NEAR BAY</th>\n",
       "      <th>&lt;1H OCEAN</th>\n",
       "      <th>INLAND</th>\n",
       "      <th>NEAR OCEAN</th>\n",
       "      <th>ISLAND</th>\n",
       "      <th>top_house_value</th>\n",
       "      <th>top_housing_age</th>\n",
       "    </tr>\n",
       "  </thead>\n",
       "  <tbody>\n",
       "    <tr>\n",
       "      <th>0</th>\n",
       "      <td>0.259400</td>\n",
       "      <td>0.205131</td>\n",
       "      <td>-0.551459</td>\n",
       "      <td>-0.075067</td>\n",
       "      <td>-0.035469</td>\n",
       "      <td>-0.165552</td>\n",
       "      <td>0.011666</td>\n",
       "      <td>-1.102799</td>\n",
       "      <td>-1.358294</td>\n",
       "      <td>0.0</td>\n",
       "      <td>0.0</td>\n",
       "      <td>1.0</td>\n",
       "      <td>0.0</td>\n",
       "      <td>0.0</td>\n",
       "      <td>0</td>\n",
       "      <td>0</td>\n",
       "    </tr>\n",
       "    <tr>\n",
       "      <th>1</th>\n",
       "      <td>0.838392</td>\n",
       "      <td>-0.923199</td>\n",
       "      <td>0.442325</td>\n",
       "      <td>0.045947</td>\n",
       "      <td>0.028931</td>\n",
       "      <td>-0.129347</td>\n",
       "      <td>0.090135</td>\n",
       "      <td>0.879856</td>\n",
       "      <td>0.635468</td>\n",
       "      <td>0.0</td>\n",
       "      <td>1.0</td>\n",
       "      <td>0.0</td>\n",
       "      <td>0.0</td>\n",
       "      <td>0.0</td>\n",
       "      <td>0</td>\n",
       "      <td>0</td>\n",
       "    </tr>\n",
       "    <tr>\n",
       "      <th>2</th>\n",
       "      <td>-0.519243</td>\n",
       "      <td>-0.234965</td>\n",
       "      <td>-1.003178</td>\n",
       "      <td>0.364526</td>\n",
       "      <td>0.436796</td>\n",
       "      <td>0.310414</td>\n",
       "      <td>0.526941</td>\n",
       "      <td>-0.600371</td>\n",
       "      <td>-0.021782</td>\n",
       "      <td>0.0</td>\n",
       "      <td>1.0</td>\n",
       "      <td>0.0</td>\n",
       "      <td>0.0</td>\n",
       "      <td>0.0</td>\n",
       "      <td>0</td>\n",
       "      <td>0</td>\n",
       "    </tr>\n",
       "    <tr>\n",
       "      <th>3</th>\n",
       "      <td>1.067992</td>\n",
       "      <td>-0.796789</td>\n",
       "      <td>0.351981</td>\n",
       "      <td>-0.624673</td>\n",
       "      <td>-0.658000</td>\n",
       "      <td>-0.652997</td>\n",
       "      <td>-0.642235</td>\n",
       "      <td>-0.725597</td>\n",
       "      <td>-0.870860</td>\n",
       "      <td>0.0</td>\n",
       "      <td>0.0</td>\n",
       "      <td>1.0</td>\n",
       "      <td>0.0</td>\n",
       "      <td>0.0</td>\n",
       "      <td>0</td>\n",
       "      <td>0</td>\n",
       "    </tr>\n",
       "    <tr>\n",
       "      <th>4</th>\n",
       "      <td>0.743557</td>\n",
       "      <td>-0.731243</td>\n",
       "      <td>0.442325</td>\n",
       "      <td>0.666145</td>\n",
       "      <td>1.042630</td>\n",
       "      <td>2.074754</td>\n",
       "      <td>1.191305</td>\n",
       "      <td>-0.305652</td>\n",
       "      <td>0.136503</td>\n",
       "      <td>0.0</td>\n",
       "      <td>1.0</td>\n",
       "      <td>0.0</td>\n",
       "      <td>0.0</td>\n",
       "      <td>0.0</td>\n",
       "      <td>0</td>\n",
       "      <td>0</td>\n",
       "    </tr>\n",
       "  </tbody>\n",
       "</table>\n",
       "</div>"
      ],
      "text/plain": [
       "   longitude  latitude  housing_median_age  total_rooms  total_bedrooms  \\\n",
       "0   0.259400  0.205131           -0.551459    -0.075067       -0.035469   \n",
       "1   0.838392 -0.923199            0.442325     0.045947        0.028931   \n",
       "2  -0.519243 -0.234965           -1.003178     0.364526        0.436796   \n",
       "3   1.067992 -0.796789            0.351981    -0.624673       -0.658000   \n",
       "4   0.743557 -0.731243            0.442325     0.666145        1.042630   \n",
       "\n",
       "   population  households  median_income  median_house_value  NEAR BAY  \\\n",
       "0   -0.165552    0.011666      -1.102799           -1.358294       0.0   \n",
       "1   -0.129347    0.090135       0.879856            0.635468       0.0   \n",
       "2    0.310414    0.526941      -0.600371           -0.021782       0.0   \n",
       "3   -0.652997   -0.642235      -0.725597           -0.870860       0.0   \n",
       "4    2.074754    1.191305      -0.305652            0.136503       0.0   \n",
       "\n",
       "   <1H OCEAN  INLAND  NEAR OCEAN  ISLAND  top_house_value  top_housing_age  \n",
       "0        0.0     1.0         0.0     0.0                0                0  \n",
       "1        1.0     0.0         0.0     0.0                0                0  \n",
       "2        1.0     0.0         0.0     0.0                0                0  \n",
       "3        0.0     1.0         0.0     0.0                0                0  \n",
       "4        1.0     0.0         0.0     0.0                0                0  "
      ]
     },
     "execution_count": 3,
     "metadata": {},
     "output_type": "execute_result"
    }
   ],
   "source": [
    "data_train.head()"
   ]
  },
  {
   "cell_type": "markdown",
   "metadata": {},
   "source": [
    "--- \n",
    "## Brute-force: Multiple Linear Regression on *all combinations* of variables "
   ]
  },
  {
   "cell_type": "code",
   "execution_count": 4,
   "metadata": {},
   "outputs": [],
   "source": [
    "# create linear regression object \n",
    "lm = linear_model.LinearRegression()"
   ]
  },
  {
   "cell_type": "code",
   "execution_count": 5,
   "metadata": {},
   "outputs": [],
   "source": [
    "\"\"\" --------------------------------------------------------------------\n",
    "calc_r2_score fits a linear model to a training subset, \n",
    "makes a prediction for the test subset, \n",
    "and returns the R² score (quality of prediction index)\n",
    "-------------------------------------------------------------------- \"\"\"\n",
    "\n",
    "def calc_r2_score(item): \n",
    "    # define variables \n",
    "    X_train = data_train.loc[:,features] \n",
    "    y_train = data_train.loc[:,target]\n",
    "    X_test = data_test.loc[:,features] \n",
    "    y_test = data_test.loc[:,target]\n",
    "    \n",
    "    # fit linear model to training subset \n",
    "    model = lm.fit(X_train, y_train)\n",
    "    \n",
    "    # make a prediction using the test subset\n",
    "    y_prediction = lm.predict(X_test)\n",
    "    \n",
    "    # return the R² score \n",
    "    return r2_score(y_test, y_prediction)\n",
    "\n",
    "\"\"\" --------------------------------------------------------------------\n",
    "calc_MSE follows up and returns the Mean Squared Error \n",
    "-------------------------------------------------------------------- \"\"\"\n",
    "\n",
    "def calc_RMSE(item):\n",
    "    # define variables \n",
    "    X_train = data_train.loc[:,features] \n",
    "    y_train = data_train.loc[:,target]\n",
    "    X_test = data_test.loc[:,features] \n",
    "    y_test = data_test.loc[:,target]\n",
    "    \n",
    "    # fit linear model to training subset \n",
    "    model = lm.fit(X_train, y_train)\n",
    "    \n",
    "    # make a prediction using the test subset\n",
    "    y_prediction = lm.predict(X_test)\n",
    "    \n",
    "    # return the Root Mean Square Error (RMSE)\n",
    "    return sqrt(mean_squared_error(y_test, y_prediction))\n"
   ]
  },
  {
   "cell_type": "code",
   "execution_count": 6,
   "metadata": {},
   "outputs": [],
   "source": [
    "\"\"\" --------------------------------------------------------------------\n",
    "define independent variables and target variable\n",
    "-------------------------------------------------------------------- \"\"\"\n",
    "\n",
    "\"\"\" ------------------------ numerical only ----------------------------\n",
    "features = [\"longitude\", \"latitude\", \"housing_median_age\", \\\n",
    "            \"total_rooms\", \"total_bedrooms\", \"population\", \\\n",
    "            \"households\", \"median_income\"]\n",
    "-------------------------------------------------------------------- \"\"\"\n",
    "\n",
    "\"\"\" --------------------------- all in ---------------------------------\n",
    "-------------------------------------------------------------------- \"\"\"\n",
    "features = [\"longitude\", \"latitude\", \"housing_median_age\", \\\n",
    "            \"total_rooms\", \"total_bedrooms\", \"population\", \\\n",
    "            \"households\", \"median_income\", \"NEAR BAY\", \"<1H OCEAN\", \\\n",
    "            \"INLAND\", \"NEAR OCEAN\", \"ISLAND\", \"top_house_value\", \\\n",
    "            \"top_housing_age\"]\n",
    "\n",
    "target   = [\"median_house_value\"]\n",
    "\n",
    "# opens an empty list for results of the upcoming for loop \n",
    "combinations = []\n",
    "\n",
    "for i in range(2, len(features)+1):\n",
    "    combinations += itertools.combinations(features, i)"
   ]
  },
  {
   "cell_type": "code",
   "execution_count": 7,
   "metadata": {},
   "outputs": [
    {
     "data": {
      "text/plain": [
       "32752"
      ]
     },
     "execution_count": 7,
     "metadata": {},
     "output_type": "execute_result"
    }
   ],
   "source": [
    "len(combinations)"
   ]
  },
  {
   "cell_type": "code",
   "execution_count": 8,
   "metadata": {},
   "outputs": [],
   "source": [
    "\"\"\" --------------------------------------------------------------------\n",
    "starts by defining empty lists to be filled by the for loop, \n",
    "then iterates over all elements of the list \"combinations\"\n",
    "-------------------------------------------------------------------- \"\"\"\n",
    "\n",
    "features_included = []\n",
    "results_r2_score = []\n",
    "results_RMSE = []\n",
    "no_of_features = []\n",
    "\n",
    "for index, features in enumerate(combinations):\n",
    "    features_included.append(features)\n",
    "    results_r2_score.append(calc_r2_score(combinations[index]))\n",
    "    results_RMSE.append(calc_RMSE(combinations[index]))\n",
    "    no_of_features.append(len(combinations[index]))"
   ]
  },
  {
   "cell_type": "code",
   "execution_count": 9,
   "metadata": {},
   "outputs": [],
   "source": [
    "# merge lists to a dataframe results_df \n",
    "# with the columns: \n",
    "# index, features, no_of_features, results_r2_score, results_RMSE \n",
    "\n",
    "results_df = pd.DataFrame(np.column_stack([features_included, no_of_features, results_r2_score, results_RMSE]),\n",
    "                         columns=[\"features\", \"no_of_features\", \"results_r2_score\", \"results_RMSE\"])"
   ]
  },
  {
   "cell_type": "code",
   "execution_count": 10,
   "metadata": {},
   "outputs": [
    {
     "data": {
      "text/html": [
       "<div>\n",
       "<style scoped>\n",
       "    .dataframe tbody tr th:only-of-type {\n",
       "        vertical-align: middle;\n",
       "    }\n",
       "\n",
       "    .dataframe tbody tr th {\n",
       "        vertical-align: top;\n",
       "    }\n",
       "\n",
       "    .dataframe thead th {\n",
       "        text-align: right;\n",
       "    }\n",
       "</style>\n",
       "<table border=\"1\" class=\"dataframe\">\n",
       "  <thead>\n",
       "    <tr style=\"text-align: right;\">\n",
       "      <th></th>\n",
       "      <th>features</th>\n",
       "      <th>no_of_features</th>\n",
       "      <th>results_r2_score</th>\n",
       "      <th>results_RMSE</th>\n",
       "    </tr>\n",
       "  </thead>\n",
       "  <tbody>\n",
       "    <tr>\n",
       "      <th>0</th>\n",
       "      <td>(longitude, latitude)</td>\n",
       "      <td>2</td>\n",
       "      <td>0.244911</td>\n",
       "      <td>0.877256</td>\n",
       "    </tr>\n",
       "    <tr>\n",
       "      <th>1</th>\n",
       "      <td>(longitude, housing_median_age)</td>\n",
       "      <td>2</td>\n",
       "      <td>0.00044882</td>\n",
       "      <td>1.00932</td>\n",
       "    </tr>\n",
       "    <tr>\n",
       "      <th>2</th>\n",
       "      <td>(longitude, total_rooms)</td>\n",
       "      <td>2</td>\n",
       "      <td>0.0184441</td>\n",
       "      <td>1.0002</td>\n",
       "    </tr>\n",
       "    <tr>\n",
       "      <th>3</th>\n",
       "      <td>(longitude, total_bedrooms)</td>\n",
       "      <td>2</td>\n",
       "      <td>0.00563994</td>\n",
       "      <td>1.0067</td>\n",
       "    </tr>\n",
       "    <tr>\n",
       "      <th>4</th>\n",
       "      <td>(longitude, population)</td>\n",
       "      <td>2</td>\n",
       "      <td>7.00861e-05</td>\n",
       "      <td>1.00951</td>\n",
       "    </tr>\n",
       "  </tbody>\n",
       "</table>\n",
       "</div>"
      ],
      "text/plain": [
       "                          features no_of_features results_r2_score  \\\n",
       "0            (longitude, latitude)              2         0.244911   \n",
       "1  (longitude, housing_median_age)              2       0.00044882   \n",
       "2         (longitude, total_rooms)              2        0.0184441   \n",
       "3      (longitude, total_bedrooms)              2       0.00563994   \n",
       "4          (longitude, population)              2      7.00861e-05   \n",
       "\n",
       "  results_RMSE  \n",
       "0     0.877256  \n",
       "1      1.00932  \n",
       "2       1.0002  \n",
       "3       1.0067  \n",
       "4      1.00951  "
      ]
     },
     "execution_count": 10,
     "metadata": {},
     "output_type": "execute_result"
    }
   ],
   "source": [
    "results_df.head()"
   ]
  },
  {
   "cell_type": "code",
   "execution_count": 14,
   "metadata": {},
   "outputs": [
    {
     "data": {
      "text/html": [
       "<div>\n",
       "<style scoped>\n",
       "    .dataframe tbody tr th:only-of-type {\n",
       "        vertical-align: middle;\n",
       "    }\n",
       "\n",
       "    .dataframe tbody tr th {\n",
       "        vertical-align: top;\n",
       "    }\n",
       "\n",
       "    .dataframe thead th {\n",
       "        text-align: right;\n",
       "    }\n",
       "</style>\n",
       "<table border=\"1\" class=\"dataframe\">\n",
       "  <thead>\n",
       "    <tr style=\"text-align: right;\">\n",
       "      <th></th>\n",
       "      <th>features</th>\n",
       "      <th>no_of_features</th>\n",
       "      <th>results_r2_score</th>\n",
       "      <th>results_RMSE</th>\n",
       "    </tr>\n",
       "  </thead>\n",
       "  <tbody>\n",
       "    <tr>\n",
       "      <th>31156</th>\n",
       "      <td>(longitude, latitude, housing_median_age, tota...</td>\n",
       "      <td>11</td>\n",
       "      <td>0.555608</td>\n",
       "      <td>0.672992</td>\n",
       "    </tr>\n",
       "    <tr>\n",
       "      <th>32191</th>\n",
       "      <td>(longitude, latitude, housing_median_age, tota...</td>\n",
       "      <td>12</td>\n",
       "      <td>0.555597</td>\n",
       "      <td>0.673001</td>\n",
       "    </tr>\n",
       "    <tr>\n",
       "      <th>32354</th>\n",
       "      <td>(longitude, latitude, housing_median_age, tota...</td>\n",
       "      <td>12</td>\n",
       "      <td>0.555566</td>\n",
       "      <td>0.673025</td>\n",
       "    </tr>\n",
       "    <tr>\n",
       "      <th>32644</th>\n",
       "      <td>(longitude, latitude, housing_median_age, tota...</td>\n",
       "      <td>13</td>\n",
       "      <td>0.555551</td>\n",
       "      <td>0.673036</td>\n",
       "    </tr>\n",
       "    <tr>\n",
       "      <th>32349</th>\n",
       "      <td>(longitude, latitude, housing_median_age, tota...</td>\n",
       "      <td>12</td>\n",
       "      <td>0.5555</td>\n",
       "      <td>0.673074</td>\n",
       "    </tr>\n",
       "  </tbody>\n",
       "</table>\n",
       "</div>"
      ],
      "text/plain": [
       "                                                features no_of_features  \\\n",
       "31156  (longitude, latitude, housing_median_age, tota...             11   \n",
       "32191  (longitude, latitude, housing_median_age, tota...             12   \n",
       "32354  (longitude, latitude, housing_median_age, tota...             12   \n",
       "32644  (longitude, latitude, housing_median_age, tota...             13   \n",
       "32349  (longitude, latitude, housing_median_age, tota...             12   \n",
       "\n",
       "      results_r2_score results_RMSE  \n",
       "31156         0.555608     0.672992  \n",
       "32191         0.555597     0.673001  \n",
       "32354         0.555566     0.673025  \n",
       "32644         0.555551     0.673036  \n",
       "32349           0.5555     0.673074  "
      ]
     },
     "execution_count": 14,
     "metadata": {},
     "output_type": "execute_result"
    }
   ],
   "source": [
    "results_df.sort_values([\"results_r2_score\"],ascending=False).head(5)"
   ]
  },
  {
   "cell_type": "code",
   "execution_count": 12,
   "metadata": {},
   "outputs": [
    {
     "data": {
      "image/png": "[encoded data removed]",
      "text/plain": [
       "<Figure size 1440x720 with 1 Axes>"
      ]
     },
     "metadata": {},
     "output_type": "display_data"
    }
   ],
   "source": [
    "# Plot outputs\n",
    "plt.figure(figsize=(20,10))\n",
    "plt.scatter(results_df[\"no_of_features\"], results_df[\"results_r2_score\"], color='black')\n",
    "plt.show();"
   ]
  },
  {
   "cell_type": "code",
   "execution_count": 13,
   "metadata": {},
   "outputs": [
    {
     "data": {
      "image/png": "[encoded data removed]",
      "text/plain": [
       "<Figure size 1440x720 with 1 Axes>"
      ]
     },
     "metadata": {},
     "output_type": "display_data"
    }
   ],
   "source": [
    "# Plot outputs\n",
    "plt.figure(figsize=(20,10))\n",
    "plt.scatter(results_df[\"no_of_features\"], results_df[\"results_RMSE\"], color='red')\n",
    "plt.show();"
   ]
  }
 ],
 "metadata": {
  "kernelspec": {
   "display_name": "Python 2",
   "language": "python",
   "name": "python2"
  },
  "language_info": {
   "codemirror_mode": {
    "name": "ipython",
    "version": 3
   },
   "file_extension": ".py",
   "mimetype": "text/x-python",
   "name": "python",
   "nbconvert_exporter": "python",
   "pygments_lexer": "ipython3",
   "version": "3.6.6"
  }
 },
 "nbformat": 4,
 "nbformat_minor": 2
}
