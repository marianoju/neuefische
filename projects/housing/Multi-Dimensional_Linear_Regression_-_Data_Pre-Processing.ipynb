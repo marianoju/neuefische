{
 "cells": [
  {
   "cell_type": "markdown",
   "metadata": {},
   "source": [
    "# Multi-Dimensional Linear Regression \n",
    "# Data Pre-Processing "
   ]
  },
  {
   "cell_type": "markdown",
   "metadata": {},
   "source": [
    "The [dataset](https://github.com/ageron/handson-ml/tree/master/datasets/housing) used for this excercise in Multi-Dimensional Linear Regression is a modified version of the California Housing dataset available from [Luís Torgo's page](http://www.dcc.fc.up.pt/%7Eltorgo/Regression/cal_housing.html) (University of Porto). Luís Torgo obtained it from the StatLib repository (which is closed now). The dataset may also be downloaded from StatLib mirrors.\n",
    "\n",
    "This dataset appeared in a 1997 paper titled Sparse Spatial Autoregressions by Pace, R. Kelley and Ronald Barry, published in the Statistics and Probability Letters journal. They built it using the 1990 California census data. It contains one row per census block group. A block group is the smallest geographical unit for which the U.S. Census Bureau publishes sample data (a block group typically has a population of 600 to 3,000 people)."
   ]
  },
  {
   "cell_type": "markdown",
   "metadata": {},
   "source": [
    "## Theoretical background \n",
    "\n",
    "- [Generalized Linear Models](http://scikit-learn.org/stable/modules/linear_model.html)\n",
    "- [Linear Regression Example](http://scikit-learn.org/stable/auto_examples/linear_model/plot_ols.html) \n",
    "--- "
   ]
  },
  {
   "cell_type": "code",
   "execution_count": 1,
   "metadata": {},
   "outputs": [],
   "source": [
    "import numpy as np\n",
    "import pandas as pd\n",
    "import matplotlib.pyplot as plt\n",
    "from sklearn import datasets, linear_model\n",
    "from sklearn.metrics import mean_squared_error, r2_score\n",
    "from sklearn.model_selection import train_test_split\n",
    "from sklearn.preprocessing import OneHotEncoder\n",
    "from sklearn.preprocessing import StandardScaler\n",
    "\n",
    "import seaborn as sns\n",
    "sns.set()"
   ]
  },
  {
   "cell_type": "code",
   "execution_count": 2,
   "metadata": {},
   "outputs": [],
   "source": [
    "data = pd.read_csv(\"data/housing.csv\", na_values='') "
   ]
  },
  {
   "cell_type": "code",
   "execution_count": 3,
   "metadata": {},
   "outputs": [
    {
     "data": {
      "text/html": [
       "<div>\n",
       "<style scoped>\n",
       "    .dataframe tbody tr th:only-of-type {\n",
       "        vertical-align: middle;\n",
       "    }\n",
       "\n",
       "    .dataframe tbody tr th {\n",
       "        vertical-align: top;\n",
       "    }\n",
       "\n",
       "    .dataframe thead th {\n",
       "        text-align: right;\n",
       "    }\n",
       "</style>\n",
       "<table border=\"1\" class=\"dataframe\">\n",
       "  <thead>\n",
       "    <tr style=\"text-align: right;\">\n",
       "      <th></th>\n",
       "      <th>longitude</th>\n",
       "      <th>latitude</th>\n",
       "      <th>housing_median_age</th>\n",
       "      <th>total_rooms</th>\n",
       "      <th>total_bedrooms</th>\n",
       "      <th>population</th>\n",
       "      <th>households</th>\n",
       "      <th>median_income</th>\n",
       "      <th>median_house_value</th>\n",
       "      <th>ocean_proximity</th>\n",
       "    </tr>\n",
       "  </thead>\n",
       "  <tbody>\n",
       "    <tr>\n",
       "      <th>0</th>\n",
       "      <td>-122.23</td>\n",
       "      <td>37.88</td>\n",
       "      <td>41.0</td>\n",
       "      <td>880.0</td>\n",
       "      <td>129.0</td>\n",
       "      <td>322.0</td>\n",
       "      <td>126.0</td>\n",
       "      <td>8.3252</td>\n",
       "      <td>452600.0</td>\n",
       "      <td>NEAR BAY</td>\n",
       "    </tr>\n",
       "    <tr>\n",
       "      <th>1</th>\n",
       "      <td>-122.22</td>\n",
       "      <td>37.86</td>\n",
       "      <td>21.0</td>\n",
       "      <td>7099.0</td>\n",
       "      <td>1106.0</td>\n",
       "      <td>2401.0</td>\n",
       "      <td>1138.0</td>\n",
       "      <td>8.3014</td>\n",
       "      <td>358500.0</td>\n",
       "      <td>NEAR BAY</td>\n",
       "    </tr>\n",
       "    <tr>\n",
       "      <th>2</th>\n",
       "      <td>-122.24</td>\n",
       "      <td>37.85</td>\n",
       "      <td>52.0</td>\n",
       "      <td>1467.0</td>\n",
       "      <td>190.0</td>\n",
       "      <td>496.0</td>\n",
       "      <td>177.0</td>\n",
       "      <td>7.2574</td>\n",
       "      <td>352100.0</td>\n",
       "      <td>NEAR BAY</td>\n",
       "    </tr>\n",
       "    <tr>\n",
       "      <th>3</th>\n",
       "      <td>-122.25</td>\n",
       "      <td>37.85</td>\n",
       "      <td>52.0</td>\n",
       "      <td>1274.0</td>\n",
       "      <td>235.0</td>\n",
       "      <td>558.0</td>\n",
       "      <td>219.0</td>\n",
       "      <td>5.6431</td>\n",
       "      <td>341300.0</td>\n",
       "      <td>NEAR BAY</td>\n",
       "    </tr>\n",
       "    <tr>\n",
       "      <th>4</th>\n",
       "      <td>-122.25</td>\n",
       "      <td>37.85</td>\n",
       "      <td>52.0</td>\n",
       "      <td>1627.0</td>\n",
       "      <td>280.0</td>\n",
       "      <td>565.0</td>\n",
       "      <td>259.0</td>\n",
       "      <td>3.8462</td>\n",
       "      <td>342200.0</td>\n",
       "      <td>NEAR BAY</td>\n",
       "    </tr>\n",
       "  </tbody>\n",
       "</table>\n",
       "</div>"
      ],
      "text/plain": [
       "   longitude  latitude  housing_median_age  total_rooms  total_bedrooms  \\\n",
       "0    -122.23     37.88                41.0        880.0           129.0   \n",
       "1    -122.22     37.86                21.0       7099.0          1106.0   \n",
       "2    -122.24     37.85                52.0       1467.0           190.0   \n",
       "3    -122.25     37.85                52.0       1274.0           235.0   \n",
       "4    -122.25     37.85                52.0       1627.0           280.0   \n",
       "\n",
       "   population  households  median_income  median_house_value ocean_proximity  \n",
       "0       322.0       126.0         8.3252            452600.0        NEAR BAY  \n",
       "1      2401.0      1138.0         8.3014            358500.0        NEAR BAY  \n",
       "2       496.0       177.0         7.2574            352100.0        NEAR BAY  \n",
       "3       558.0       219.0         5.6431            341300.0        NEAR BAY  \n",
       "4       565.0       259.0         3.8462            342200.0        NEAR BAY  "
      ]
     },
     "execution_count": 3,
     "metadata": {},
     "output_type": "execute_result"
    }
   ],
   "source": [
    "data.head()"
   ]
  },
  {
   "cell_type": "code",
   "execution_count": 4,
   "metadata": {},
   "outputs": [
    {
     "data": {
      "text/html": [
       "<div>\n",
       "<style scoped>\n",
       "    .dataframe tbody tr th:only-of-type {\n",
       "        vertical-align: middle;\n",
       "    }\n",
       "\n",
       "    .dataframe tbody tr th {\n",
       "        vertical-align: top;\n",
       "    }\n",
       "\n",
       "    .dataframe thead th {\n",
       "        text-align: right;\n",
       "    }\n",
       "</style>\n",
       "<table border=\"1\" class=\"dataframe\">\n",
       "  <thead>\n",
       "    <tr style=\"text-align: right;\">\n",
       "      <th></th>\n",
       "      <th>longitude</th>\n",
       "      <th>latitude</th>\n",
       "      <th>housing_median_age</th>\n",
       "      <th>total_rooms</th>\n",
       "      <th>total_bedrooms</th>\n",
       "      <th>population</th>\n",
       "      <th>households</th>\n",
       "      <th>median_income</th>\n",
       "      <th>median_house_value</th>\n",
       "    </tr>\n",
       "  </thead>\n",
       "  <tbody>\n",
       "    <tr>\n",
       "      <th>count</th>\n",
       "      <td>20640.000000</td>\n",
       "      <td>20640.000000</td>\n",
       "      <td>20640.000000</td>\n",
       "      <td>20640.000000</td>\n",
       "      <td>20433.000000</td>\n",
       "      <td>20640.000000</td>\n",
       "      <td>20640.000000</td>\n",
       "      <td>20640.000000</td>\n",
       "      <td>20640.000000</td>\n",
       "    </tr>\n",
       "    <tr>\n",
       "      <th>mean</th>\n",
       "      <td>-119.569704</td>\n",
       "      <td>35.631861</td>\n",
       "      <td>28.639486</td>\n",
       "      <td>2635.763081</td>\n",
       "      <td>537.870553</td>\n",
       "      <td>1425.476744</td>\n",
       "      <td>499.539680</td>\n",
       "      <td>3.870671</td>\n",
       "      <td>206855.816909</td>\n",
       "    </tr>\n",
       "    <tr>\n",
       "      <th>std</th>\n",
       "      <td>2.003532</td>\n",
       "      <td>2.135952</td>\n",
       "      <td>12.585558</td>\n",
       "      <td>2181.615252</td>\n",
       "      <td>421.385070</td>\n",
       "      <td>1132.462122</td>\n",
       "      <td>382.329753</td>\n",
       "      <td>1.899822</td>\n",
       "      <td>115395.615874</td>\n",
       "    </tr>\n",
       "    <tr>\n",
       "      <th>min</th>\n",
       "      <td>-124.350000</td>\n",
       "      <td>32.540000</td>\n",
       "      <td>1.000000</td>\n",
       "      <td>2.000000</td>\n",
       "      <td>1.000000</td>\n",
       "      <td>3.000000</td>\n",
       "      <td>1.000000</td>\n",
       "      <td>0.499900</td>\n",
       "      <td>14999.000000</td>\n",
       "    </tr>\n",
       "    <tr>\n",
       "      <th>25%</th>\n",
       "      <td>-121.800000</td>\n",
       "      <td>33.930000</td>\n",
       "      <td>18.000000</td>\n",
       "      <td>1447.750000</td>\n",
       "      <td>296.000000</td>\n",
       "      <td>787.000000</td>\n",
       "      <td>280.000000</td>\n",
       "      <td>2.563400</td>\n",
       "      <td>119600.000000</td>\n",
       "    </tr>\n",
       "    <tr>\n",
       "      <th>50%</th>\n",
       "      <td>-118.490000</td>\n",
       "      <td>34.260000</td>\n",
       "      <td>29.000000</td>\n",
       "      <td>2127.000000</td>\n",
       "      <td>435.000000</td>\n",
       "      <td>1166.000000</td>\n",
       "      <td>409.000000</td>\n",
       "      <td>3.534800</td>\n",
       "      <td>179700.000000</td>\n",
       "    </tr>\n",
       "    <tr>\n",
       "      <th>75%</th>\n",
       "      <td>-118.010000</td>\n",
       "      <td>37.710000</td>\n",
       "      <td>37.000000</td>\n",
       "      <td>3148.000000</td>\n",
       "      <td>647.000000</td>\n",
       "      <td>1725.000000</td>\n",
       "      <td>605.000000</td>\n",
       "      <td>4.743250</td>\n",
       "      <td>264725.000000</td>\n",
       "    </tr>\n",
       "    <tr>\n",
       "      <th>max</th>\n",
       "      <td>-114.310000</td>\n",
       "      <td>41.950000</td>\n",
       "      <td>52.000000</td>\n",
       "      <td>39320.000000</td>\n",
       "      <td>6445.000000</td>\n",
       "      <td>35682.000000</td>\n",
       "      <td>6082.000000</td>\n",
       "      <td>15.000100</td>\n",
       "      <td>500001.000000</td>\n",
       "    </tr>\n",
       "  </tbody>\n",
       "</table>\n",
       "</div>"
      ],
      "text/plain": [
       "          longitude      latitude  housing_median_age   total_rooms  \\\n",
       "count  20640.000000  20640.000000        20640.000000  20640.000000   \n",
       "mean    -119.569704     35.631861           28.639486   2635.763081   \n",
       "std        2.003532      2.135952           12.585558   2181.615252   \n",
       "min     -124.350000     32.540000            1.000000      2.000000   \n",
       "25%     -121.800000     33.930000           18.000000   1447.750000   \n",
       "50%     -118.490000     34.260000           29.000000   2127.000000   \n",
       "75%     -118.010000     37.710000           37.000000   3148.000000   \n",
       "max     -114.310000     41.950000           52.000000  39320.000000   \n",
       "\n",
       "       total_bedrooms    population    households  median_income  \\\n",
       "count    20433.000000  20640.000000  20640.000000   20640.000000   \n",
       "mean       537.870553   1425.476744    499.539680       3.870671   \n",
       "std        421.385070   1132.462122    382.329753       1.899822   \n",
       "min          1.000000      3.000000      1.000000       0.499900   \n",
       "25%        296.000000    787.000000    280.000000       2.563400   \n",
       "50%        435.000000   1166.000000    409.000000       3.534800   \n",
       "75%        647.000000   1725.000000    605.000000       4.743250   \n",
       "max       6445.000000  35682.000000   6082.000000      15.000100   \n",
       "\n",
       "       median_house_value  \n",
       "count        20640.000000  \n",
       "mean        206855.816909  \n",
       "std         115395.615874  \n",
       "min          14999.000000  \n",
       "25%         119600.000000  \n",
       "50%         179700.000000  \n",
       "75%         264725.000000  \n",
       "max         500001.000000  "
      ]
     },
     "execution_count": 4,
     "metadata": {},
     "output_type": "execute_result"
    }
   ],
   "source": [
    "data.describe()"
   ]
  },
  {
   "cell_type": "markdown",
   "metadata": {},
   "source": [
    "--- \n",
    "## Missing values"
   ]
  },
  {
   "cell_type": "markdown",
   "metadata": {},
   "source": [
    "According to [the README.md provided with the dataset](https://github.com/ageron/handson-ml/blob/master/datasets/housing/README.md) \n",
    "\n",
    "> The dataset in this directory is almost identical to the original, with two differences:\n",
    "> - 207 values were randomly removed from the total_bedrooms column, so we can discuss what to do with missing data. [...]\n",
    "\n",
    "We have decided to produce approximate values for the missing values via a linear regression of a variable with a high correlation. ```total_bedrooms``` correlates highly with ```households``` (0.98) and ```total_rooms``` (0.93). "
   ]
  },
  {
   "cell_type": "markdown",
   "metadata": {},
   "source": [
    "A different approach would have been to use [sklearn.preprocessing.Imputer](http://scikit-learn.org/stable/modules/generated/sklearn.preprocessing.Imputer.html). "
   ]
  },
  {
   "cell_type": "code",
   "execution_count": 5,
   "metadata": {},
   "outputs": [],
   "source": [
    "missing_values = data[data.isnull().any(axis=1)]"
   ]
  },
  {
   "cell_type": "code",
   "execution_count": 6,
   "metadata": {},
   "outputs": [
    {
     "data": {
      "text/html": [
       "<div>\n",
       "<style scoped>\n",
       "    .dataframe tbody tr th:only-of-type {\n",
       "        vertical-align: middle;\n",
       "    }\n",
       "\n",
       "    .dataframe tbody tr th {\n",
       "        vertical-align: top;\n",
       "    }\n",
       "\n",
       "    .dataframe thead th {\n",
       "        text-align: right;\n",
       "    }\n",
       "</style>\n",
       "<table border=\"1\" class=\"dataframe\">\n",
       "  <thead>\n",
       "    <tr style=\"text-align: right;\">\n",
       "      <th></th>\n",
       "      <th>longitude</th>\n",
       "      <th>latitude</th>\n",
       "      <th>housing_median_age</th>\n",
       "      <th>total_rooms</th>\n",
       "      <th>total_bedrooms</th>\n",
       "      <th>population</th>\n",
       "      <th>households</th>\n",
       "      <th>median_income</th>\n",
       "      <th>median_house_value</th>\n",
       "      <th>ocean_proximity</th>\n",
       "    </tr>\n",
       "  </thead>\n",
       "  <tbody>\n",
       "    <tr>\n",
       "      <th>290</th>\n",
       "      <td>-122.16</td>\n",
       "      <td>37.77</td>\n",
       "      <td>47.0</td>\n",
       "      <td>1256.0</td>\n",
       "      <td>NaN</td>\n",
       "      <td>570.0</td>\n",
       "      <td>218.0</td>\n",
       "      <td>4.3750</td>\n",
       "      <td>161900.0</td>\n",
       "      <td>NEAR BAY</td>\n",
       "    </tr>\n",
       "    <tr>\n",
       "      <th>341</th>\n",
       "      <td>-122.17</td>\n",
       "      <td>37.75</td>\n",
       "      <td>38.0</td>\n",
       "      <td>992.0</td>\n",
       "      <td>NaN</td>\n",
       "      <td>732.0</td>\n",
       "      <td>259.0</td>\n",
       "      <td>1.6196</td>\n",
       "      <td>85100.0</td>\n",
       "      <td>NEAR BAY</td>\n",
       "    </tr>\n",
       "    <tr>\n",
       "      <th>538</th>\n",
       "      <td>-122.28</td>\n",
       "      <td>37.78</td>\n",
       "      <td>29.0</td>\n",
       "      <td>5154.0</td>\n",
       "      <td>NaN</td>\n",
       "      <td>3741.0</td>\n",
       "      <td>1273.0</td>\n",
       "      <td>2.5762</td>\n",
       "      <td>173400.0</td>\n",
       "      <td>NEAR BAY</td>\n",
       "    </tr>\n",
       "    <tr>\n",
       "      <th>563</th>\n",
       "      <td>-122.24</td>\n",
       "      <td>37.75</td>\n",
       "      <td>45.0</td>\n",
       "      <td>891.0</td>\n",
       "      <td>NaN</td>\n",
       "      <td>384.0</td>\n",
       "      <td>146.0</td>\n",
       "      <td>4.9489</td>\n",
       "      <td>247100.0</td>\n",
       "      <td>NEAR BAY</td>\n",
       "    </tr>\n",
       "    <tr>\n",
       "      <th>696</th>\n",
       "      <td>-122.10</td>\n",
       "      <td>37.69</td>\n",
       "      <td>41.0</td>\n",
       "      <td>746.0</td>\n",
       "      <td>NaN</td>\n",
       "      <td>387.0</td>\n",
       "      <td>161.0</td>\n",
       "      <td>3.9063</td>\n",
       "      <td>178400.0</td>\n",
       "      <td>NEAR BAY</td>\n",
       "    </tr>\n",
       "  </tbody>\n",
       "</table>\n",
       "</div>"
      ],
      "text/plain": [
       "     longitude  latitude  housing_median_age  total_rooms  total_bedrooms  \\\n",
       "290    -122.16     37.77                47.0       1256.0             NaN   \n",
       "341    -122.17     37.75                38.0        992.0             NaN   \n",
       "538    -122.28     37.78                29.0       5154.0             NaN   \n",
       "563    -122.24     37.75                45.0        891.0             NaN   \n",
       "696    -122.10     37.69                41.0        746.0             NaN   \n",
       "\n",
       "     population  households  median_income  median_house_value ocean_proximity  \n",
       "290       570.0       218.0         4.3750            161900.0        NEAR BAY  \n",
       "341       732.0       259.0         1.6196             85100.0        NEAR BAY  \n",
       "538      3741.0      1273.0         2.5762            173400.0        NEAR BAY  \n",
       "563       384.0       146.0         4.9489            247100.0        NEAR BAY  \n",
       "696       387.0       161.0         3.9063            178400.0        NEAR BAY  "
      ]
     },
     "execution_count": 6,
     "metadata": {},
     "output_type": "execute_result"
    }
   ],
   "source": [
    "missing_values.head()"
   ]
  },
  {
   "cell_type": "code",
   "execution_count": 7,
   "metadata": {},
   "outputs": [],
   "source": [
    "# drops rows if any NA values are present (i.e values are missing)\n",
    "data_valid_values = data.dropna(axis=0,how='any')"
   ]
  },
  {
   "cell_type": "code",
   "execution_count": 8,
   "metadata": {},
   "outputs": [
    {
     "data": {
      "text/html": [
       "<div>\n",
       "<style scoped>\n",
       "    .dataframe tbody tr th:only-of-type {\n",
       "        vertical-align: middle;\n",
       "    }\n",
       "\n",
       "    .dataframe tbody tr th {\n",
       "        vertical-align: top;\n",
       "    }\n",
       "\n",
       "    .dataframe thead th {\n",
       "        text-align: right;\n",
       "    }\n",
       "</style>\n",
       "<table border=\"1\" class=\"dataframe\">\n",
       "  <thead>\n",
       "    <tr style=\"text-align: right;\">\n",
       "      <th></th>\n",
       "      <th>longitude</th>\n",
       "      <th>latitude</th>\n",
       "      <th>housing_median_age</th>\n",
       "      <th>total_rooms</th>\n",
       "      <th>total_bedrooms</th>\n",
       "      <th>population</th>\n",
       "      <th>households</th>\n",
       "      <th>median_income</th>\n",
       "      <th>median_house_value</th>\n",
       "    </tr>\n",
       "  </thead>\n",
       "  <tbody>\n",
       "    <tr>\n",
       "      <th>count</th>\n",
       "      <td>20433.000000</td>\n",
       "      <td>20433.000000</td>\n",
       "      <td>20433.000000</td>\n",
       "      <td>20433.000000</td>\n",
       "      <td>20433.000000</td>\n",
       "      <td>20433.000000</td>\n",
       "      <td>20433.000000</td>\n",
       "      <td>20433.000000</td>\n",
       "      <td>20433.000000</td>\n",
       "    </tr>\n",
       "    <tr>\n",
       "      <th>mean</th>\n",
       "      <td>-119.570689</td>\n",
       "      <td>35.633221</td>\n",
       "      <td>28.633094</td>\n",
       "      <td>2636.504233</td>\n",
       "      <td>537.870553</td>\n",
       "      <td>1424.946949</td>\n",
       "      <td>499.433465</td>\n",
       "      <td>3.871162</td>\n",
       "      <td>206864.413155</td>\n",
       "    </tr>\n",
       "    <tr>\n",
       "      <th>std</th>\n",
       "      <td>2.003578</td>\n",
       "      <td>2.136348</td>\n",
       "      <td>12.591805</td>\n",
       "      <td>2185.269567</td>\n",
       "      <td>421.385070</td>\n",
       "      <td>1133.208490</td>\n",
       "      <td>382.299226</td>\n",
       "      <td>1.899291</td>\n",
       "      <td>115435.667099</td>\n",
       "    </tr>\n",
       "    <tr>\n",
       "      <th>min</th>\n",
       "      <td>-124.350000</td>\n",
       "      <td>32.540000</td>\n",
       "      <td>1.000000</td>\n",
       "      <td>2.000000</td>\n",
       "      <td>1.000000</td>\n",
       "      <td>3.000000</td>\n",
       "      <td>1.000000</td>\n",
       "      <td>0.499900</td>\n",
       "      <td>14999.000000</td>\n",
       "    </tr>\n",
       "    <tr>\n",
       "      <th>25%</th>\n",
       "      <td>-121.800000</td>\n",
       "      <td>33.930000</td>\n",
       "      <td>18.000000</td>\n",
       "      <td>1450.000000</td>\n",
       "      <td>296.000000</td>\n",
       "      <td>787.000000</td>\n",
       "      <td>280.000000</td>\n",
       "      <td>2.563700</td>\n",
       "      <td>119500.000000</td>\n",
       "    </tr>\n",
       "    <tr>\n",
       "      <th>50%</th>\n",
       "      <td>-118.490000</td>\n",
       "      <td>34.260000</td>\n",
       "      <td>29.000000</td>\n",
       "      <td>2127.000000</td>\n",
       "      <td>435.000000</td>\n",
       "      <td>1166.000000</td>\n",
       "      <td>409.000000</td>\n",
       "      <td>3.536500</td>\n",
       "      <td>179700.000000</td>\n",
       "    </tr>\n",
       "    <tr>\n",
       "      <th>75%</th>\n",
       "      <td>-118.010000</td>\n",
       "      <td>37.720000</td>\n",
       "      <td>37.000000</td>\n",
       "      <td>3143.000000</td>\n",
       "      <td>647.000000</td>\n",
       "      <td>1722.000000</td>\n",
       "      <td>604.000000</td>\n",
       "      <td>4.744000</td>\n",
       "      <td>264700.000000</td>\n",
       "    </tr>\n",
       "    <tr>\n",
       "      <th>max</th>\n",
       "      <td>-114.310000</td>\n",
       "      <td>41.950000</td>\n",
       "      <td>52.000000</td>\n",
       "      <td>39320.000000</td>\n",
       "      <td>6445.000000</td>\n",
       "      <td>35682.000000</td>\n",
       "      <td>6082.000000</td>\n",
       "      <td>15.000100</td>\n",
       "      <td>500001.000000</td>\n",
       "    </tr>\n",
       "  </tbody>\n",
       "</table>\n",
       "</div>"
      ],
      "text/plain": [
       "          longitude      latitude  housing_median_age   total_rooms  \\\n",
       "count  20433.000000  20433.000000        20433.000000  20433.000000   \n",
       "mean    -119.570689     35.633221           28.633094   2636.504233   \n",
       "std        2.003578      2.136348           12.591805   2185.269567   \n",
       "min     -124.350000     32.540000            1.000000      2.000000   \n",
       "25%     -121.800000     33.930000           18.000000   1450.000000   \n",
       "50%     -118.490000     34.260000           29.000000   2127.000000   \n",
       "75%     -118.010000     37.720000           37.000000   3143.000000   \n",
       "max     -114.310000     41.950000           52.000000  39320.000000   \n",
       "\n",
       "       total_bedrooms    population    households  median_income  \\\n",
       "count    20433.000000  20433.000000  20433.000000   20433.000000   \n",
       "mean       537.870553   1424.946949    499.433465       3.871162   \n",
       "std        421.385070   1133.208490    382.299226       1.899291   \n",
       "min          1.000000      3.000000      1.000000       0.499900   \n",
       "25%        296.000000    787.000000    280.000000       2.563700   \n",
       "50%        435.000000   1166.000000    409.000000       3.536500   \n",
       "75%        647.000000   1722.000000    604.000000       4.744000   \n",
       "max       6445.000000  35682.000000   6082.000000      15.000100   \n",
       "\n",
       "       median_house_value  \n",
       "count        20433.000000  \n",
       "mean        206864.413155  \n",
       "std         115435.667099  \n",
       "min          14999.000000  \n",
       "25%         119500.000000  \n",
       "50%         179700.000000  \n",
       "75%         264700.000000  \n",
       "max         500001.000000  "
      ]
     },
     "execution_count": 8,
     "metadata": {},
     "output_type": "execute_result"
    }
   ],
   "source": [
    "data_valid_values.describe()"
   ]
  },
  {
   "cell_type": "markdown",
   "metadata": {},
   "source": [
    "--- \n",
    "### Splitting dataset into training and testing subsets "
   ]
  },
  {
   "cell_type": "code",
   "execution_count": 9,
   "metadata": {},
   "outputs": [],
   "source": [
    "# Create linear regression object\n",
    "regr = linear_model.LinearRegression()"
   ]
  },
  {
   "cell_type": "code",
   "execution_count": 10,
   "metadata": {},
   "outputs": [
    {
     "data": {
      "text/plain": [
       "LinearRegression(copy_X=True, fit_intercept=True, n_jobs=1, normalize=False)"
      ]
     },
     "execution_count": 10,
     "metadata": {},
     "output_type": "execute_result"
    }
   ],
   "source": [
    "# Split the dataset pseudo-randomly into training and testing subsets \n",
    "\n",
    "\"\"\"\n",
    "for details see http://scikit-learn.org/stable/modules/generated/sklearn.model_selection.train_test_split.html\n",
    "\"\"\"\n",
    "\n",
    "# existing values for households need to be converted to a 2D-array \n",
    "x = np.array(data_valid_values['households'], dtype=pd.Series).reshape(-1, 1) \n",
    "\n",
    "# existing values for total_bedrooms are being transformed to an 1D-array \n",
    "y = data_valid_values['total_bedrooms'].values \n",
    "\n",
    "x_train, x_test, y_train, y_test = train_test_split(\n",
    "    x, y, test_size=0.2, random_state=11)\n",
    "# all variables inherit their format from their parents \n",
    "\n",
    "regr.fit(x_train, y_train)"
   ]
  },
  {
   "cell_type": "code",
   "execution_count": 11,
   "metadata": {},
   "outputs": [],
   "source": [
    "# Make predictions using the test dataset\n",
    "y_prediction = regr.predict(x_test)"
   ]
  },
  {
   "cell_type": "code",
   "execution_count": 12,
   "metadata": {},
   "outputs": [
    {
     "data": {
      "text/plain": [
       "numpy.ndarray"
      ]
     },
     "execution_count": 12,
     "metadata": {},
     "output_type": "execute_result"
    }
   ],
   "source": [
    "type(y_prediction)"
   ]
  },
  {
   "cell_type": "code",
   "execution_count": 13,
   "metadata": {},
   "outputs": [
    {
     "data": {
      "text/plain": [
       "(4087,)"
      ]
     },
     "execution_count": 13,
     "metadata": {},
     "output_type": "execute_result"
    }
   ],
   "source": [
    "y_prediction.shape"
   ]
  },
  {
   "cell_type": "code",
   "execution_count": 14,
   "metadata": {},
   "outputs": [
    {
     "data": {
      "image/png": "[encoded data removed]",
      "text/plain": [
       "<Figure size 1440x720 with 1 Axes>"
      ]
     },
     "metadata": {},
     "output_type": "display_data"
    }
   ],
   "source": [
    "# Plot subsets and prediction \n",
    "plt.figure(figsize=(20,10))\n",
    "plt.scatter(x_train, y_train, color='skyblue', label='train data')\n",
    "plt.scatter(x_test, y_test, color='navy', label='test data')\n",
    "plt.plot(x_test, y_prediction, color='orange', linewidth=3, label='linear regression')\n",
    "\n",
    "# plt.xscale('log')\n",
    "# plt.yscale('log')\n",
    "\n",
    "plt.axis('tight')\n",
    "plt.legend()\n",
    "plt.title(\"Linear Regression: Split Subsets (train vs. test) and linear regression\")\n",
    "\n",
    "plt.show();"
   ]
  },
  {
   "cell_type": "code",
   "execution_count": 15,
   "metadata": {},
   "outputs": [
    {
     "name": "stdout",
     "output_type": "stream",
     "text": [
      "Coefficients: 1.0770\n",
      "Mean Squared Error: 8552.6198\n",
      "Variance score: 0.9551 / 1.0000\n"
     ]
    }
   ],
   "source": [
    "# The coefficients \n",
    "print(\"Coefficients: %.4f\"\n",
    "      % regr.coef_)\n",
    "\n",
    "# The Mean Squared Error (MSE) \n",
    "print(\"Mean Squared Error: %.4f\"\n",
    "      % mean_squared_error(y_test, y_prediction))\n",
    "\n",
    "# Explained variance score: 1 is perfect prediction \n",
    "print(\"Variance score: %.4f / 1.0000\" \n",
    "      % r2_score(y_test, y_prediction))"
   ]
  },
  {
   "cell_type": "markdown",
   "metadata": {},
   "source": [
    "--- \n",
    "### Estimating missing values with linear regression "
   ]
  },
  {
   "cell_type": "code",
   "execution_count": 16,
   "metadata": {},
   "outputs": [],
   "source": [
    "# Take existing values for households \n",
    "x_missing_values = np.array(missing_values['households'], dtype=pd.Series).reshape(-1, 1) \n",
    "\n",
    "# Make estimates of missing values using the training dataset\n",
    "y_missing_values = regr.predict(x_missing_values)"
   ]
  },
  {
   "cell_type": "raw",
   "metadata": {},
   "source": [
    "missing_values['total_bedrooms'] = y_missing_values # paste numpy array into DataFrame column "
   ]
  },
  {
   "cell_type": "markdown",
   "metadata": {},
   "source": [
    "```SettingWithCopyWarning``` can be ignored, the NaN values in the column of the DataFrame *are* being overwritten with the values from the numpy array. \n",
    "\n",
    "Failed attempts to resolve this procedure *without* a ```SettingWithCopyWarning``` included: \n",
    "- missing_values['total_bedrooms'] = missing_values_households[0] # overwrite DataFrame column with DataFrame column \n",
    "- missing_values['total_bedrooms'] = missing_values_households.loc[:,0] # follow friendly advice using .loc instead\n",
    "- missing_values.loc[:,4] = missing_values_households[0] # follow friendly advice using .loc instead\n",
    "- missing_values.loc[:,4] = missing_values_households.loc[:,0] # follow friendly advice using .loc instead\n",
    "- missing_values['new'] = y_missing_values # paste numpy array into new DataFrame column "
   ]
  },
  {
   "cell_type": "code",
   "execution_count": 17,
   "metadata": {},
   "outputs": [
    {
     "data": {
      "text/html": [
       "<div>\n",
       "<style scoped>\n",
       "    .dataframe tbody tr th:only-of-type {\n",
       "        vertical-align: middle;\n",
       "    }\n",
       "\n",
       "    .dataframe tbody tr th {\n",
       "        vertical-align: top;\n",
       "    }\n",
       "\n",
       "    .dataframe thead th {\n",
       "        text-align: right;\n",
       "    }\n",
       "</style>\n",
       "<table border=\"1\" class=\"dataframe\">\n",
       "  <thead>\n",
       "    <tr style=\"text-align: right;\">\n",
       "      <th></th>\n",
       "      <th>longitude</th>\n",
       "      <th>latitude</th>\n",
       "      <th>housing_median_age</th>\n",
       "      <th>total_rooms</th>\n",
       "      <th>total_bedrooms</th>\n",
       "      <th>population</th>\n",
       "      <th>households</th>\n",
       "      <th>median_income</th>\n",
       "      <th>median_house_value</th>\n",
       "      <th>ocean_proximity</th>\n",
       "    </tr>\n",
       "  </thead>\n",
       "  <tbody>\n",
       "    <tr>\n",
       "      <th>290</th>\n",
       "      <td>-122.16</td>\n",
       "      <td>37.77</td>\n",
       "      <td>47.0</td>\n",
       "      <td>1256.0</td>\n",
       "      <td>NaN</td>\n",
       "      <td>570.0</td>\n",
       "      <td>218.0</td>\n",
       "      <td>4.3750</td>\n",
       "      <td>161900.0</td>\n",
       "      <td>NEAR BAY</td>\n",
       "    </tr>\n",
       "    <tr>\n",
       "      <th>341</th>\n",
       "      <td>-122.17</td>\n",
       "      <td>37.75</td>\n",
       "      <td>38.0</td>\n",
       "      <td>992.0</td>\n",
       "      <td>NaN</td>\n",
       "      <td>732.0</td>\n",
       "      <td>259.0</td>\n",
       "      <td>1.6196</td>\n",
       "      <td>85100.0</td>\n",
       "      <td>NEAR BAY</td>\n",
       "    </tr>\n",
       "    <tr>\n",
       "      <th>538</th>\n",
       "      <td>-122.28</td>\n",
       "      <td>37.78</td>\n",
       "      <td>29.0</td>\n",
       "      <td>5154.0</td>\n",
       "      <td>NaN</td>\n",
       "      <td>3741.0</td>\n",
       "      <td>1273.0</td>\n",
       "      <td>2.5762</td>\n",
       "      <td>173400.0</td>\n",
       "      <td>NEAR BAY</td>\n",
       "    </tr>\n",
       "    <tr>\n",
       "      <th>563</th>\n",
       "      <td>-122.24</td>\n",
       "      <td>37.75</td>\n",
       "      <td>45.0</td>\n",
       "      <td>891.0</td>\n",
       "      <td>NaN</td>\n",
       "      <td>384.0</td>\n",
       "      <td>146.0</td>\n",
       "      <td>4.9489</td>\n",
       "      <td>247100.0</td>\n",
       "      <td>NEAR BAY</td>\n",
       "    </tr>\n",
       "    <tr>\n",
       "      <th>696</th>\n",
       "      <td>-122.10</td>\n",
       "      <td>37.69</td>\n",
       "      <td>41.0</td>\n",
       "      <td>746.0</td>\n",
       "      <td>NaN</td>\n",
       "      <td>387.0</td>\n",
       "      <td>161.0</td>\n",
       "      <td>3.9063</td>\n",
       "      <td>178400.0</td>\n",
       "      <td>NEAR BAY</td>\n",
       "    </tr>\n",
       "  </tbody>\n",
       "</table>\n",
       "</div>"
      ],
      "text/plain": [
       "     longitude  latitude  housing_median_age  total_rooms  total_bedrooms  \\\n",
       "290    -122.16     37.77                47.0       1256.0             NaN   \n",
       "341    -122.17     37.75                38.0        992.0             NaN   \n",
       "538    -122.28     37.78                29.0       5154.0             NaN   \n",
       "563    -122.24     37.75                45.0        891.0             NaN   \n",
       "696    -122.10     37.69                41.0        746.0             NaN   \n",
       "\n",
       "     population  households  median_income  median_house_value ocean_proximity  \n",
       "290       570.0       218.0         4.3750            161900.0        NEAR BAY  \n",
       "341       732.0       259.0         1.6196             85100.0        NEAR BAY  \n",
       "538      3741.0      1273.0         2.5762            173400.0        NEAR BAY  \n",
       "563       384.0       146.0         4.9489            247100.0        NEAR BAY  \n",
       "696       387.0       161.0         3.9063            178400.0        NEAR BAY  "
      ]
     },
     "execution_count": 17,
     "metadata": {},
     "output_type": "execute_result"
    }
   ],
   "source": [
    "missing_values.head()"
   ]
  },
  {
   "cell_type": "markdown",
   "metadata": {},
   "source": [
    "--- \n",
    "## Normalization"
   ]
  },
  {
   "cell_type": "markdown",
   "metadata": {},
   "source": [
    "### Cleanse \n",
    "We decided to lose datapoints that skew our dataset. "
   ]
  },
  {
   "cell_type": "code",
   "execution_count": 18,
   "metadata": {},
   "outputs": [],
   "source": [
    "data_norm = data.copy()"
   ]
  },
  {
   "cell_type": "code",
   "execution_count": 19,
   "metadata": {},
   "outputs": [
    {
     "name": "stdout",
     "output_type": "stream",
     "text": [
      "<class 'pandas.core.frame.DataFrame'>\n",
      "RangeIndex: 20640 entries, 0 to 20639\n",
      "Data columns (total 10 columns):\n",
      "longitude             20640 non-null float64\n",
      "latitude              20640 non-null float64\n",
      "housing_median_age    20640 non-null float64\n",
      "total_rooms           20640 non-null float64\n",
      "total_bedrooms        20433 non-null float64\n",
      "population            20640 non-null float64\n",
      "households            20640 non-null float64\n",
      "median_income         20640 non-null float64\n",
      "median_house_value    20640 non-null float64\n",
      "ocean_proximity       20640 non-null object\n",
      "dtypes: float64(9), object(1)\n",
      "memory usage: 1.6+ MB\n"
     ]
    }
   ],
   "source": [
    "data_norm.info()"
   ]
  },
  {
   "cell_type": "code",
   "execution_count": 20,
   "metadata": {},
   "outputs": [],
   "source": [
    "# drops rows if any NA values are present (i.e values are missing)\n",
    "data_norm = data_norm.dropna(axis=0,how='any')"
   ]
  },
  {
   "cell_type": "code",
   "execution_count": 21,
   "metadata": {},
   "outputs": [],
   "source": [
    "# drop rows with median_house_value equal to 500001\n",
    "data_norm = data_norm.drop(data_norm[(data_norm['median_house_value'] == 500001) == True].index)"
   ]
  },
  {
   "cell_type": "code",
   "execution_count": 22,
   "metadata": {},
   "outputs": [],
   "source": [
    "# drop rows with housing_median_age equal to 52 \n",
    "data_norm = data_norm.drop(data_norm[(data_norm['housing_median_age'] == 52) == True].index)"
   ]
  },
  {
   "cell_type": "code",
   "execution_count": 23,
   "metadata": {},
   "outputs": [],
   "source": [
    "data_norm = data_norm.reset_index(drop=True)"
   ]
  },
  {
   "cell_type": "code",
   "execution_count": 24,
   "metadata": {},
   "outputs": [
    {
     "name": "stdout",
     "output_type": "stream",
     "text": [
      "<class 'pandas.core.frame.DataFrame'>\n",
      "RangeIndex: 18379 entries, 0 to 18378\n",
      "Data columns (total 10 columns):\n",
      "longitude             18379 non-null float64\n",
      "latitude              18379 non-null float64\n",
      "housing_median_age    18379 non-null float64\n",
      "total_rooms           18379 non-null float64\n",
      "total_bedrooms        18379 non-null float64\n",
      "population            18379 non-null float64\n",
      "households            18379 non-null float64\n",
      "median_income         18379 non-null float64\n",
      "median_house_value    18379 non-null float64\n",
      "ocean_proximity       18379 non-null object\n",
      "dtypes: float64(9), object(1)\n",
      "memory usage: 1.4+ MB\n"
     ]
    }
   ],
   "source": [
    "data_norm.info()"
   ]
  },
  {
   "cell_type": "markdown",
   "metadata": {},
   "source": [
    "### Alternative approach to handling outliers (e.g. ```median_house_value``` and ```housing_median_age```)\n",
    "- define range for numerical data to be scaled (e.g. 0 to 50,0000 USD) \n",
    "- define scale (e.g. -1 to +1) \n",
    "- set binary (categorical) variable for outliers e.g. OutlierMax and OutlierMin \n",
    "- set original variable for outliers to 0. "
   ]
  },
  {
   "cell_type": "markdown",
   "metadata": {},
   "source": [
    "### One hot encoding for the ocean_proximity feature \n",
    "The categorical attribute ```ocean_proximity``` needs to be re-encoded for data processing. "
   ]
  },
  {
   "cell_type": "code",
   "execution_count": 25,
   "metadata": {},
   "outputs": [
    {
     "data": {
      "text/plain": [
       "<1H OCEAN     8235\n",
       "INLAND        6290\n",
       "NEAR OCEAN    2303\n",
       "NEAR BAY      1549\n",
       "ISLAND           2\n",
       "Name: ocean_proximity, dtype: int64"
      ]
     },
     "execution_count": 25,
     "metadata": {},
     "output_type": "execute_result"
    }
   ],
   "source": [
    "data_norm['ocean_proximity'].value_counts()"
   ]
  },
  {
   "cell_type": "code",
   "execution_count": 26,
   "metadata": {},
   "outputs": [],
   "source": [
    "ocean_proximity_cat = data_norm['ocean_proximity']\n",
    "ocean_proximity_encoded, ocean_proximity_categories = ocean_proximity_cat.factorize()"
   ]
  },
  {
   "cell_type": "code",
   "execution_count": 27,
   "metadata": {},
   "outputs": [
    {
     "data": {
      "text/plain": [
       "array([0, 0, 0, ..., 2, 2, 2])"
      ]
     },
     "execution_count": 27,
     "metadata": {},
     "output_type": "execute_result"
    }
   ],
   "source": [
    "ocean_proximity_encoded"
   ]
  },
  {
   "cell_type": "code",
   "execution_count": 28,
   "metadata": {},
   "outputs": [
    {
     "data": {
      "text/plain": [
       "Index(['NEAR BAY', '<1H OCEAN', 'INLAND', 'NEAR OCEAN', 'ISLAND'], dtype='object')"
      ]
     },
     "execution_count": 28,
     "metadata": {},
     "output_type": "execute_result"
    }
   ],
   "source": [
    "ocean_proximity_categories"
   ]
  },
  {
   "cell_type": "markdown",
   "metadata": {},
   "source": [
    "OneHotEncoder encodes categorical integer features using a one-hot aka one-of-K scheme, see [sklearn.preprocessing.OneHotEncoder](http://scikit-learn.org/stable/modules/generated/sklearn.preprocessing.OneHotEncoder.html). "
   ]
  },
  {
   "cell_type": "code",
   "execution_count": 29,
   "metadata": {},
   "outputs": [],
   "source": [
    "encoder = OneHotEncoder()\n",
    "ocean_proximity_cat_1hot = encoder.fit_transform(ocean_proximity_encoded.reshape(-1,1))"
   ]
  },
  {
   "cell_type": "code",
   "execution_count": 30,
   "metadata": {},
   "outputs": [
    {
     "data": {
      "text/plain": [
       "(18379, 5)"
      ]
     },
     "execution_count": 30,
     "metadata": {},
     "output_type": "execute_result"
    }
   ],
   "source": [
    "ocean_proximity_cat_1hot.shape"
   ]
  },
  {
   "cell_type": "code",
   "execution_count": 31,
   "metadata": {},
   "outputs": [
    {
     "data": {
      "text/plain": [
       "scipy.sparse.csr.csr_matrix"
      ]
     },
     "execution_count": 31,
     "metadata": {},
     "output_type": "execute_result"
    }
   ],
   "source": [
    "type(ocean_proximity_cat_1hot)"
   ]
  },
  {
   "cell_type": "markdown",
   "metadata": {},
   "source": [
    "We need to [transform scipy.sparse.csr.csr_matrix to a numpy array](https://stackoverflow.com/questions/36967666/). "
   ]
  },
  {
   "cell_type": "code",
   "execution_count": 32,
   "metadata": {},
   "outputs": [],
   "source": [
    "ocean_proximity_cat_1hot = ocean_proximity_cat_1hot.toarray()"
   ]
  },
  {
   "cell_type": "markdown",
   "metadata": {},
   "source": [
    "To [concatenate](https://pandas.pydata.org/pandas-docs/stable/merging.html) our ```ocean_proximity_cat_1hot``` and ```data_norm``` we transform the numpy array to a Pandas DataFrame. "
   ]
  },
  {
   "cell_type": "code",
   "execution_count": 33,
   "metadata": {},
   "outputs": [],
   "source": [
    "ocean_proximity_cat_1hot = pd.DataFrame(ocean_proximity_cat_1hot)"
   ]
  },
  {
   "cell_type": "markdown",
   "metadata": {},
   "source": [
    "At this point we *could* convert the float values to boolean values with \n",
    "```ocean_proximity_cat_1hot.astype('bool')```\n",
    "\n",
    "However because we want to do a logistic regression later on we keep the floats."
   ]
  },
  {
   "cell_type": "code",
   "execution_count": 34,
   "metadata": {},
   "outputs": [
    {
     "data": {
      "text/html": [
       "<div>\n",
       "<style scoped>\n",
       "    .dataframe tbody tr th:only-of-type {\n",
       "        vertical-align: middle;\n",
       "    }\n",
       "\n",
       "    .dataframe tbody tr th {\n",
       "        vertical-align: top;\n",
       "    }\n",
       "\n",
       "    .dataframe thead th {\n",
       "        text-align: right;\n",
       "    }\n",
       "</style>\n",
       "<table border=\"1\" class=\"dataframe\">\n",
       "  <thead>\n",
       "    <tr style=\"text-align: right;\">\n",
       "      <th></th>\n",
       "      <th>0</th>\n",
       "      <th>1</th>\n",
       "      <th>2</th>\n",
       "      <th>3</th>\n",
       "      <th>4</th>\n",
       "    </tr>\n",
       "  </thead>\n",
       "  <tbody>\n",
       "    <tr>\n",
       "      <th>0</th>\n",
       "      <td>1.0</td>\n",
       "      <td>0.0</td>\n",
       "      <td>0.0</td>\n",
       "      <td>0.0</td>\n",
       "      <td>0.0</td>\n",
       "    </tr>\n",
       "    <tr>\n",
       "      <th>1</th>\n",
       "      <td>1.0</td>\n",
       "      <td>0.0</td>\n",
       "      <td>0.0</td>\n",
       "      <td>0.0</td>\n",
       "      <td>0.0</td>\n",
       "    </tr>\n",
       "    <tr>\n",
       "      <th>2</th>\n",
       "      <td>1.0</td>\n",
       "      <td>0.0</td>\n",
       "      <td>0.0</td>\n",
       "      <td>0.0</td>\n",
       "      <td>0.0</td>\n",
       "    </tr>\n",
       "    <tr>\n",
       "      <th>3</th>\n",
       "      <td>1.0</td>\n",
       "      <td>0.0</td>\n",
       "      <td>0.0</td>\n",
       "      <td>0.0</td>\n",
       "      <td>0.0</td>\n",
       "    </tr>\n",
       "    <tr>\n",
       "      <th>4</th>\n",
       "      <td>1.0</td>\n",
       "      <td>0.0</td>\n",
       "      <td>0.0</td>\n",
       "      <td>0.0</td>\n",
       "      <td>0.0</td>\n",
       "    </tr>\n",
       "  </tbody>\n",
       "</table>\n",
       "</div>"
      ],
      "text/plain": [
       "     0    1    2    3    4\n",
       "0  1.0  0.0  0.0  0.0  0.0\n",
       "1  1.0  0.0  0.0  0.0  0.0\n",
       "2  1.0  0.0  0.0  0.0  0.0\n",
       "3  1.0  0.0  0.0  0.0  0.0\n",
       "4  1.0  0.0  0.0  0.0  0.0"
      ]
     },
     "execution_count": 34,
     "metadata": {},
     "output_type": "execute_result"
    }
   ],
   "source": [
    "ocean_proximity_cat_1hot.head()"
   ]
  },
  {
   "cell_type": "markdown",
   "metadata": {},
   "source": [
    "For clarity the [columns well be renamed](https://stackoverflow.com/questions/11346283/) to match the category labels. "
   ]
  },
  {
   "cell_type": "code",
   "execution_count": 35,
   "metadata": {},
   "outputs": [],
   "source": [
    "ocean_proximity_cat_1hot = ocean_proximity_cat_1hot.rename(columns=\\\n",
    "                            {0: 'NEAR BAY', 1: '<1H OCEAN', 2:'INLAND', 3:'NEAR OCEAN', 4:'ISLAND'})"
   ]
  },
  {
   "cell_type": "code",
   "execution_count": 36,
   "metadata": {},
   "outputs": [
    {
     "data": {
      "text/html": [
       "<div>\n",
       "<style scoped>\n",
       "    .dataframe tbody tr th:only-of-type {\n",
       "        vertical-align: middle;\n",
       "    }\n",
       "\n",
       "    .dataframe tbody tr th {\n",
       "        vertical-align: top;\n",
       "    }\n",
       "\n",
       "    .dataframe thead th {\n",
       "        text-align: right;\n",
       "    }\n",
       "</style>\n",
       "<table border=\"1\" class=\"dataframe\">\n",
       "  <thead>\n",
       "    <tr style=\"text-align: right;\">\n",
       "      <th></th>\n",
       "      <th>NEAR BAY</th>\n",
       "      <th>&lt;1H OCEAN</th>\n",
       "      <th>INLAND</th>\n",
       "      <th>NEAR OCEAN</th>\n",
       "      <th>ISLAND</th>\n",
       "    </tr>\n",
       "  </thead>\n",
       "  <tbody>\n",
       "    <tr>\n",
       "      <th>0</th>\n",
       "      <td>1.0</td>\n",
       "      <td>0.0</td>\n",
       "      <td>0.0</td>\n",
       "      <td>0.0</td>\n",
       "      <td>0.0</td>\n",
       "    </tr>\n",
       "    <tr>\n",
       "      <th>1</th>\n",
       "      <td>1.0</td>\n",
       "      <td>0.0</td>\n",
       "      <td>0.0</td>\n",
       "      <td>0.0</td>\n",
       "      <td>0.0</td>\n",
       "    </tr>\n",
       "    <tr>\n",
       "      <th>2</th>\n",
       "      <td>1.0</td>\n",
       "      <td>0.0</td>\n",
       "      <td>0.0</td>\n",
       "      <td>0.0</td>\n",
       "      <td>0.0</td>\n",
       "    </tr>\n",
       "    <tr>\n",
       "      <th>3</th>\n",
       "      <td>1.0</td>\n",
       "      <td>0.0</td>\n",
       "      <td>0.0</td>\n",
       "      <td>0.0</td>\n",
       "      <td>0.0</td>\n",
       "    </tr>\n",
       "    <tr>\n",
       "      <th>4</th>\n",
       "      <td>1.0</td>\n",
       "      <td>0.0</td>\n",
       "      <td>0.0</td>\n",
       "      <td>0.0</td>\n",
       "      <td>0.0</td>\n",
       "    </tr>\n",
       "  </tbody>\n",
       "</table>\n",
       "</div>"
      ],
      "text/plain": [
       "   NEAR BAY  <1H OCEAN  INLAND  NEAR OCEAN  ISLAND\n",
       "0       1.0        0.0     0.0         0.0     0.0\n",
       "1       1.0        0.0     0.0         0.0     0.0\n",
       "2       1.0        0.0     0.0         0.0     0.0\n",
       "3       1.0        0.0     0.0         0.0     0.0\n",
       "4       1.0        0.0     0.0         0.0     0.0"
      ]
     },
     "execution_count": 36,
     "metadata": {},
     "output_type": "execute_result"
    }
   ],
   "source": [
    "ocean_proximity_cat_1hot.head()"
   ]
  },
  {
   "cell_type": "code",
   "execution_count": 37,
   "metadata": {},
   "outputs": [
    {
     "data": {
      "text/plain": [
       "NEAR BAY      1549.0\n",
       "<1H OCEAN     8235.0\n",
       "INLAND        6290.0\n",
       "NEAR OCEAN    2303.0\n",
       "ISLAND           2.0\n",
       "dtype: float64"
      ]
     },
     "execution_count": 37,
     "metadata": {},
     "output_type": "execute_result"
    }
   ],
   "source": [
    "ocean_proximity_cat_1hot.sum()"
   ]
  },
  {
   "cell_type": "markdown",
   "metadata": {},
   "source": [
    "Now we need to [concatenate](https://pandas.pydata.org/pandas-docs/stable/merging.html) our ```ocean_proximity_cat_1hot``` and ```data_norm```. "
   ]
  },
  {
   "cell_type": "code",
   "execution_count": 38,
   "metadata": {},
   "outputs": [],
   "source": [
    "# concatenate the values from the first 10 rows with the new encoded ocean_proximity \n",
    "data_norm = pd.concat([(data_norm.iloc[:,0:9]), ocean_proximity_cat_1hot], axis=1, sort=False)"
   ]
  },
  {
   "cell_type": "code",
   "execution_count": 39,
   "metadata": {},
   "outputs": [
    {
     "data": {
      "text/html": [
       "<div>\n",
       "<style scoped>\n",
       "    .dataframe tbody tr th:only-of-type {\n",
       "        vertical-align: middle;\n",
       "    }\n",
       "\n",
       "    .dataframe tbody tr th {\n",
       "        vertical-align: top;\n",
       "    }\n",
       "\n",
       "    .dataframe thead th {\n",
       "        text-align: right;\n",
       "    }\n",
       "</style>\n",
       "<table border=\"1\" class=\"dataframe\">\n",
       "  <thead>\n",
       "    <tr style=\"text-align: right;\">\n",
       "      <th></th>\n",
       "      <th>longitude</th>\n",
       "      <th>latitude</th>\n",
       "      <th>housing_median_age</th>\n",
       "      <th>total_rooms</th>\n",
       "      <th>total_bedrooms</th>\n",
       "      <th>population</th>\n",
       "      <th>households</th>\n",
       "      <th>median_income</th>\n",
       "      <th>median_house_value</th>\n",
       "      <th>NEAR BAY</th>\n",
       "      <th>&lt;1H OCEAN</th>\n",
       "      <th>INLAND</th>\n",
       "      <th>NEAR OCEAN</th>\n",
       "      <th>ISLAND</th>\n",
       "    </tr>\n",
       "  </thead>\n",
       "  <tbody>\n",
       "    <tr>\n",
       "      <th>0</th>\n",
       "      <td>-122.23</td>\n",
       "      <td>37.88</td>\n",
       "      <td>41.0</td>\n",
       "      <td>880.0</td>\n",
       "      <td>129.0</td>\n",
       "      <td>322.0</td>\n",
       "      <td>126.0</td>\n",
       "      <td>8.3252</td>\n",
       "      <td>452600.0</td>\n",
       "      <td>1.0</td>\n",
       "      <td>0.0</td>\n",
       "      <td>0.0</td>\n",
       "      <td>0.0</td>\n",
       "      <td>0.0</td>\n",
       "    </tr>\n",
       "    <tr>\n",
       "      <th>1</th>\n",
       "      <td>-122.22</td>\n",
       "      <td>37.86</td>\n",
       "      <td>21.0</td>\n",
       "      <td>7099.0</td>\n",
       "      <td>1106.0</td>\n",
       "      <td>2401.0</td>\n",
       "      <td>1138.0</td>\n",
       "      <td>8.3014</td>\n",
       "      <td>358500.0</td>\n",
       "      <td>1.0</td>\n",
       "      <td>0.0</td>\n",
       "      <td>0.0</td>\n",
       "      <td>0.0</td>\n",
       "      <td>0.0</td>\n",
       "    </tr>\n",
       "    <tr>\n",
       "      <th>2</th>\n",
       "      <td>-122.26</td>\n",
       "      <td>37.84</td>\n",
       "      <td>42.0</td>\n",
       "      <td>2555.0</td>\n",
       "      <td>665.0</td>\n",
       "      <td>1206.0</td>\n",
       "      <td>595.0</td>\n",
       "      <td>2.0804</td>\n",
       "      <td>226700.0</td>\n",
       "      <td>1.0</td>\n",
       "      <td>0.0</td>\n",
       "      <td>0.0</td>\n",
       "      <td>0.0</td>\n",
       "      <td>0.0</td>\n",
       "    </tr>\n",
       "    <tr>\n",
       "      <th>3</th>\n",
       "      <td>-122.26</td>\n",
       "      <td>37.85</td>\n",
       "      <td>50.0</td>\n",
       "      <td>1120.0</td>\n",
       "      <td>283.0</td>\n",
       "      <td>697.0</td>\n",
       "      <td>264.0</td>\n",
       "      <td>2.1250</td>\n",
       "      <td>140000.0</td>\n",
       "      <td>1.0</td>\n",
       "      <td>0.0</td>\n",
       "      <td>0.0</td>\n",
       "      <td>0.0</td>\n",
       "      <td>0.0</td>\n",
       "    </tr>\n",
       "    <tr>\n",
       "      <th>4</th>\n",
       "      <td>-122.26</td>\n",
       "      <td>37.84</td>\n",
       "      <td>50.0</td>\n",
       "      <td>2239.0</td>\n",
       "      <td>455.0</td>\n",
       "      <td>990.0</td>\n",
       "      <td>419.0</td>\n",
       "      <td>1.9911</td>\n",
       "      <td>158700.0</td>\n",
       "      <td>1.0</td>\n",
       "      <td>0.0</td>\n",
       "      <td>0.0</td>\n",
       "      <td>0.0</td>\n",
       "      <td>0.0</td>\n",
       "    </tr>\n",
       "  </tbody>\n",
       "</table>\n",
       "</div>"
      ],
      "text/plain": [
       "   longitude  latitude  housing_median_age  total_rooms  total_bedrooms  \\\n",
       "0    -122.23     37.88                41.0        880.0           129.0   \n",
       "1    -122.22     37.86                21.0       7099.0          1106.0   \n",
       "2    -122.26     37.84                42.0       2555.0           665.0   \n",
       "3    -122.26     37.85                50.0       1120.0           283.0   \n",
       "4    -122.26     37.84                50.0       2239.0           455.0   \n",
       "\n",
       "   population  households  median_income  median_house_value  NEAR BAY  \\\n",
       "0       322.0       126.0         8.3252            452600.0       1.0   \n",
       "1      2401.0      1138.0         8.3014            358500.0       1.0   \n",
       "2      1206.0       595.0         2.0804            226700.0       1.0   \n",
       "3       697.0       264.0         2.1250            140000.0       1.0   \n",
       "4       990.0       419.0         1.9911            158700.0       1.0   \n",
       "\n",
       "   <1H OCEAN  INLAND  NEAR OCEAN  ISLAND  \n",
       "0        0.0     0.0         0.0     0.0  \n",
       "1        0.0     0.0         0.0     0.0  \n",
       "2        0.0     0.0         0.0     0.0  \n",
       "3        0.0     0.0         0.0     0.0  \n",
       "4        0.0     0.0         0.0     0.0  "
      ]
     },
     "execution_count": 39,
     "metadata": {},
     "output_type": "execute_result"
    }
   ],
   "source": [
    "data_norm.head()"
   ]
  },
  {
   "cell_type": "markdown",
   "metadata": {},
   "source": [
    "### Scaling \n",
    "Standardize features by removing the mean and scaling to unit variance, see [sklearn.preprocessing.StandardScaler](http://scikit-learn.org/stable/modules/generated/sklearn.preprocessing.StandardScaler.html)."
   ]
  },
  {
   "cell_type": "code",
   "execution_count": 40,
   "metadata": {},
   "outputs": [],
   "source": [
    "scaler = StandardScaler().fit(data_norm.iloc[:,:-5])"
   ]
  },
  {
   "cell_type": "code",
   "execution_count": 41,
   "metadata": {},
   "outputs": [
    {
     "data": {
      "text/plain": [
       "StandardScaler(copy=True, with_mean=True, with_std=True)"
      ]
     },
     "execution_count": 41,
     "metadata": {},
     "output_type": "execute_result"
    }
   ],
   "source": [
    "scaler"
   ]
  },
  {
   "cell_type": "code",
   "execution_count": 42,
   "metadata": {},
   "outputs": [
    {
     "data": {
      "text/plain": [
       "array([-1.19484954e+02,  3.55938326e+01,  2.69694216e+01,  2.66959797e+03,\n",
       "        5.48003972e+02,  1.46989069e+03,  5.08613145e+02,  3.69369812e+00,\n",
       "        1.89563469e+05])"
      ]
     },
     "execution_count": 42,
     "metadata": {},
     "output_type": "execute_result"
    }
   ],
   "source": [
    "scaler.mean_"
   ]
  },
  {
   "cell_type": "code",
   "execution_count": 43,
   "metadata": {},
   "outputs": [
    {
     "data": {
      "text/plain": [
       "array([1.98065878e+00, 2.14808921e+00, 1.14327278e+01, 2.22774995e+03,\n",
       "       4.29419690e+02, 1.16383254e+03, 3.89539725e+02, 1.56963320e+00,\n",
       "       9.57610245e+04])"
      ]
     },
     "execution_count": 43,
     "metadata": {},
     "output_type": "execute_result"
    }
   ],
   "source": [
    "scaler.scale_"
   ]
  },
  {
   "cell_type": "code",
   "execution_count": 44,
   "metadata": {},
   "outputs": [],
   "source": [
    "data_scaled = scaler.transform(data_norm.iloc[:,:-5])"
   ]
  },
  {
   "cell_type": "code",
   "execution_count": 45,
   "metadata": {},
   "outputs": [],
   "source": [
    "data_scaled = pd.DataFrame(data_scaled)"
   ]
  },
  {
   "cell_type": "code",
   "execution_count": 46,
   "metadata": {},
   "outputs": [
    {
     "data": {
      "text/html": [
       "<div>\n",
       "<style scoped>\n",
       "    .dataframe tbody tr th:only-of-type {\n",
       "        vertical-align: middle;\n",
       "    }\n",
       "\n",
       "    .dataframe tbody tr th {\n",
       "        vertical-align: top;\n",
       "    }\n",
       "\n",
       "    .dataframe thead th {\n",
       "        text-align: right;\n",
       "    }\n",
       "</style>\n",
       "<table border=\"1\" class=\"dataframe\">\n",
       "  <thead>\n",
       "    <tr style=\"text-align: right;\">\n",
       "      <th></th>\n",
       "      <th>0</th>\n",
       "      <th>1</th>\n",
       "      <th>2</th>\n",
       "      <th>3</th>\n",
       "      <th>4</th>\n",
       "      <th>5</th>\n",
       "      <th>6</th>\n",
       "      <th>7</th>\n",
       "      <th>8</th>\n",
       "    </tr>\n",
       "  </thead>\n",
       "  <tbody>\n",
       "    <tr>\n",
       "      <th>0</th>\n",
       "      <td>-1.385926</td>\n",
       "      <td>1.064280</td>\n",
       "      <td>1.227229</td>\n",
       "      <td>-0.803321</td>\n",
       "      <td>-0.975745</td>\n",
       "      <td>-0.986302</td>\n",
       "      <td>-0.982219</td>\n",
       "      <td>2.950691</td>\n",
       "      <td>2.746802</td>\n",
       "    </tr>\n",
       "    <tr>\n",
       "      <th>1</th>\n",
       "      <td>-1.380877</td>\n",
       "      <td>1.054969</td>\n",
       "      <td>-0.522135</td>\n",
       "      <td>1.988285</td>\n",
       "      <td>1.299419</td>\n",
       "      <td>0.800037</td>\n",
       "      <td>1.615719</td>\n",
       "      <td>2.935528</td>\n",
       "      <td>1.764147</td>\n",
       "    </tr>\n",
       "    <tr>\n",
       "      <th>2</th>\n",
       "      <td>-1.401072</td>\n",
       "      <td>1.045658</td>\n",
       "      <td>1.314697</td>\n",
       "      <td>-0.051441</td>\n",
       "      <td>0.272451</td>\n",
       "      <td>-0.226743</td>\n",
       "      <td>0.221766</td>\n",
       "      <td>-1.027819</td>\n",
       "      <td>0.387804</td>\n",
       "    </tr>\n",
       "    <tr>\n",
       "      <th>3</th>\n",
       "      <td>-1.401072</td>\n",
       "      <td>1.050314</td>\n",
       "      <td>2.014443</td>\n",
       "      <td>-0.695589</td>\n",
       "      <td>-0.617121</td>\n",
       "      <td>-0.664091</td>\n",
       "      <td>-0.627954</td>\n",
       "      <td>-0.999404</td>\n",
       "      <td>-0.517575</td>\n",
       "    </tr>\n",
       "    <tr>\n",
       "      <th>4</th>\n",
       "      <td>-1.401072</td>\n",
       "      <td>1.045658</td>\n",
       "      <td>2.014443</td>\n",
       "      <td>-0.193288</td>\n",
       "      <td>-0.216581</td>\n",
       "      <td>-0.412337</td>\n",
       "      <td>-0.230049</td>\n",
       "      <td>-1.084711</td>\n",
       "      <td>-0.322297</td>\n",
       "    </tr>\n",
       "  </tbody>\n",
       "</table>\n",
       "</div>"
      ],
      "text/plain": [
       "          0         1         2         3         4         5         6  \\\n",
       "0 -1.385926  1.064280  1.227229 -0.803321 -0.975745 -0.986302 -0.982219   \n",
       "1 -1.380877  1.054969 -0.522135  1.988285  1.299419  0.800037  1.615719   \n",
       "2 -1.401072  1.045658  1.314697 -0.051441  0.272451 -0.226743  0.221766   \n",
       "3 -1.401072  1.050314  2.014443 -0.695589 -0.617121 -0.664091 -0.627954   \n",
       "4 -1.401072  1.045658  2.014443 -0.193288 -0.216581 -0.412337 -0.230049   \n",
       "\n",
       "          7         8  \n",
       "0  2.950691  2.746802  \n",
       "1  2.935528  1.764147  \n",
       "2 -1.027819  0.387804  \n",
       "3 -0.999404 -0.517575  \n",
       "4 -1.084711 -0.322297  "
      ]
     },
     "execution_count": 46,
     "metadata": {},
     "output_type": "execute_result"
    }
   ],
   "source": [
    "data_scaled.head()"
   ]
  },
  {
   "cell_type": "code",
   "execution_count": 47,
   "metadata": {},
   "outputs": [
    {
     "data": {
      "text/plain": [
       "Index(['longitude', 'latitude', 'housing_median_age', 'total_rooms',\n",
       "       'total_bedrooms', 'population', 'households', 'median_income',\n",
       "       'median_house_value', 'NEAR BAY', '<1H OCEAN', 'INLAND', 'NEAR OCEAN',\n",
       "       'ISLAND'],\n",
       "      dtype='object')"
      ]
     },
     "execution_count": 47,
     "metadata": {},
     "output_type": "execute_result"
    }
   ],
   "source": [
    "data_norm.columns"
   ]
  },
  {
   "cell_type": "code",
   "execution_count": 48,
   "metadata": {},
   "outputs": [],
   "source": [
    "data_scaled.columns = (data_norm.iloc[:,:-5]).columns"
   ]
  },
  {
   "cell_type": "code",
   "execution_count": 49,
   "metadata": {},
   "outputs": [
    {
     "data": {
      "text/html": [
       "<div>\n",
       "<style scoped>\n",
       "    .dataframe tbody tr th:only-of-type {\n",
       "        vertical-align: middle;\n",
       "    }\n",
       "\n",
       "    .dataframe tbody tr th {\n",
       "        vertical-align: top;\n",
       "    }\n",
       "\n",
       "    .dataframe thead th {\n",
       "        text-align: right;\n",
       "    }\n",
       "</style>\n",
       "<table border=\"1\" class=\"dataframe\">\n",
       "  <thead>\n",
       "    <tr style=\"text-align: right;\">\n",
       "      <th></th>\n",
       "      <th>longitude</th>\n",
       "      <th>latitude</th>\n",
       "      <th>housing_median_age</th>\n",
       "      <th>total_rooms</th>\n",
       "      <th>total_bedrooms</th>\n",
       "      <th>population</th>\n",
       "      <th>households</th>\n",
       "      <th>median_income</th>\n",
       "      <th>median_house_value</th>\n",
       "    </tr>\n",
       "  </thead>\n",
       "  <tbody>\n",
       "    <tr>\n",
       "      <th>0</th>\n",
       "      <td>-1.385926</td>\n",
       "      <td>1.064280</td>\n",
       "      <td>1.227229</td>\n",
       "      <td>-0.803321</td>\n",
       "      <td>-0.975745</td>\n",
       "      <td>-0.986302</td>\n",
       "      <td>-0.982219</td>\n",
       "      <td>2.950691</td>\n",
       "      <td>2.746802</td>\n",
       "    </tr>\n",
       "    <tr>\n",
       "      <th>1</th>\n",
       "      <td>-1.380877</td>\n",
       "      <td>1.054969</td>\n",
       "      <td>-0.522135</td>\n",
       "      <td>1.988285</td>\n",
       "      <td>1.299419</td>\n",
       "      <td>0.800037</td>\n",
       "      <td>1.615719</td>\n",
       "      <td>2.935528</td>\n",
       "      <td>1.764147</td>\n",
       "    </tr>\n",
       "    <tr>\n",
       "      <th>2</th>\n",
       "      <td>-1.401072</td>\n",
       "      <td>1.045658</td>\n",
       "      <td>1.314697</td>\n",
       "      <td>-0.051441</td>\n",
       "      <td>0.272451</td>\n",
       "      <td>-0.226743</td>\n",
       "      <td>0.221766</td>\n",
       "      <td>-1.027819</td>\n",
       "      <td>0.387804</td>\n",
       "    </tr>\n",
       "    <tr>\n",
       "      <th>3</th>\n",
       "      <td>-1.401072</td>\n",
       "      <td>1.050314</td>\n",
       "      <td>2.014443</td>\n",
       "      <td>-0.695589</td>\n",
       "      <td>-0.617121</td>\n",
       "      <td>-0.664091</td>\n",
       "      <td>-0.627954</td>\n",
       "      <td>-0.999404</td>\n",
       "      <td>-0.517575</td>\n",
       "    </tr>\n",
       "    <tr>\n",
       "      <th>4</th>\n",
       "      <td>-1.401072</td>\n",
       "      <td>1.045658</td>\n",
       "      <td>2.014443</td>\n",
       "      <td>-0.193288</td>\n",
       "      <td>-0.216581</td>\n",
       "      <td>-0.412337</td>\n",
       "      <td>-0.230049</td>\n",
       "      <td>-1.084711</td>\n",
       "      <td>-0.322297</td>\n",
       "    </tr>\n",
       "  </tbody>\n",
       "</table>\n",
       "</div>"
      ],
      "text/plain": [
       "   longitude  latitude  housing_median_age  total_rooms  total_bedrooms  \\\n",
       "0  -1.385926  1.064280            1.227229    -0.803321       -0.975745   \n",
       "1  -1.380877  1.054969           -0.522135     1.988285        1.299419   \n",
       "2  -1.401072  1.045658            1.314697    -0.051441        0.272451   \n",
       "3  -1.401072  1.050314            2.014443    -0.695589       -0.617121   \n",
       "4  -1.401072  1.045658            2.014443    -0.193288       -0.216581   \n",
       "\n",
       "   population  households  median_income  median_house_value  \n",
       "0   -0.986302   -0.982219       2.950691            2.746802  \n",
       "1    0.800037    1.615719       2.935528            1.764147  \n",
       "2   -0.226743    0.221766      -1.027819            0.387804  \n",
       "3   -0.664091   -0.627954      -0.999404           -0.517575  \n",
       "4   -0.412337   -0.230049      -1.084711           -0.322297  "
      ]
     },
     "execution_count": 49,
     "metadata": {},
     "output_type": "execute_result"
    }
   ],
   "source": [
    "data_scaled.head()"
   ]
  },
  {
   "cell_type": "code",
   "execution_count": 50,
   "metadata": {},
   "outputs": [],
   "source": [
    "# concatenate the values from the first 10 rows with the new encoded ocean_proximity \n",
    "df = pd.concat([data_scaled, ocean_proximity_cat_1hot], axis=1, sort=False)"
   ]
  },
  {
   "cell_type": "code",
   "execution_count": 51,
   "metadata": {},
   "outputs": [
    {
     "data": {
      "text/html": [
       "<div>\n",
       "<style scoped>\n",
       "    .dataframe tbody tr th:only-of-type {\n",
       "        vertical-align: middle;\n",
       "    }\n",
       "\n",
       "    .dataframe tbody tr th {\n",
       "        vertical-align: top;\n",
       "    }\n",
       "\n",
       "    .dataframe thead th {\n",
       "        text-align: right;\n",
       "    }\n",
       "</style>\n",
       "<table border=\"1\" class=\"dataframe\">\n",
       "  <thead>\n",
       "    <tr style=\"text-align: right;\">\n",
       "      <th></th>\n",
       "      <th>longitude</th>\n",
       "      <th>latitude</th>\n",
       "      <th>housing_median_age</th>\n",
       "      <th>total_rooms</th>\n",
       "      <th>total_bedrooms</th>\n",
       "      <th>population</th>\n",
       "      <th>households</th>\n",
       "      <th>median_income</th>\n",
       "      <th>median_house_value</th>\n",
       "      <th>NEAR BAY</th>\n",
       "      <th>&lt;1H OCEAN</th>\n",
       "      <th>INLAND</th>\n",
       "      <th>NEAR OCEAN</th>\n",
       "      <th>ISLAND</th>\n",
       "    </tr>\n",
       "  </thead>\n",
       "  <tbody>\n",
       "    <tr>\n",
       "      <th>0</th>\n",
       "      <td>-1.385926</td>\n",
       "      <td>1.064280</td>\n",
       "      <td>1.227229</td>\n",
       "      <td>-0.803321</td>\n",
       "      <td>-0.975745</td>\n",
       "      <td>-0.986302</td>\n",
       "      <td>-0.982219</td>\n",
       "      <td>2.950691</td>\n",
       "      <td>2.746802</td>\n",
       "      <td>1.0</td>\n",
       "      <td>0.0</td>\n",
       "      <td>0.0</td>\n",
       "      <td>0.0</td>\n",
       "      <td>0.0</td>\n",
       "    </tr>\n",
       "    <tr>\n",
       "      <th>1</th>\n",
       "      <td>-1.380877</td>\n",
       "      <td>1.054969</td>\n",
       "      <td>-0.522135</td>\n",
       "      <td>1.988285</td>\n",
       "      <td>1.299419</td>\n",
       "      <td>0.800037</td>\n",
       "      <td>1.615719</td>\n",
       "      <td>2.935528</td>\n",
       "      <td>1.764147</td>\n",
       "      <td>1.0</td>\n",
       "      <td>0.0</td>\n",
       "      <td>0.0</td>\n",
       "      <td>0.0</td>\n",
       "      <td>0.0</td>\n",
       "    </tr>\n",
       "    <tr>\n",
       "      <th>2</th>\n",
       "      <td>-1.401072</td>\n",
       "      <td>1.045658</td>\n",
       "      <td>1.314697</td>\n",
       "      <td>-0.051441</td>\n",
       "      <td>0.272451</td>\n",
       "      <td>-0.226743</td>\n",
       "      <td>0.221766</td>\n",
       "      <td>-1.027819</td>\n",
       "      <td>0.387804</td>\n",
       "      <td>1.0</td>\n",
       "      <td>0.0</td>\n",
       "      <td>0.0</td>\n",
       "      <td>0.0</td>\n",
       "      <td>0.0</td>\n",
       "    </tr>\n",
       "    <tr>\n",
       "      <th>3</th>\n",
       "      <td>-1.401072</td>\n",
       "      <td>1.050314</td>\n",
       "      <td>2.014443</td>\n",
       "      <td>-0.695589</td>\n",
       "      <td>-0.617121</td>\n",
       "      <td>-0.664091</td>\n",
       "      <td>-0.627954</td>\n",
       "      <td>-0.999404</td>\n",
       "      <td>-0.517575</td>\n",
       "      <td>1.0</td>\n",
       "      <td>0.0</td>\n",
       "      <td>0.0</td>\n",
       "      <td>0.0</td>\n",
       "      <td>0.0</td>\n",
       "    </tr>\n",
       "    <tr>\n",
       "      <th>4</th>\n",
       "      <td>-1.401072</td>\n",
       "      <td>1.045658</td>\n",
       "      <td>2.014443</td>\n",
       "      <td>-0.193288</td>\n",
       "      <td>-0.216581</td>\n",
       "      <td>-0.412337</td>\n",
       "      <td>-0.230049</td>\n",
       "      <td>-1.084711</td>\n",
       "      <td>-0.322297</td>\n",
       "      <td>1.0</td>\n",
       "      <td>0.0</td>\n",
       "      <td>0.0</td>\n",
       "      <td>0.0</td>\n",
       "      <td>0.0</td>\n",
       "    </tr>\n",
       "  </tbody>\n",
       "</table>\n",
       "</div>"
      ],
      "text/plain": [
       "   longitude  latitude  housing_median_age  total_rooms  total_bedrooms  \\\n",
       "0  -1.385926  1.064280            1.227229    -0.803321       -0.975745   \n",
       "1  -1.380877  1.054969           -0.522135     1.988285        1.299419   \n",
       "2  -1.401072  1.045658            1.314697    -0.051441        0.272451   \n",
       "3  -1.401072  1.050314            2.014443    -0.695589       -0.617121   \n",
       "4  -1.401072  1.045658            2.014443    -0.193288       -0.216581   \n",
       "\n",
       "   population  households  median_income  median_house_value  NEAR BAY  \\\n",
       "0   -0.986302   -0.982219       2.950691            2.746802       1.0   \n",
       "1    0.800037    1.615719       2.935528            1.764147       1.0   \n",
       "2   -0.226743    0.221766      -1.027819            0.387804       1.0   \n",
       "3   -0.664091   -0.627954      -0.999404           -0.517575       1.0   \n",
       "4   -0.412337   -0.230049      -1.084711           -0.322297       1.0   \n",
       "\n",
       "   <1H OCEAN  INLAND  NEAR OCEAN  ISLAND  \n",
       "0        0.0     0.0         0.0     0.0  \n",
       "1        0.0     0.0         0.0     0.0  \n",
       "2        0.0     0.0         0.0     0.0  \n",
       "3        0.0     0.0         0.0     0.0  \n",
       "4        0.0     0.0         0.0     0.0  "
      ]
     },
     "execution_count": 51,
     "metadata": {},
     "output_type": "execute_result"
    }
   ],
   "source": [
    "df.head()"
   ]
  },
  {
   "cell_type": "markdown",
   "metadata": {},
   "source": [
    "--- \n",
    "## Subsetting (Test and Training Split)"
   ]
  },
  {
   "cell_type": "code",
   "execution_count": 52,
   "metadata": {},
   "outputs": [],
   "source": [
    "# Split the dataset pseudo-randomly into training and testing subsets \n",
    "\n",
    "\"\"\"\n",
    "for details see http://scikit-learn.org/stable/modules/generated/sklearn.model_selection.train_test_split.html\n",
    "\"\"\"\n",
    "\n",
    "data_train, data_test = train_test_split(data_norm, test_size=0.2, random_state=11)"
   ]
  },
  {
   "cell_type": "code",
   "execution_count": 53,
   "metadata": {},
   "outputs": [
    {
     "name": "stdout",
     "output_type": "stream",
     "text": [
      "<class 'pandas.core.frame.DataFrame'>\n",
      "Int64Index: 14703 entries, 4237 to 10137\n",
      "Data columns (total 14 columns):\n",
      "longitude             14703 non-null float64\n",
      "latitude              14703 non-null float64\n",
      "housing_median_age    14703 non-null float64\n",
      "total_rooms           14703 non-null float64\n",
      "total_bedrooms        14703 non-null float64\n",
      "population            14703 non-null float64\n",
      "households            14703 non-null float64\n",
      "median_income         14703 non-null float64\n",
      "median_house_value    14703 non-null float64\n",
      "NEAR BAY              14703 non-null float64\n",
      "<1H OCEAN             14703 non-null float64\n",
      "INLAND                14703 non-null float64\n",
      "NEAR OCEAN            14703 non-null float64\n",
      "ISLAND                14703 non-null float64\n",
      "dtypes: float64(14)\n",
      "memory usage: 1.7 MB\n"
     ]
    }
   ],
   "source": [
    "data_train.info()"
   ]
  },
  {
   "cell_type": "code",
   "execution_count": 54,
   "metadata": {},
   "outputs": [
    {
     "name": "stdout",
     "output_type": "stream",
     "text": [
      "<class 'pandas.core.frame.DataFrame'>\n",
      "Int64Index: 3676 entries, 17574 to 3573\n",
      "Data columns (total 14 columns):\n",
      "longitude             3676 non-null float64\n",
      "latitude              3676 non-null float64\n",
      "housing_median_age    3676 non-null float64\n",
      "total_rooms           3676 non-null float64\n",
      "total_bedrooms        3676 non-null float64\n",
      "population            3676 non-null float64\n",
      "households            3676 non-null float64\n",
      "median_income         3676 non-null float64\n",
      "median_house_value    3676 non-null float64\n",
      "NEAR BAY              3676 non-null float64\n",
      "<1H OCEAN             3676 non-null float64\n",
      "INLAND                3676 non-null float64\n",
      "NEAR OCEAN            3676 non-null float64\n",
      "ISLAND                3676 non-null float64\n",
      "dtypes: float64(14)\n",
      "memory usage: 430.8 KB\n"
     ]
    }
   ],
   "source": [
    "data_test.info()"
   ]
  },
  {
   "cell_type": "code",
   "execution_count": 55,
   "metadata": {},
   "outputs": [],
   "source": [
    "data_train.to_csv('data/data_train.csv', sep=',', index=False)\n",
    "data_test.to_csv('data/data_test.csv', sep=',', index=False)"
   ]
  },
  {
   "cell_type": "markdown",
   "metadata": {},
   "source": [
    "--- \n",
    "## This is where the fun begins"
   ]
  }
 ],
 "metadata": {
  "kernelspec": {
   "display_name": "Python 2",
   "language": "python",
   "name": "python2"
  },
  "language_info": {
   "codemirror_mode": {
    "name": "ipython",
    "version": 3
   },
   "file_extension": ".py",
   "mimetype": "text/x-python",
   "name": "python",
   "nbconvert_exporter": "python",
   "pygments_lexer": "ipython3",
   "version": "3.6.6"
  }
 },
 "nbformat": 4,
 "nbformat_minor": 2
}
