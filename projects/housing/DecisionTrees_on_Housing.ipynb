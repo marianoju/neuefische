{
 "cells": [
  {
   "cell_type": "markdown",
   "metadata": {},
   "source": [
    "# DecisionTreeRegressor on Housing"
   ]
  },
  {
   "cell_type": "code",
   "execution_count": 1,
   "metadata": {},
   "outputs": [],
   "source": [
    "import pandas as pd\n",
    "import numpy as np\n",
    "from matplotlib import pyplot as plt\n",
    "from sklearn.metrics import mean_squared_error, r2_score\n",
    "from sklearn.model_selection import train_test_split\n",
    "from sklearn.tree import DecisionTreeRegressor \n",
    "\n",
    "import graphviz \n",
    "import seaborn as sns \n",
    "sns.set()"
   ]
  },
  {
   "cell_type": "code",
   "execution_count": 2,
   "metadata": {},
   "outputs": [
    {
     "data": {
      "text/html": [
       "<div>\n",
       "<style scoped>\n",
       "    .dataframe tbody tr th:only-of-type {\n",
       "        vertical-align: middle;\n",
       "    }\n",
       "\n",
       "    .dataframe tbody tr th {\n",
       "        vertical-align: top;\n",
       "    }\n",
       "\n",
       "    .dataframe thead th {\n",
       "        text-align: right;\n",
       "    }\n",
       "</style>\n",
       "<table border=\"1\" class=\"dataframe\">\n",
       "  <thead>\n",
       "    <tr style=\"text-align: right;\">\n",
       "      <th></th>\n",
       "      <th>longitude</th>\n",
       "      <th>latitude</th>\n",
       "      <th>housing_median_age</th>\n",
       "      <th>total_rooms</th>\n",
       "      <th>total_bedrooms</th>\n",
       "      <th>population</th>\n",
       "      <th>households</th>\n",
       "      <th>median_income</th>\n",
       "      <th>median_house_value</th>\n",
       "      <th>ocean_proximity</th>\n",
       "    </tr>\n",
       "  </thead>\n",
       "  <tbody>\n",
       "    <tr>\n",
       "      <th>0</th>\n",
       "      <td>-122.23</td>\n",
       "      <td>37.88</td>\n",
       "      <td>41.0</td>\n",
       "      <td>880.0</td>\n",
       "      <td>129.0</td>\n",
       "      <td>322.0</td>\n",
       "      <td>126.0</td>\n",
       "      <td>8.3252</td>\n",
       "      <td>452600.0</td>\n",
       "      <td>NEAR BAY</td>\n",
       "    </tr>\n",
       "    <tr>\n",
       "      <th>1</th>\n",
       "      <td>-122.22</td>\n",
       "      <td>37.86</td>\n",
       "      <td>21.0</td>\n",
       "      <td>7099.0</td>\n",
       "      <td>1106.0</td>\n",
       "      <td>2401.0</td>\n",
       "      <td>1138.0</td>\n",
       "      <td>8.3014</td>\n",
       "      <td>358500.0</td>\n",
       "      <td>NEAR BAY</td>\n",
       "    </tr>\n",
       "    <tr>\n",
       "      <th>2</th>\n",
       "      <td>-122.24</td>\n",
       "      <td>37.85</td>\n",
       "      <td>52.0</td>\n",
       "      <td>1467.0</td>\n",
       "      <td>190.0</td>\n",
       "      <td>496.0</td>\n",
       "      <td>177.0</td>\n",
       "      <td>7.2574</td>\n",
       "      <td>352100.0</td>\n",
       "      <td>NEAR BAY</td>\n",
       "    </tr>\n",
       "    <tr>\n",
       "      <th>3</th>\n",
       "      <td>-122.25</td>\n",
       "      <td>37.85</td>\n",
       "      <td>52.0</td>\n",
       "      <td>1274.0</td>\n",
       "      <td>235.0</td>\n",
       "      <td>558.0</td>\n",
       "      <td>219.0</td>\n",
       "      <td>5.6431</td>\n",
       "      <td>341300.0</td>\n",
       "      <td>NEAR BAY</td>\n",
       "    </tr>\n",
       "    <tr>\n",
       "      <th>4</th>\n",
       "      <td>-122.25</td>\n",
       "      <td>37.85</td>\n",
       "      <td>52.0</td>\n",
       "      <td>1627.0</td>\n",
       "      <td>280.0</td>\n",
       "      <td>565.0</td>\n",
       "      <td>259.0</td>\n",
       "      <td>3.8462</td>\n",
       "      <td>342200.0</td>\n",
       "      <td>NEAR BAY</td>\n",
       "    </tr>\n",
       "  </tbody>\n",
       "</table>\n",
       "</div>"
      ],
      "text/plain": [
       "   longitude  latitude  housing_median_age  total_rooms  total_bedrooms  \\\n",
       "0    -122.23     37.88                41.0        880.0           129.0   \n",
       "1    -122.22     37.86                21.0       7099.0          1106.0   \n",
       "2    -122.24     37.85                52.0       1467.0           190.0   \n",
       "3    -122.25     37.85                52.0       1274.0           235.0   \n",
       "4    -122.25     37.85                52.0       1627.0           280.0   \n",
       "\n",
       "   population  households  median_income  median_house_value ocean_proximity  \n",
       "0       322.0       126.0         8.3252            452600.0        NEAR BAY  \n",
       "1      2401.0      1138.0         8.3014            358500.0        NEAR BAY  \n",
       "2       496.0       177.0         7.2574            352100.0        NEAR BAY  \n",
       "3       558.0       219.0         5.6431            341300.0        NEAR BAY  \n",
       "4       565.0       259.0         3.8462            342200.0        NEAR BAY  "
      ]
     },
     "execution_count": 2,
     "metadata": {},
     "output_type": "execute_result"
    }
   ],
   "source": [
    "data = pd.read_csv(\"data/housing.csv\")\n",
    "data.head()"
   ]
  },
  {
   "cell_type": "markdown",
   "metadata": {},
   "source": [
    "Nehmen wir nur die Ortskoordinaten als Eingabe $X$ für das KNR-Modell und den 'median_house_value' als Ausgabevariable $Y$, können wir durch Anpassen des Parameters $k$ sehen wie eine größer Wahl der Nachbarschaft ein Glättung des 'Bildes' entspricht. "
   ]
  },
  {
   "cell_type": "code",
   "execution_count": 3,
   "metadata": {},
   "outputs": [],
   "source": [
    "data_X = data[['latitude', 'longitude']] # features, independent variables \n",
    "data_y = data['median_house_value'] # target, dependent variable "
   ]
  },
  {
   "cell_type": "code",
   "execution_count": 4,
   "metadata": {},
   "outputs": [],
   "source": [
    "X_train, X_test, y_train, y_test = train_test_split(data_X, data_y, test_size=0.2, random_state=11)"
   ]
  },
  {
   "cell_type": "code",
   "execution_count": 5,
   "metadata": {},
   "outputs": [],
   "source": [
    "max_depth = 10\n",
    "\n",
    "dTree = DecisionTreeRegressor(max_depth=max_depth)\n",
    "dTree.fit(X_train, y_train)\n",
    "y_prediction = dTree.predict(X_test)"
   ]
  },
  {
   "cell_type": "code",
   "execution_count": 6,
   "metadata": {},
   "outputs": [
    {
     "name": "stdout",
     "output_type": "stream",
     "text": [
      "MSE: 4288960999.7515006\n",
      "RMSE: 65490.15956425439\n",
      "R²: 0.6812564062222397\n",
      "RMSE % of mean: 0.31128666608755157\n",
      "Calibration: 0.9934539344184041\n"
     ]
    }
   ],
   "source": [
    "print(\"MSE:\", mean_squared_error(y_test, y_prediction))\n",
    "print(\"RMSE:\", np.sqrt(((y_test - y_prediction) ** 2).mean()))\n",
    "print(\"R²:\", r2_score(y_test, y_prediction))\n",
    "print(\"RMSE % of mean:\", np.sqrt(((y_test - y_prediction) ** 2).mean()) / y_test.mean())\n",
    "print(\"Calibration:\", y_prediction.mean() / y_test.mean())"
   ]
  },
  {
   "cell_type": "code",
   "execution_count": 7,
   "metadata": {},
   "outputs": [],
   "source": [
    "\"\"\" --------------------------------------------------------------------\n",
    "starts by defining empty lists to be filled by the for loop, \n",
    "then iterates over all steps up to max_depth \n",
    "-------------------------------------------------------------------- \"\"\"\n",
    "\n",
    "depth_of_tree = []\n",
    "MSE = []\n",
    "RMSE= []\n",
    "R2 = []\n",
    "RMSE_of_mean = []\n",
    "Calibration = []\n",
    "\n",
    "max_depth = 13\n",
    "\n",
    "for i in list(range(1, max_depth+1)):\n",
    "    dTree = DecisionTreeRegressor(max_depth=i)\n",
    "    dTree.fit(X_train, y_train)\n",
    "    y_prediction = dTree.predict(X_test)\n",
    "    depth_of_tree.append(i)\n",
    "    MSE.append(mean_squared_error(y_test, y_prediction))\n",
    "    RMSE.append(np.sqrt(((y_test - y_prediction) ** 2).mean()))\n",
    "    R2.append(r2_score(y_test, y_prediction))\n",
    "    RMSE_of_mean.append(np.sqrt(((y_test - y_prediction) ** 2).mean()) / y_test.mean())\n",
    "    Calibration.append(y_prediction.mean() / y_test.mean())"
   ]
  },
  {
   "cell_type": "code",
   "execution_count": 8,
   "metadata": {},
   "outputs": [],
   "source": [
    "# merge lists to a dataframe results_df \n",
    "results_df = pd.DataFrame(np.column_stack([depth_of_tree, MSE, RMSE, R2, RMSE_of_mean, Calibration]),\n",
    "                         columns=[\"depth_of_tree\", \"MSE\", \"RMSE\", \"R2\", \"RMSE_of_mean\", \"Calibration\"])"
   ]
  },
  {
   "cell_type": "code",
   "execution_count": 9,
   "metadata": {},
   "outputs": [
    {
     "data": {
      "text/html": [
       "<div>\n",
       "<style scoped>\n",
       "    .dataframe tbody tr th:only-of-type {\n",
       "        vertical-align: middle;\n",
       "    }\n",
       "\n",
       "    .dataframe tbody tr th {\n",
       "        vertical-align: top;\n",
       "    }\n",
       "\n",
       "    .dataframe thead th {\n",
       "        text-align: right;\n",
       "    }\n",
       "</style>\n",
       "<table border=\"1\" class=\"dataframe\">\n",
       "  <thead>\n",
       "    <tr style=\"text-align: right;\">\n",
       "      <th></th>\n",
       "      <th>depth_of_tree</th>\n",
       "      <th>MSE</th>\n",
       "      <th>RMSE</th>\n",
       "      <th>R2</th>\n",
       "      <th>RMSE_of_mean</th>\n",
       "      <th>Calibration</th>\n",
       "    </tr>\n",
       "  </thead>\n",
       "  <tbody>\n",
       "    <tr>\n",
       "      <th>0</th>\n",
       "      <td>1.0</td>\n",
       "      <td>1.249069e+10</td>\n",
       "      <td>111761.772767</td>\n",
       "      <td>0.071727</td>\n",
       "      <td>0.531224</td>\n",
       "      <td>0.977632</td>\n",
       "    </tr>\n",
       "    <tr>\n",
       "      <th>1</th>\n",
       "      <td>2.0</td>\n",
       "      <td>1.133566e+10</td>\n",
       "      <td>106469.068442</td>\n",
       "      <td>0.157565</td>\n",
       "      <td>0.506067</td>\n",
       "      <td>0.977660</td>\n",
       "    </tr>\n",
       "    <tr>\n",
       "      <th>2</th>\n",
       "      <td>3.0</td>\n",
       "      <td>1.008954e+10</td>\n",
       "      <td>100446.679661</td>\n",
       "      <td>0.250174</td>\n",
       "      <td>0.477441</td>\n",
       "      <td>0.976876</td>\n",
       "    </tr>\n",
       "    <tr>\n",
       "      <th>3</th>\n",
       "      <td>4.0</td>\n",
       "      <td>8.146177e+09</td>\n",
       "      <td>90256.173820</td>\n",
       "      <td>0.394599</td>\n",
       "      <td>0.429004</td>\n",
       "      <td>0.984169</td>\n",
       "    </tr>\n",
       "    <tr>\n",
       "      <th>4</th>\n",
       "      <td>5.0</td>\n",
       "      <td>7.160528e+09</td>\n",
       "      <td>84619.901140</td>\n",
       "      <td>0.467850</td>\n",
       "      <td>0.402214</td>\n",
       "      <td>0.983163</td>\n",
       "    </tr>\n",
       "    <tr>\n",
       "      <th>5</th>\n",
       "      <td>6.0</td>\n",
       "      <td>6.308365e+09</td>\n",
       "      <td>79425.215433</td>\n",
       "      <td>0.531180</td>\n",
       "      <td>0.377523</td>\n",
       "      <td>0.985403</td>\n",
       "    </tr>\n",
       "    <tr>\n",
       "      <th>6</th>\n",
       "      <td>7.0</td>\n",
       "      <td>5.616923e+09</td>\n",
       "      <td>74946.136550</td>\n",
       "      <td>0.582566</td>\n",
       "      <td>0.356233</td>\n",
       "      <td>0.983984</td>\n",
       "    </tr>\n",
       "    <tr>\n",
       "      <th>7</th>\n",
       "      <td>8.0</td>\n",
       "      <td>5.091133e+09</td>\n",
       "      <td>71352.172763</td>\n",
       "      <td>0.621641</td>\n",
       "      <td>0.339150</td>\n",
       "      <td>0.987667</td>\n",
       "    </tr>\n",
       "    <tr>\n",
       "      <th>8</th>\n",
       "      <td>9.0</td>\n",
       "      <td>4.626198e+09</td>\n",
       "      <td>68016.161998</td>\n",
       "      <td>0.656194</td>\n",
       "      <td>0.323293</td>\n",
       "      <td>0.989122</td>\n",
       "    </tr>\n",
       "    <tr>\n",
       "      <th>9</th>\n",
       "      <td>10.0</td>\n",
       "      <td>4.283055e+09</td>\n",
       "      <td>65445.050665</td>\n",
       "      <td>0.681695</td>\n",
       "      <td>0.311072</td>\n",
       "      <td>0.993840</td>\n",
       "    </tr>\n",
       "    <tr>\n",
       "      <th>10</th>\n",
       "      <td>11.0</td>\n",
       "      <td>3.866608e+09</td>\n",
       "      <td>62182.057565</td>\n",
       "      <td>0.712644</td>\n",
       "      <td>0.295563</td>\n",
       "      <td>0.991634</td>\n",
       "    </tr>\n",
       "    <tr>\n",
       "      <th>11</th>\n",
       "      <td>12.0</td>\n",
       "      <td>3.715054e+09</td>\n",
       "      <td>60951.245769</td>\n",
       "      <td>0.723908</td>\n",
       "      <td>0.289712</td>\n",
       "      <td>0.992215</td>\n",
       "    </tr>\n",
       "    <tr>\n",
       "      <th>12</th>\n",
       "      <td>13.0</td>\n",
       "      <td>3.550482e+09</td>\n",
       "      <td>59585.918682</td>\n",
       "      <td>0.736138</td>\n",
       "      <td>0.283223</td>\n",
       "      <td>0.994389</td>\n",
       "    </tr>\n",
       "  </tbody>\n",
       "</table>\n",
       "</div>"
      ],
      "text/plain": [
       "    depth_of_tree           MSE           RMSE        R2  RMSE_of_mean  \\\n",
       "0             1.0  1.249069e+10  111761.772767  0.071727      0.531224   \n",
       "1             2.0  1.133566e+10  106469.068442  0.157565      0.506067   \n",
       "2             3.0  1.008954e+10  100446.679661  0.250174      0.477441   \n",
       "3             4.0  8.146177e+09   90256.173820  0.394599      0.429004   \n",
       "4             5.0  7.160528e+09   84619.901140  0.467850      0.402214   \n",
       "5             6.0  6.308365e+09   79425.215433  0.531180      0.377523   \n",
       "6             7.0  5.616923e+09   74946.136550  0.582566      0.356233   \n",
       "7             8.0  5.091133e+09   71352.172763  0.621641      0.339150   \n",
       "8             9.0  4.626198e+09   68016.161998  0.656194      0.323293   \n",
       "9            10.0  4.283055e+09   65445.050665  0.681695      0.311072   \n",
       "10           11.0  3.866608e+09   62182.057565  0.712644      0.295563   \n",
       "11           12.0  3.715054e+09   60951.245769  0.723908      0.289712   \n",
       "12           13.0  3.550482e+09   59585.918682  0.736138      0.283223   \n",
       "\n",
       "    Calibration  \n",
       "0      0.977632  \n",
       "1      0.977660  \n",
       "2      0.976876  \n",
       "3      0.984169  \n",
       "4      0.983163  \n",
       "5      0.985403  \n",
       "6      0.983984  \n",
       "7      0.987667  \n",
       "8      0.989122  \n",
       "9      0.993840  \n",
       "10     0.991634  \n",
       "11     0.992215  \n",
       "12     0.994389  "
      ]
     },
     "execution_count": 9,
     "metadata": {},
     "output_type": "execute_result"
    }
   ],
   "source": [
    "results_df"
   ]
  },
  {
   "cell_type": "code",
   "execution_count": 10,
   "metadata": {},
   "outputs": [
    {
     "data": {
      "image/png": "[encoded data removed]",
      "text/plain": [
       "<Figure size 1440x720 with 1 Axes>"
      ]
     },
     "metadata": {},
     "output_type": "display_data"
    }
   ],
   "source": [
    "# Plot results \n",
    "plt.figure(figsize=(20,10))\n",
    "plt.scatter(results_df[\"depth_of_tree\"], results_df[\"MSE\"], color='black')\n",
    "plt.show();"
   ]
  },
  {
   "cell_type": "code",
   "execution_count": 11,
   "metadata": {},
   "outputs": [
    {
     "data": {
      "image/png": "[encoded data removed]",
      "text/plain": [
       "<Figure size 1440x720 with 1 Axes>"
      ]
     },
     "metadata": {},
     "output_type": "display_data"
    }
   ],
   "source": [
    "# Plot results \n",
    "plt.figure(figsize=(20,10))\n",
    "plt.scatter(results_df[\"depth_of_tree\"], results_df[\"RMSE\"], color='black')\n",
    "plt.show();"
   ]
  },
  {
   "cell_type": "code",
   "execution_count": 12,
   "metadata": {},
   "outputs": [
    {
     "data": {
      "image/png": "[encoded data removed]",
      "text/plain": [
       "<Figure size 1440x720 with 1 Axes>"
      ]
     },
     "metadata": {},
     "output_type": "display_data"
    }
   ],
   "source": [
    "# Plot results \n",
    "plt.figure(figsize=(20,10))\n",
    "plt.scatter(results_df[\"depth_of_tree\"], results_df[\"R2\"], color='red')\n",
    "plt.scatter(results_df[\"depth_of_tree\"], results_df[\"RMSE_of_mean\"], color='green')\n",
    "plt.scatter(results_df[\"depth_of_tree\"], results_df[\"Calibration\"], color='blue')\n",
    "plt.show();"
   ]
  },
  {
   "cell_type": "code",
   "execution_count": null,
   "metadata": {},
   "outputs": [],
   "source": []
  }
 ],
 "metadata": {
  "kernelspec": {
   "display_name": "Python 3",
   "language": "python",
   "name": "python3"
  },
  "language_info": {
   "codemirror_mode": {
    "name": "ipython",
    "version": 3
   },
   "file_extension": ".py",
   "mimetype": "text/x-python",
   "name": "python",
   "nbconvert_exporter": "python",
   "pygments_lexer": "ipython3",
   "version": "3.6.6"
  }
 },
 "nbformat": 4,
 "nbformat_minor": 2
}
