{
 "cells": [
  {
   "cell_type": "markdown",
   "metadata": {},
   "source": [
    "# Predictive analysis with k-nearest neighbors algorithm"
   ]
  },
  {
   "cell_type": "markdown",
   "metadata": {},
   "source": [
    "I will be using a dataset provided with “The Elements of Statistical Learning: Data Mining, Inference, and Prediction” by Trevor Hastie, Robert Tibshirani & Jerome Friedman. \n",
    "\n",
    "> Normalized handwritten digits, automatically scanned from envelopes by the U.S. Postal Service. The original scanned digits are binary and of different sizes and orientations; the images here have been deslanted and size normalized, resulting in 16 x 16 grayscale images (Le Cun et al., 1990).\n",
    "> \n",
    "> The data are in two gzipped files, and each line consists of the digit id (0-9) followed by the 256 grayscale values.\n",
    "> \n",
    "> There are 7291 training observations and 2007 test observations [...]\n",
    "> \n",
    "> The test set is notoriously \"difficult\", and a 2.5% error rate is excellent. [...]"
   ]
  },
  {
   "cell_type": "markdown",
   "metadata": {},
   "source": [
    "## Sources\n",
    "- https://web.stanford.edu/~hastie/ElemStatLearn/datasets/zip.info.txt\n",
    "- https://web.stanford.edu/~hastie/ElemStatLearn/datasets/zip.test.gz\n",
    "- https://web.stanford.edu/~hastie/ElemStatLearn/datasets/zip.train.gz"
   ]
  },
  {
   "cell_type": "markdown",
   "metadata": {},
   "source": [
    "## Theoretical background \n",
    "\n",
    "- [Nearest Neighbors Classification](http://scikit-learn.org/stable/modules/neighbors.html#classification)\n",
    "- [sklearn.neighbors.KNeighborsClassifier](http://scikit-learn.org/stable/modules/generated/sklearn.neighbors.KNeighborsClassifier.html)\n",
    "- [Digits Classification Exercise](http://scikit-learn.org/stable/auto_examples/exercises/plot_digits_classification_exercise.html)\n",
    "--- "
   ]
  },
  {
   "cell_type": "markdown",
   "metadata": {},
   "source": [
    "## Libraries"
   ]
  },
  {
   "cell_type": "code",
   "execution_count": 1,
   "metadata": {},
   "outputs": [],
   "source": [
    "import time\n",
    "import pandas as pd\n",
    "import numpy as np\n",
    "import matplotlib.pyplot as plt"
   ]
  },
  {
   "cell_type": "code",
   "execution_count": 2,
   "metadata": {},
   "outputs": [],
   "source": [
    "from sklearn.cluster import KMeans\n",
    "from sklearn.mixture import GaussianMixture\n",
    "from sklearn.neighbors import KNeighborsClassifier"
   ]
  },
  {
   "cell_type": "markdown",
   "metadata": {},
   "source": [
    "---"
   ]
  },
  {
   "cell_type": "markdown",
   "metadata": {},
   "source": [
    "## Functions"
   ]
  },
  {
   "cell_type": "code",
   "execution_count": 3,
   "metadata": {},
   "outputs": [],
   "source": [
    "\"\"\"\n",
    "To calculate descriptive values for every character all values for a character \n",
    "need to be extracted from the dataset respectively. \n",
    "For style guidelines see \n",
    "https://www.python.org/dev/peps/pep-0008/#function-and-variable-names\n",
    "\"\"\"\n",
    "def get_data_for_character (data, character):\n",
    "    # gets all columns in the first row with a matching character \n",
    "    data_for_character = pd.DataFrame(data[data[0] == character]) \n",
    "    # ignore the value in the first column and return only grayvalues \n",
    "    grayvalues = data_for_character.iloc[:,1:]\n",
    "    return grayvalues\n",
    "\n",
    "def make_character_image(data, character, aggregation):\n",
    "    # calls the function get_data_for_character\n",
    "    image_data = get_data_for_character(data, character)\n",
    "    # calculate descriptive statistical values (\"stats\")\n",
    "    if(aggregation == 'mean'):\n",
    "        character_stats = pd.DataFrame(image_data.mean())\n",
    "    elif(aggregation == 'median'):\n",
    "        character_stats = pd.DataFrame(image_data.median())\n",
    "    elif(aggregation == 'min'):\n",
    "        character_stats = pd.DataFrame(image_data.min())\n",
    "    elif(aggregation == 'max'):\n",
    "        character_stats = pd.DataFrame(image_data.max())\n",
    "    else:\n",
    "        print(\"No valid aggregation method provided. Please select: mean, median, min, max.\")\n",
    "    # Reshape the output from 1*256 to 16*16 and return product \n",
    "    return character_stats.values.reshape(16,16)"
   ]
  },
  {
   "cell_type": "code",
   "execution_count": 4,
   "metadata": {},
   "outputs": [],
   "source": [
    "\"\"\"\n",
    "For handling of training and test datasets \n",
    "\"\"\"\n",
    "\n",
    "class Experiment:\n",
    "    def __init__(self, targets_train, targets_test):\n",
    "        self.results_train = pd.DataFrame(targets_train, columns=[\"targets\"])\n",
    "        self.results_test = pd.DataFrame(targets_test, columns=[\"targets\"])\n",
    "\n",
    "        self.input_data = {}\n",
    "        \n",
    "        self.names = []        \n",
    "        self.configs = []\n",
    "\n",
    "        \n",
    "    def get_names(self):\n",
    "        return self.names\n",
    "    \n",
    "    \n",
    "    def get_results(self):\n",
    "        return self.results_train, self.results_test\n",
    "    \n",
    "    def get_config_map(self):\n",
    "        for conf in self.configs:\n",
    "            print(\"CONFIG:\", conf['name'], conf['input_data_name'], \\\n",
    "                  \"\\tNo. of features:\", self.input_data[conf['input_data_name']]['data'].shape[1])\n",
    "    \n",
    "    \n",
    "    def add_input_data(self, name, data, description=\"\"):\n",
    "        self.input_data[name] = {'description': description, 'data': data}\n",
    "    \n",
    "    \n",
    "    def add_config(self, algo, name, input_data_name):\n",
    "        # TODO: add check for duplicate names\n",
    "        if input_data_name not in self.input_data:\n",
    "            print(\"ERROR: feature_set_name not found\")\n",
    "            return \n",
    "        \n",
    "        self.names.append(name)\n",
    "        self.configs.append({ 'name': name, 'algo': algo, 'input_data_name': input_data_name, 'fit': -1})\n",
    "        \n",
    "\n",
    "    def _fit(self, conf):\n",
    "        # get features\n",
    "        input_data = self.input_data[conf['input_data_name']]['data']\n",
    "\n",
    "        # fit the features\n",
    "        print(\"Fitting \", conf['name'], \"... \",)\n",
    "        \n",
    "        start = time.time() # Start time \n",
    "        conf['fit'] = conf['algo'].fit(input_data, self.results_train['targets'])\n",
    "        end = time.time() # End time\n",
    "        \n",
    "        print(\"done in \", end - start , \"s.\")\n",
    "\n",
    "        \n",
    "    \n",
    "    def _test(self, conf, data, train):\n",
    "        if data.shape[1] != self.input_data[conf['input_data_name']]['data'].shape[1]:\n",
    "            print(\"ERROR: Number of input features does not match (\", conf['name'], \")\")\n",
    "            return\n",
    "        \n",
    "        print(\"Testing data with\", conf['name'], \"... \",)\n",
    "        \n",
    "        start = time.time() # Start time \n",
    "        if train:\n",
    "            self.results_train[conf['name']] = conf['algo'].predict(data)\n",
    "        else:\n",
    "            self.results_test[conf['name']] = conf['algo'].predict(data)\n",
    "        end = time.time() # End time \n",
    "        \n",
    "        print(\"done in \", end - start , \"s.\")\n",
    "\n",
    "        \n",
    "    def fit(self):\n",
    "        '''Only trains algorithms if no fit has been calculated before'''\n",
    "        for conf in self.configs:\n",
    "            if conf['fit'] == -1:\n",
    "                self._fit(conf)\n",
    "\n",
    "                \n",
    "    def fit_all(self, data):\n",
    "        '''Trains all algorithms with given data'''\n",
    "        for conf in self.configs:\n",
    "            self._fit(conf)\n",
    "\n",
    "            \n",
    "    def refit(self, data):\n",
    "        '''Retrains all algorithms with given data that have been trained before'''\n",
    "        for conf in self.configs:\n",
    "            if conf['fit'] != -1:\n",
    "                self._fit(conf)\n",
    "\n",
    "                \n",
    "    def test(self, name, data, train=False):\n",
    "        for conf in self.configs:\n",
    "            if conf['fit'] != -1 and conf['name'] == name:\n",
    "                self._test(conf, data, train)\n",
    "\n",
    "    def test_all(self, data, train=False):\n",
    "        for conf in self.configs:\n",
    "            if conf['fit'] != -1:\n",
    "                self._test(conf, data, train)\n",
    "\n",
    "                \n",
    "    def get_count_df(self, name):\n",
    "        count_matrix = np.zeros((10,10)) \n",
    "        for digit in range(0,10):\n",
    "            cluster_counts = self.results_train[self.results_train['targets'] == digit].groupby(name).count()['targets']\n",
    "            for cluster in cluster_counts.keys():\n",
    "                count_matrix[digit][cluster] = cluster_counts[cluster]\n",
    "        \n",
    "        col_names = []\n",
    "        for i in range(0,10):\n",
    "            col_names.append(\"C_\" + str(i))\n",
    "    \n",
    "        return pd.DataFrame(count_matrix, columns=col_names)\n",
    "\n",
    "    def get_norm_df(self, name):\n",
    "        count_df = self.get_count_df(name)\n",
    "        return count_df.divide(count_df.sum(1), axis=0)\n",
    "    \n",
    "    \n",
    "    def get_all_error_rates(self):\n",
    "        error_rates = {}\n",
    "        for conf in self.configs:\n",
    "            if (conf['fit'] != -1) & (conf['name'] in self.results_train.columns):\n",
    "                error_rates[conf['name']] = self.get_error_rate(conf['name'])\n",
    "        return error_rates\n",
    "                \n",
    "    def get_error_rate(self, name):\n",
    "        '''Determine classification error by identifying best fitting column assignment'''"
   ]
  },
  {
   "cell_type": "markdown",
   "metadata": {},
   "source": [
    "---"
   ]
  },
  {
   "cell_type": "markdown",
   "metadata": {},
   "source": [
    "## Importing and preparing the data"
   ]
  },
  {
   "cell_type": "code",
   "execution_count": 5,
   "metadata": {},
   "outputs": [],
   "source": [
    "# Read CSV file into a pandas DataFrame \n",
    "# Does *not* use first line as a header, recognizes white space character as a field separator \n",
    "# see https://pandas.pydata.org/pandas-docs/stable/generated/pandas.read_csv.html \n",
    "train_data = pd.read_csv(\"data/zip.train\", header=None, sep=\" \")\n",
    "test_data = pd.read_csv(\"data/zip.test\", header=None, sep=\" \")"
   ]
  },
  {
   "cell_type": "code",
   "execution_count": 6,
   "metadata": {},
   "outputs": [
    {
     "data": {
      "text/html": [
       "<div>\n",
       "<style scoped>\n",
       "    .dataframe tbody tr th:only-of-type {\n",
       "        vertical-align: middle;\n",
       "    }\n",
       "\n",
       "    .dataframe tbody tr th {\n",
       "        vertical-align: top;\n",
       "    }\n",
       "\n",
       "    .dataframe thead th {\n",
       "        text-align: right;\n",
       "    }\n",
       "</style>\n",
       "<table border=\"1\" class=\"dataframe\">\n",
       "  <thead>\n",
       "    <tr style=\"text-align: right;\">\n",
       "      <th></th>\n",
       "      <th>0</th>\n",
       "      <th>1</th>\n",
       "      <th>2</th>\n",
       "      <th>3</th>\n",
       "      <th>4</th>\n",
       "      <th>5</th>\n",
       "      <th>6</th>\n",
       "      <th>7</th>\n",
       "      <th>8</th>\n",
       "      <th>9</th>\n",
       "      <th>...</th>\n",
       "      <th>248</th>\n",
       "      <th>249</th>\n",
       "      <th>250</th>\n",
       "      <th>251</th>\n",
       "      <th>252</th>\n",
       "      <th>253</th>\n",
       "      <th>254</th>\n",
       "      <th>255</th>\n",
       "      <th>256</th>\n",
       "      <th>257</th>\n",
       "    </tr>\n",
       "  </thead>\n",
       "  <tbody>\n",
       "    <tr>\n",
       "      <th>0</th>\n",
       "      <td>6.0</td>\n",
       "      <td>-1.0</td>\n",
       "      <td>-1.0</td>\n",
       "      <td>-1.0</td>\n",
       "      <td>-1.000</td>\n",
       "      <td>-1.000</td>\n",
       "      <td>-1.000</td>\n",
       "      <td>-1.000</td>\n",
       "      <td>-0.631</td>\n",
       "      <td>0.862</td>\n",
       "      <td>...</td>\n",
       "      <td>0.823</td>\n",
       "      <td>1.000</td>\n",
       "      <td>0.482</td>\n",
       "      <td>-0.474</td>\n",
       "      <td>-0.991</td>\n",
       "      <td>-1.000</td>\n",
       "      <td>-1.000</td>\n",
       "      <td>-1.000</td>\n",
       "      <td>-1.0</td>\n",
       "      <td>NaN</td>\n",
       "    </tr>\n",
       "    <tr>\n",
       "      <th>1</th>\n",
       "      <td>5.0</td>\n",
       "      <td>-1.0</td>\n",
       "      <td>-1.0</td>\n",
       "      <td>-1.0</td>\n",
       "      <td>-0.813</td>\n",
       "      <td>-0.671</td>\n",
       "      <td>-0.809</td>\n",
       "      <td>-0.887</td>\n",
       "      <td>-0.671</td>\n",
       "      <td>-0.853</td>\n",
       "      <td>...</td>\n",
       "      <td>-0.671</td>\n",
       "      <td>-0.033</td>\n",
       "      <td>0.761</td>\n",
       "      <td>0.762</td>\n",
       "      <td>0.126</td>\n",
       "      <td>-0.095</td>\n",
       "      <td>-0.671</td>\n",
       "      <td>-0.828</td>\n",
       "      <td>-1.0</td>\n",
       "      <td>NaN</td>\n",
       "    </tr>\n",
       "    <tr>\n",
       "      <th>2</th>\n",
       "      <td>4.0</td>\n",
       "      <td>-1.0</td>\n",
       "      <td>-1.0</td>\n",
       "      <td>-1.0</td>\n",
       "      <td>-1.000</td>\n",
       "      <td>-1.000</td>\n",
       "      <td>-1.000</td>\n",
       "      <td>-1.000</td>\n",
       "      <td>-1.000</td>\n",
       "      <td>-1.000</td>\n",
       "      <td>...</td>\n",
       "      <td>-1.000</td>\n",
       "      <td>-1.000</td>\n",
       "      <td>-0.109</td>\n",
       "      <td>1.000</td>\n",
       "      <td>-0.179</td>\n",
       "      <td>-1.000</td>\n",
       "      <td>-1.000</td>\n",
       "      <td>-1.000</td>\n",
       "      <td>-1.0</td>\n",
       "      <td>NaN</td>\n",
       "    </tr>\n",
       "    <tr>\n",
       "      <th>3</th>\n",
       "      <td>7.0</td>\n",
       "      <td>-1.0</td>\n",
       "      <td>-1.0</td>\n",
       "      <td>-1.0</td>\n",
       "      <td>-1.000</td>\n",
       "      <td>-1.000</td>\n",
       "      <td>-0.273</td>\n",
       "      <td>0.684</td>\n",
       "      <td>0.960</td>\n",
       "      <td>0.450</td>\n",
       "      <td>...</td>\n",
       "      <td>1.000</td>\n",
       "      <td>0.536</td>\n",
       "      <td>-0.987</td>\n",
       "      <td>-1.000</td>\n",
       "      <td>-1.000</td>\n",
       "      <td>-1.000</td>\n",
       "      <td>-1.000</td>\n",
       "      <td>-1.000</td>\n",
       "      <td>-1.0</td>\n",
       "      <td>NaN</td>\n",
       "    </tr>\n",
       "    <tr>\n",
       "      <th>4</th>\n",
       "      <td>3.0</td>\n",
       "      <td>-1.0</td>\n",
       "      <td>-1.0</td>\n",
       "      <td>-1.0</td>\n",
       "      <td>-1.000</td>\n",
       "      <td>-1.000</td>\n",
       "      <td>-0.928</td>\n",
       "      <td>-0.204</td>\n",
       "      <td>0.751</td>\n",
       "      <td>0.466</td>\n",
       "      <td>...</td>\n",
       "      <td>0.639</td>\n",
       "      <td>1.000</td>\n",
       "      <td>1.000</td>\n",
       "      <td>0.791</td>\n",
       "      <td>0.439</td>\n",
       "      <td>-0.199</td>\n",
       "      <td>-0.883</td>\n",
       "      <td>-1.000</td>\n",
       "      <td>-1.0</td>\n",
       "      <td>NaN</td>\n",
       "    </tr>\n",
       "  </tbody>\n",
       "</table>\n",
       "<p>5 rows × 258 columns</p>\n",
       "</div>"
      ],
      "text/plain": [
       "   0    1    2    3      4      5      6      7      8      9   ...     248  \\\n",
       "0  6.0 -1.0 -1.0 -1.0 -1.000 -1.000 -1.000 -1.000 -0.631  0.862 ...   0.823   \n",
       "1  5.0 -1.0 -1.0 -1.0 -0.813 -0.671 -0.809 -0.887 -0.671 -0.853 ...  -0.671   \n",
       "2  4.0 -1.0 -1.0 -1.0 -1.000 -1.000 -1.000 -1.000 -1.000 -1.000 ...  -1.000   \n",
       "3  7.0 -1.0 -1.0 -1.0 -1.000 -1.000 -0.273  0.684  0.960  0.450 ...   1.000   \n",
       "4  3.0 -1.0 -1.0 -1.0 -1.000 -1.000 -0.928 -0.204  0.751  0.466 ...   0.639   \n",
       "\n",
       "     249    250    251    252    253    254    255  256  257  \n",
       "0  1.000  0.482 -0.474 -0.991 -1.000 -1.000 -1.000 -1.0  NaN  \n",
       "1 -0.033  0.761  0.762  0.126 -0.095 -0.671 -0.828 -1.0  NaN  \n",
       "2 -1.000 -0.109  1.000 -0.179 -1.000 -1.000 -1.000 -1.0  NaN  \n",
       "3  0.536 -0.987 -1.000 -1.000 -1.000 -1.000 -1.000 -1.0  NaN  \n",
       "4  1.000  1.000  0.791  0.439 -0.199 -0.883 -1.000 -1.0  NaN  \n",
       "\n",
       "[5 rows x 258 columns]"
      ]
     },
     "execution_count": 6,
     "metadata": {},
     "output_type": "execute_result"
    }
   ],
   "source": [
    "# Display the first lines of data to get a first impression \n",
    "train_data.head()"
   ]
  },
  {
   "cell_type": "code",
   "execution_count": 7,
   "metadata": {},
   "outputs": [
    {
     "data": {
      "text/html": [
       "<div>\n",
       "<style scoped>\n",
       "    .dataframe tbody tr th:only-of-type {\n",
       "        vertical-align: middle;\n",
       "    }\n",
       "\n",
       "    .dataframe tbody tr th {\n",
       "        vertical-align: top;\n",
       "    }\n",
       "\n",
       "    .dataframe thead th {\n",
       "        text-align: right;\n",
       "    }\n",
       "</style>\n",
       "<table border=\"1\" class=\"dataframe\">\n",
       "  <thead>\n",
       "    <tr style=\"text-align: right;\">\n",
       "      <th></th>\n",
       "      <th>0</th>\n",
       "      <th>1</th>\n",
       "      <th>2</th>\n",
       "      <th>3</th>\n",
       "      <th>4</th>\n",
       "      <th>5</th>\n",
       "      <th>6</th>\n",
       "      <th>7</th>\n",
       "      <th>8</th>\n",
       "      <th>9</th>\n",
       "      <th>...</th>\n",
       "      <th>247</th>\n",
       "      <th>248</th>\n",
       "      <th>249</th>\n",
       "      <th>250</th>\n",
       "      <th>251</th>\n",
       "      <th>252</th>\n",
       "      <th>253</th>\n",
       "      <th>254</th>\n",
       "      <th>255</th>\n",
       "      <th>256</th>\n",
       "    </tr>\n",
       "  </thead>\n",
       "  <tbody>\n",
       "    <tr>\n",
       "      <th>0</th>\n",
       "      <td>9</td>\n",
       "      <td>-1.0</td>\n",
       "      <td>-1.0</td>\n",
       "      <td>-1.0</td>\n",
       "      <td>-1.000</td>\n",
       "      <td>-1.0</td>\n",
       "      <td>-0.948</td>\n",
       "      <td>-0.561</td>\n",
       "      <td>0.148</td>\n",
       "      <td>0.384</td>\n",
       "      <td>...</td>\n",
       "      <td>-1.000</td>\n",
       "      <td>-0.908</td>\n",
       "      <td>0.430</td>\n",
       "      <td>0.622</td>\n",
       "      <td>-0.973</td>\n",
       "      <td>-1.000</td>\n",
       "      <td>-1.0</td>\n",
       "      <td>-1.0</td>\n",
       "      <td>-1.0</td>\n",
       "      <td>-1.0</td>\n",
       "    </tr>\n",
       "    <tr>\n",
       "      <th>1</th>\n",
       "      <td>6</td>\n",
       "      <td>-1.0</td>\n",
       "      <td>-1.0</td>\n",
       "      <td>-1.0</td>\n",
       "      <td>-1.000</td>\n",
       "      <td>-1.0</td>\n",
       "      <td>-1.000</td>\n",
       "      <td>-1.000</td>\n",
       "      <td>-1.000</td>\n",
       "      <td>-1.000</td>\n",
       "      <td>...</td>\n",
       "      <td>-1.000</td>\n",
       "      <td>-1.000</td>\n",
       "      <td>-1.000</td>\n",
       "      <td>-1.000</td>\n",
       "      <td>-1.000</td>\n",
       "      <td>-1.000</td>\n",
       "      <td>-1.0</td>\n",
       "      <td>-1.0</td>\n",
       "      <td>-1.0</td>\n",
       "      <td>-1.0</td>\n",
       "    </tr>\n",
       "    <tr>\n",
       "      <th>2</th>\n",
       "      <td>3</td>\n",
       "      <td>-1.0</td>\n",
       "      <td>-1.0</td>\n",
       "      <td>-1.0</td>\n",
       "      <td>-0.593</td>\n",
       "      <td>0.7</td>\n",
       "      <td>1.000</td>\n",
       "      <td>1.000</td>\n",
       "      <td>1.000</td>\n",
       "      <td>1.000</td>\n",
       "      <td>...</td>\n",
       "      <td>1.000</td>\n",
       "      <td>0.717</td>\n",
       "      <td>0.333</td>\n",
       "      <td>0.162</td>\n",
       "      <td>-0.393</td>\n",
       "      <td>-1.000</td>\n",
       "      <td>-1.0</td>\n",
       "      <td>-1.0</td>\n",
       "      <td>-1.0</td>\n",
       "      <td>-1.0</td>\n",
       "    </tr>\n",
       "    <tr>\n",
       "      <th>3</th>\n",
       "      <td>6</td>\n",
       "      <td>-1.0</td>\n",
       "      <td>-1.0</td>\n",
       "      <td>-1.0</td>\n",
       "      <td>-1.000</td>\n",
       "      <td>-1.0</td>\n",
       "      <td>-1.000</td>\n",
       "      <td>-1.000</td>\n",
       "      <td>-1.000</td>\n",
       "      <td>-1.000</td>\n",
       "      <td>...</td>\n",
       "      <td>-1.000</td>\n",
       "      <td>-1.000</td>\n",
       "      <td>-1.000</td>\n",
       "      <td>-1.000</td>\n",
       "      <td>-1.000</td>\n",
       "      <td>-1.000</td>\n",
       "      <td>-1.0</td>\n",
       "      <td>-1.0</td>\n",
       "      <td>-1.0</td>\n",
       "      <td>-1.0</td>\n",
       "    </tr>\n",
       "    <tr>\n",
       "      <th>4</th>\n",
       "      <td>6</td>\n",
       "      <td>-1.0</td>\n",
       "      <td>-1.0</td>\n",
       "      <td>-1.0</td>\n",
       "      <td>-1.000</td>\n",
       "      <td>-1.0</td>\n",
       "      <td>-1.000</td>\n",
       "      <td>-1.000</td>\n",
       "      <td>-0.858</td>\n",
       "      <td>-0.106</td>\n",
       "      <td>...</td>\n",
       "      <td>0.901</td>\n",
       "      <td>0.901</td>\n",
       "      <td>0.901</td>\n",
       "      <td>0.290</td>\n",
       "      <td>-0.369</td>\n",
       "      <td>-0.867</td>\n",
       "      <td>-1.0</td>\n",
       "      <td>-1.0</td>\n",
       "      <td>-1.0</td>\n",
       "      <td>-1.0</td>\n",
       "    </tr>\n",
       "  </tbody>\n",
       "</table>\n",
       "<p>5 rows × 257 columns</p>\n",
       "</div>"
      ],
      "text/plain": [
       "   0    1    2    3      4    5      6      7      8      9   ...     247  \\\n",
       "0    9 -1.0 -1.0 -1.0 -1.000 -1.0 -0.948 -0.561  0.148  0.384 ...  -1.000   \n",
       "1    6 -1.0 -1.0 -1.0 -1.000 -1.0 -1.000 -1.000 -1.000 -1.000 ...  -1.000   \n",
       "2    3 -1.0 -1.0 -1.0 -0.593  0.7  1.000  1.000  1.000  1.000 ...   1.000   \n",
       "3    6 -1.0 -1.0 -1.0 -1.000 -1.0 -1.000 -1.000 -1.000 -1.000 ...  -1.000   \n",
       "4    6 -1.0 -1.0 -1.0 -1.000 -1.0 -1.000 -1.000 -0.858 -0.106 ...   0.901   \n",
       "\n",
       "     248    249    250    251    252  253  254  255  256  \n",
       "0 -0.908  0.430  0.622 -0.973 -1.000 -1.0 -1.0 -1.0 -1.0  \n",
       "1 -1.000 -1.000 -1.000 -1.000 -1.000 -1.0 -1.0 -1.0 -1.0  \n",
       "2  0.717  0.333  0.162 -0.393 -1.000 -1.0 -1.0 -1.0 -1.0  \n",
       "3 -1.000 -1.000 -1.000 -1.000 -1.000 -1.0 -1.0 -1.0 -1.0  \n",
       "4  0.901  0.901  0.290 -0.369 -0.867 -1.0 -1.0 -1.0 -1.0  \n",
       "\n",
       "[5 rows x 257 columns]"
      ]
     },
     "execution_count": 7,
     "metadata": {},
     "output_type": "execute_result"
    }
   ],
   "source": [
    "# Display the first lines of data to get a first impression \n",
    "test_data.head()"
   ]
  },
  {
   "cell_type": "code",
   "execution_count": 8,
   "metadata": {},
   "outputs": [],
   "source": [
    "# Lose the last column of train dataset \n",
    "del train_data[257]"
   ]
  },
  {
   "cell_type": "code",
   "execution_count": 9,
   "metadata": {},
   "outputs": [],
   "source": [
    "\"\"\"\n",
    "The int() method can *not* be applied to a pandas Series, so in order to \n",
    "convert the values in row 0 to integers a lambda function is defined \n",
    "and applied on row 0 of the pandas Series. \n",
    "\"\"\"\n",
    "\n",
    "int_x = lambda x: int(x)\n",
    "train_data.iloc[:,0] = train_data.iloc[:,0].apply(int_x)"
   ]
  },
  {
   "cell_type": "code",
   "execution_count": 10,
   "metadata": {},
   "outputs": [
    {
     "data": {
      "text/html": [
       "<div>\n",
       "<style scoped>\n",
       "    .dataframe tbody tr th:only-of-type {\n",
       "        vertical-align: middle;\n",
       "    }\n",
       "\n",
       "    .dataframe tbody tr th {\n",
       "        vertical-align: top;\n",
       "    }\n",
       "\n",
       "    .dataframe thead th {\n",
       "        text-align: right;\n",
       "    }\n",
       "</style>\n",
       "<table border=\"1\" class=\"dataframe\">\n",
       "  <thead>\n",
       "    <tr style=\"text-align: right;\">\n",
       "      <th></th>\n",
       "      <th>0</th>\n",
       "      <th>1</th>\n",
       "      <th>2</th>\n",
       "      <th>3</th>\n",
       "      <th>4</th>\n",
       "      <th>5</th>\n",
       "      <th>6</th>\n",
       "      <th>7</th>\n",
       "      <th>8</th>\n",
       "      <th>9</th>\n",
       "      <th>...</th>\n",
       "      <th>247</th>\n",
       "      <th>248</th>\n",
       "      <th>249</th>\n",
       "      <th>250</th>\n",
       "      <th>251</th>\n",
       "      <th>252</th>\n",
       "      <th>253</th>\n",
       "      <th>254</th>\n",
       "      <th>255</th>\n",
       "      <th>256</th>\n",
       "    </tr>\n",
       "  </thead>\n",
       "  <tbody>\n",
       "    <tr>\n",
       "      <th>0</th>\n",
       "      <td>6</td>\n",
       "      <td>-1.0</td>\n",
       "      <td>-1.0</td>\n",
       "      <td>-1.0</td>\n",
       "      <td>-1.000</td>\n",
       "      <td>-1.000</td>\n",
       "      <td>-1.000</td>\n",
       "      <td>-1.000</td>\n",
       "      <td>-0.631</td>\n",
       "      <td>0.862</td>\n",
       "      <td>...</td>\n",
       "      <td>0.304</td>\n",
       "      <td>0.823</td>\n",
       "      <td>1.000</td>\n",
       "      <td>0.482</td>\n",
       "      <td>-0.474</td>\n",
       "      <td>-0.991</td>\n",
       "      <td>-1.000</td>\n",
       "      <td>-1.000</td>\n",
       "      <td>-1.000</td>\n",
       "      <td>-1.0</td>\n",
       "    </tr>\n",
       "    <tr>\n",
       "      <th>1</th>\n",
       "      <td>5</td>\n",
       "      <td>-1.0</td>\n",
       "      <td>-1.0</td>\n",
       "      <td>-1.0</td>\n",
       "      <td>-0.813</td>\n",
       "      <td>-0.671</td>\n",
       "      <td>-0.809</td>\n",
       "      <td>-0.887</td>\n",
       "      <td>-0.671</td>\n",
       "      <td>-0.853</td>\n",
       "      <td>...</td>\n",
       "      <td>-0.671</td>\n",
       "      <td>-0.671</td>\n",
       "      <td>-0.033</td>\n",
       "      <td>0.761</td>\n",
       "      <td>0.762</td>\n",
       "      <td>0.126</td>\n",
       "      <td>-0.095</td>\n",
       "      <td>-0.671</td>\n",
       "      <td>-0.828</td>\n",
       "      <td>-1.0</td>\n",
       "    </tr>\n",
       "    <tr>\n",
       "      <th>2</th>\n",
       "      <td>4</td>\n",
       "      <td>-1.0</td>\n",
       "      <td>-1.0</td>\n",
       "      <td>-1.0</td>\n",
       "      <td>-1.000</td>\n",
       "      <td>-1.000</td>\n",
       "      <td>-1.000</td>\n",
       "      <td>-1.000</td>\n",
       "      <td>-1.000</td>\n",
       "      <td>-1.000</td>\n",
       "      <td>...</td>\n",
       "      <td>-1.000</td>\n",
       "      <td>-1.000</td>\n",
       "      <td>-1.000</td>\n",
       "      <td>-0.109</td>\n",
       "      <td>1.000</td>\n",
       "      <td>-0.179</td>\n",
       "      <td>-1.000</td>\n",
       "      <td>-1.000</td>\n",
       "      <td>-1.000</td>\n",
       "      <td>-1.0</td>\n",
       "    </tr>\n",
       "    <tr>\n",
       "      <th>3</th>\n",
       "      <td>7</td>\n",
       "      <td>-1.0</td>\n",
       "      <td>-1.0</td>\n",
       "      <td>-1.0</td>\n",
       "      <td>-1.000</td>\n",
       "      <td>-1.000</td>\n",
       "      <td>-0.273</td>\n",
       "      <td>0.684</td>\n",
       "      <td>0.960</td>\n",
       "      <td>0.450</td>\n",
       "      <td>...</td>\n",
       "      <td>-0.318</td>\n",
       "      <td>1.000</td>\n",
       "      <td>0.536</td>\n",
       "      <td>-0.987</td>\n",
       "      <td>-1.000</td>\n",
       "      <td>-1.000</td>\n",
       "      <td>-1.000</td>\n",
       "      <td>-1.000</td>\n",
       "      <td>-1.000</td>\n",
       "      <td>-1.0</td>\n",
       "    </tr>\n",
       "    <tr>\n",
       "      <th>4</th>\n",
       "      <td>3</td>\n",
       "      <td>-1.0</td>\n",
       "      <td>-1.0</td>\n",
       "      <td>-1.0</td>\n",
       "      <td>-1.000</td>\n",
       "      <td>-1.000</td>\n",
       "      <td>-0.928</td>\n",
       "      <td>-0.204</td>\n",
       "      <td>0.751</td>\n",
       "      <td>0.466</td>\n",
       "      <td>...</td>\n",
       "      <td>0.466</td>\n",
       "      <td>0.639</td>\n",
       "      <td>1.000</td>\n",
       "      <td>1.000</td>\n",
       "      <td>0.791</td>\n",
       "      <td>0.439</td>\n",
       "      <td>-0.199</td>\n",
       "      <td>-0.883</td>\n",
       "      <td>-1.000</td>\n",
       "      <td>-1.0</td>\n",
       "    </tr>\n",
       "  </tbody>\n",
       "</table>\n",
       "<p>5 rows × 257 columns</p>\n",
       "</div>"
      ],
      "text/plain": [
       "   0    1    2    3      4      5      6      7      8      9   ...     247  \\\n",
       "0    6 -1.0 -1.0 -1.0 -1.000 -1.000 -1.000 -1.000 -0.631  0.862 ...   0.304   \n",
       "1    5 -1.0 -1.0 -1.0 -0.813 -0.671 -0.809 -0.887 -0.671 -0.853 ...  -0.671   \n",
       "2    4 -1.0 -1.0 -1.0 -1.000 -1.000 -1.000 -1.000 -1.000 -1.000 ...  -1.000   \n",
       "3    7 -1.0 -1.0 -1.0 -1.000 -1.000 -0.273  0.684  0.960  0.450 ...  -0.318   \n",
       "4    3 -1.0 -1.0 -1.0 -1.000 -1.000 -0.928 -0.204  0.751  0.466 ...   0.466   \n",
       "\n",
       "     248    249    250    251    252    253    254    255  256  \n",
       "0  0.823  1.000  0.482 -0.474 -0.991 -1.000 -1.000 -1.000 -1.0  \n",
       "1 -0.671 -0.033  0.761  0.762  0.126 -0.095 -0.671 -0.828 -1.0  \n",
       "2 -1.000 -1.000 -0.109  1.000 -0.179 -1.000 -1.000 -1.000 -1.0  \n",
       "3  1.000  0.536 -0.987 -1.000 -1.000 -1.000 -1.000 -1.000 -1.0  \n",
       "4  0.639  1.000  1.000  0.791  0.439 -0.199 -0.883 -1.000 -1.0  \n",
       "\n",
       "[5 rows x 257 columns]"
      ]
     },
     "execution_count": 10,
     "metadata": {},
     "output_type": "execute_result"
    }
   ],
   "source": [
    "train_data.head()"
   ]
  },
  {
   "cell_type": "markdown",
   "metadata": {},
   "source": [
    "---"
   ]
  },
  {
   "cell_type": "markdown",
   "metadata": {},
   "source": [
    "## Visualizing data"
   ]
  },
  {
   "cell_type": "code",
   "execution_count": 11,
   "metadata": {},
   "outputs": [
    {
     "data": {
      "image/png": "[encoded data removed]",
      "text/plain": [
       "<Figure size 1440x720 with 10 Axes>"
      ]
     },
     "metadata": {},
     "output_type": "display_data"
    }
   ],
   "source": [
    "plt.figure(1, figsize=(20, 10))\n",
    "\n",
    "for i in range(0,10):\n",
    "    image = make_character_image(train_data,i,'mean')\n",
    "    \n",
    "    # create one subplot for every character \n",
    "    plt.subplot(2,5, 1 + i)\n",
    "    plt.imshow(image, cmap='Greys', interpolation='Lanczos')\n",
    "    ticks_val = [0, 4, 8, 12, 16] \n",
    "    ticks_lab = ['0', '4', '8', '12', '16'] \n",
    "    plt.title(i)\n",
    "    plt.xticks(ticks_val, ticks_lab)\n",
    "    plt.yticks(ticks_val, ticks_lab)\n",
    "    \n",
    "plt.show()"
   ]
  },
  {
   "cell_type": "markdown",
   "metadata": {},
   "source": [
    "---"
   ]
  },
  {
   "cell_type": "markdown",
   "metadata": {},
   "source": [
    "## Classification (Training)"
   ]
  },
  {
   "cell_type": "code",
   "execution_count": 12,
   "metadata": {},
   "outputs": [
    {
     "data": {
      "text/plain": [
       "(7291, 256)"
      ]
     },
     "execution_count": 12,
     "metadata": {},
     "output_type": "execute_result"
    }
   ],
   "source": [
    "input_data = train_data.iloc[:,1:].values\n",
    "input_data.shape"
   ]
  },
  {
   "cell_type": "code",
   "execution_count": 13,
   "metadata": {},
   "outputs": [],
   "source": [
    "# Set targets\n",
    "exp = Experiment(train_data[0].values, test_data[0].values)"
   ]
  },
  {
   "cell_type": "code",
   "execution_count": 14,
   "metadata": {},
   "outputs": [],
   "source": [
    "results_train, results_test = exp.get_results()"
   ]
  },
  {
   "cell_type": "code",
   "execution_count": 15,
   "metadata": {
    "scrolled": true
   },
   "outputs": [
    {
     "data": {
      "text/html": [
       "<div>\n",
       "<style scoped>\n",
       "    .dataframe tbody tr th:only-of-type {\n",
       "        vertical-align: middle;\n",
       "    }\n",
       "\n",
       "    .dataframe tbody tr th {\n",
       "        vertical-align: top;\n",
       "    }\n",
       "\n",
       "    .dataframe thead th {\n",
       "        text-align: right;\n",
       "    }\n",
       "</style>\n",
       "<table border=\"1\" class=\"dataframe\">\n",
       "  <thead>\n",
       "    <tr style=\"text-align: right;\">\n",
       "      <th></th>\n",
       "      <th>targets</th>\n",
       "    </tr>\n",
       "  </thead>\n",
       "  <tbody>\n",
       "    <tr>\n",
       "      <th>0</th>\n",
       "      <td>6</td>\n",
       "    </tr>\n",
       "    <tr>\n",
       "      <th>1</th>\n",
       "      <td>5</td>\n",
       "    </tr>\n",
       "    <tr>\n",
       "      <th>2</th>\n",
       "      <td>4</td>\n",
       "    </tr>\n",
       "    <tr>\n",
       "      <th>3</th>\n",
       "      <td>7</td>\n",
       "    </tr>\n",
       "    <tr>\n",
       "      <th>4</th>\n",
       "      <td>3</td>\n",
       "    </tr>\n",
       "  </tbody>\n",
       "</table>\n",
       "</div>"
      ],
      "text/plain": [
       "   targets\n",
       "0        6\n",
       "1        5\n",
       "2        4\n",
       "3        7\n",
       "4        3"
      ]
     },
     "execution_count": 15,
     "metadata": {},
     "output_type": "execute_result"
    }
   ],
   "source": [
    "results_train.head()"
   ]
  },
  {
   "cell_type": "markdown",
   "metadata": {},
   "source": [
    "### Add inputs"
   ]
  },
  {
   "cell_type": "code",
   "execution_count": 16,
   "metadata": {},
   "outputs": [],
   "source": [
    "# input features are the individual pixels of the image - without transformation\n",
    "exp.add_input_data('256_pixel', input_data)"
   ]
  },
  {
   "cell_type": "code",
   "execution_count": 17,
   "metadata": {},
   "outputs": [
    {
     "data": {
      "text/plain": [
       "{'256_pixel': {'description': '',\n",
       "  'data': array([[-1.   , -1.   , -1.   , ..., -1.   , -1.   , -1.   ],\n",
       "         [-1.   , -1.   , -1.   , ..., -0.671, -0.828, -1.   ],\n",
       "         [-1.   , -1.   , -1.   , ..., -1.   , -1.   , -1.   ],\n",
       "         ...,\n",
       "         [-1.   , -1.   , -1.   , ..., -1.   , -1.   , -1.   ],\n",
       "         [-1.   , -1.   , -1.   , ..., -1.   , -1.   , -1.   ],\n",
       "         [-1.   , -1.   , -1.   , ..., -1.   , -1.   , -1.   ]])}}"
      ]
     },
     "execution_count": 17,
     "metadata": {},
     "output_type": "execute_result"
    }
   ],
   "source": [
    "exp.input_data"
   ]
  },
  {
   "cell_type": "code",
   "execution_count": 18,
   "metadata": {},
   "outputs": [],
   "source": [
    "for n in range (3,6):\n",
    "    exp.add_config(KNeighborsClassifier(n_neighbors=n, weights='uniform', n_jobs=-1), \\\n",
    "                   'KNN_' + str(n) + '_weight=uniform', '256_pixel')\n",
    "    exp.add_config(KNeighborsClassifier(n_neighbors=n, weights='distance', n_jobs=-1), \\\n",
    "                   'KNN_' + str(n) + '_weight=distance', '256_pixel')"
   ]
  },
  {
   "cell_type": "code",
   "execution_count": 19,
   "metadata": {},
   "outputs": [
    {
     "data": {
      "text/plain": [
       "['KNN_3_weight=uniform',\n",
       " 'KNN_3_weight=distance',\n",
       " 'KNN_4_weight=uniform',\n",
       " 'KNN_4_weight=distance',\n",
       " 'KNN_5_weight=uniform',\n",
       " 'KNN_5_weight=distance']"
      ]
     },
     "execution_count": 19,
     "metadata": {},
     "output_type": "execute_result"
    }
   ],
   "source": [
    "exp.get_names()"
   ]
  },
  {
   "cell_type": "code",
   "execution_count": 20,
   "metadata": {},
   "outputs": [
    {
     "name": "stdout",
     "output_type": "stream",
     "text": [
      "CONFIG: KNN_3_weight=uniform 256_pixel \tNo. of features: 256\n",
      "CONFIG: KNN_3_weight=distance 256_pixel \tNo. of features: 256\n",
      "CONFIG: KNN_4_weight=uniform 256_pixel \tNo. of features: 256\n",
      "CONFIG: KNN_4_weight=distance 256_pixel \tNo. of features: 256\n",
      "CONFIG: KNN_5_weight=uniform 256_pixel \tNo. of features: 256\n",
      "CONFIG: KNN_5_weight=distance 256_pixel \tNo. of features: 256\n"
     ]
    }
   ],
   "source": [
    "exp.get_config_map()"
   ]
  },
  {
   "cell_type": "code",
   "execution_count": 21,
   "metadata": {},
   "outputs": [
    {
     "name": "stdout",
     "output_type": "stream",
     "text": [
      "Fitting  KNN_3_weight=uniform ... \n",
      "done in  0.38976097106933594 s.\n",
      "Fitting  KNN_3_weight=distance ... \n",
      "done in  0.3690958023071289 s.\n",
      "Fitting  KNN_4_weight=uniform ... \n",
      "done in  0.37052488327026367 s.\n",
      "Fitting  KNN_4_weight=distance ... \n",
      "done in  0.371140718460083 s.\n",
      "Fitting  KNN_5_weight=uniform ... \n",
      "done in  0.3815345764160156 s.\n",
      "Fitting  KNN_5_weight=distance ... \n",
      "done in  0.3903353214263916 s.\n"
     ]
    }
   ],
   "source": [
    "exp.fit()"
   ]
  },
  {
   "cell_type": "code",
   "execution_count": 22,
   "metadata": {},
   "outputs": [
    {
     "name": "stdout",
     "output_type": "stream",
     "text": [
      "Testing data with KNN_3_weight=uniform ... \n",
      "done in  12.954318761825562 s.\n",
      "Testing data with KNN_3_weight=distance ... \n",
      "done in  12.449019193649292 s.\n",
      "Testing data with KNN_4_weight=uniform ... \n",
      "done in  11.840736150741577 s.\n",
      "Testing data with KNN_4_weight=distance ... \n",
      "done in  11.946686506271362 s.\n",
      "Testing data with KNN_5_weight=uniform ... \n",
      "done in  12.257506132125854 s.\n",
      "Testing data with KNN_5_weight=distance ... \n",
      "done in  12.765860080718994 s.\n"
     ]
    }
   ],
   "source": [
    "exp.test_all(input_data, train=True)"
   ]
  },
  {
   "cell_type": "code",
   "execution_count": 23,
   "metadata": {},
   "outputs": [
    {
     "data": {
      "text/html": [
       "<div>\n",
       "<style scoped>\n",
       "    .dataframe tbody tr th:only-of-type {\n",
       "        vertical-align: middle;\n",
       "    }\n",
       "\n",
       "    .dataframe tbody tr th {\n",
       "        vertical-align: top;\n",
       "    }\n",
       "\n",
       "    .dataframe thead th {\n",
       "        text-align: right;\n",
       "    }\n",
       "</style>\n",
       "<table border=\"1\" class=\"dataframe\">\n",
       "  <thead>\n",
       "    <tr style=\"text-align: right;\">\n",
       "      <th></th>\n",
       "      <th>targets</th>\n",
       "      <th>KNN_3_weight=uniform</th>\n",
       "      <th>KNN_3_weight=distance</th>\n",
       "      <th>KNN_4_weight=uniform</th>\n",
       "      <th>KNN_4_weight=distance</th>\n",
       "      <th>KNN_5_weight=uniform</th>\n",
       "      <th>KNN_5_weight=distance</th>\n",
       "    </tr>\n",
       "  </thead>\n",
       "  <tbody>\n",
       "    <tr>\n",
       "      <th>0</th>\n",
       "      <td>6</td>\n",
       "      <td>6</td>\n",
       "      <td>6</td>\n",
       "      <td>6</td>\n",
       "      <td>6</td>\n",
       "      <td>6</td>\n",
       "      <td>6</td>\n",
       "    </tr>\n",
       "    <tr>\n",
       "      <th>1</th>\n",
       "      <td>5</td>\n",
       "      <td>5</td>\n",
       "      <td>5</td>\n",
       "      <td>5</td>\n",
       "      <td>5</td>\n",
       "      <td>5</td>\n",
       "      <td>5</td>\n",
       "    </tr>\n",
       "    <tr>\n",
       "      <th>2</th>\n",
       "      <td>4</td>\n",
       "      <td>4</td>\n",
       "      <td>4</td>\n",
       "      <td>4</td>\n",
       "      <td>4</td>\n",
       "      <td>4</td>\n",
       "      <td>4</td>\n",
       "    </tr>\n",
       "    <tr>\n",
       "      <th>3</th>\n",
       "      <td>7</td>\n",
       "      <td>7</td>\n",
       "      <td>7</td>\n",
       "      <td>7</td>\n",
       "      <td>7</td>\n",
       "      <td>7</td>\n",
       "      <td>7</td>\n",
       "    </tr>\n",
       "    <tr>\n",
       "      <th>4</th>\n",
       "      <td>3</td>\n",
       "      <td>3</td>\n",
       "      <td>3</td>\n",
       "      <td>3</td>\n",
       "      <td>3</td>\n",
       "      <td>3</td>\n",
       "      <td>3</td>\n",
       "    </tr>\n",
       "  </tbody>\n",
       "</table>\n",
       "</div>"
      ],
      "text/plain": [
       "   targets  KNN_3_weight=uniform  KNN_3_weight=distance  KNN_4_weight=uniform  \\\n",
       "0        6                     6                      6                     6   \n",
       "1        5                     5                      5                     5   \n",
       "2        4                     4                      4                     4   \n",
       "3        7                     7                      7                     7   \n",
       "4        3                     3                      3                     3   \n",
       "\n",
       "   KNN_4_weight=distance  KNN_5_weight=uniform  KNN_5_weight=distance  \n",
       "0                      6                     6                      6  \n",
       "1                      5                     5                      5  \n",
       "2                      4                     4                      4  \n",
       "3                      7                     7                      7  \n",
       "4                      3                     3                      3  "
      ]
     },
     "execution_count": 23,
     "metadata": {},
     "output_type": "execute_result"
    }
   ],
   "source": [
    "results_train, results_test = exp.get_results()\n",
    "results_train.head()"
   ]
  },
  {
   "cell_type": "markdown",
   "metadata": {},
   "source": [
    "### Accuracy "
   ]
  },
  {
   "cell_type": "code",
   "execution_count": 24,
   "metadata": {},
   "outputs": [
    {
     "name": "stdout",
     "output_type": "stream",
     "text": [
      "KNN_3_weight=uniform: 0.9866959264847072\n",
      "KNN_3_weight=distance: 1.0\n",
      "KNN_4_weight=uniform: 0.9806610890138527\n",
      "KNN_4_weight=distance: 1.0\n",
      "KNN_5_weight=uniform: 0.9791523796461391\n",
      "KNN_5_weight=distance: 1.0\n"
     ]
    }
   ],
   "source": [
    "exp_names = exp.get_names()\n",
    "for name in exp_names:\n",
    "    print(str(name) + \": \" + str(1.0*(results_train['targets'] == results_train[name]).sum()\\\n",
    "                                 /results_train['targets'].count()))"
   ]
  },
  {
   "cell_type": "markdown",
   "metadata": {},
   "source": [
    "---"
   ]
  },
  {
   "cell_type": "markdown",
   "metadata": {},
   "source": [
    "## Classification (Test)"
   ]
  },
  {
   "cell_type": "code",
   "execution_count": 25,
   "metadata": {},
   "outputs": [
    {
     "data": {
      "text/plain": [
       "(2007, 256)"
      ]
     },
     "execution_count": 25,
     "metadata": {},
     "output_type": "execute_result"
    }
   ],
   "source": [
    "input_data = test_data.iloc[:,1:].values\n",
    "input_data.shape"
   ]
  },
  {
   "cell_type": "markdown",
   "metadata": {},
   "source": [
    "### Add inputs"
   ]
  },
  {
   "cell_type": "code",
   "execution_count": 26,
   "metadata": {},
   "outputs": [
    {
     "name": "stdout",
     "output_type": "stream",
     "text": [
      "Testing data with KNN_3_weight=uniform ... \n",
      "done in  3.6367592811584473 s.\n",
      "Testing data with KNN_3_weight=distance ... \n",
      "done in  3.7212612628936768 s.\n",
      "Testing data with KNN_4_weight=uniform ... \n",
      "done in  3.925196886062622 s.\n",
      "Testing data with KNN_4_weight=distance ... \n",
      "done in  3.3186755180358887 s.\n",
      "Testing data with KNN_5_weight=uniform ... \n",
      "done in  3.423593759536743 s.\n",
      "Testing data with KNN_5_weight=distance ... \n",
      "done in  3.4172887802124023 s.\n"
     ]
    }
   ],
   "source": [
    "exp.test_all(input_data, train=False)"
   ]
  },
  {
   "cell_type": "code",
   "execution_count": 27,
   "metadata": {},
   "outputs": [
    {
     "data": {
      "text/html": [
       "<div>\n",
       "<style scoped>\n",
       "    .dataframe tbody tr th:only-of-type {\n",
       "        vertical-align: middle;\n",
       "    }\n",
       "\n",
       "    .dataframe tbody tr th {\n",
       "        vertical-align: top;\n",
       "    }\n",
       "\n",
       "    .dataframe thead th {\n",
       "        text-align: right;\n",
       "    }\n",
       "</style>\n",
       "<table border=\"1\" class=\"dataframe\">\n",
       "  <thead>\n",
       "    <tr style=\"text-align: right;\">\n",
       "      <th></th>\n",
       "      <th>targets</th>\n",
       "      <th>KNN_3_weight=uniform</th>\n",
       "      <th>KNN_3_weight=distance</th>\n",
       "      <th>KNN_4_weight=uniform</th>\n",
       "      <th>KNN_4_weight=distance</th>\n",
       "      <th>KNN_5_weight=uniform</th>\n",
       "      <th>KNN_5_weight=distance</th>\n",
       "    </tr>\n",
       "  </thead>\n",
       "  <tbody>\n",
       "    <tr>\n",
       "      <th>0</th>\n",
       "      <td>9</td>\n",
       "      <td>9</td>\n",
       "      <td>9</td>\n",
       "      <td>9</td>\n",
       "      <td>9</td>\n",
       "      <td>9</td>\n",
       "      <td>9</td>\n",
       "    </tr>\n",
       "    <tr>\n",
       "      <th>1</th>\n",
       "      <td>6</td>\n",
       "      <td>6</td>\n",
       "      <td>6</td>\n",
       "      <td>6</td>\n",
       "      <td>6</td>\n",
       "      <td>6</td>\n",
       "      <td>6</td>\n",
       "    </tr>\n",
       "    <tr>\n",
       "      <th>2</th>\n",
       "      <td>3</td>\n",
       "      <td>3</td>\n",
       "      <td>3</td>\n",
       "      <td>3</td>\n",
       "      <td>3</td>\n",
       "      <td>3</td>\n",
       "      <td>3</td>\n",
       "    </tr>\n",
       "    <tr>\n",
       "      <th>3</th>\n",
       "      <td>6</td>\n",
       "      <td>6</td>\n",
       "      <td>6</td>\n",
       "      <td>0</td>\n",
       "      <td>6</td>\n",
       "      <td>6</td>\n",
       "      <td>6</td>\n",
       "    </tr>\n",
       "    <tr>\n",
       "      <th>4</th>\n",
       "      <td>6</td>\n",
       "      <td>6</td>\n",
       "      <td>6</td>\n",
       "      <td>6</td>\n",
       "      <td>6</td>\n",
       "      <td>6</td>\n",
       "      <td>6</td>\n",
       "    </tr>\n",
       "  </tbody>\n",
       "</table>\n",
       "</div>"
      ],
      "text/plain": [
       "   targets  KNN_3_weight=uniform  KNN_3_weight=distance  KNN_4_weight=uniform  \\\n",
       "0        9                     9                      9                     9   \n",
       "1        6                     6                      6                     6   \n",
       "2        3                     3                      3                     3   \n",
       "3        6                     6                      6                     0   \n",
       "4        6                     6                      6                     6   \n",
       "\n",
       "   KNN_4_weight=distance  KNN_5_weight=uniform  KNN_5_weight=distance  \n",
       "0                      9                     9                      9  \n",
       "1                      6                     6                      6  \n",
       "2                      3                     3                      3  \n",
       "3                      6                     6                      6  \n",
       "4                      6                     6                      6  "
      ]
     },
     "execution_count": 27,
     "metadata": {},
     "output_type": "execute_result"
    }
   ],
   "source": [
    "results_train, results_test = exp.get_results()\n",
    "results_test.head()"
   ]
  },
  {
   "cell_type": "markdown",
   "metadata": {},
   "source": [
    "### Accuracy "
   ]
  },
  {
   "cell_type": "code",
   "execution_count": 28,
   "metadata": {},
   "outputs": [
    {
     "name": "stdout",
     "output_type": "stream",
     "text": [
      "KNN_3_weight=uniform: 0.9446935724962631\n",
      "KNN_3_weight=distance: 0.9451918285999004\n",
      "KNN_4_weight=uniform: 0.9431988041853513\n",
      "KNN_4_weight=distance: 0.9471848530144494\n",
      "KNN_5_weight=uniform: 0.9446935724962631\n",
      "KNN_5_weight=distance: 0.9451918285999004\n"
     ]
    }
   ],
   "source": [
    "exp_names = exp.get_names()\n",
    "for name in exp_names:\n",
    "    print(str(name) + \": \" + str(1.0*(results_test['targets'] == results_test[name]).sum()\\\n",
    "                                 /results_test['targets'].count()))"
   ]
  },
  {
   "cell_type": "markdown",
   "metadata": {},
   "source": [
    "---"
   ]
  }
 ],
 "metadata": {
  "kernelspec": {
   "display_name": "Python 3",
   "language": "python",
   "name": "python3"
  },
  "language_info": {
   "codemirror_mode": {
    "name": "ipython",
    "version": 3
   },
   "file_extension": ".py",
   "mimetype": "text/x-python",
   "name": "python",
   "nbconvert_exporter": "python",
   "pygments_lexer": "ipython3",
   "version": "3.6.2"
  }
 },
 "nbformat": 4,
 "nbformat_minor": 2
}
