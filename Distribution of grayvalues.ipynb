{
 "cells": [
  {
   "cell_type": "markdown",
   "metadata": {},
   "source": [
    "# Distribution of grayvalues \n",
    "\n",
    "I will be using a dataset provided with “The Elements of Statistical Learning: \n",
    "Data Mining, Inference, and Prediction” by Trevor Hastie, Robert Tibshirani & Jerome Friedman. \n",
    "\n",
    "> Normalized handwritten digits, automatically scanned from envelopes by the U.S. Postal Service. The original scanned digits are binary and of different sizes and orientations; the images here have been deslanted and size normalized, resulting in 16 x 16 grayscale images (Le Cun et al., 1990).\n",
    "> \n",
    "> The data are in two gzipped files, and each line consists of the digit id (0-9) followed by the 256 grayscale values.\n",
    "> \n",
    "> There are 7291 training observations and 2007 test observations [...]\n",
    "\n",
    "Sources: \n",
    "- https://web.stanford.edu/~hastie/ElemStatLearn/datasets/zip.info.txt\n",
    "- https://web.stanford.edu/~hastie/ElemStatLearn/datasets/zip.test.gz\n",
    "- https://web.stanford.edu/~hastie/ElemStatLearn/datasets/zip.train.gz\n",
    "--- "
   ]
  },
  {
   "cell_type": "code",
   "execution_count": 1,
   "metadata": {},
   "outputs": [],
   "source": [
    "import pandas as pd\n",
    "import numpy as np\n",
    "import matplotlib.pyplot as plt\n",
    "from mpl_toolkits.mplot3d import Axes3D\n",
    "from sklearn.cluster import KMeans"
   ]
  },
  {
   "cell_type": "markdown",
   "metadata": {},
   "source": [
    "## Importing and preparing the data"
   ]
  },
  {
   "cell_type": "code",
   "execution_count": 2,
   "metadata": {},
   "outputs": [],
   "source": [
    "# Read CSV file into a pandas DataFrame \n",
    "# Does *not* use first line as a header, recognizes white space character as a field separator \n",
    "# see https://pandas.pydata.org/pandas-docs/stable/generated/pandas.read_csv.html \n",
    "data = pd.read_csv(\"data/zip.train\", header=None, sep=\" \")"
   ]
  },
  {
   "cell_type": "code",
   "execution_count": 3,
   "metadata": {},
   "outputs": [
    {
     "data": {
      "text/html": [
       "<div>\n",
       "<style scoped>\n",
       "    .dataframe tbody tr th:only-of-type {\n",
       "        vertical-align: middle;\n",
       "    }\n",
       "\n",
       "    .dataframe tbody tr th {\n",
       "        vertical-align: top;\n",
       "    }\n",
       "\n",
       "    .dataframe thead th {\n",
       "        text-align: right;\n",
       "    }\n",
       "</style>\n",
       "<table border=\"1\" class=\"dataframe\">\n",
       "  <thead>\n",
       "    <tr style=\"text-align: right;\">\n",
       "      <th></th>\n",
       "      <th>0</th>\n",
       "      <th>1</th>\n",
       "      <th>2</th>\n",
       "      <th>3</th>\n",
       "      <th>4</th>\n",
       "      <th>5</th>\n",
       "      <th>6</th>\n",
       "      <th>7</th>\n",
       "      <th>8</th>\n",
       "      <th>9</th>\n",
       "      <th>...</th>\n",
       "      <th>248</th>\n",
       "      <th>249</th>\n",
       "      <th>250</th>\n",
       "      <th>251</th>\n",
       "      <th>252</th>\n",
       "      <th>253</th>\n",
       "      <th>254</th>\n",
       "      <th>255</th>\n",
       "      <th>256</th>\n",
       "      <th>257</th>\n",
       "    </tr>\n",
       "  </thead>\n",
       "  <tbody>\n",
       "    <tr>\n",
       "      <th>0</th>\n",
       "      <td>6.0</td>\n",
       "      <td>-1.0</td>\n",
       "      <td>-1.0</td>\n",
       "      <td>-1.0</td>\n",
       "      <td>-1.000</td>\n",
       "      <td>-1.000</td>\n",
       "      <td>-1.000</td>\n",
       "      <td>-1.000</td>\n",
       "      <td>-0.631</td>\n",
       "      <td>0.862</td>\n",
       "      <td>...</td>\n",
       "      <td>0.823</td>\n",
       "      <td>1.000</td>\n",
       "      <td>0.482</td>\n",
       "      <td>-0.474</td>\n",
       "      <td>-0.991</td>\n",
       "      <td>-1.000</td>\n",
       "      <td>-1.000</td>\n",
       "      <td>-1.000</td>\n",
       "      <td>-1.0</td>\n",
       "      <td>NaN</td>\n",
       "    </tr>\n",
       "    <tr>\n",
       "      <th>1</th>\n",
       "      <td>5.0</td>\n",
       "      <td>-1.0</td>\n",
       "      <td>-1.0</td>\n",
       "      <td>-1.0</td>\n",
       "      <td>-0.813</td>\n",
       "      <td>-0.671</td>\n",
       "      <td>-0.809</td>\n",
       "      <td>-0.887</td>\n",
       "      <td>-0.671</td>\n",
       "      <td>-0.853</td>\n",
       "      <td>...</td>\n",
       "      <td>-0.671</td>\n",
       "      <td>-0.033</td>\n",
       "      <td>0.761</td>\n",
       "      <td>0.762</td>\n",
       "      <td>0.126</td>\n",
       "      <td>-0.095</td>\n",
       "      <td>-0.671</td>\n",
       "      <td>-0.828</td>\n",
       "      <td>-1.0</td>\n",
       "      <td>NaN</td>\n",
       "    </tr>\n",
       "    <tr>\n",
       "      <th>2</th>\n",
       "      <td>4.0</td>\n",
       "      <td>-1.0</td>\n",
       "      <td>-1.0</td>\n",
       "      <td>-1.0</td>\n",
       "      <td>-1.000</td>\n",
       "      <td>-1.000</td>\n",
       "      <td>-1.000</td>\n",
       "      <td>-1.000</td>\n",
       "      <td>-1.000</td>\n",
       "      <td>-1.000</td>\n",
       "      <td>...</td>\n",
       "      <td>-1.000</td>\n",
       "      <td>-1.000</td>\n",
       "      <td>-0.109</td>\n",
       "      <td>1.000</td>\n",
       "      <td>-0.179</td>\n",
       "      <td>-1.000</td>\n",
       "      <td>-1.000</td>\n",
       "      <td>-1.000</td>\n",
       "      <td>-1.0</td>\n",
       "      <td>NaN</td>\n",
       "    </tr>\n",
       "    <tr>\n",
       "      <th>3</th>\n",
       "      <td>7.0</td>\n",
       "      <td>-1.0</td>\n",
       "      <td>-1.0</td>\n",
       "      <td>-1.0</td>\n",
       "      <td>-1.000</td>\n",
       "      <td>-1.000</td>\n",
       "      <td>-0.273</td>\n",
       "      <td>0.684</td>\n",
       "      <td>0.960</td>\n",
       "      <td>0.450</td>\n",
       "      <td>...</td>\n",
       "      <td>1.000</td>\n",
       "      <td>0.536</td>\n",
       "      <td>-0.987</td>\n",
       "      <td>-1.000</td>\n",
       "      <td>-1.000</td>\n",
       "      <td>-1.000</td>\n",
       "      <td>-1.000</td>\n",
       "      <td>-1.000</td>\n",
       "      <td>-1.0</td>\n",
       "      <td>NaN</td>\n",
       "    </tr>\n",
       "    <tr>\n",
       "      <th>4</th>\n",
       "      <td>3.0</td>\n",
       "      <td>-1.0</td>\n",
       "      <td>-1.0</td>\n",
       "      <td>-1.0</td>\n",
       "      <td>-1.000</td>\n",
       "      <td>-1.000</td>\n",
       "      <td>-0.928</td>\n",
       "      <td>-0.204</td>\n",
       "      <td>0.751</td>\n",
       "      <td>0.466</td>\n",
       "      <td>...</td>\n",
       "      <td>0.639</td>\n",
       "      <td>1.000</td>\n",
       "      <td>1.000</td>\n",
       "      <td>0.791</td>\n",
       "      <td>0.439</td>\n",
       "      <td>-0.199</td>\n",
       "      <td>-0.883</td>\n",
       "      <td>-1.000</td>\n",
       "      <td>-1.0</td>\n",
       "      <td>NaN</td>\n",
       "    </tr>\n",
       "  </tbody>\n",
       "</table>\n",
       "<p>5 rows × 258 columns</p>\n",
       "</div>"
      ],
      "text/plain": [
       "   0    1    2    3      4      5      6      7      8      9   ...     248  \\\n",
       "0  6.0 -1.0 -1.0 -1.0 -1.000 -1.000 -1.000 -1.000 -0.631  0.862 ...   0.823   \n",
       "1  5.0 -1.0 -1.0 -1.0 -0.813 -0.671 -0.809 -0.887 -0.671 -0.853 ...  -0.671   \n",
       "2  4.0 -1.0 -1.0 -1.0 -1.000 -1.000 -1.000 -1.000 -1.000 -1.000 ...  -1.000   \n",
       "3  7.0 -1.0 -1.0 -1.0 -1.000 -1.000 -0.273  0.684  0.960  0.450 ...   1.000   \n",
       "4  3.0 -1.0 -1.0 -1.0 -1.000 -1.000 -0.928 -0.204  0.751  0.466 ...   0.639   \n",
       "\n",
       "     249    250    251    252    253    254    255  256  257  \n",
       "0  1.000  0.482 -0.474 -0.991 -1.000 -1.000 -1.000 -1.0  NaN  \n",
       "1 -0.033  0.761  0.762  0.126 -0.095 -0.671 -0.828 -1.0  NaN  \n",
       "2 -1.000 -0.109  1.000 -0.179 -1.000 -1.000 -1.000 -1.0  NaN  \n",
       "3  0.536 -0.987 -1.000 -1.000 -1.000 -1.000 -1.000 -1.0  NaN  \n",
       "4  1.000  1.000  0.791  0.439 -0.199 -0.883 -1.000 -1.0  NaN  \n",
       "\n",
       "[5 rows x 258 columns]"
      ]
     },
     "execution_count": 3,
     "metadata": {},
     "output_type": "execute_result"
    }
   ],
   "source": [
    "data.head()"
   ]
  },
  {
   "cell_type": "markdown",
   "metadata": {},
   "source": [
    "As described in ```zip.info.txt``` row 0 holds the value of the integer represented by the following 256 values of gray scale. Row 257 is NaN because all lines end with a non-printing character. "
   ]
  },
  {
   "cell_type": "code",
   "execution_count": 4,
   "metadata": {},
   "outputs": [],
   "source": [
    "# Lose the last column \n",
    "del data[257]"
   ]
  },
  {
   "cell_type": "markdown",
   "metadata": {},
   "source": [
    "Plotting an univariate distribution of grayvalues takes a looong time to compute, so the next code block is –for safety reasons– being deliberately kept in a multiline docstring."
   ]
  },
  {
   "cell_type": "code",
   "execution_count": null,
   "metadata": {},
   "outputs": [],
   "source": [
    "\"\"\"\n",
    "fig = plt.figure(figsize=(20, 10))\n",
    "plt.hist(data, 100, density=True)\n",
    "plt.show()\n",
    "\"\"\""
   ]
  },
  {
   "cell_type": "code",
   "execution_count": null,
   "metadata": {},
   "outputs": [],
   "source": [
    "\"\"\"\n",
    "The attribute .unique() can *not* be applied to a pandas DataFrame; \n",
    "pandas.Series.value_counts can *not* be applied to a pandas DataFrame; \n",
    "so in ordert to count the total number of unique values in a DataFrame \n",
    "I will apply a for loop to all columns. \n",
    "\"\"\"\n",
    "\n",
    "number_of_columns = pd.DataFrame(data.iloc[:,1].value_counts())"
   ]
  },
  {
   "cell_type": "code",
   "execution_count": 9,
   "metadata": {},
   "outputs": [],
   "source": [
    "# count the total n of unique grayscale values in the sample \n",
    "unique_grayscale_values = data.stack().value_counts() "
   ]
  },
  {
   "cell_type": "code",
   "execution_count": 12,
   "metadata": {},
   "outputs": [
    {
     "data": {
      "text/plain": [
       "pandas.core.series.Series"
      ]
     },
     "execution_count": 12,
     "metadata": {},
     "output_type": "execute_result"
    }
   ],
   "source": [
    "type(unique_grayscale_values)"
   ]
  },
  {
   "cell_type": "code",
   "execution_count": 11,
   "metadata": {},
   "outputs": [
    {
     "data": {
      "text/plain": [
       " 0.197    167\n",
       "-0.381    165\n",
       " 0.051    159\n",
       "-0.112    159\n",
       "-0.113    159\n",
       "dtype: int64"
      ]
     },
     "execution_count": 11,
     "metadata": {},
     "output_type": "execute_result"
    }
   ],
   "source": [
    "unique_grayscale_values.tail()"
   ]
  },
  {
   "cell_type": "code",
   "execution_count": 20,
   "metadata": {},
   "outputs": [
    {
     "name": "stdout",
     "output_type": "stream",
     "text": [
      "<class 'pandas.core.frame.DataFrame'>\n",
      "Float64Index: 2009 entries, -1.0 to -0.113\n",
      "Data columns (total 1 columns):\n",
      "0    2009 non-null int64\n",
      "dtypes: int64(1)\n",
      "memory usage: 31.4 KB\n"
     ]
    }
   ],
   "source": [
    "unique_grayscale_values.info()"
   ]
  },
  {
   "cell_type": "code",
   "execution_count": 17,
   "metadata": {
    "scrolled": true
   },
   "outputs": [
    {
     "data": {
      "text/plain": [
       "<bound method Series.sort_values of -1.000    1106272\n",
       " 1.000     182708\n",
       "-0.999       2841\n",
       " 0.999       2832\n",
       "-0.998       1976\n",
       " 0.998       1875\n",
       "-0.997       1699\n",
       " 0.997       1676\n",
       "-0.996       1575\n",
       "-0.000       1539\n",
       " 0.996       1420\n",
       "-0.995       1407\n",
       "-0.994       1313\n",
       " 0.995       1305\n",
       " 0.994       1260\n",
       "-0.993       1231\n",
       "-0.992       1220\n",
       " 0.993       1170\n",
       " 0.992       1146\n",
       "-0.991       1139\n",
       "-0.989       1138\n",
       " 0.991       1129\n",
       " 0.990       1110\n",
       "-0.990       1105\n",
       "-0.988       1085\n",
       "-0.986       1013\n",
       "-0.987       1003\n",
       " 0.988        979\n",
       "-0.985        947\n",
       " 0.985        942\n",
       "           ...   \n",
       "-0.026        177\n",
       "-0.153        177\n",
       " 0.018        176\n",
       "-0.119        176\n",
       "-0.056        176\n",
       "-0.531        176\n",
       "-0.045        176\n",
       "-0.193        174\n",
       " 0.128        173\n",
       " 0.329        173\n",
       "-0.571        173\n",
       "-0.398        173\n",
       " 0.248        173\n",
       "-0.028        172\n",
       "-0.156        172\n",
       "-0.214        172\n",
       " 0.043        172\n",
       "-0.087        172\n",
       "-0.432        171\n",
       "-0.373        171\n",
       "-0.134        171\n",
       "-0.174        171\n",
       "-0.386        170\n",
       " 0.141        168\n",
       "-0.207        168\n",
       " 0.197        167\n",
       "-0.381        165\n",
       " 0.051        159\n",
       "-0.112        159\n",
       "-0.113        159\n",
       "Length: 2009, dtype: int64>"
      ]
     },
     "execution_count": 17,
     "metadata": {},
     "output_type": "execute_result"
    }
   ],
   "source": [
    "unique_grayscale_values.sort_values"
   ]
  },
  {
   "cell_type": "code",
   "execution_count": 19,
   "metadata": {},
   "outputs": [
    {
     "name": "stdout",
     "output_type": "stream",
     "text": [
      "<class 'pandas.core.frame.DataFrame'>\n",
      "Float64Index: 2009 entries, -1.0 to -0.113\n",
      "Data columns (total 1 columns):\n",
      "0    2009 non-null int64\n",
      "dtypes: int64(1)\n",
      "memory usage: 31.4 KB\n"
     ]
    }
   ],
   "source": [
    "unique_grayscale_values = pd.DataFrame(unique_grayscale_values)\n",
    "unique_grayscale_values.info()"
   ]
  },
  {
   "cell_type": "code",
   "execution_count": null,
   "metadata": {},
   "outputs": [],
   "source": [
    "\"\"\"\n",
    "The int() method can *not* be applied to a pandas Series, so in ordert to \n",
    "convert the values in row 0 to integers I define and apply a lambda function.\n",
    "\"\"\"\n",
    "\n",
    "int_x = lambda x: int(x)\n",
    "data.iloc[:,0] = data.iloc[:,0].apply(int_x)"
   ]
  },
  {
   "cell_type": "code",
   "execution_count": null,
   "metadata": {},
   "outputs": [],
   "source": [
    "# Check the first lines of data for the conversion\n",
    "data.head()"
   ]
  },
  {
   "cell_type": "code",
   "execution_count": null,
   "metadata": {},
   "outputs": [],
   "source": [
    "\"\"\"\n",
    "In order to calculate descriptive values for every character \n",
    "all values for a character need to be extracted from the dataset respectively. \n",
    "For style guidelines see \n",
    "https://www.python.org/dev/peps/pep-0008/#function-and-variable-names\n",
    "\"\"\"\n",
    "def get_data_for_character (data, character):\n",
    "    # gets all columns in the first row with a matching character \n",
    "    data_character = pd.DataFrame(data[data[0] == character]) \n",
    "    # ignore the value in the first column and return only grey values \n",
    "    grey_values = data_character.iloc[:,1:]\n",
    "    return grey_values"
   ]
  },
  {
   "cell_type": "code",
   "execution_count": null,
   "metadata": {},
   "outputs": [],
   "source": [
    "# count the total n of unique values in the sample \n",
    "samples_per_character = pd.DataFrame(data.iloc[:,0].value_counts())"
   ]
  },
  {
   "cell_type": "code",
   "execution_count": null,
   "metadata": {},
   "outputs": [],
   "source": [
    "# sorts the DataFrame by the index \n",
    "samples_per_character.sort_index(inplace=True)"
   ]
  },
  {
   "cell_type": "code",
   "execution_count": null,
   "metadata": {},
   "outputs": [],
   "source": [
    "\"\"\"\n",
    "On how to rename a column in a pandas Dataframe see \n",
    "» https://stackoverflow.com/questions/11346283/\n",
    "Caveat: the solution provided does *not* work with an unnamed (0) column!\n",
    "\"\"\"\n",
    "\n",
    "samples_per_character.rename(columns = {0 : 'n'})"
   ]
  },
  {
   "cell_type": "markdown",
   "metadata": {},
   "source": [
    "## Univariate distribution of grey values \n",
    "\n",
    "Histograms for 9 adjacent pixel of character “8”"
   ]
  },
  {
   "cell_type": "code",
   "execution_count": null,
   "metadata": {},
   "outputs": [],
   "source": [
    "data_8 = get_data_for_character (data, 8)     "
   ]
  },
  {
   "cell_type": "code",
   "execution_count": null,
   "metadata": {},
   "outputs": [],
   "source": [
    "# get grey values for the nth pixel \n",
    "data_8_7 = data_8.loc[:,7]\n",
    "data_8_8 = data_8.loc[:,8]\n",
    "data_8_9 = data_8.loc[:,9]\n",
    "data_8_23 = data_8.loc[:,23]\n",
    "data_8_24 = data_8.loc[:,24]\n",
    "data_8_25 = data_8.loc[:,25]\n",
    "data_8_49 = data_8.loc[:,49]\n",
    "data_8_50 = data_8.loc[:,50]\n",
    "data_8_51 = data_8.loc[:,51]"
   ]
  },
  {
   "cell_type": "code",
   "execution_count": null,
   "metadata": {
    "scrolled": false
   },
   "outputs": [],
   "source": [
    "# set up a figure as a container \n",
    "fig = plt.figure(figsize=(20, 10))\n",
    "plt.subplots_adjust(hspace=0.5)\n",
    "\n",
    "# inject subplots \n",
    "\"\"\"\n",
    "On how to set up a histogram with colors taken from colormap \n",
    "https://stackoverflow.com/questions/23061657/\n",
    "\"\"\"\n",
    "\n",
    "fig.add_subplot(3,3,1)\n",
    "plt.hist(data_8.loc[:,7], 100, density=True)\n",
    "plt.title('7')\n",
    "\n",
    "fig.add_subplot(3,3,2)\n",
    "plt.hist(data_8.loc[:,8], 100, density=True)\n",
    "plt.title('8')\n",
    "\n",
    "fig.add_subplot(3,3,3)\n",
    "plt.hist(data_8.loc[:,9], 100, density=True)\n",
    "plt.title('9')\n",
    "\n",
    "fig.add_subplot(3,3,4)\n",
    "plt.hist(data_8.loc[:,23], 100, density=True)\n",
    "plt.title('23')\n",
    "\n",
    "fig.add_subplot(3,3,5)\n",
    "plt.hist(data_8.loc[:,24], 100, density=True)\n",
    "plt.title('24')\n",
    "\n",
    "fig.add_subplot(3,3,6)\n",
    "plt.hist(data_8.loc[:,25], 100, density=True)\n",
    "plt.title('25')\n",
    "\n",
    "fig.add_subplot(3,3,7)\n",
    "plt.hist(data_8.loc[:,49], 100, density=True)\n",
    "plt.title('49')\n",
    "\n",
    "fig.add_subplot(3,3,8)\n",
    "plt.hist(data_8.loc[:,50], 100, density=True)\n",
    "plt.title('50')\n",
    "\n",
    "fig.add_subplot(3,3,9)\n",
    "plt.hist(data_8.loc[:,51], 100, density=True)\n",
    "plt.title('51')\n",
    "\n",
    "plt.show()"
   ]
  },
  {
   "cell_type": "code",
   "execution_count": null,
   "metadata": {},
   "outputs": [],
   "source": [
    "data_8_stats = data_8.describe()\n",
    "data_8_stats"
   ]
  },
  {
   "cell_type": "markdown",
   "metadata": {},
   "source": [
    "## Extracting distinctive data points for every character "
   ]
  },
  {
   "cell_type": "code",
   "execution_count": null,
   "metadata": {},
   "outputs": [],
   "source": [
    "\"\"\"\n",
    "The function get_image_scatter will take descriptive image statistics \n",
    "(e.g. mean, median) for every pixel and point to the respective position. \n",
    "x and y correspond to the position of the pixel in the image, \n",
    "z represents the grey value of each pixel. \n",
    "Information is stored in a three-column numpy array. \n",
    "\"\"\"\n",
    "\n",
    "def get_image_scatter(image_statistical_value):\n",
    "    image_scatter = np.zeros((256, 3))\n",
    "    for y in range(0,16):\n",
    "        for x in range(0,16):\n",
    "            pixel_pos =  x + y * 16\n",
    "            image_scatter[pixel_pos][0] = x\n",
    "            image_scatter[pixel_pos][1] = y\n",
    "            image_scatter[pixel_pos][2] = image_statistical_value[pixel_pos + 1]\n",
    "    return image_scatter"
   ]
  },
  {
   "cell_type": "code",
   "execution_count": null,
   "metadata": {
    "scrolled": false
   },
   "outputs": [],
   "source": [
    "# set up a container figure for the subplots \n",
    "fig = plt.figure(figsize=(15, 50))\n",
    "\n",
    "\"\"\"\n",
    "For specifications of colormaps see \n",
    "- https://matplotlib.org/users/colormaps.html\n",
    "\n",
    "On how to invert the y-axis see \n",
    "- https://stackoverflow.com/questions/18318763/\n",
    "- https://matplotlib.org/api/axes_api.html\n",
    "\"\"\"\n",
    "\n",
    "for character in range(0,10):\n",
    "    image_statistical_value = get_data_for_character(data, character).median()\n",
    "    image_scatter = get_image_scatter(image_statistical_value)\n",
    "    \n",
    "    #  First subplot\n",
    "    ax = fig.add_subplot(10, 3, (3 * character) + 1)\n",
    "    plt.scatter(image_scatter[:,0], image_scatter[:,1], c=image_scatter[:,2], cmap='Wistia') \n",
    "    plt.xlabel('x')\n",
    "    plt.ylabel('y')\n",
    "    xticks_val = [0, 4, 8, 12, 16] \n",
    "    xticks_lab = ['0', '4', '8', '12', '16'] \n",
    "    yticks_val = [0, 4, 8, 12, 16] \n",
    "    yticks_lab = ['0', '4', '8', '12', '16'] \n",
    "    plt.xticks(xticks_val, xticks_lab)\n",
    "    plt.yticks(yticks_val, yticks_lab)\n",
    "    ax.invert_yaxis()\n",
    "    \n",
    "    # Second subplot\n",
    "    ax = fig.add_subplot(10, 3, (3 * character) + 2)\n",
    "    plt.scatter(image_scatter[:,2], image_scatter[:,1], c=image_scatter[:,2], cmap='Wistia') \n",
    "    plt.xlabel('z')\n",
    "    plt.ylabel('y')\n",
    "    zticks_val = [-1, 0, 1] \n",
    "    zticks_lab = ['-1', '0', '1'] \n",
    "    yticks_val = [0, 4, 8, 12, 16] \n",
    "    yticks_lab = ['0', '4', '8', '12', '16'] \n",
    "    plt.xticks(zticks_val, zticks_lab)\n",
    "    plt.yticks(yticks_val, yticks_lab)\n",
    "    ax.invert_yaxis()\n",
    "    \n",
    "    # Third subplot\n",
    "    ax = fig.add_subplot(10, 3, (3 * character) + 3)\n",
    "    plt.scatter(image_scatter[:,0],image_scatter[:,2], c=image_scatter[:,2], cmap='Wistia') \n",
    "    plt.xlabel('x')\n",
    "    plt.ylabel('z')\n",
    "    xticks_val = [0, 4, 8, 12, 16] \n",
    "    xticks_lab = ['0', '4', '8', '12', '16'] \n",
    "    zticks_val = [-1, 0, 1] \n",
    "    zticks_lab = ['-1', '0', '1'] \n",
    "    plt.xticks(xticks_val, xticks_lab)\n",
    "    plt.yticks(zticks_val, zticks_lab)\n",
    "        \n",
    "plt.show()"
   ]
  },
  {
   "cell_type": "code",
   "execution_count": null,
   "metadata": {
    "scrolled": false
   },
   "outputs": [],
   "source": [
    "for character in range(0,10):\n",
    "    image_description = get_data_for_character(data, character).median()\n",
    "    image_scatter = get_image_scatter(image_description)\n",
    "    \n",
    "    # Plotting 3D projection \n",
    "    fig = plt.figure(figsize=(15, 15))\n",
    "    ax = Axes3D(fig)\n",
    "\n",
    "    ax.scatter(image_scatter[:,0], image_scatter[:,1], image_scatter[:,2], c=image_scatter[:,2])\n",
    "    plt.xlabel('x')\n",
    "    plt.ylabel('y')\n",
    "\n",
    "plt.show()"
   ]
  },
  {
   "cell_type": "code",
   "execution_count": null,
   "metadata": {},
   "outputs": [],
   "source": [
    "# Computing clusters with KMeans \n",
    "kmeans = KMeans(n_clusters=10, random_state=0).fit(data)"
   ]
  },
  {
   "cell_type": "code",
   "execution_count": null,
   "metadata": {},
   "outputs": [],
   "source": [
    "data_['cluster_id'] = kmeans.predict(data)"
   ]
  },
  {
   "cell_type": "code",
   "execution_count": null,
   "metadata": {},
   "outputs": [],
   "source": [
    "# matrix = np.zeros((5000,3))\n",
    "# matrix[:,0] = dataset.iloc[:,0].values\n",
    "# matrix[:,1] = dataset.iloc[:,1].values\n",
    "# matrix[:,2] = dataset.iloc[:,2].values\n",
    "# gmm = GaussianMixture(n_components=8).fit(matrix)\n",
    "# dataset[‘GMM_cluster_nr’] = labels = gmm.predict(matrix)"
   ]
  }
 ],
 "metadata": {
  "kernelspec": {
   "display_name": "Python 3",
   "language": "python",
   "name": "python3"
  },
  "language_info": {
   "codemirror_mode": {
    "name": "ipython",
    "version": 3
   },
   "file_extension": ".py",
   "mimetype": "text/x-python",
   "name": "python",
   "nbconvert_exporter": "python",
   "pygments_lexer": "ipython3",
   "version": "3.6.5"
  }
 },
 "nbformat": 4,
 "nbformat_minor": 2
}
