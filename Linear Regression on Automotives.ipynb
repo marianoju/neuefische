{
 "cells": [
  {
   "cell_type": "markdown",
   "metadata": {},
   "source": [
    "# Linear Regression on Automotives "
   ]
  },
  {
   "cell_type": "markdown",
   "metadata": {},
   "source": [
    "    1. Title: 1985 Auto Imports Database\n",
    "    \n",
    "    2. Source Information:\n",
    "       -- Creator/Donor: Jeffrey C. Schlimmer (Jeffrey.Schlimmer@a.gp.cs.cmu.edu)\n",
    "       -- Date: 19 May 1987\n",
    "       -- Sources:\n",
    "         1) 1985 Model Import Car and Truck Specifications, 1985 Ward's\n",
    "            Automotive Yearbook.\n",
    "         2) Personal Auto Manuals, Insurance Services Office, 160 Water\n",
    "            Street, New York, NY 10038 \n",
    "         3) Insurance Collision Report, Insurance Institute for Highway\n",
    "            Safety, Watergate 600, Washington, DC 20037\n",
    "    [...]\n",
    "    8. Missing Attribute Values: (denoted by \"?\")\n",
    "       Attribute #:   Number of instances missing a value:\n",
    "       2.             41\n",
    "       6.             2\n",
    "       19.            4\n",
    "       20.            4\n",
    "       22.            2\n",
    "       23.            2\n",
    "       26.            4\n",
    "\n",
    "Source: [https://archive.ics.uci.edu/ml/datasets/Automobile](https://archive.ics.uci.edu/ml/datasets/Automobile)"
   ]
  },
  {
   "cell_type": "code",
   "execution_count": 1,
   "metadata": {},
   "outputs": [],
   "source": [
    "import numpy as np\n",
    "import pandas as pd\n",
    "import itertools\n",
    "import matplotlib.pyplot as plt\n",
    "from sklearn import datasets, linear_model\n",
    "from sklearn.metrics import mean_squared_error, r2_score\n",
    "from sklearn.model_selection import train_test_split\n",
    "import seaborn as sns\n",
    "sns.set()"
   ]
  },
  {
   "cell_type": "markdown",
   "metadata": {},
   "source": [
    "## Data Pre-Processing "
   ]
  },
  {
   "cell_type": "code",
   "execution_count": 2,
   "metadata": {},
   "outputs": [],
   "source": [
    "attributes = [\"symboling\", \"normalized-losses\", \"make\", \"fuel-type\", \\\n",
    "              \"aspiration\", \"num-of-doors\", \"body-style\", \\\n",
    "              \"drive-wheels\", \"engine-location\", \"wheel-base\", \\\n",
    "              \"length\", \"width\", \"height\", \"curb-weight\", \\\n",
    "              \"engine-type\", \"num-of-cylinders\", \"engine-size\", \\\n",
    "              \"fuel-system\", \"bore\", \"stroke\", \"compression-ratio\", \\\n",
    "              \"horsepower\", \"peak-rpm\", \"city-mpg\", \"highway-mpg\", \\\n",
    "              \"price\"]\n",
    "\n",
    "data = pd.read_csv(\"data/imports-85.data\", header=None, names=attributes)"
   ]
  },
  {
   "cell_type": "code",
   "execution_count": 3,
   "metadata": {},
   "outputs": [],
   "source": [
    "# drops rows if any NA values are present (i.e values are missing)\n",
    "data = data.dropna(axis=0,how='any')"
   ]
  },
  {
   "cell_type": "code",
   "execution_count": 4,
   "metadata": {},
   "outputs": [],
   "source": [
    "\"\"\" --------------------------------------------------------------------\n",
    "Missing values have been coded with a question mark, but \n",
    "pandas.DataFrame.dropna does not recognize ? as a missing value. \n",
    "-------------------------------------------------------------------- \"\"\"\n",
    "\n",
    "data.replace(\"?\", np.nan, inplace= True)"
   ]
  },
  {
   "cell_type": "code",
   "execution_count": 5,
   "metadata": {},
   "outputs": [
    {
     "data": {
      "text/plain": [
       "symboling             0\n",
       "normalized-losses    41\n",
       "make                  0\n",
       "fuel-type             0\n",
       "aspiration            0\n",
       "num-of-doors          2\n",
       "body-style            0\n",
       "drive-wheels          0\n",
       "engine-location       0\n",
       "wheel-base            0\n",
       "length                0\n",
       "width                 0\n",
       "height                0\n",
       "curb-weight           0\n",
       "engine-type           0\n",
       "num-of-cylinders      0\n",
       "engine-size           0\n",
       "fuel-system           0\n",
       "bore                  4\n",
       "stroke                4\n",
       "compression-ratio     0\n",
       "horsepower            2\n",
       "peak-rpm              2\n",
       "city-mpg              0\n",
       "highway-mpg           0\n",
       "price                 4\n",
       "dtype: int64"
      ]
     },
     "execution_count": 5,
     "metadata": {},
     "output_type": "execute_result"
    }
   ],
   "source": [
    "data.isnull().sum()"
   ]
  },
  {
   "cell_type": "code",
   "execution_count": 6,
   "metadata": {},
   "outputs": [
    {
     "data": {
      "text/html": [
       "<div>\n",
       "<style scoped>\n",
       "    .dataframe tbody tr th:only-of-type {\n",
       "        vertical-align: middle;\n",
       "    }\n",
       "\n",
       "    .dataframe tbody tr th {\n",
       "        vertical-align: top;\n",
       "    }\n",
       "\n",
       "    .dataframe thead th {\n",
       "        text-align: right;\n",
       "    }\n",
       "</style>\n",
       "<table border=\"1\" class=\"dataframe\">\n",
       "  <thead>\n",
       "    <tr style=\"text-align: right;\">\n",
       "      <th></th>\n",
       "      <th>symboling</th>\n",
       "      <th>normalized-losses</th>\n",
       "      <th>make</th>\n",
       "      <th>fuel-type</th>\n",
       "      <th>aspiration</th>\n",
       "      <th>num-of-doors</th>\n",
       "      <th>body-style</th>\n",
       "      <th>drive-wheels</th>\n",
       "      <th>engine-location</th>\n",
       "      <th>wheel-base</th>\n",
       "      <th>...</th>\n",
       "      <th>engine-size</th>\n",
       "      <th>fuel-system</th>\n",
       "      <th>bore</th>\n",
       "      <th>stroke</th>\n",
       "      <th>compression-ratio</th>\n",
       "      <th>horsepower</th>\n",
       "      <th>peak-rpm</th>\n",
       "      <th>city-mpg</th>\n",
       "      <th>highway-mpg</th>\n",
       "      <th>price</th>\n",
       "    </tr>\n",
       "  </thead>\n",
       "  <tbody>\n",
       "    <tr>\n",
       "      <th>0</th>\n",
       "      <td>3</td>\n",
       "      <td>NaN</td>\n",
       "      <td>alfa-romero</td>\n",
       "      <td>gas</td>\n",
       "      <td>std</td>\n",
       "      <td>two</td>\n",
       "      <td>convertible</td>\n",
       "      <td>rwd</td>\n",
       "      <td>front</td>\n",
       "      <td>88.6</td>\n",
       "      <td>...</td>\n",
       "      <td>130</td>\n",
       "      <td>mpfi</td>\n",
       "      <td>3.47</td>\n",
       "      <td>2.68</td>\n",
       "      <td>9.0</td>\n",
       "      <td>111</td>\n",
       "      <td>5000</td>\n",
       "      <td>21</td>\n",
       "      <td>27</td>\n",
       "      <td>13495</td>\n",
       "    </tr>\n",
       "    <tr>\n",
       "      <th>1</th>\n",
       "      <td>3</td>\n",
       "      <td>NaN</td>\n",
       "      <td>alfa-romero</td>\n",
       "      <td>gas</td>\n",
       "      <td>std</td>\n",
       "      <td>two</td>\n",
       "      <td>convertible</td>\n",
       "      <td>rwd</td>\n",
       "      <td>front</td>\n",
       "      <td>88.6</td>\n",
       "      <td>...</td>\n",
       "      <td>130</td>\n",
       "      <td>mpfi</td>\n",
       "      <td>3.47</td>\n",
       "      <td>2.68</td>\n",
       "      <td>9.0</td>\n",
       "      <td>111</td>\n",
       "      <td>5000</td>\n",
       "      <td>21</td>\n",
       "      <td>27</td>\n",
       "      <td>16500</td>\n",
       "    </tr>\n",
       "    <tr>\n",
       "      <th>2</th>\n",
       "      <td>1</td>\n",
       "      <td>NaN</td>\n",
       "      <td>alfa-romero</td>\n",
       "      <td>gas</td>\n",
       "      <td>std</td>\n",
       "      <td>two</td>\n",
       "      <td>hatchback</td>\n",
       "      <td>rwd</td>\n",
       "      <td>front</td>\n",
       "      <td>94.5</td>\n",
       "      <td>...</td>\n",
       "      <td>152</td>\n",
       "      <td>mpfi</td>\n",
       "      <td>2.68</td>\n",
       "      <td>3.47</td>\n",
       "      <td>9.0</td>\n",
       "      <td>154</td>\n",
       "      <td>5000</td>\n",
       "      <td>19</td>\n",
       "      <td>26</td>\n",
       "      <td>16500</td>\n",
       "    </tr>\n",
       "    <tr>\n",
       "      <th>3</th>\n",
       "      <td>2</td>\n",
       "      <td>164</td>\n",
       "      <td>audi</td>\n",
       "      <td>gas</td>\n",
       "      <td>std</td>\n",
       "      <td>four</td>\n",
       "      <td>sedan</td>\n",
       "      <td>fwd</td>\n",
       "      <td>front</td>\n",
       "      <td>99.8</td>\n",
       "      <td>...</td>\n",
       "      <td>109</td>\n",
       "      <td>mpfi</td>\n",
       "      <td>3.19</td>\n",
       "      <td>3.40</td>\n",
       "      <td>10.0</td>\n",
       "      <td>102</td>\n",
       "      <td>5500</td>\n",
       "      <td>24</td>\n",
       "      <td>30</td>\n",
       "      <td>13950</td>\n",
       "    </tr>\n",
       "    <tr>\n",
       "      <th>4</th>\n",
       "      <td>2</td>\n",
       "      <td>164</td>\n",
       "      <td>audi</td>\n",
       "      <td>gas</td>\n",
       "      <td>std</td>\n",
       "      <td>four</td>\n",
       "      <td>sedan</td>\n",
       "      <td>4wd</td>\n",
       "      <td>front</td>\n",
       "      <td>99.4</td>\n",
       "      <td>...</td>\n",
       "      <td>136</td>\n",
       "      <td>mpfi</td>\n",
       "      <td>3.19</td>\n",
       "      <td>3.40</td>\n",
       "      <td>8.0</td>\n",
       "      <td>115</td>\n",
       "      <td>5500</td>\n",
       "      <td>18</td>\n",
       "      <td>22</td>\n",
       "      <td>17450</td>\n",
       "    </tr>\n",
       "  </tbody>\n",
       "</table>\n",
       "<p>5 rows × 26 columns</p>\n",
       "</div>"
      ],
      "text/plain": [
       "   symboling normalized-losses         make fuel-type aspiration num-of-doors  \\\n",
       "0          3               NaN  alfa-romero       gas        std          two   \n",
       "1          3               NaN  alfa-romero       gas        std          two   \n",
       "2          1               NaN  alfa-romero       gas        std          two   \n",
       "3          2               164         audi       gas        std         four   \n",
       "4          2               164         audi       gas        std         four   \n",
       "\n",
       "    body-style drive-wheels engine-location  wheel-base  ...    engine-size  \\\n",
       "0  convertible          rwd           front        88.6  ...            130   \n",
       "1  convertible          rwd           front        88.6  ...            130   \n",
       "2    hatchback          rwd           front        94.5  ...            152   \n",
       "3        sedan          fwd           front        99.8  ...            109   \n",
       "4        sedan          4wd           front        99.4  ...            136   \n",
       "\n",
       "   fuel-system  bore  stroke compression-ratio horsepower  peak-rpm city-mpg  \\\n",
       "0         mpfi  3.47    2.68               9.0        111      5000       21   \n",
       "1         mpfi  3.47    2.68               9.0        111      5000       21   \n",
       "2         mpfi  2.68    3.47               9.0        154      5000       19   \n",
       "3         mpfi  3.19    3.40              10.0        102      5500       24   \n",
       "4         mpfi  3.19    3.40               8.0        115      5500       18   \n",
       "\n",
       "  highway-mpg  price  \n",
       "0          27  13495  \n",
       "1          27  16500  \n",
       "2          26  16500  \n",
       "3          30  13950  \n",
       "4          22  17450  \n",
       "\n",
       "[5 rows x 26 columns]"
      ]
     },
     "execution_count": 6,
     "metadata": {},
     "output_type": "execute_result"
    }
   ],
   "source": [
    "data.head()"
   ]
  },
  {
   "cell_type": "code",
   "execution_count": 7,
   "metadata": {},
   "outputs": [
    {
     "data": {
      "text/html": [
       "<div>\n",
       "<style scoped>\n",
       "    .dataframe tbody tr th:only-of-type {\n",
       "        vertical-align: middle;\n",
       "    }\n",
       "\n",
       "    .dataframe tbody tr th {\n",
       "        vertical-align: top;\n",
       "    }\n",
       "\n",
       "    .dataframe thead th {\n",
       "        text-align: right;\n",
       "    }\n",
       "</style>\n",
       "<table border=\"1\" class=\"dataframe\">\n",
       "  <thead>\n",
       "    <tr style=\"text-align: right;\">\n",
       "      <th></th>\n",
       "      <th>symboling</th>\n",
       "      <th>wheel-base</th>\n",
       "      <th>length</th>\n",
       "      <th>width</th>\n",
       "      <th>height</th>\n",
       "      <th>curb-weight</th>\n",
       "      <th>engine-size</th>\n",
       "      <th>compression-ratio</th>\n",
       "      <th>city-mpg</th>\n",
       "      <th>highway-mpg</th>\n",
       "    </tr>\n",
       "  </thead>\n",
       "  <tbody>\n",
       "    <tr>\n",
       "      <th>count</th>\n",
       "      <td>205.000000</td>\n",
       "      <td>205.000000</td>\n",
       "      <td>205.000000</td>\n",
       "      <td>205.000000</td>\n",
       "      <td>205.000000</td>\n",
       "      <td>205.000000</td>\n",
       "      <td>205.000000</td>\n",
       "      <td>205.000000</td>\n",
       "      <td>205.000000</td>\n",
       "      <td>205.000000</td>\n",
       "    </tr>\n",
       "    <tr>\n",
       "      <th>mean</th>\n",
       "      <td>0.834146</td>\n",
       "      <td>98.756585</td>\n",
       "      <td>174.049268</td>\n",
       "      <td>65.907805</td>\n",
       "      <td>53.724878</td>\n",
       "      <td>2555.565854</td>\n",
       "      <td>126.907317</td>\n",
       "      <td>10.142537</td>\n",
       "      <td>25.219512</td>\n",
       "      <td>30.751220</td>\n",
       "    </tr>\n",
       "    <tr>\n",
       "      <th>std</th>\n",
       "      <td>1.245307</td>\n",
       "      <td>6.021776</td>\n",
       "      <td>12.337289</td>\n",
       "      <td>2.145204</td>\n",
       "      <td>2.443522</td>\n",
       "      <td>520.680204</td>\n",
       "      <td>41.642693</td>\n",
       "      <td>3.972040</td>\n",
       "      <td>6.542142</td>\n",
       "      <td>6.886443</td>\n",
       "    </tr>\n",
       "    <tr>\n",
       "      <th>min</th>\n",
       "      <td>-2.000000</td>\n",
       "      <td>86.600000</td>\n",
       "      <td>141.100000</td>\n",
       "      <td>60.300000</td>\n",
       "      <td>47.800000</td>\n",
       "      <td>1488.000000</td>\n",
       "      <td>61.000000</td>\n",
       "      <td>7.000000</td>\n",
       "      <td>13.000000</td>\n",
       "      <td>16.000000</td>\n",
       "    </tr>\n",
       "    <tr>\n",
       "      <th>25%</th>\n",
       "      <td>0.000000</td>\n",
       "      <td>94.500000</td>\n",
       "      <td>166.300000</td>\n",
       "      <td>64.100000</td>\n",
       "      <td>52.000000</td>\n",
       "      <td>2145.000000</td>\n",
       "      <td>97.000000</td>\n",
       "      <td>8.600000</td>\n",
       "      <td>19.000000</td>\n",
       "      <td>25.000000</td>\n",
       "    </tr>\n",
       "    <tr>\n",
       "      <th>50%</th>\n",
       "      <td>1.000000</td>\n",
       "      <td>97.000000</td>\n",
       "      <td>173.200000</td>\n",
       "      <td>65.500000</td>\n",
       "      <td>54.100000</td>\n",
       "      <td>2414.000000</td>\n",
       "      <td>120.000000</td>\n",
       "      <td>9.000000</td>\n",
       "      <td>24.000000</td>\n",
       "      <td>30.000000</td>\n",
       "    </tr>\n",
       "    <tr>\n",
       "      <th>75%</th>\n",
       "      <td>2.000000</td>\n",
       "      <td>102.400000</td>\n",
       "      <td>183.100000</td>\n",
       "      <td>66.900000</td>\n",
       "      <td>55.500000</td>\n",
       "      <td>2935.000000</td>\n",
       "      <td>141.000000</td>\n",
       "      <td>9.400000</td>\n",
       "      <td>30.000000</td>\n",
       "      <td>34.000000</td>\n",
       "    </tr>\n",
       "    <tr>\n",
       "      <th>max</th>\n",
       "      <td>3.000000</td>\n",
       "      <td>120.900000</td>\n",
       "      <td>208.100000</td>\n",
       "      <td>72.300000</td>\n",
       "      <td>59.800000</td>\n",
       "      <td>4066.000000</td>\n",
       "      <td>326.000000</td>\n",
       "      <td>23.000000</td>\n",
       "      <td>49.000000</td>\n",
       "      <td>54.000000</td>\n",
       "    </tr>\n",
       "  </tbody>\n",
       "</table>\n",
       "</div>"
      ],
      "text/plain": [
       "        symboling  wheel-base      length       width      height  \\\n",
       "count  205.000000  205.000000  205.000000  205.000000  205.000000   \n",
       "mean     0.834146   98.756585  174.049268   65.907805   53.724878   \n",
       "std      1.245307    6.021776   12.337289    2.145204    2.443522   \n",
       "min     -2.000000   86.600000  141.100000   60.300000   47.800000   \n",
       "25%      0.000000   94.500000  166.300000   64.100000   52.000000   \n",
       "50%      1.000000   97.000000  173.200000   65.500000   54.100000   \n",
       "75%      2.000000  102.400000  183.100000   66.900000   55.500000   \n",
       "max      3.000000  120.900000  208.100000   72.300000   59.800000   \n",
       "\n",
       "       curb-weight  engine-size  compression-ratio    city-mpg  highway-mpg  \n",
       "count   205.000000   205.000000         205.000000  205.000000   205.000000  \n",
       "mean   2555.565854   126.907317          10.142537   25.219512    30.751220  \n",
       "std     520.680204    41.642693           3.972040    6.542142     6.886443  \n",
       "min    1488.000000    61.000000           7.000000   13.000000    16.000000  \n",
       "25%    2145.000000    97.000000           8.600000   19.000000    25.000000  \n",
       "50%    2414.000000   120.000000           9.000000   24.000000    30.000000  \n",
       "75%    2935.000000   141.000000           9.400000   30.000000    34.000000  \n",
       "max    4066.000000   326.000000          23.000000   49.000000    54.000000  "
      ]
     },
     "execution_count": 7,
     "metadata": {},
     "output_type": "execute_result"
    }
   ],
   "source": [
    "data.describe()"
   ]
  },
  {
   "cell_type": "markdown",
   "metadata": {},
   "source": [
    "### Select subset of independent variables"
   ]
  },
  {
   "cell_type": "code",
   "execution_count": 8,
   "metadata": {},
   "outputs": [],
   "source": [
    "include = [\"length\", \"width\", \"height\", \"curb-weight\", \\\n",
    "           \"engine-size\", \"horsepower\", \"price\"]"
   ]
  },
  {
   "cell_type": "code",
   "execution_count": 9,
   "metadata": {},
   "outputs": [],
   "source": [
    "data_selected = data[include]"
   ]
  },
  {
   "cell_type": "code",
   "execution_count": 10,
   "metadata": {},
   "outputs": [
    {
     "name": "stderr",
     "output_type": "stream",
     "text": [
      "/home/user/anaconda3/lib/python3.6/site-packages/ipykernel_launcher.py:2: SettingWithCopyWarning: \n",
      "A value is trying to be set on a copy of a slice from a DataFrame.\n",
      "Try using .loc[row_indexer,col_indexer] = value instead\n",
      "\n",
      "See the caveats in the documentation: http://pandas.pydata.org/pandas-docs/stable/indexing.html#indexing-view-versus-copy\n",
      "  \n"
     ]
    }
   ],
   "source": [
    "for col in data_selected.columns:\n",
    "    data_selected[col] = pd.to_numeric(data_selected[col], errors='coerce')"
   ]
  },
  {
   "cell_type": "code",
   "execution_count": 11,
   "metadata": {},
   "outputs": [],
   "source": [
    "data_selected = data_selected.dropna(axis=0)"
   ]
  },
  {
   "cell_type": "code",
   "execution_count": 12,
   "metadata": {},
   "outputs": [
    {
     "name": "stdout",
     "output_type": "stream",
     "text": [
      "<class 'pandas.core.frame.DataFrame'>\n",
      "Int64Index: 199 entries, 0 to 204\n",
      "Data columns (total 7 columns):\n",
      "length         199 non-null float64\n",
      "width          199 non-null float64\n",
      "height         199 non-null float64\n",
      "curb-weight    199 non-null int64\n",
      "engine-size    199 non-null int64\n",
      "horsepower     199 non-null float64\n",
      "price          199 non-null float64\n",
      "dtypes: float64(5), int64(2)\n",
      "memory usage: 12.4 KB\n"
     ]
    }
   ],
   "source": [
    "data_selected.info()"
   ]
  },
  {
   "cell_type": "code",
   "execution_count": 13,
   "metadata": {},
   "outputs": [
    {
     "data": {
      "text/html": [
       "<div>\n",
       "<style scoped>\n",
       "    .dataframe tbody tr th:only-of-type {\n",
       "        vertical-align: middle;\n",
       "    }\n",
       "\n",
       "    .dataframe tbody tr th {\n",
       "        vertical-align: top;\n",
       "    }\n",
       "\n",
       "    .dataframe thead th {\n",
       "        text-align: right;\n",
       "    }\n",
       "</style>\n",
       "<table border=\"1\" class=\"dataframe\">\n",
       "  <thead>\n",
       "    <tr style=\"text-align: right;\">\n",
       "      <th></th>\n",
       "      <th>length</th>\n",
       "      <th>width</th>\n",
       "      <th>height</th>\n",
       "      <th>curb-weight</th>\n",
       "      <th>engine-size</th>\n",
       "      <th>horsepower</th>\n",
       "      <th>price</th>\n",
       "    </tr>\n",
       "  </thead>\n",
       "  <tbody>\n",
       "    <tr>\n",
       "      <th>count</th>\n",
       "      <td>199.000000</td>\n",
       "      <td>199.000000</td>\n",
       "      <td>199.000000</td>\n",
       "      <td>199.000000</td>\n",
       "      <td>199.000000</td>\n",
       "      <td>199.000000</td>\n",
       "      <td>199.000000</td>\n",
       "    </tr>\n",
       "    <tr>\n",
       "      <th>mean</th>\n",
       "      <td>174.151256</td>\n",
       "      <td>65.882412</td>\n",
       "      <td>53.775879</td>\n",
       "      <td>2556.030151</td>\n",
       "      <td>126.824121</td>\n",
       "      <td>103.396985</td>\n",
       "      <td>13243.432161</td>\n",
       "    </tr>\n",
       "    <tr>\n",
       "      <th>std</th>\n",
       "      <td>12.371905</td>\n",
       "      <td>2.110996</td>\n",
       "      <td>2.447039</td>\n",
       "      <td>519.855544</td>\n",
       "      <td>41.752932</td>\n",
       "      <td>37.553843</td>\n",
       "      <td>7978.707609</td>\n",
       "    </tr>\n",
       "    <tr>\n",
       "      <th>min</th>\n",
       "      <td>141.100000</td>\n",
       "      <td>60.300000</td>\n",
       "      <td>47.800000</td>\n",
       "      <td>1488.000000</td>\n",
       "      <td>61.000000</td>\n",
       "      <td>48.000000</td>\n",
       "      <td>5118.000000</td>\n",
       "    </tr>\n",
       "    <tr>\n",
       "      <th>25%</th>\n",
       "      <td>166.550000</td>\n",
       "      <td>64.100000</td>\n",
       "      <td>52.000000</td>\n",
       "      <td>2157.000000</td>\n",
       "      <td>97.500000</td>\n",
       "      <td>70.000000</td>\n",
       "      <td>7775.000000</td>\n",
       "    </tr>\n",
       "    <tr>\n",
       "      <th>50%</th>\n",
       "      <td>173.200000</td>\n",
       "      <td>65.500000</td>\n",
       "      <td>54.100000</td>\n",
       "      <td>2414.000000</td>\n",
       "      <td>119.000000</td>\n",
       "      <td>95.000000</td>\n",
       "      <td>10345.000000</td>\n",
       "    </tr>\n",
       "    <tr>\n",
       "      <th>75%</th>\n",
       "      <td>183.500000</td>\n",
       "      <td>66.700000</td>\n",
       "      <td>55.550000</td>\n",
       "      <td>2930.500000</td>\n",
       "      <td>143.000000</td>\n",
       "      <td>116.000000</td>\n",
       "      <td>16501.500000</td>\n",
       "    </tr>\n",
       "    <tr>\n",
       "      <th>max</th>\n",
       "      <td>208.100000</td>\n",
       "      <td>72.000000</td>\n",
       "      <td>59.800000</td>\n",
       "      <td>4066.000000</td>\n",
       "      <td>326.000000</td>\n",
       "      <td>262.000000</td>\n",
       "      <td>45400.000000</td>\n",
       "    </tr>\n",
       "  </tbody>\n",
       "</table>\n",
       "</div>"
      ],
      "text/plain": [
       "           length       width      height  curb-weight  engine-size  \\\n",
       "count  199.000000  199.000000  199.000000   199.000000   199.000000   \n",
       "mean   174.151256   65.882412   53.775879  2556.030151   126.824121   \n",
       "std     12.371905    2.110996    2.447039   519.855544    41.752932   \n",
       "min    141.100000   60.300000   47.800000  1488.000000    61.000000   \n",
       "25%    166.550000   64.100000   52.000000  2157.000000    97.500000   \n",
       "50%    173.200000   65.500000   54.100000  2414.000000   119.000000   \n",
       "75%    183.500000   66.700000   55.550000  2930.500000   143.000000   \n",
       "max    208.100000   72.000000   59.800000  4066.000000   326.000000   \n",
       "\n",
       "       horsepower         price  \n",
       "count  199.000000    199.000000  \n",
       "mean   103.396985  13243.432161  \n",
       "std     37.553843   7978.707609  \n",
       "min     48.000000   5118.000000  \n",
       "25%     70.000000   7775.000000  \n",
       "50%     95.000000  10345.000000  \n",
       "75%    116.000000  16501.500000  \n",
       "max    262.000000  45400.000000  "
      ]
     },
     "execution_count": 13,
     "metadata": {},
     "output_type": "execute_result"
    }
   ],
   "source": [
    "data_selected.describe()"
   ]
  },
  {
   "cell_type": "markdown",
   "metadata": {},
   "source": [
    "### Define the dependent (target) variable "
   ]
  },
  {
   "cell_type": "code",
   "execution_count": 14,
   "metadata": {},
   "outputs": [],
   "source": [
    "target = pd.DataFrame(data_selected[\"price\"])"
   ]
  },
  {
   "cell_type": "code",
   "execution_count": 15,
   "metadata": {},
   "outputs": [
    {
     "data": {
      "text/plain": [
       "pandas.core.frame.DataFrame"
      ]
     },
     "execution_count": 15,
     "metadata": {},
     "output_type": "execute_result"
    }
   ],
   "source": [
    "type(target)"
   ]
  },
  {
   "cell_type": "markdown",
   "metadata": {},
   "source": [
    "### Create a list of all combinations of independent variables "
   ]
  },
  {
   "cell_type": "code",
   "execution_count": 16,
   "metadata": {},
   "outputs": [],
   "source": [
    "list_of_variables = include[:-1]\n",
    "\n",
    "combinations = []\n",
    "\n",
    "for i in range(2, len(list_of_variables)+1):\n",
    "   combinations += itertools.combinations(list_of_variables, i)\n",
    "\n",
    "combinations = list(combinations)"
   ]
  },
  {
   "cell_type": "code",
   "execution_count": 17,
   "metadata": {},
   "outputs": [
    {
     "data": {
      "text/plain": [
       "57"
      ]
     },
     "execution_count": 17,
     "metadata": {},
     "output_type": "execute_result"
    }
   ],
   "source": [
    "len(combinations)"
   ]
  },
  {
   "cell_type": "markdown",
   "metadata": {},
   "source": [
    "--- \n",
    "## Subsetting (Test and Training Split)"
   ]
  },
  {
   "cell_type": "code",
   "execution_count": 18,
   "metadata": {},
   "outputs": [],
   "source": [
    "\"\"\" --------------------------------------------------------------------\n",
    "Split the dataset pseudo-randomly into training and testing subsets, \n",
    "for details see \n",
    "\n",
    "URL: http://scikit-learn.org/stable/modules/generated/\n",
    "     sklearn.model_selection.train_test_split.html\n",
    "-------------------------------------------------------------------- \"\"\"\n",
    "\n",
    "data_train, data_test = train_test_split(data_selected, test_size=0.2, random_state=11)"
   ]
  },
  {
   "cell_type": "code",
   "execution_count": 19,
   "metadata": {},
   "outputs": [
    {
     "name": "stdout",
     "output_type": "stream",
     "text": [
      "<class 'pandas.core.frame.DataFrame'>\n",
      "Int64Index: 159 entries, 168 to 159\n",
      "Data columns (total 7 columns):\n",
      "length         159 non-null float64\n",
      "width          159 non-null float64\n",
      "height         159 non-null float64\n",
      "curb-weight    159 non-null int64\n",
      "engine-size    159 non-null int64\n",
      "horsepower     159 non-null float64\n",
      "price          159 non-null float64\n",
      "dtypes: float64(5), int64(2)\n",
      "memory usage: 9.9 KB\n"
     ]
    }
   ],
   "source": [
    "data_train.info()"
   ]
  },
  {
   "cell_type": "code",
   "execution_count": 20,
   "metadata": {},
   "outputs": [
    {
     "name": "stdout",
     "output_type": "stream",
     "text": [
      "<class 'pandas.core.frame.DataFrame'>\n",
      "Int64Index: 40 entries, 179 to 122\n",
      "Data columns (total 7 columns):\n",
      "length         40 non-null float64\n",
      "width          40 non-null float64\n",
      "height         40 non-null float64\n",
      "curb-weight    40 non-null int64\n",
      "engine-size    40 non-null int64\n",
      "horsepower     40 non-null float64\n",
      "price          40 non-null float64\n",
      "dtypes: float64(5), int64(2)\n",
      "memory usage: 2.5 KB\n"
     ]
    }
   ],
   "source": [
    "data_test.info()"
   ]
  },
  {
   "cell_type": "markdown",
   "metadata": {},
   "source": [
    "--- \n",
    "## Linear Regression with *one* independent variable "
   ]
  },
  {
   "cell_type": "code",
   "execution_count": 21,
   "metadata": {},
   "outputs": [],
   "source": [
    "# create linear regression object \n",
    "lm = linear_model.LinearRegression()"
   ]
  },
  {
   "cell_type": "code",
   "execution_count": 22,
   "metadata": {},
   "outputs": [],
   "source": [
    "# define variables \n",
    "X_train = (data_train[\"length\"].values).reshape(-1, 1) # this is only necessary when using 1 independent variable! \n",
    "y_train = data_train[\"price\"]\n",
    "X_test = (data_test[\"length\"].values).reshape(-1, 1) # this is only necessary when using 1 independent variable! \n",
    "y_test = data_test[\"price\"]"
   ]
  },
  {
   "cell_type": "code",
   "execution_count": 23,
   "metadata": {},
   "outputs": [
    {
     "name": "stdout",
     "output_type": "stream",
     "text": [
      "<class 'numpy.ndarray'>\n",
      "(159, 1)\n"
     ]
    }
   ],
   "source": [
    "print(type(X_train))\n",
    "print(X_train.shape)"
   ]
  },
  {
   "cell_type": "code",
   "execution_count": 24,
   "metadata": {},
   "outputs": [
    {
     "name": "stdout",
     "output_type": "stream",
     "text": [
      "<class 'numpy.ndarray'>\n",
      "(40, 1)\n"
     ]
    }
   ],
   "source": [
    "print(type(X_test))\n",
    "print(X_test.shape)"
   ]
  },
  {
   "cell_type": "code",
   "execution_count": 25,
   "metadata": {},
   "outputs": [
    {
     "name": "stdout",
     "output_type": "stream",
     "text": [
      "<class 'pandas.core.series.Series'>\n",
      "(159,)\n"
     ]
    }
   ],
   "source": [
    "print(type(y_train))\n",
    "print(y_train.shape)"
   ]
  },
  {
   "cell_type": "code",
   "execution_count": 26,
   "metadata": {},
   "outputs": [
    {
     "name": "stdout",
     "output_type": "stream",
     "text": [
      "<class 'pandas.core.series.Series'>\n",
      "(40,)\n"
     ]
    }
   ],
   "source": [
    "print(type(y_test))\n",
    "print(y_test.shape)"
   ]
  },
  {
   "cell_type": "code",
   "execution_count": 27,
   "metadata": {},
   "outputs": [
    {
     "data": {
      "text/plain": [
       "0.5621912462907408"
      ]
     },
     "execution_count": 27,
     "metadata": {},
     "output_type": "execute_result"
    }
   ],
   "source": [
    "# fit linear model to training subset \n",
    "model = lm.fit(X_train, y_train)\n",
    "\n",
    "# make a prediction using the test subset\n",
    "y_prediction = lm.predict(X_test)\n",
    "\n",
    "# return the R² score \n",
    "r2_score(y_test, y_prediction)"
   ]
  },
  {
   "cell_type": "markdown",
   "metadata": {},
   "source": [
    "--- \n",
    "## Multiple Linear Regression on *all* variables "
   ]
  },
  {
   "cell_type": "code",
   "execution_count": 28,
   "metadata": {},
   "outputs": [],
   "source": [
    "# create linear regression object \n",
    "lm = linear_model.LinearRegression()"
   ]
  },
  {
   "cell_type": "code",
   "execution_count": 29,
   "metadata": {},
   "outputs": [],
   "source": [
    "item = [\"length\", \"width\", \"height\", \"curb-weight\", \"engine-size\", \"horsepower\"]\n",
    "target = [\"price\"]\n",
    "\n",
    "# define variables \n",
    "X_train = data_train.loc[:,item] \n",
    "y_train = data_train.loc[:,target]\n",
    "X_test = data_test.loc[:,item] \n",
    "y_test = data_test.loc[:,target]"
   ]
  },
  {
   "cell_type": "code",
   "execution_count": 30,
   "metadata": {},
   "outputs": [
    {
     "name": "stdout",
     "output_type": "stream",
     "text": [
      "<class 'pandas.core.frame.DataFrame'>\n",
      "(159, 6)\n"
     ]
    }
   ],
   "source": [
    "print(type(X_train))\n",
    "print(X_train.shape)"
   ]
  },
  {
   "cell_type": "code",
   "execution_count": 31,
   "metadata": {},
   "outputs": [
    {
     "name": "stdout",
     "output_type": "stream",
     "text": [
      "<class 'pandas.core.frame.DataFrame'>\n",
      "(40, 6)\n"
     ]
    }
   ],
   "source": [
    "print(type(X_test))\n",
    "print(X_test.shape)"
   ]
  },
  {
   "cell_type": "code",
   "execution_count": 32,
   "metadata": {},
   "outputs": [
    {
     "name": "stdout",
     "output_type": "stream",
     "text": [
      "<class 'pandas.core.frame.DataFrame'>\n",
      "(159, 1)\n"
     ]
    }
   ],
   "source": [
    "print(type(y_train))\n",
    "print(y_train.shape)"
   ]
  },
  {
   "cell_type": "code",
   "execution_count": 33,
   "metadata": {},
   "outputs": [
    {
     "name": "stdout",
     "output_type": "stream",
     "text": [
      "<class 'pandas.core.frame.DataFrame'>\n",
      "(40, 1)\n"
     ]
    }
   ],
   "source": [
    "print(type(y_test))\n",
    "print(y_test.shape)"
   ]
  },
  {
   "cell_type": "code",
   "execution_count": 34,
   "metadata": {},
   "outputs": [
    {
     "data": {
      "text/plain": [
       "0.8244803233868335"
      ]
     },
     "execution_count": 34,
     "metadata": {},
     "output_type": "execute_result"
    }
   ],
   "source": [
    "# fit linear model to training subset \n",
    "model = lm.fit(X_train, y_train)\n",
    "\n",
    "# make a prediction using the test subset\n",
    "y_prediction = lm.predict(X_test)\n",
    "\n",
    "# return the R² score \n",
    "r2_score(y_test, y_prediction)"
   ]
  },
  {
   "cell_type": "markdown",
   "metadata": {},
   "source": [
    "--- \n",
    "## Multiple Linear Regression on *all combinations* of variables "
   ]
  },
  {
   "cell_type": "code",
   "execution_count": 35,
   "metadata": {},
   "outputs": [],
   "source": [
    "# create linear regression object \n",
    "lm = linear_model.LinearRegression()"
   ]
  },
  {
   "cell_type": "code",
   "execution_count": 54,
   "metadata": {},
   "outputs": [],
   "source": [
    "# open an empty dictionary for the results of the calculation \n",
    "results = {}"
   ]
  },
  {
   "cell_type": "code",
   "execution_count": 37,
   "metadata": {},
   "outputs": [],
   "source": [
    "\"\"\" --------------------------------------------------------------------\n",
    "calc fits a linear model to a training subset, makes a prediction using \n",
    "the test subset, and returns the R² score (quality of prediction index)\n",
    "-------------------------------------------------------------------- \"\"\"\n",
    "\n",
    "def calc(item): \n",
    "    # define variables \n",
    "    X_train = data_train.loc[:,item] \n",
    "    y_train = data_train.loc[:,target]\n",
    "    X_test = data_test.loc[:,item] \n",
    "    y_test = data_test.loc[:,target]\n",
    "    \n",
    "    # fit linear model to training subset \n",
    "    model = lm.fit(X_train, y_train)\n",
    "    \n",
    "    # make a prediction using the test subset\n",
    "    y_prediction = lm.predict(X_test)\n",
    "    \n",
    "    # return the R² score \n",
    "    return r2_score(y_test, y_prediction)"
   ]
  },
  {
   "cell_type": "code",
   "execution_count": 42,
   "metadata": {},
   "outputs": [],
   "source": [
    "combinations = []\n",
    "\n",
    "for i in range(2, len(list_of_variables)+1):\n",
    "   combinations += itertools.combinations(list_of_variables, i)\n",
    "\n",
    "# combinations = list(combinations)"
   ]
  },
  {
   "cell_type": "code",
   "execution_count": 43,
   "metadata": {},
   "outputs": [
    {
     "data": {
      "text/plain": [
       "57"
      ]
     },
     "execution_count": 43,
     "metadata": {},
     "output_type": "execute_result"
    }
   ],
   "source": [
    "len(combinations)"
   ]
  },
  {
   "cell_type": "code",
   "execution_count": 44,
   "metadata": {
    "scrolled": true
   },
   "outputs": [
    {
     "name": "stdout",
     "output_type": "stream",
     "text": [
      "0 ('length', 'width') 0.6825329305618328\n",
      "1 ('length', 'height') 0.6198750317368699\n",
      "2 ('length', 'curb-weight') 0.8177647675141834\n",
      "3 ('length', 'engine-size') 0.7615973112373322\n",
      "4 ('length', 'horsepower') 0.7937651317633225\n",
      "5 ('width', 'height') 0.6831710733853068\n",
      "6 ('width', 'curb-weight') 0.8124976148768717\n",
      "7 ('width', 'engine-size') 0.7762481979459139\n",
      "8 ('width', 'horsepower') 0.8140248805033385\n",
      "9 ('height', 'curb-weight') 0.8105113355488949\n",
      "10 ('height', 'engine-size') 0.7323034219359563\n",
      "11 ('height', 'horsepower') 0.7780842723170469\n",
      "12 ('curb-weight', 'engine-size') 0.800418713342268\n",
      "13 ('curb-weight', 'horsepower') 0.8353003635208406\n",
      "14 ('engine-size', 'horsepower') 0.7660936988121405\n",
      "15 ('length', 'width', 'height') 0.7025794203795885\n",
      "16 ('length', 'width', 'curb-weight') 0.828047540313095\n",
      "17 ('length', 'width', 'engine-size') 0.7764164009122462\n",
      "18 ('length', 'width', 'horsepower') 0.8176635937649352\n",
      "19 ('length', 'height', 'curb-weight') 0.8123628138903585\n",
      "20 ('length', 'height', 'engine-size') 0.762155896229056\n",
      "21 ('length', 'height', 'horsepower') 0.796770819330096\n",
      "22 ('length', 'curb-weight', 'engine-size') 0.8005006087396666\n",
      "23 ('length', 'curb-weight', 'horsepower') 0.8350724012773729\n",
      "24 ('length', 'engine-size', 'horsepower') 0.8008475674270246\n",
      "25 ('width', 'height', 'curb-weight') 0.8160642388033443\n",
      "26 ('width', 'height', 'engine-size') 0.7763029359444534\n",
      "27 ('width', 'height', 'horsepower') 0.8257503475135368\n",
      "28 ('width', 'curb-weight', 'engine-size') 0.7976815367481191\n",
      "29 ('width', 'curb-weight', 'horsepower') 0.841685642694515\n",
      "30 ('width', 'engine-size', 'horsepower') 0.8131345822077465\n",
      "31 ('height', 'curb-weight', 'engine-size') 0.8011204714333778\n",
      "32 ('height', 'curb-weight', 'horsepower') 0.8356283720271775\n",
      "33 ('height', 'engine-size', 'horsepower') 0.7942967331833869\n",
      "34 ('curb-weight', 'engine-size', 'horsepower') 0.820179118231918\n",
      "35 ('length', 'width', 'height', 'curb-weight') 0.8224512062179647\n",
      "36 ('length', 'width', 'height', 'engine-size') 0.7758994792914218\n",
      "37 ('length', 'width', 'height', 'horsepower') 0.825749474273987\n",
      "38 ('length', 'width', 'curb-weight', 'engine-size') 0.8017551152559181\n",
      "39 ('length', 'width', 'curb-weight', 'horsepower') 0.841823011796725\n",
      "40 ('length', 'width', 'engine-size', 'horsepower') 0.8127379500730375\n",
      "41 ('length', 'height', 'curb-weight', 'engine-size') 0.800909326436088\n",
      "42 ('length', 'height', 'curb-weight', 'horsepower') 0.8365984050704708\n",
      "43 ('length', 'height', 'engine-size', 'horsepower') 0.8044413981721314\n",
      "44 ('length', 'curb-weight', 'engine-size', 'horsepower') 0.8193798045046135\n",
      "45 ('width', 'height', 'curb-weight', 'engine-size') 0.7990847753167961\n",
      "46 ('width', 'height', 'curb-weight', 'horsepower') 0.8417857005223212\n",
      "47 ('width', 'height', 'engine-size', 'horsepower') 0.8203449874772478\n",
      "48 ('width', 'curb-weight', 'engine-size', 'horsepower') 0.8204594557295952\n",
      "49 ('height', 'curb-weight', 'engine-size', 'horsepower') 0.8219470734648973\n",
      "50 ('length', 'width', 'height', 'curb-weight', 'engine-size') 0.8015106374625407\n",
      "51 ('length', 'width', 'height', 'curb-weight', 'horsepower') 0.8466950035575332\n",
      "52 ('length', 'width', 'height', 'engine-size', 'horsepower') 0.8180565019239876\n",
      "53 ('length', 'width', 'curb-weight', 'engine-size', 'horsepower') 0.8213384105642859\n",
      "54 ('length', 'height', 'curb-weight', 'engine-size', 'horsepower') 0.8218199466820099\n",
      "55 ('width', 'height', 'curb-weight', 'engine-size', 'horsepower') 0.8215826456726247\n",
      "56 ('length', 'width', 'height', 'curb-weight', 'engine-size', 'horsepower') 0.8244803233868335\n"
     ]
    }
   ],
   "source": [
    "for index, item in enumerate(combinations):\n",
    "    print(index, item, calc(combinations[index]))"
   ]
  },
  {
   "cell_type": "code",
   "execution_count": 59,
   "metadata": {},
   "outputs": [],
   "source": [
    "\"\"\" --------------------------------------------------------------------\n",
    "iterate over all possible combinations and write the result \n",
    "of the linear modelling (R² score) into the dictionary \"results\"\n",
    "-------------------------------------------------------------------- \"\"\"\n",
    "\n",
    "for index, item in enumerate(combinations):\n",
    "    # write result of linear model (R² score) to dictionary \n",
    "    results += index, item, calc(combinations[index])"
   ]
  },
  {
   "cell_type": "code",
   "execution_count": 60,
   "metadata": {
    "scrolled": true
   },
   "outputs": [
    {
     "data": {
      "text/plain": [
       "(56,\n",
       " ('length', 'width', 'height', 'curb-weight', 'engine-size', 'horsepower'),\n",
       " 0.8244803233868335,\n",
       " 0,\n",
       " ('length', 'width'),\n",
       " 0.6825329305618328,\n",
       " 1,\n",
       " ('length', 'height'),\n",
       " 0.6198750317368699,\n",
       " 2,\n",
       " ('length', 'curb-weight'),\n",
       " 0.8177647675141834,\n",
       " 3,\n",
       " ('length', 'engine-size'),\n",
       " 0.7615973112373322,\n",
       " 4,\n",
       " ('length', 'horsepower'),\n",
       " 0.7937651317633225,\n",
       " 5,\n",
       " ('width', 'height'),\n",
       " 0.6831710733853068,\n",
       " 6,\n",
       " ('width', 'curb-weight'),\n",
       " 0.8124976148768717,\n",
       " 7,\n",
       " ('width', 'engine-size'),\n",
       " 0.7762481979459139,\n",
       " 8,\n",
       " ('width', 'horsepower'),\n",
       " 0.8140248805033385,\n",
       " 9,\n",
       " ('height', 'curb-weight'),\n",
       " 0.8105113355488949,\n",
       " 10,\n",
       " ('height', 'engine-size'),\n",
       " 0.7323034219359563,\n",
       " 11,\n",
       " ('height', 'horsepower'),\n",
       " 0.7780842723170469,\n",
       " 12,\n",
       " ('curb-weight', 'engine-size'),\n",
       " 0.800418713342268,\n",
       " 13,\n",
       " ('curb-weight', 'horsepower'),\n",
       " 0.8353003635208406,\n",
       " 14,\n",
       " ('engine-size', 'horsepower'),\n",
       " 0.7660936988121405,\n",
       " 15,\n",
       " ('length', 'width', 'height'),\n",
       " 0.7025794203795885,\n",
       " 16,\n",
       " ('length', 'width', 'curb-weight'),\n",
       " 0.828047540313095,\n",
       " 17,\n",
       " ('length', 'width', 'engine-size'),\n",
       " 0.7764164009122462,\n",
       " 18,\n",
       " ('length', 'width', 'horsepower'),\n",
       " 0.8176635937649352,\n",
       " 19,\n",
       " ('length', 'height', 'curb-weight'),\n",
       " 0.8123628138903585,\n",
       " 20,\n",
       " ('length', 'height', 'engine-size'),\n",
       " 0.762155896229056,\n",
       " 21,\n",
       " ('length', 'height', 'horsepower'),\n",
       " 0.796770819330096,\n",
       " 22,\n",
       " ('length', 'curb-weight', 'engine-size'),\n",
       " 0.8005006087396666,\n",
       " 23,\n",
       " ('length', 'curb-weight', 'horsepower'),\n",
       " 0.8350724012773729,\n",
       " 24,\n",
       " ('length', 'engine-size', 'horsepower'),\n",
       " 0.8008475674270246,\n",
       " 25,\n",
       " ('width', 'height', 'curb-weight'),\n",
       " 0.8160642388033443,\n",
       " 26,\n",
       " ('width', 'height', 'engine-size'),\n",
       " 0.7763029359444534,\n",
       " 27,\n",
       " ('width', 'height', 'horsepower'),\n",
       " 0.8257503475135368,\n",
       " 28,\n",
       " ('width', 'curb-weight', 'engine-size'),\n",
       " 0.7976815367481191,\n",
       " 29,\n",
       " ('width', 'curb-weight', 'horsepower'),\n",
       " 0.841685642694515,\n",
       " 30,\n",
       " ('width', 'engine-size', 'horsepower'),\n",
       " 0.8131345822077465,\n",
       " 31,\n",
       " ('height', 'curb-weight', 'engine-size'),\n",
       " 0.8011204714333778,\n",
       " 32,\n",
       " ('height', 'curb-weight', 'horsepower'),\n",
       " 0.8356283720271775,\n",
       " 33,\n",
       " ('height', 'engine-size', 'horsepower'),\n",
       " 0.7942967331833869,\n",
       " 34,\n",
       " ('curb-weight', 'engine-size', 'horsepower'),\n",
       " 0.820179118231918,\n",
       " 35,\n",
       " ('length', 'width', 'height', 'curb-weight'),\n",
       " 0.8224512062179647,\n",
       " 36,\n",
       " ('length', 'width', 'height', 'engine-size'),\n",
       " 0.7758994792914218,\n",
       " 37,\n",
       " ('length', 'width', 'height', 'horsepower'),\n",
       " 0.825749474273987,\n",
       " 38,\n",
       " ('length', 'width', 'curb-weight', 'engine-size'),\n",
       " 0.8017551152559181,\n",
       " 39,\n",
       " ('length', 'width', 'curb-weight', 'horsepower'),\n",
       " 0.841823011796725,\n",
       " 40,\n",
       " ('length', 'width', 'engine-size', 'horsepower'),\n",
       " 0.8127379500730375,\n",
       " 41,\n",
       " ('length', 'height', 'curb-weight', 'engine-size'),\n",
       " 0.800909326436088,\n",
       " 42,\n",
       " ('length', 'height', 'curb-weight', 'horsepower'),\n",
       " 0.8365984050704708,\n",
       " 43,\n",
       " ('length', 'height', 'engine-size', 'horsepower'),\n",
       " 0.8044413981721314,\n",
       " 44,\n",
       " ('length', 'curb-weight', 'engine-size', 'horsepower'),\n",
       " 0.8193798045046135,\n",
       " 45,\n",
       " ('width', 'height', 'curb-weight', 'engine-size'),\n",
       " 0.7990847753167961,\n",
       " 46,\n",
       " ('width', 'height', 'curb-weight', 'horsepower'),\n",
       " 0.8417857005223212,\n",
       " 47,\n",
       " ('width', 'height', 'engine-size', 'horsepower'),\n",
       " 0.8203449874772478,\n",
       " 48,\n",
       " ('width', 'curb-weight', 'engine-size', 'horsepower'),\n",
       " 0.8204594557295952,\n",
       " 49,\n",
       " ('height', 'curb-weight', 'engine-size', 'horsepower'),\n",
       " 0.8219470734648973,\n",
       " 50,\n",
       " ('length', 'width', 'height', 'curb-weight', 'engine-size'),\n",
       " 0.8015106374625407,\n",
       " 51,\n",
       " ('length', 'width', 'height', 'curb-weight', 'horsepower'),\n",
       " 0.8466950035575332,\n",
       " 52,\n",
       " ('length', 'width', 'height', 'engine-size', 'horsepower'),\n",
       " 0.8180565019239876,\n",
       " 53,\n",
       " ('length', 'width', 'curb-weight', 'engine-size', 'horsepower'),\n",
       " 0.8213384105642859,\n",
       " 54,\n",
       " ('length', 'height', 'curb-weight', 'engine-size', 'horsepower'),\n",
       " 0.8218199466820099,\n",
       " 55,\n",
       " ('width', 'height', 'curb-weight', 'engine-size', 'horsepower'),\n",
       " 0.8215826456726247,\n",
       " 56,\n",
       " ('length', 'width', 'height', 'curb-weight', 'engine-size', 'horsepower'),\n",
       " 0.8244803233868335)"
      ]
     },
     "execution_count": 60,
     "metadata": {},
     "output_type": "execute_result"
    }
   ],
   "source": [
    "results"
   ]
  },
  {
   "cell_type": "markdown",
   "metadata": {},
   "source": [
    "    51\t('length', 'width', 'height', 'curb-weight', 'horsepower')\t0.8466950036\n",
    "    39\t('length', 'width', 'curb-weight', 'horsepower')\t0.8418230118\n",
    "    46\t('width', 'height', 'curb-weight', 'horsepower')\t0.8417857005\n",
    "    29\t('width', 'curb-weight', 'horsepower')\t0.8416856427\n",
    "    42\t('length', 'height', 'curb-weight', 'horsepower')\t0.8365984051\n",
    "    32\t('height', 'curb-weight', 'horsepower')\t0.835628372\n",
    "    13\t('curb-weight', 'horsepower')\t0.8353003635\n",
    "    23\t('length', 'curb-weight', 'horsepower')\t0.8350724013\n",
    "    16\t('length', 'width', 'curb-weight')\t0.8280475403\n",
    "    27\t('width', 'height', 'horsepower')\t0.8257503475\n",
    "    37\t('length', 'width', 'height', 'horsepower')\t0.8257494743\n",
    "    56\t('length', 'width', 'height', 'curb-weight', 'engine-size', 'horsepower')\t0.8244803234\n",
    "    35\t('length', 'width', 'height', 'curb-weight')\t0.8224512062\n",
    "    49\t('height', 'curb-weight', 'engine-size', 'horsepower')\t0.8219470735\n",
    "    54\t('length', 'height', 'curb-weight', 'engine-size', 'horsepower')\t0.8218199467\n",
    "    55\t('width', 'height', 'curb-weight', 'engine-size', 'horsepower')\t0.8215826457\n",
    "    53\t('length', 'width', 'curb-weight', 'engine-size', 'horsepower')\t0.8213384106\n",
    "    48\t('width', 'curb-weight', 'engine-size', 'horsepower')\t0.8204594557\n",
    "    47\t('width', 'height', 'engine-size', 'horsepower')\t0.8203449875\n",
    "    34\t('curb-weight', 'engine-size', 'horsepower')\t0.8201791182\n",
    "    44\t('length', 'curb-weight', 'engine-size', 'horsepower')\t0.8193798045\n",
    "    52\t('length', 'width', 'height', 'engine-size', 'horsepower')\t0.8180565019\n",
    "    2\t('length', 'curb-weight')\t0.8177647675\n",
    "    18\t('length', 'width', 'horsepower')\t0.8176635938\n",
    "    25\t('width', 'height', 'curb-weight')\t0.8160642388\n",
    "    8\t('width', 'horsepower')\t0.8140248805\n",
    "    30\t('width', 'engine-size', 'horsepower')\t0.8131345822\n",
    "    40\t('length', 'width', 'engine-size', 'horsepower')\t0.8127379501\n",
    "    6\t('width', 'curb-weight')\t0.8124976149\n",
    "    19\t('length', 'height', 'curb-weight')\t0.8123628139\n",
    "    9\t('height', 'curb-weight')\t0.8105113355\n",
    "    43\t('length', 'height', 'engine-size', 'horsepower')\t0.8044413982\n",
    "    38\t('length', 'width', 'curb-weight', 'engine-size')\t0.8017551153\n",
    "    50\t('length', 'width', 'height', 'curb-weight', 'engine-size')\t0.8015106375\n",
    "    31\t('height', 'curb-weight', 'engine-size')\t0.8011204714\n",
    "    41\t('length', 'height', 'curb-weight', 'engine-size')\t0.8009093264\n",
    "    24\t('length', 'engine-size', 'horsepower')\t0.8008475674\n",
    "    22\t('length', 'curb-weight', 'engine-size')\t0.8005006087\n",
    "    12\t('curb-weight', 'engine-size')\t0.8004187133\n",
    "    45\t('width', 'height', 'curb-weight', 'engine-size')\t0.7990847753\n",
    "    28\t('width', 'curb-weight', 'engine-size')\t0.7976815367\n",
    "    21\t('length', 'height', 'horsepower')\t0.7967708193\n",
    "    33\t('height', 'engine-size', 'horsepower')\t0.7942967332\n",
    "    4\t('length', 'horsepower')\t0.7937651318\n",
    "    11\t('height', 'horsepower')\t0.7780842723\n",
    "    17\t('length', 'width', 'engine-size')\t0.7764164009\n",
    "    26\t('width', 'height', 'engine-size')\t0.7763029359\n",
    "    7\t('width', 'engine-size')\t0.7762481979\n",
    "    36\t('length', 'width', 'height', 'engine-size')\t0.7758994793\n",
    "    14\t('engine-size', 'horsepower')\t0.7660936988\n",
    "    20\t('length', 'height', 'engine-size')\t0.7621558962\n",
    "    3\t('length', 'engine-size')\t0.7615973112\n",
    "    10\t('height', 'engine-size')\t0.7323034219\n",
    "    15\t('length', 'width', 'height')\t0.7025794204\n",
    "    5\t('width', 'height')\t0.6831710734\n",
    "    0\t('length', 'width')\t0.6825329306\n",
    "    1\t('length', 'height')\t0.6198750317\n",
    "    "
   ]
  },
  {
   "cell_type": "code",
   "execution_count": null,
   "metadata": {},
   "outputs": [],
   "source": []
  }
 ],
 "metadata": {
  "kernelspec": {
   "display_name": "Python 3",
   "language": "python",
   "name": "python3"
  },
  "language_info": {
   "codemirror_mode": {
    "name": "ipython",
    "version": 3
   },
   "file_extension": ".py",
   "mimetype": "text/x-python",
   "name": "python",
   "nbconvert_exporter": "python",
   "pygments_lexer": "ipython3",
   "version": "3.6.5"
  }
 },
 "nbformat": 4,
 "nbformat_minor": 2
}
