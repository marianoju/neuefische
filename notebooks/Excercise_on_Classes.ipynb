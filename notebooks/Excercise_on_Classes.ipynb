{
 "cells": [
  {
   "cell_type": "markdown",
   "metadata": {},
   "source": [
    "# Excercise on Classes"
   ]
  },
  {
   "cell_type": "code",
   "execution_count": 1,
   "metadata": {},
   "outputs": [],
   "source": [
    "class Car:\n",
    "    def __init__(self):\n",
    "        self.engine = 'off'\n",
    "        self.driving = False\n",
    "        \n",
    "    def call(self, what):\n",
    "        return getattr(self, what)()\n",
    "\n",
    "    def start_engine(self):\n",
    "        if self.engine is 'off':\n",
    "            print('Starting engine... ')\n",
    "            self.engine = 'running'\n",
    "            print('Engine is running. ')\n",
    "            self._report()\n",
    "        else: \n",
    "            print('Attempting to start engine, but engine is already running! ' \n",
    "            'Can not start engine. ')\n",
    "            self._report()\n",
    "    \n",
    "    def stop_engine(self):\n",
    "        if self.engine is 'off': \n",
    "            print('Attempting to stop engine, but engine is not running! ' \n",
    "            'There is no need to stop the engine. ')\n",
    "        elif self.driving is False: \n",
    "            print('Stopping engine... ')\n",
    "            self.engine = 'off'\n",
    "            print('Engine is off. ')\n",
    "        else: \n",
    "            print('Stopping engine... ') \n",
    "            print('Engine is off but car is still rolling!')\n",
    "            self.driving = False\n",
    "            print('... car has rolled to a stop. ')\n",
    "        self._report()\n",
    "\n",
    "    def drive(self):\n",
    "        print('Car is driving... ')\n",
    "        self.driving = True\n",
    "        self._report()\n",
    "\n",
    "    def stop(self):\n",
    "        print('Car stopped. ')\n",
    "        self.driving = False\n",
    "        self._report()\n",
    "        \n",
    "    def _report(self):\n",
    "        # with Python 2.7 use the following code: \n",
    "        # template = 'Engine: {engine}, driving: {driving}'\n",
    "        # print(template.format(engine=self.engine, driving=self.driving))\n",
    "        # with Python 3.6 use the following code: \n",
    "        print(f'Engine: {self.engine}, driving: {self.driving}')"
   ]
  },
  {
   "cell_type": "markdown",
   "metadata": {},
   "source": [
    "--- \n",
    "## First run"
   ]
  },
  {
   "cell_type": "code",
   "execution_count": 2,
   "metadata": {},
   "outputs": [
    {
     "name": "stdout",
     "output_type": "stream",
     "text": [
      "Starting engine... \n",
      "Engine is running. \n",
      "Engine: running, driving: False\n"
     ]
    }
   ],
   "source": [
    "Mercedes = Car()\n",
    "Mercedes.start_engine()"
   ]
  },
  {
   "cell_type": "code",
   "execution_count": 3,
   "metadata": {},
   "outputs": [
    {
     "name": "stdout",
     "output_type": "stream",
     "text": [
      "Attempting to start engine, but engine is already running! Can not start engine. \n",
      "Engine: running, driving: False\n"
     ]
    }
   ],
   "source": [
    "Mercedes.call('start_engine')"
   ]
  },
  {
   "cell_type": "code",
   "execution_count": 4,
   "metadata": {},
   "outputs": [
    {
     "name": "stdout",
     "output_type": "stream",
     "text": [
      "Car is driving... \n",
      "Engine: running, driving: True\n"
     ]
    }
   ],
   "source": [
    "Mercedes.drive()"
   ]
  },
  {
   "cell_type": "code",
   "execution_count": 5,
   "metadata": {},
   "outputs": [
    {
     "name": "stdout",
     "output_type": "stream",
     "text": [
      "Car stopped. \n",
      "Engine: running, driving: False\n"
     ]
    }
   ],
   "source": [
    "Mercedes.stop()"
   ]
  },
  {
   "cell_type": "code",
   "execution_count": 6,
   "metadata": {},
   "outputs": [
    {
     "name": "stdout",
     "output_type": "stream",
     "text": [
      "Stopping engine... \n",
      "Engine is off. \n",
      "Engine: off, driving: False\n"
     ]
    }
   ],
   "source": [
    "Mercedes.stop_engine()"
   ]
  },
  {
   "cell_type": "markdown",
   "metadata": {},
   "source": [
    "--- \n",
    "## Second run"
   ]
  },
  {
   "cell_type": "code",
   "execution_count": 7,
   "metadata": {},
   "outputs": [
    {
     "name": "stdout",
     "output_type": "stream",
     "text": [
      "Starting engine... \n",
      "Engine is running. \n",
      "Engine: running, driving: False\n"
     ]
    }
   ],
   "source": [
    "Volkswagen = Car()\n",
    "Volkswagen.call('start_engine')"
   ]
  },
  {
   "cell_type": "code",
   "execution_count": 8,
   "metadata": {},
   "outputs": [
    {
     "name": "stdout",
     "output_type": "stream",
     "text": [
      "Car is driving... \n",
      "Engine: running, driving: True\n"
     ]
    }
   ],
   "source": [
    "Volkswagen.drive()"
   ]
  },
  {
   "cell_type": "code",
   "execution_count": 9,
   "metadata": {},
   "outputs": [
    {
     "name": "stdout",
     "output_type": "stream",
     "text": [
      "Stopping engine... \n",
      "Engine is off but car is still rolling!\n",
      "... car has rolled to a stop. \n",
      "Engine: running, driving: False\n"
     ]
    }
   ],
   "source": [
    "Volkswagen.stop_engine()"
   ]
  },
  {
   "cell_type": "code",
   "execution_count": 10,
   "metadata": {},
   "outputs": [
    {
     "name": "stdout",
     "output_type": "stream",
     "text": [
      "Attempting to stop engine, but engine is not running! There is no need to stop the engine. \n",
      "Engine: off, driving: False\n"
     ]
    }
   ],
   "source": [
    "Mercedes.stop_engine()"
   ]
  },
  {
   "cell_type": "code",
   "execution_count": null,
   "metadata": {},
   "outputs": [],
   "source": []
  }
 ],
 "metadata": {
  "kernelspec": {
   "display_name": "Python 3",
   "language": "python",
   "name": "python3"
  },
  "language_info": {
   "codemirror_mode": {
    "name": "ipython",
    "version": 3
   },
   "file_extension": ".py",
   "mimetype": "text/x-python",
   "name": "python",
   "nbconvert_exporter": "python",
   "pygments_lexer": "ipython3",
   "version": "3.6.5"
  }
 },
 "nbformat": 4,
 "nbformat_minor": 2
}
