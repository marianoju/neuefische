{
 "cells": [
  {
   "cell_type": "markdown",
   "metadata": {},
   "source": [
    "# Multi-Dimensional Linear Regression \n",
    "# Analysis"
   ]
  },
  {
   "cell_type": "markdown",
   "metadata": {},
   "source": [
    "The [dataset](https://github.com/ageron/handson-ml/tree/master/datasets/housing) used for this excercise in Multi-Dimensional Linear Regression is a modified version of the California Housing dataset available from [Luís Torgo's page](http://www.dcc.fc.up.pt/%7Eltorgo/Regression/cal_housing.html) (University of Porto). Luís Torgo obtained it from the StatLib repository (which is closed now). The dataset may also be downloaded from StatLib mirrors.\n",
    "\n",
    "This dataset appeared in a 1997 paper titled Sparse Spatial Autoregressions by Pace, R. Kelley and Ronald Barry, published in the Statistics and Probability Letters journal. They built it using the 1990 California census data. It contains one row per census block group. A block group is the smallest geographical unit for which the U.S. Census Bureau publishes sample data (a block group typically has a population of 600 to 3,000 people)."
   ]
  },
  {
   "cell_type": "markdown",
   "metadata": {},
   "source": [
    "## Theoretical background \n",
    "\n",
    "- [Generalized Linear Models](http://scikit-learn.org/stable/modules/linear_model.html)\n",
    "- [Linear Regression Example](http://scikit-learn.org/stable/auto_examples/linear_model/plot_ols.html) \n",
    "- [immoverkauf24: „Lage, Lage, Lage – alte Immobilienweisheit“](https://www.immoverkauf24.de/immobilienverkauf/immobilienverkauf-a-z/lage-lage-lage/)\n",
    "--- "
   ]
  },
  {
   "cell_type": "code",
   "execution_count": 1,
   "metadata": {},
   "outputs": [],
   "source": [
    "import numpy as np\n",
    "import pandas as pd\n",
    "import matplotlib.pyplot as plt\n",
    "import scipy, scipy.stats\n",
    "from sklearn import datasets, linear_model\n",
    "from sklearn.metrics import mean_squared_error, r2_score\n",
    "from sklearn.model_selection import train_test_split\n",
    "import statsmodels.api as sm\n",
    "import itertools\n",
    "\n",
    "import seaborn as sns\n",
    "sns.set()"
   ]
  },
  {
   "cell_type": "markdown",
   "metadata": {},
   "source": [
    "## Import data subsets "
   ]
  },
  {
   "cell_type": "code",
   "execution_count": 2,
   "metadata": {},
   "outputs": [],
   "source": [
    "data_train = pd.read_csv(\"data/data_train.csv\", na_values='') \n",
    "data_test = pd.read_csv(\"data/data_test.csv\", na_values='') "
   ]
  },
  {
   "cell_type": "code",
   "execution_count": 3,
   "metadata": {},
   "outputs": [
    {
     "data": {
      "text/html": [
       "<div>\n",
       "<style scoped>\n",
       "    .dataframe tbody tr th:only-of-type {\n",
       "        vertical-align: middle;\n",
       "    }\n",
       "\n",
       "    .dataframe tbody tr th {\n",
       "        vertical-align: top;\n",
       "    }\n",
       "\n",
       "    .dataframe thead th {\n",
       "        text-align: right;\n",
       "    }\n",
       "</style>\n",
       "<table border=\"1\" class=\"dataframe\">\n",
       "  <thead>\n",
       "    <tr style=\"text-align: right;\">\n",
       "      <th></th>\n",
       "      <th>longitude</th>\n",
       "      <th>latitude</th>\n",
       "      <th>housing_median_age</th>\n",
       "      <th>total_rooms</th>\n",
       "      <th>total_bedrooms</th>\n",
       "      <th>population</th>\n",
       "      <th>households</th>\n",
       "      <th>median_income</th>\n",
       "      <th>median_house_value</th>\n",
       "      <th>NEAR BAY</th>\n",
       "      <th>&lt;1H OCEAN</th>\n",
       "      <th>INLAND</th>\n",
       "      <th>NEAR OCEAN</th>\n",
       "      <th>ISLAND</th>\n",
       "    </tr>\n",
       "  </thead>\n",
       "  <tbody>\n",
       "    <tr>\n",
       "      <th>0</th>\n",
       "      <td>-118.29</td>\n",
       "      <td>34.04</td>\n",
       "      <td>48.0</td>\n",
       "      <td>1353.0</td>\n",
       "      <td>488.0</td>\n",
       "      <td>1945.0</td>\n",
       "      <td>487.0</td>\n",
       "      <td>2.4359</td>\n",
       "      <td>123700.0</td>\n",
       "      <td>0.0</td>\n",
       "      <td>1.0</td>\n",
       "      <td>0.0</td>\n",
       "      <td>0.0</td>\n",
       "      <td>0.0</td>\n",
       "    </tr>\n",
       "    <tr>\n",
       "      <th>1</th>\n",
       "      <td>-122.05</td>\n",
       "      <td>37.36</td>\n",
       "      <td>29.0</td>\n",
       "      <td>1733.0</td>\n",
       "      <td>255.0</td>\n",
       "      <td>679.0</td>\n",
       "      <td>278.0</td>\n",
       "      <td>7.5337</td>\n",
       "      <td>406800.0</td>\n",
       "      <td>0.0</td>\n",
       "      <td>1.0</td>\n",
       "      <td>0.0</td>\n",
       "      <td>0.0</td>\n",
       "      <td>0.0</td>\n",
       "    </tr>\n",
       "    <tr>\n",
       "      <th>2</th>\n",
       "      <td>-118.42</td>\n",
       "      <td>34.19</td>\n",
       "      <td>33.0</td>\n",
       "      <td>3353.0</td>\n",
       "      <td>790.0</td>\n",
       "      <td>2318.0</td>\n",
       "      <td>775.0</td>\n",
       "      <td>2.2589</td>\n",
       "      <td>269700.0</td>\n",
       "      <td>0.0</td>\n",
       "      <td>1.0</td>\n",
       "      <td>0.0</td>\n",
       "      <td>0.0</td>\n",
       "      <td>0.0</td>\n",
       "    </tr>\n",
       "    <tr>\n",
       "      <th>3</th>\n",
       "      <td>-122.22</td>\n",
       "      <td>37.79</td>\n",
       "      <td>44.0</td>\n",
       "      <td>1487.0</td>\n",
       "      <td>314.0</td>\n",
       "      <td>961.0</td>\n",
       "      <td>272.0</td>\n",
       "      <td>3.5156</td>\n",
       "      <td>109500.0</td>\n",
       "      <td>1.0</td>\n",
       "      <td>0.0</td>\n",
       "      <td>0.0</td>\n",
       "      <td>0.0</td>\n",
       "      <td>0.0</td>\n",
       "    </tr>\n",
       "    <tr>\n",
       "      <th>4</th>\n",
       "      <td>-116.95</td>\n",
       "      <td>32.81</td>\n",
       "      <td>31.0</td>\n",
       "      <td>1277.0</td>\n",
       "      <td>293.0</td>\n",
       "      <td>698.0</td>\n",
       "      <td>237.0</td>\n",
       "      <td>3.1106</td>\n",
       "      <td>147700.0</td>\n",
       "      <td>0.0</td>\n",
       "      <td>1.0</td>\n",
       "      <td>0.0</td>\n",
       "      <td>0.0</td>\n",
       "      <td>0.0</td>\n",
       "    </tr>\n",
       "  </tbody>\n",
       "</table>\n",
       "</div>"
      ],
      "text/plain": [
       "   longitude  latitude  housing_median_age  total_rooms  total_bedrooms  \\\n",
       "0    -118.29     34.04                48.0       1353.0           488.0   \n",
       "1    -122.05     37.36                29.0       1733.0           255.0   \n",
       "2    -118.42     34.19                33.0       3353.0           790.0   \n",
       "3    -122.22     37.79                44.0       1487.0           314.0   \n",
       "4    -116.95     32.81                31.0       1277.0           293.0   \n",
       "\n",
       "   population  households  median_income  median_house_value  NEAR BAY  \\\n",
       "0      1945.0       487.0         2.4359            123700.0       0.0   \n",
       "1       679.0       278.0         7.5337            406800.0       0.0   \n",
       "2      2318.0       775.0         2.2589            269700.0       0.0   \n",
       "3       961.0       272.0         3.5156            109500.0       1.0   \n",
       "4       698.0       237.0         3.1106            147700.0       0.0   \n",
       "\n",
       "   <1H OCEAN  INLAND  NEAR OCEAN  ISLAND  \n",
       "0        1.0     0.0         0.0     0.0  \n",
       "1        1.0     0.0         0.0     0.0  \n",
       "2        1.0     0.0         0.0     0.0  \n",
       "3        0.0     0.0         0.0     0.0  \n",
       "4        1.0     0.0         0.0     0.0  "
      ]
     },
     "execution_count": 3,
     "metadata": {},
     "output_type": "execute_result"
    }
   ],
   "source": [
    "data_train.head()"
   ]
  },
  {
   "cell_type": "markdown",
   "metadata": {},
   "source": [
    "--- \n",
    "\n",
    "## Multiple Linear Regression "
   ]
  },
  {
   "cell_type": "markdown",
   "metadata": {},
   "source": [
    "I attempt to deliberately select variables in order to optimize the multi-dimensional linear regression. "
   ]
  },
  {
   "cell_type": "markdown",
   "metadata": {},
   "source": [
    "### 1. First attempt"
   ]
  },
  {
   "cell_type": "markdown",
   "metadata": {},
   "source": [
    "In a first step I will do a multiple linear regression for the target variable ```median_house_value``` including the following variables: ```longitude, latitude, housing_median_age, total_rooms, total_bedrooms, population, households, median_income```. "
   ]
  },
  {
   "cell_type": "code",
   "execution_count": 4,
   "metadata": {},
   "outputs": [],
   "source": [
    "\"\"\" --------------------------------------------------------------------\n",
    "define variables by selecting columns with iloc, see \n",
    "\n",
    "URL: https://pandas.pydata.org/pandas-docs/version/0.17.0/generated/\n",
    "     pandas.DataFrame.iloc.html\n",
    "-------------------------------------------------------------------- \"\"\"\n",
    "\n",
    "# define variables \n",
    "X_train = data_train.iloc[:,0:8]\n",
    "y_train = pd.DataFrame(data_train.iloc[:,8])\n",
    "X_test = data_test.iloc[:,0:8]\n",
    "y_test = pd.DataFrame(data_test.iloc[:,8])"
   ]
  },
  {
   "cell_type": "code",
   "execution_count": 5,
   "metadata": {},
   "outputs": [],
   "source": [
    "# create linear regression object \n",
    "lm = linear_model.LinearRegression()\n",
    "\n",
    "# fit linear model to training subset \n",
    "model = lm.fit(X_train, y_train)\n",
    "\n",
    "# make a prediction using the test subset\n",
    "y_prediction = lm.predict(X_test)"
   ]
  },
  {
   "cell_type": "code",
   "execution_count": 6,
   "metadata": {},
   "outputs": [
    {
     "name": "stdout",
     "output_type": "stream",
     "text": [
      "R² score : 0.5963 / 1.0000\n",
      "Mean Squared Error: 3795395562.03 (smaller is better!)\n",
      "Intercept : -3155985.7409410370\n"
     ]
    }
   ],
   "source": [
    "# return the R² score, the Mean Squared Error, the coefficients and the estimated intercept \n",
    "\n",
    "# R² score \n",
    "print(\"R² score : %.4f / 1.0000\"\n",
    "    % r2_score(y_test, y_prediction))\n",
    "\n",
    "# Mean Squared Error \n",
    "print(\"Mean Squared Error: %.2f (smaller is better!)\"\n",
    "    % mean_squared_error(y_test, y_prediction))\n",
    "\n",
    "# coefficients for the predictors\n",
    "# print(\"Coefficients: %.4f\"\n",
    "#      % lm.coef_)\n",
    "# This produces TypeError: only size-1 arrays can be converted to Python scalars\n",
    "\n",
    "# predicted intercept at x=0 \n",
    "print(\"Intercept : %.10f\"\n",
    "    % lm.intercept_)"
   ]
  },
  {
   "cell_type": "markdown",
   "metadata": {},
   "source": [
    "### 2. Second attempt"
   ]
  },
  {
   "cell_type": "markdown",
   "metadata": {},
   "source": [
    "In a second step I will remove following variables: ```longitude, latitude, population, households, median_income```. \n",
    "\n",
    "I do a multiple linear regression for the target variable ```median_house_value``` including the following variables: ```housing_median_age, total_rooms, total_bedrooms```. "
   ]
  },
  {
   "cell_type": "code",
   "execution_count": 7,
   "metadata": {},
   "outputs": [],
   "source": [
    "\"\"\" --------------------------------------------------------------------\n",
    "define variables by selecting columns with iloc, see \n",
    "\n",
    "URL: https://pandas.pydata.org/pandas-docs/version/0.17.0/generated/\n",
    "     pandas.DataFrame.iloc.html\n",
    "-------------------------------------------------------------------- \"\"\"\n",
    "\n",
    "# define variables \n",
    "X_train = data_train.iloc[:,2:5]\n",
    "y_train = data_train.iloc[:,8]\n",
    "X_test = data_test.iloc[:,2:5]\n",
    "y_test = data_test.iloc[:,8]"
   ]
  },
  {
   "cell_type": "code",
   "execution_count": 8,
   "metadata": {},
   "outputs": [],
   "source": [
    "# create linear regression object \n",
    "lm = linear_model.LinearRegression()\n",
    "\n",
    "# fit linear model to training subset \n",
    "model = lm.fit(X_train, y_train)\n",
    "\n",
    "# make a prediction using the test subset\n",
    "y_prediction = lm.predict(X_test)"
   ]
  },
  {
   "cell_type": "code",
   "execution_count": 9,
   "metadata": {},
   "outputs": [
    {
     "name": "stdout",
     "output_type": "stream",
     "text": [
      "R² score : 0.0513 / 1.0000\n",
      "Mean Squared Error: 8919366356.67 (smaller is better!)\n",
      "Intercept : 154095.3232664964\n"
     ]
    }
   ],
   "source": [
    "# return the R² score, the Mean Squared Error, the coefficients and the estimated intercept \n",
    "\n",
    "# R² score \n",
    "print(\"R² score : %.4f / 1.0000\"\n",
    "    % r2_score(y_test, y_prediction))\n",
    "\n",
    "# Mean Squared Error \n",
    "print(\"Mean Squared Error: %.2f (smaller is better!)\"\n",
    "    % mean_squared_error(y_test, y_prediction))\n",
    "\n",
    "# coefficients for the predictors\n",
    "# print(\"Coefficients: %.4f\"\n",
    "#      % lm.coef_)\n",
    "# This produces TypeError: only size-1 arrays can be converted to Python scalars\n",
    "\n",
    "# predicted intercept at x=0 \n",
    "print(\"Intercept : %.10f\"\n",
    "    % lm.intercept_)"
   ]
  },
  {
   "cell_type": "markdown",
   "metadata": {},
   "source": [
    "### 3. Third attempt"
   ]
  },
  {
   "cell_type": "markdown",
   "metadata": {},
   "source": [
    "In a third step I will only use the highest correlating variable ```median_income``` and two (out of three) derived features (```rooms_per_household``` and ```population_per_household```) to do a multiple linear regression for the target variable ```median_house_value```. This procedure is based on \n",
    "[sonarsushant's work](https://github.com/sonarsushant/California-House-Price-Prediction/blob/master/EDA%20and%20Data%20Cleaning.ipynb)."
   ]
  },
  {
   "cell_type": "code",
   "execution_count": 10,
   "metadata": {},
   "outputs": [],
   "source": [
    "data_train['rooms_per_household']=data_train['total_rooms']/data_train['households']\n",
    "data_train['bedrooms_per_room']=data_train['total_bedrooms']/data_train['total_rooms']\n",
    "data_train['population_per_household']=data_train['population']/data_train['households']"
   ]
  },
  {
   "cell_type": "code",
   "execution_count": 11,
   "metadata": {},
   "outputs": [],
   "source": [
    "data_test['rooms_per_household']=data_test['total_rooms']/data_test['households']\n",
    "data_test['bedrooms_per_room']=data_test['total_bedrooms']/data_test['total_rooms']\n",
    "data_test['population_per_household']=data_test['population']/data_test['households']"
   ]
  },
  {
   "cell_type": "code",
   "execution_count": 12,
   "metadata": {},
   "outputs": [],
   "source": [
    "\"\"\" --------------------------------------------------------------------\n",
    "define variables by aggregating columns to a series \n",
    "-------------------------------------------------------------------- \"\"\"\n",
    "\n",
    "# define variables \n",
    "X_train_series = data_train['median_income'], data_train['rooms_per_household'], \\\n",
    "                 data_train['population_per_household'] # independent variables\n",
    "X_train = pd.concat(X_train_series, axis=1)\n",
    "y_train = data_train['median_house_value'] # dependent variable\n",
    "\n",
    "X_test_series = data_test['median_income'], data_test['rooms_per_household'], \\\n",
    "                 data_test['population_per_household'] # independent variables\n",
    "X_test = pd.concat(X_test_series, axis=1)\n",
    "y_test = data_test['median_house_value']"
   ]
  },
  {
   "cell_type": "code",
   "execution_count": 13,
   "metadata": {},
   "outputs": [],
   "source": [
    "# create linear regression object \n",
    "lm = linear_model.LinearRegression()\n",
    "\n",
    "# fit linear model to training subset \n",
    "model = lm.fit(X_train, y_train)\n",
    "\n",
    "# make a prediction using the test subset\n",
    "y_prediction = lm.predict(X_test)"
   ]
  },
  {
   "cell_type": "code",
   "execution_count": 14,
   "metadata": {},
   "outputs": [
    {
     "name": "stdout",
     "output_type": "stream",
     "text": [
      "R² score : 0.4337 / 1.0000\n",
      "Mean Squared Error: 5324521151.15 (smaller is better!)\n",
      "Intercept : 55879.9488204201\n"
     ]
    }
   ],
   "source": [
    "# return the R² score, the Mean Squared Error, the coefficients and the estimated intercept \n",
    "\n",
    "# R² score \n",
    "print(\"R² score : %.4f / 1.0000\"\n",
    "    % r2_score(y_test, y_prediction))\n",
    "\n",
    "# Mean Squared Error \n",
    "print(\"Mean Squared Error: %.2f (smaller is better!)\"\n",
    "    % mean_squared_error(y_test, y_prediction))\n",
    "\n",
    "# coefficients for the predictors\n",
    "# print(\"Coefficients: %.4f\"\n",
    "#      % lm.coef_)\n",
    "# This produces TypeError: only size-1 arrays can be converted to Python scalars\n",
    "\n",
    "# predicted intercept at x=0 \n",
    "print(\"Intercept : %.10f\"\n",
    "    % lm.intercept_)"
   ]
  },
  {
   "cell_type": "markdown",
   "metadata": {},
   "source": [
    "--- \n",
    "## Brute-force: Multiple Linear Regression on *all combinations* of variables "
   ]
  },
  {
   "cell_type": "code",
   "execution_count": 15,
   "metadata": {},
   "outputs": [],
   "source": [
    "# create linear regression object \n",
    "lm = linear_model.LinearRegression()"
   ]
  },
  {
   "cell_type": "code",
   "execution_count": 16,
   "metadata": {},
   "outputs": [],
   "source": [
    "# open an empty dictionary for the results of the calculation \n",
    "results = {}"
   ]
  },
  {
   "cell_type": "code",
   "execution_count": 18,
   "metadata": {},
   "outputs": [],
   "source": [
    "\"\"\" --------------------------------------------------------------------\n",
    "calc_r2_score fits a linear model to a training subset, \n",
    "makes a prediction for the test subset, \n",
    "and returns the R² score (quality of prediction index)\n",
    "-------------------------------------------------------------------- \"\"\"\n",
    "\n",
    "def calc_r2_score(item): \n",
    "    # define variables \n",
    "    X_train = data_train.loc[:,features] \n",
    "    y_train = data_train.loc[:,target]\n",
    "    X_test = data_test.loc[:,features] \n",
    "    y_test = data_test.loc[:,target]\n",
    "    \n",
    "    # fit linear model to training subset \n",
    "    model = lm.fit(X_train, y_train)\n",
    "    \n",
    "    # make a prediction using the test subset\n",
    "    y_prediction = lm.predict(X_test)\n",
    "    \n",
    "    # return the R² score \n",
    "    return r2_score(y_test, y_prediction)\n",
    "\n",
    "\"\"\" --------------------------------------------------------------------\n",
    "calc_MSE returns the Mean Squared Error \n",
    "-------------------------------------------------------------------- \"\"\"\n",
    "\n",
    "def calc_MSE(item):\n",
    "    return mean_squared_error(y_test, y_prediction)\n"
   ]
  },
  {
   "cell_type": "code",
   "execution_count": null,
   "metadata": {},
   "outputs": [],
   "source": [
    "\"\"\" --------------------------------------------------------------------\n",
    "define independent variables and target variable\n",
    "-------------------------------------------------------------------- \"\"\"\n",
    "\n",
    "features = [\"longitude\", \"latitude\", \"housing_median_age\", \\\n",
    "            \"total_rooms\", \"total_bedrooms\", \"population\", \\\n",
    "            \"households\", \"median_income\"]\n",
    "target = [\"median_house_value\"]\n",
    "\n",
    "combinations = []\n",
    "\n",
    "for i in range(2, len(features)+1):\n",
    "   combinations += itertools.combinations(features, i)"
   ]
  },
  {
   "cell_type": "code",
   "execution_count": null,
   "metadata": {},
   "outputs": [],
   "source": [
    "len(combinations)"
   ]
  },
  {
   "cell_type": "code",
   "execution_count": null,
   "metadata": {},
   "outputs": [],
   "source": [
    "\"\"\" --------------------------------------------------------------------\n",
    "                               T O   D O\n",
    "\n",
    "write items in list as keys to the up-to-now empty dictionary \n",
    "then run for-loop and write results as values back to dictionary \n",
    "-------------------------------------------------------------------- \"\"\""
   ]
  },
  {
   "cell_type": "code",
   "execution_count": null,
   "metadata": {},
   "outputs": [],
   "source": [
    "for index, features in enumerate(combinations):\n",
    "    print(calc_r2_score(combinations[index]), index, features, len(combinations[index]))"
   ]
  },
  {
   "cell_type": "code",
   "execution_count": null,
   "metadata": {},
   "outputs": [],
   "source": [
    "results_df = pd.read_csv(\"data/results.csv\", sep=\",\") "
   ]
  },
  {
   "cell_type": "code",
   "execution_count": null,
   "metadata": {},
   "outputs": [],
   "source": [
    "results_df.head()"
   ]
  },
  {
   "cell_type": "code",
   "execution_count": null,
   "metadata": {},
   "outputs": [],
   "source": [
    "# Plot outputs\n",
    "plt.figure(figsize=(20,10))\n",
    "plt.scatter(results_df[\"no_of_features\"], results_df[\"r2_score\"], color='black')\n",
    "\n",
    "plt.show();"
   ]
  },
  {
   "cell_type": "code",
   "execution_count": null,
   "metadata": {},
   "outputs": [],
   "source": []
  }
 ],
 "metadata": {
  "kernelspec": {
   "display_name": "Python 2",
   "language": "python",
   "name": "python2"
  },
  "language_info": {
   "codemirror_mode": {
    "name": "ipython",
    "version": 3
   },
   "file_extension": ".py",
   "mimetype": "text/x-python",
   "name": "python",
   "nbconvert_exporter": "python",
   "pygments_lexer": "ipython3",
   "version": "3.6.5"
  }
 },
 "nbformat": 4,
 "nbformat_minor": 2
}
