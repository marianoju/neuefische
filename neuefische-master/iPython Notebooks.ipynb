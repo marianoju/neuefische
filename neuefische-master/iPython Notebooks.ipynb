{
 "cells": [
  {
   "cell_type": "markdown",
   "metadata": {},
   "source": [
    "# iPython Notebooks"
   ]
  },
  {
   "cell_type": "markdown",
   "metadata": {},
   "source": [
    "Das Schöne an iPython Notebooks ist, dass sie einen interaktiv Python-Code schreiben lassen *und* einem die Möglichkeit geben, Text zwischen dem Code anschaulich darzustellen!"
   ]
  },
  {
   "cell_type": "code",
   "execution_count": 1,
   "metadata": {},
   "outputs": [
    {
     "name": "stdout",
     "output_type": "stream",
     "text": [
      "Hello World!\n"
     ]
    }
   ],
   "source": [
    "print(\"Hello World!\")"
   ]
  },
  {
   "cell_type": "markdown",
   "metadata": {},
   "source": [
    "## Shortcuts für den Umgang mit dem Notebook \n",
    "- Eine markierte Zelle kann mit der Taste 'M' in eine Markdown-Zelle umgewandelt werden. \n",
    "- Eine markierte Zelle kann mit der Taste 'Y' in eine Code-Zelle umgewandelt werden. \n",
    "- Der Code in einer Zelle wird mit 'Shift' + 'Enter' ausgeführt. \n",
    "- Mit 'Tab' kann die autocomplete-Funktion aufgerufen werden. \n"
   ]
  },
  {
   "cell_type": "markdown",
   "metadata": {},
   "source": [
    "## Beachte! \n",
    "- Alle definierten Variablen und Funktionen bleiben (bis zum Neustart) im Notebook erhalten, auch wenn die Zelle mit dem betreffenden Code gelöscht wurde!\n",
    "- Wenn sich unerklärliche Fehler ergeben, dann hilft es manchmal, den Kernel vom Notebook neu zu starten. (Im Menu 'Kernel' und 'Restart' auswählen oder das Icon mit dem gekrümmte Pfeil drücken.)"
   ]
  },
  {
   "cell_type": "markdown",
   "metadata": {},
   "source": [
    "## Hintergrund \n",
    "Auf deinem Computer läuft ein Notebook-Server. Über deinen Browser kannst Du (unter der Adresse '''localhost:8888''') auf ein Webinterface zugreifen. Python-Code wird von dem Server ausgeführt. In diesem Fall ist der Server auf *deinem* Computer, du könntest aber über das Internet auch auf meinen Notebook-Server zugreifen. Oder auf einem Notebook-Server der in der Cloud läuft, z.B. auf [Colaboratory](https://colab.research.google.com/notebooks/welcome.ipynb)."
   ]
  }
 ],
 "metadata": {
  "kernelspec": {
   "display_name": "Python 2",
   "language": "python",
   "name": "python2"
  },
  "language_info": {
   "codemirror_mode": {
    "name": "ipython",
    "version": 3
   },
   "file_extension": ".py",
   "mimetype": "text/x-python",
   "name": "python",
   "nbconvert_exporter": "python",
   "pygments_lexer": "ipython3",
   "version": "3.6.5"
  }
 },
 "nbformat": 4,
 "nbformat_minor": 2
}
