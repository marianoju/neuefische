{
 "cells": [
  {
   "cell_type": "markdown",
   "metadata": {},
   "source": [
    "# randomized allocation of objects of two classes \n",
    "\n",
    "## Goals/Limitations \n",
    "- Randomized allocation of objects of two classes without repetition over several iterations. \n",
    "- All objects of the class 'Person' will be allocated an object of the class 'Seat' on a randomised basis. \n",
    "- These allocations will be repeated over n iterations. \n",
    "- No object of the class 'Person' will be allocated the same object of the class 'Seat' \n",
    "    - in two consecutive iterations, \n",
    "    - more than (+1) times compared to any other object of the same class. \n",
    "---"
   ]
  },
  {
   "cell_type": "markdown",
   "metadata": {},
   "source": [
    "Please provide the names of all persons requiring a seat as comma separated values **without** spaces. \n",
    "\n",
    "e.g. ```Alice,Bob,Carol,Dan```"
   ]
  },
  {
   "cell_type": "code",
   "execution_count": 18,
   "metadata": {},
   "outputs": [
    {
     "name": "stdout",
     "output_type": "stream",
     "text": [
      "\n"
     ]
    }
   ],
   "source": [
    "names_input = input()"
   ]
  },
  {
   "cell_type": "code",
   "execution_count": 19,
   "metadata": {},
   "outputs": [],
   "source": [
    "# takes the input and splits the string to a list \n",
    "# see https://stackoverflow.com/questions/7844118/\n",
    "names = names_input.split(\",\")"
   ]
  },
  {
   "cell_type": "code",
   "execution_count": 20,
   "metadata": {},
   "outputs": [
    {
     "data": {
      "text/plain": [
       "list"
      ]
     },
     "execution_count": 20,
     "metadata": {},
     "output_type": "execute_result"
    }
   ],
   "source": [
    "type(names)"
   ]
  },
  {
   "cell_type": "code",
   "execution_count": 21,
   "metadata": {},
   "outputs": [
    {
     "name": "stdout",
     "output_type": "stream",
     "text": [
      "['']\n"
     ]
    }
   ],
   "source": [
    "print(names)"
   ]
  },
  {
   "cell_type": "code",
   "execution_count": 22,
   "metadata": {},
   "outputs": [
    {
     "name": "stdout",
     "output_type": "stream",
     "text": [
      "Number of seats required: 1\n"
     ]
    }
   ],
   "source": [
    "number_of_seats = len(names)\n",
    "print('Number of seats required: ' + str(number_of_seats))"
   ]
  },
  {
   "cell_type": "markdown",
   "metadata": {},
   "source": [
    "Next we need to create an array with as many columns (filled with consecutive numbers starting from 1) as number of seats."
   ]
  },
  {
   "cell_type": "code",
   "execution_count": null,
   "metadata": {},
   "outputs": [],
   "source": []
  }
 ],
 "metadata": {
  "kernelspec": {
   "display_name": "Python 3",
   "language": "python",
   "name": "python3"
  },
  "language_info": {
   "codemirror_mode": {
    "name": "ipython",
    "version": 3
   },
   "file_extension": ".py",
   "mimetype": "text/x-python",
   "name": "python",
   "nbconvert_exporter": "python",
   "pygments_lexer": "ipython3",
   "version": "3.6.5"
  }
 },
 "nbformat": 4,
 "nbformat_minor": 2
}
