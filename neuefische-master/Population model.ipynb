{
 "cells": [
  {
   "cell_type": "code",
   "execution_count": 3,
   "metadata": {},
   "outputs": [],
   "source": [
    "import numpy as np\n",
    "import matplotlib.pyplot as plt\n",
    "import scipy, scipy.stats"
   ]
  },
  {
   "cell_type": "code",
   "execution_count": 4,
   "metadata": {},
   "outputs": [],
   "source": [
    "# population modell \n",
    "# starting with generation 0 body height is defined as \n",
    "adam = 1.65 \n",
    "eve = 1.45 "
   ]
  },
  {
   "cell_type": "code",
   "execution_count": 5,
   "metadata": {},
   "outputs": [],
   "source": [
    "# 1. population doubles with every generation \n",
    "# 2. direct descendants' sex is defined at random \n",
    "# 3. direct descendants' height is defined by parents' average height \n",
    "#    with an individual deviation of (-0.1:+0.05) if female \n",
    "#    with an individual deviation of (-0.05:+0.10) if male \n",
    "g1_p = 2*2 \n",
    "g1_sex = \n",
    "for g1_i: \n",
    "    if \n",
    "g1_height = np.random.uniform(-0.05,0.08,1000)"
   ]
  },
  {
   "cell_type": "code",
   "execution_count": null,
   "metadata": {},
   "outputs": [],
   "source": []
  }
 ],
 "metadata": {
  "kernelspec": {
   "display_name": "Python 3",
   "language": "python",
   "name": "python3"
  },
  "language_info": {
   "codemirror_mode": {
    "name": "ipython",
    "version": 3
   },
   "file_extension": ".py",
   "mimetype": "text/x-python",
   "name": "python",
   "nbconvert_exporter": "python",
   "pygments_lexer": "ipython3",
   "version": "3.6.5"
  }
 },
 "nbformat": 4,
 "nbformat_minor": 2
}
