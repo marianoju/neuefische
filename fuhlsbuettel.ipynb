{
 "cells": [
  {
   "cell_type": "markdown",
   "metadata": {},
   "source": [
    "# Fuhlsbüttel"
   ]
  },
  {
   "cell_type": "markdown",
   "metadata": {},
   "source": [
    "I will do a explorative descriptive analysis on weather data provided by Wetterkontor for Hamburg Airport (Flughafen Fuhlsbüttel) from 27.07.2011 to 08.08.2018 consisting of \n",
    "- Minimum Temp. (°C) \n",
    "- Maximum Temp. (°C) \n",
    "- Average Temp. (°C) \n",
    "- Precipitation (l/m²) \n",
    "- Sunshine duration (h) \n",
    "- Max. gust of wind (Bft) \n",
    "\n",
    "[Data Source](https://www.wetterkontor.de/de/wetter/deutschland/rueckblick.asp?id=80)"
   ]
  },
  {
   "cell_type": "code",
   "execution_count": 1,
   "metadata": {},
   "outputs": [],
   "source": [
    "import pandas as pd\n",
    "import numpy as np\n",
    "import matplotlib.pyplot as plt\n",
    "import scipy as scipy\n",
    "import scipy.stats as st\n",
    "import re\n",
    "import datetime as dt"
   ]
  },
  {
   "cell_type": "code",
   "execution_count": 2,
   "metadata": {},
   "outputs": [],
   "source": [
    "# Import data from CSV file to pandas DataFrame \n",
    "df = pd.read_csv(\"data/fuhlsbuettel.csv\", sep=\",\", parse_dates=True)"
   ]
  },
  {
   "cell_type": "code",
   "execution_count": 3,
   "metadata": {},
   "outputs": [],
   "source": [
    "\"\"\"\n",
    "I run into some trouble with the date format because Python does not natively recognize it, \n",
    "so I have to define the original format for to_datetime to infer, see \n",
    "https://pandas.pydata.org/pandas-docs/stable/generated/pandas.to_datetime.html\n",
    "\"\"\"\n",
    "\n",
    "df['Date'] = pd.to_datetime(df['Date'], infer_datetime_format=True, format='%d.%m.%Y')"
   ]
  },
  {
   "cell_type": "code",
   "execution_count": 4,
   "metadata": {},
   "outputs": [
    {
     "data": {
      "text/html": [
       "<div>\n",
       "<style scoped>\n",
       "    .dataframe tbody tr th:only-of-type {\n",
       "        vertical-align: middle;\n",
       "    }\n",
       "\n",
       "    .dataframe tbody tr th {\n",
       "        vertical-align: top;\n",
       "    }\n",
       "\n",
       "    .dataframe thead th {\n",
       "        text-align: right;\n",
       "    }\n",
       "</style>\n",
       "<table border=\"1\" class=\"dataframe\">\n",
       "  <thead>\n",
       "    <tr style=\"text-align: right;\">\n",
       "      <th></th>\n",
       "      <th>Date</th>\n",
       "      <th>MinTemp</th>\n",
       "      <th>MaxTemp</th>\n",
       "      <th>AverageTemp</th>\n",
       "      <th>Precipitation</th>\n",
       "      <th>SunshineDuration</th>\n",
       "      <th>MaxWindGust</th>\n",
       "    </tr>\n",
       "  </thead>\n",
       "  <tbody>\n",
       "    <tr>\n",
       "      <th>0</th>\n",
       "      <td>2008-07-03</td>\n",
       "      <td>18.4</td>\n",
       "      <td>30.1</td>\n",
       "      <td>22.8</td>\n",
       "      <td>17.8</td>\n",
       "      <td>7.2</td>\n",
       "      <td>4.0</td>\n",
       "    </tr>\n",
       "    <tr>\n",
       "      <th>1</th>\n",
       "      <td>2008-07-04</td>\n",
       "      <td>14.5</td>\n",
       "      <td>18.5</td>\n",
       "      <td>15.6</td>\n",
       "      <td>37.8</td>\n",
       "      <td>0.0</td>\n",
       "      <td>6.0</td>\n",
       "    </tr>\n",
       "    <tr>\n",
       "      <th>2</th>\n",
       "      <td>2008-07-05</td>\n",
       "      <td>13.9</td>\n",
       "      <td>24.1</td>\n",
       "      <td>18.5</td>\n",
       "      <td>0.0</td>\n",
       "      <td>7.4</td>\n",
       "      <td>4.0</td>\n",
       "    </tr>\n",
       "    <tr>\n",
       "      <th>3</th>\n",
       "      <td>2008-07-06</td>\n",
       "      <td>12.9</td>\n",
       "      <td>25.5</td>\n",
       "      <td>19.1</td>\n",
       "      <td>0.4</td>\n",
       "      <td>4.9</td>\n",
       "      <td>5.0</td>\n",
       "    </tr>\n",
       "    <tr>\n",
       "      <th>4</th>\n",
       "      <td>2008-07-07</td>\n",
       "      <td>11.5</td>\n",
       "      <td>20.4</td>\n",
       "      <td>15.7</td>\n",
       "      <td>7.2</td>\n",
       "      <td>4.3</td>\n",
       "      <td>8.0</td>\n",
       "    </tr>\n",
       "  </tbody>\n",
       "</table>\n",
       "</div>"
      ],
      "text/plain": [
       "        Date  MinTemp  MaxTemp  AverageTemp  Precipitation  SunshineDuration  \\\n",
       "0 2008-07-03     18.4     30.1         22.8           17.8               7.2   \n",
       "1 2008-07-04     14.5     18.5         15.6           37.8               0.0   \n",
       "2 2008-07-05     13.9     24.1         18.5            0.0               7.4   \n",
       "3 2008-07-06     12.9     25.5         19.1            0.4               4.9   \n",
       "4 2008-07-07     11.5     20.4         15.7            7.2               4.3   \n",
       "\n",
       "  MaxWindGust  \n",
       "0         4.0  \n",
       "1         6.0  \n",
       "2         4.0  \n",
       "3         5.0  \n",
       "4         8.0  "
      ]
     },
     "execution_count": 4,
     "metadata": {},
     "output_type": "execute_result"
    }
   ],
   "source": [
    "df.head()"
   ]
  },
  {
   "cell_type": "code",
   "execution_count": 5,
   "metadata": {},
   "outputs": [
    {
     "data": {
      "text/html": [
       "<div>\n",
       "<style scoped>\n",
       "    .dataframe tbody tr th:only-of-type {\n",
       "        vertical-align: middle;\n",
       "    }\n",
       "\n",
       "    .dataframe tbody tr th {\n",
       "        vertical-align: top;\n",
       "    }\n",
       "\n",
       "    .dataframe thead th {\n",
       "        text-align: right;\n",
       "    }\n",
       "</style>\n",
       "<table border=\"1\" class=\"dataframe\">\n",
       "  <thead>\n",
       "    <tr style=\"text-align: right;\">\n",
       "      <th></th>\n",
       "      <th>Date</th>\n",
       "      <th>MinTemp</th>\n",
       "      <th>MaxTemp</th>\n",
       "      <th>AverageTemp</th>\n",
       "      <th>Precipitation</th>\n",
       "      <th>SunshineDuration</th>\n",
       "      <th>MaxWindGust</th>\n",
       "    </tr>\n",
       "  </thead>\n",
       "  <tbody>\n",
       "    <tr>\n",
       "      <th>3686</th>\n",
       "      <td>2018-08-04</td>\n",
       "      <td>16.5</td>\n",
       "      <td>29.1</td>\n",
       "      <td>22.7</td>\n",
       "      <td>0.0</td>\n",
       "      <td>7.4</td>\n",
       "      <td>5.0</td>\n",
       "    </tr>\n",
       "    <tr>\n",
       "      <th>3687</th>\n",
       "      <td>2018-08-05</td>\n",
       "      <td>15.2</td>\n",
       "      <td>22.9</td>\n",
       "      <td>19.5</td>\n",
       "      <td>0.0</td>\n",
       "      <td>7.5</td>\n",
       "      <td>6.0</td>\n",
       "    </tr>\n",
       "    <tr>\n",
       "      <th>3688</th>\n",
       "      <td>2018-08-06</td>\n",
       "      <td>13.1</td>\n",
       "      <td>30.6</td>\n",
       "      <td>22.1</td>\n",
       "      <td>0.0</td>\n",
       "      <td>13.1</td>\n",
       "      <td>4.0</td>\n",
       "    </tr>\n",
       "    <tr>\n",
       "      <th>3689</th>\n",
       "      <td>2018-08-07</td>\n",
       "      <td>16.1</td>\n",
       "      <td>35.5</td>\n",
       "      <td>27.1</td>\n",
       "      <td>0.0</td>\n",
       "      <td>13.9</td>\n",
       "      <td>5.0</td>\n",
       "    </tr>\n",
       "    <tr>\n",
       "      <th>3690</th>\n",
       "      <td>2018-08-08</td>\n",
       "      <td>17.5</td>\n",
       "      <td>32.1</td>\n",
       "      <td>25.3</td>\n",
       "      <td>0.0</td>\n",
       "      <td>5.4</td>\n",
       "      <td>7.0</td>\n",
       "    </tr>\n",
       "  </tbody>\n",
       "</table>\n",
       "</div>"
      ],
      "text/plain": [
       "           Date  MinTemp  MaxTemp  AverageTemp  Precipitation  \\\n",
       "3686 2018-08-04     16.5     29.1         22.7            0.0   \n",
       "3687 2018-08-05     15.2     22.9         19.5            0.0   \n",
       "3688 2018-08-06     13.1     30.6         22.1            0.0   \n",
       "3689 2018-08-07     16.1     35.5         27.1            0.0   \n",
       "3690 2018-08-08     17.5     32.1         25.3            0.0   \n",
       "\n",
       "      SunshineDuration MaxWindGust  \n",
       "3686               7.4         5.0  \n",
       "3687               7.5         6.0  \n",
       "3688              13.1         4.0  \n",
       "3689              13.9         5.0  \n",
       "3690               5.4         7.0  "
      ]
     },
     "execution_count": 5,
     "metadata": {},
     "output_type": "execute_result"
    }
   ],
   "source": [
    "df.tail()"
   ]
  },
  {
   "cell_type": "code",
   "execution_count": 6,
   "metadata": {},
   "outputs": [
    {
     "data": {
      "text/html": [
       "<div>\n",
       "<style scoped>\n",
       "    .dataframe tbody tr th:only-of-type {\n",
       "        vertical-align: middle;\n",
       "    }\n",
       "\n",
       "    .dataframe tbody tr th {\n",
       "        vertical-align: top;\n",
       "    }\n",
       "\n",
       "    .dataframe thead th {\n",
       "        text-align: right;\n",
       "    }\n",
       "</style>\n",
       "<table border=\"1\" class=\"dataframe\">\n",
       "  <thead>\n",
       "    <tr style=\"text-align: right;\">\n",
       "      <th></th>\n",
       "      <th>MinTemp</th>\n",
       "      <th>MaxTemp</th>\n",
       "      <th>AverageTemp</th>\n",
       "      <th>Precipitation</th>\n",
       "      <th>SunshineDuration</th>\n",
       "    </tr>\n",
       "  </thead>\n",
       "  <tbody>\n",
       "    <tr>\n",
       "      <th>count</th>\n",
       "      <td>3691.000000</td>\n",
       "      <td>3691.000000</td>\n",
       "      <td>3691.000000</td>\n",
       "      <td>3691.000000</td>\n",
       "      <td>3691.000000</td>\n",
       "    </tr>\n",
       "    <tr>\n",
       "      <th>mean</th>\n",
       "      <td>5.761636</td>\n",
       "      <td>13.712517</td>\n",
       "      <td>9.854348</td>\n",
       "      <td>2.057870</td>\n",
       "      <td>4.423219</td>\n",
       "    </tr>\n",
       "    <tr>\n",
       "      <th>std</th>\n",
       "      <td>6.320783</td>\n",
       "      <td>8.196158</td>\n",
       "      <td>6.985165</td>\n",
       "      <td>4.283778</td>\n",
       "      <td>4.371667</td>\n",
       "    </tr>\n",
       "    <tr>\n",
       "      <th>min</th>\n",
       "      <td>-17.700000</td>\n",
       "      <td>-8.700000</td>\n",
       "      <td>-12.100000</td>\n",
       "      <td>0.000000</td>\n",
       "      <td>0.000000</td>\n",
       "    </tr>\n",
       "    <tr>\n",
       "      <th>25%</th>\n",
       "      <td>1.300000</td>\n",
       "      <td>7.500000</td>\n",
       "      <td>4.800000</td>\n",
       "      <td>0.000000</td>\n",
       "      <td>0.200000</td>\n",
       "    </tr>\n",
       "    <tr>\n",
       "      <th>50%</th>\n",
       "      <td>6.100000</td>\n",
       "      <td>13.900000</td>\n",
       "      <td>10.000000</td>\n",
       "      <td>0.100000</td>\n",
       "      <td>3.200000</td>\n",
       "    </tr>\n",
       "    <tr>\n",
       "      <th>75%</th>\n",
       "      <td>10.800000</td>\n",
       "      <td>20.100000</td>\n",
       "      <td>15.400000</td>\n",
       "      <td>2.200000</td>\n",
       "      <td>7.550000</td>\n",
       "    </tr>\n",
       "    <tr>\n",
       "      <th>max</th>\n",
       "      <td>21.600000</td>\n",
       "      <td>36.400000</td>\n",
       "      <td>28.000000</td>\n",
       "      <td>47.100000</td>\n",
       "      <td>15.600000</td>\n",
       "    </tr>\n",
       "  </tbody>\n",
       "</table>\n",
       "</div>"
      ],
      "text/plain": [
       "           MinTemp      MaxTemp  AverageTemp  Precipitation  SunshineDuration\n",
       "count  3691.000000  3691.000000  3691.000000    3691.000000       3691.000000\n",
       "mean      5.761636    13.712517     9.854348       2.057870          4.423219\n",
       "std       6.320783     8.196158     6.985165       4.283778          4.371667\n",
       "min     -17.700000    -8.700000   -12.100000       0.000000          0.000000\n",
       "25%       1.300000     7.500000     4.800000       0.000000          0.200000\n",
       "50%       6.100000    13.900000    10.000000       0.100000          3.200000\n",
       "75%      10.800000    20.100000    15.400000       2.200000          7.550000\n",
       "max      21.600000    36.400000    28.000000      47.100000         15.600000"
      ]
     },
     "execution_count": 6,
     "metadata": {},
     "output_type": "execute_result"
    }
   ],
   "source": [
    "df.describe()"
   ]
  },
  {
   "cell_type": "markdown",
   "metadata": {},
   "source": [
    "I am interested in the relationship between sunshine duration and average temperatur. "
   ]
  },
  {
   "cell_type": "code",
   "execution_count": 7,
   "metadata": {},
   "outputs": [],
   "source": [
    "# Copy the values in the column named 'SunshineDuration' to an array with the appropiate length \n",
    "# see https://docs.scipy.org/doc/numpy/reference/generated/numpy.reshape.html\n",
    "SunshineDuration = df[['SunshineDuration']].values.reshape(len(df))"
   ]
  },
  {
   "cell_type": "code",
   "execution_count": 8,
   "metadata": {},
   "outputs": [
    {
     "data": {
      "image/png": "[encoded data removed]",
      "text/plain": [
       "<Figure size 720x360 with 1 Axes>"
      ]
     },
     "metadata": {},
     "output_type": "display_data"
    }
   ],
   "source": [
    "plt.figure(figsize=(10, 5))\n",
    "plt.xscale('log')\n",
    "plt.hist(SunshineDuration, 32, density=True)\n",
    "plt.show()"
   ]
  },
  {
   "cell_type": "markdown",
   "metadata": {},
   "source": [
    "The number of bins is an approximate multiple of the maximum value (15.6 hours) * 2.  \n",
    "\n",
    "I have set the x-scale to log(arithmic) because there are a lot of small values. The data is not normally distributed, which can be attributed to the definition of sunshine depending of a treshold, see below. "
   ]
  },
  {
   "cell_type": "markdown",
   "metadata": {},
   "source": [
    "**On sunshine duration** \n",
    "\n",
    "> The period of time during which sunshine is detected is called sunshine duration. The determination of whether sunshine is detected in the meteorological sense leads to a yes / no statement about one of two possible states. (...) For the objective and reproducible determination of sunshine, the irradiance of direct solar radiation is used. To be registered as sunshine, direct solar radiation must exceed the threshold of 120 W/m². The sunshine duration of a day is the sum of all periods when this threshold was exceeded. (Regulations and operating documents No. 3 (VuB 3), observer manual (BHB) of the German Weather Service) \n",
    "\n",
    "[Source](https://www.dwd.de/DE/leistungen/pbfb_verlag_vub/pdf_einzelbaende/vub_3_bhb_gesamt_pdf.pdf)"
   ]
  },
  {
   "cell_type": "code",
   "execution_count": 9,
   "metadata": {},
   "outputs": [],
   "source": [
    "# I order to visualize the data on a horizontal axis I need to transpose the column to a row. \n",
    "df_Sunshine = pd.DataFrame(SunshineDuration).transpose()"
   ]
  },
  {
   "cell_type": "code",
   "execution_count": 10,
   "metadata": {
    "scrolled": false
   },
   "outputs": [
    {
     "data": {
      "text/plain": [
       "<matplotlib.image.AxesImage at 0x7f9975dbb860>"
      ]
     },
     "execution_count": 10,
     "metadata": {},
     "output_type": "execute_result"
    },
    {
     "data": {
      "image/png": "[encoded data removed]",
      "text/plain": [
       "<Figure size 3600x360 with 1 Axes>"
      ]
     },
     "metadata": {},
     "output_type": "display_data"
    }
   ],
   "source": [
    "plt.figure(figsize=(50, 5))\n",
    "plt.ylabel('Date')\n",
    "plt.title('SunshineDuration')\n",
    "plt.imshow (df_Sunshine, cmap='hot', interpolation='lanczos', aspect='auto')"
   ]
  },
  {
   "cell_type": "markdown",
   "metadata": {},
   "source": [
    "I will now repeat the same steps for the average temperature. "
   ]
  },
  {
   "cell_type": "code",
   "execution_count": 11,
   "metadata": {},
   "outputs": [],
   "source": [
    "# Copy the values in the column named 'SunshineDuration' to an array with the appropiate length \n",
    "# see https://docs.scipy.org/doc/numpy/reference/generated/numpy.reshape.html\n",
    "AverageTemp = df[['AverageTemp']].values.reshape(len(df))"
   ]
  },
  {
   "cell_type": "code",
   "execution_count": 12,
   "metadata": {},
   "outputs": [
    {
     "data": {
      "image/png": "[encoded data removed]",
      "text/plain": [
       "<Figure size 720x360 with 1 Axes>"
      ]
     },
     "metadata": {},
     "output_type": "display_data"
    }
   ],
   "source": [
    "plt.figure(figsize=(10, 5))\n",
    "plt.hist(AverageTemp, 40, density=True)\n",
    "plt.show()"
   ]
  },
  {
   "cell_type": "markdown",
   "metadata": {},
   "source": [
    "I have kept the x-scale linear. Interestingly the data is _not_ normally distributed, but displays a [bimodal distribution](https://en.wikipedia.org/wiki/Multimodal_distribution). \n",
    "\n",
    "The number of bins is an approximate of the difference between the minimum (-12) and the maximum value (28). "
   ]
  },
  {
   "cell_type": "code",
   "execution_count": 13,
   "metadata": {},
   "outputs": [],
   "source": [
    "df_AverageTemp = pd.DataFrame(AverageTemp).transpose()"
   ]
  },
  {
   "cell_type": "code",
   "execution_count": 14,
   "metadata": {},
   "outputs": [
    {
     "data": {
      "text/plain": [
       "<matplotlib.image.AxesImage at 0x7f9975cd3780>"
      ]
     },
     "execution_count": 14,
     "metadata": {},
     "output_type": "execute_result"
    },
    {
     "data": {
      "image/png": "[encoded data removed]",
      "text/plain": [
       "<Figure size 3600x360 with 1 Axes>"
      ]
     },
     "metadata": {},
     "output_type": "display_data"
    }
   ],
   "source": [
    "plt.figure(figsize=(50, 5))\n",
    "plt.ylabel('Date')\n",
    "plt.title('AverageTemp')\n",
    "plt.imshow (df_AverageTemp, cmap='hot', interpolation='lanczos', aspect='auto')"
   ]
  },
  {
   "cell_type": "markdown",
   "metadata": {},
   "source": [
    "## Possible next steps \n",
    "\n",
    "- Computing the “best fit” for the univariate distribution of variables using the module ```fitter```. Can we make a prediction for future data? \n",
    "- Splitting the dataset into winter and summer subsets and plotting univariate distributions. Does this subsetting explain the aforementioned bimodal distribution? \n",
    "- Can we establish a correlation between e.g. sunshine duration and average temperature?"
   ]
  },
  {
   "cell_type": "markdown",
   "metadata": {},
   "source": [
    "In order to create subsets for summer and winter I select specific rows matching a partial string (the month of data collection), see https://stackoverflow.com/questions/11350770/"
   ]
  },
  {
   "cell_type": "code",
   "execution_count": 15,
   "metadata": {},
   "outputs": [],
   "source": [
    "df['Date_str'] = df['Date'].astype('str', copy=True)"
   ]
  },
  {
   "cell_type": "code",
   "execution_count": 16,
   "metadata": {},
   "outputs": [
    {
     "name": "stdout",
     "output_type": "stream",
     "text": [
      "<class 'pandas.core.frame.DataFrame'>\n",
      "RangeIndex: 3691 entries, 0 to 3690\n",
      "Data columns (total 8 columns):\n",
      "Date                3691 non-null datetime64[ns]\n",
      "MinTemp             3691 non-null float64\n",
      "MaxTemp             3691 non-null float64\n",
      "AverageTemp         3691 non-null float64\n",
      "Precipitation       3691 non-null float64\n",
      "SunshineDuration    3691 non-null float64\n",
      "MaxWindGust         3691 non-null object\n",
      "Date_str            3691 non-null object\n",
      "dtypes: datetime64[ns](1), float64(5), object(2)\n",
      "memory usage: 230.8+ KB\n"
     ]
    }
   ],
   "source": [
    "df.info()"
   ]
  },
  {
   "cell_type": "code",
   "execution_count": 17,
   "metadata": {},
   "outputs": [],
   "source": [
    "df_summer = df[df['Date_str'].str.contains(\"-04-|-05-|-06-|-07-|-08-|-09-\")]\n",
    "df_winter = df[df['Date_str'].str.contains(\"-01-|-02-|-03-|-10-|-11-|-12-\")]"
   ]
  },
  {
   "cell_type": "markdown",
   "metadata": {},
   "source": [
    "To export a DataFrame to a CSV file (for plausibility checks) I use: \n",
    "- ```df_summer.to_csv('data/df_summer.csv', sep=',', index=False)```\n",
    "- ```df_winter.to_csv('data/df_winter.csv', sep=',', index=False)```"
   ]
  },
  {
   "cell_type": "code",
   "execution_count": 18,
   "metadata": {},
   "outputs": [
    {
     "data": {
      "text/html": [
       "<div>\n",
       "<style scoped>\n",
       "    .dataframe tbody tr th:only-of-type {\n",
       "        vertical-align: middle;\n",
       "    }\n",
       "\n",
       "    .dataframe tbody tr th {\n",
       "        vertical-align: top;\n",
       "    }\n",
       "\n",
       "    .dataframe thead th {\n",
       "        text-align: right;\n",
       "    }\n",
       "</style>\n",
       "<table border=\"1\" class=\"dataframe\">\n",
       "  <thead>\n",
       "    <tr style=\"text-align: right;\">\n",
       "      <th></th>\n",
       "      <th>MinTemp</th>\n",
       "      <th>MaxTemp</th>\n",
       "      <th>AverageTemp</th>\n",
       "      <th>Precipitation</th>\n",
       "      <th>SunshineDuration</th>\n",
       "    </tr>\n",
       "  </thead>\n",
       "  <tbody>\n",
       "    <tr>\n",
       "      <th>count</th>\n",
       "      <td>1868.000000</td>\n",
       "      <td>1868.000000</td>\n",
       "      <td>1868.000000</td>\n",
       "      <td>1868.000000</td>\n",
       "      <td>1868.000000</td>\n",
       "    </tr>\n",
       "    <tr>\n",
       "      <th>mean</th>\n",
       "      <td>9.834422</td>\n",
       "      <td>19.897216</td>\n",
       "      <td>14.964026</td>\n",
       "      <td>2.127516</td>\n",
       "      <td>6.529818</td>\n",
       "    </tr>\n",
       "    <tr>\n",
       "      <th>std</th>\n",
       "      <td>4.446393</td>\n",
       "      <td>5.218301</td>\n",
       "      <td>4.444726</td>\n",
       "      <td>4.463327</td>\n",
       "      <td>4.444178</td>\n",
       "    </tr>\n",
       "    <tr>\n",
       "      <th>min</th>\n",
       "      <td>-6.800000</td>\n",
       "      <td>3.300000</td>\n",
       "      <td>0.100000</td>\n",
       "      <td>0.000000</td>\n",
       "      <td>0.000000</td>\n",
       "    </tr>\n",
       "    <tr>\n",
       "      <th>25%</th>\n",
       "      <td>7.000000</td>\n",
       "      <td>16.600000</td>\n",
       "      <td>12.300000</td>\n",
       "      <td>0.000000</td>\n",
       "      <td>2.700000</td>\n",
       "    </tr>\n",
       "    <tr>\n",
       "      <th>50%</th>\n",
       "      <td>10.500000</td>\n",
       "      <td>20.000000</td>\n",
       "      <td>15.300000</td>\n",
       "      <td>0.000000</td>\n",
       "      <td>6.300000</td>\n",
       "    </tr>\n",
       "    <tr>\n",
       "      <th>75%</th>\n",
       "      <td>13.000000</td>\n",
       "      <td>23.200000</td>\n",
       "      <td>17.800000</td>\n",
       "      <td>2.200000</td>\n",
       "      <td>10.000000</td>\n",
       "    </tr>\n",
       "    <tr>\n",
       "      <th>max</th>\n",
       "      <td>21.600000</td>\n",
       "      <td>36.400000</td>\n",
       "      <td>28.000000</td>\n",
       "      <td>47.100000</td>\n",
       "      <td>15.600000</td>\n",
       "    </tr>\n",
       "  </tbody>\n",
       "</table>\n",
       "</div>"
      ],
      "text/plain": [
       "           MinTemp      MaxTemp  AverageTemp  Precipitation  SunshineDuration\n",
       "count  1868.000000  1868.000000  1868.000000    1868.000000       1868.000000\n",
       "mean      9.834422    19.897216    14.964026       2.127516          6.529818\n",
       "std       4.446393     5.218301     4.444726       4.463327          4.444178\n",
       "min      -6.800000     3.300000     0.100000       0.000000          0.000000\n",
       "25%       7.000000    16.600000    12.300000       0.000000          2.700000\n",
       "50%      10.500000    20.000000    15.300000       0.000000          6.300000\n",
       "75%      13.000000    23.200000    17.800000       2.200000         10.000000\n",
       "max      21.600000    36.400000    28.000000      47.100000         15.600000"
      ]
     },
     "execution_count": 18,
     "metadata": {},
     "output_type": "execute_result"
    }
   ],
   "source": [
    "df_summer.describe()"
   ]
  },
  {
   "cell_type": "code",
   "execution_count": 19,
   "metadata": {},
   "outputs": [
    {
     "data": {
      "text/html": [
       "<div>\n",
       "<style scoped>\n",
       "    .dataframe tbody tr th:only-of-type {\n",
       "        vertical-align: middle;\n",
       "    }\n",
       "\n",
       "    .dataframe tbody tr th {\n",
       "        vertical-align: top;\n",
       "    }\n",
       "\n",
       "    .dataframe thead th {\n",
       "        text-align: right;\n",
       "    }\n",
       "</style>\n",
       "<table border=\"1\" class=\"dataframe\">\n",
       "  <thead>\n",
       "    <tr style=\"text-align: right;\">\n",
       "      <th></th>\n",
       "      <th>MinTemp</th>\n",
       "      <th>MaxTemp</th>\n",
       "      <th>AverageTemp</th>\n",
       "      <th>Precipitation</th>\n",
       "      <th>SunshineDuration</th>\n",
       "    </tr>\n",
       "  </thead>\n",
       "  <tbody>\n",
       "    <tr>\n",
       "      <th>count</th>\n",
       "      <td>1823.000000</td>\n",
       "      <td>1823.000000</td>\n",
       "      <td>1823.000000</td>\n",
       "      <td>1823.000000</td>\n",
       "      <td>1823.000000</td>\n",
       "    </tr>\n",
       "    <tr>\n",
       "      <th>mean</th>\n",
       "      <td>1.588316</td>\n",
       "      <td>7.375151</td>\n",
       "      <td>4.618541</td>\n",
       "      <td>1.986506</td>\n",
       "      <td>2.264619</td>\n",
       "    </tr>\n",
       "    <tr>\n",
       "      <th>std</th>\n",
       "      <td>5.120745</td>\n",
       "      <td>5.361563</td>\n",
       "      <td>4.937279</td>\n",
       "      <td>4.091629</td>\n",
       "      <td>3.042207</td>\n",
       "    </tr>\n",
       "    <tr>\n",
       "      <th>min</th>\n",
       "      <td>-17.700000</td>\n",
       "      <td>-8.700000</td>\n",
       "      <td>-12.100000</td>\n",
       "      <td>0.000000</td>\n",
       "      <td>0.000000</td>\n",
       "    </tr>\n",
       "    <tr>\n",
       "      <th>25%</th>\n",
       "      <td>-1.500000</td>\n",
       "      <td>3.600000</td>\n",
       "      <td>1.400000</td>\n",
       "      <td>0.000000</td>\n",
       "      <td>0.000000</td>\n",
       "    </tr>\n",
       "    <tr>\n",
       "      <th>50%</th>\n",
       "      <td>1.700000</td>\n",
       "      <td>7.600000</td>\n",
       "      <td>4.900000</td>\n",
       "      <td>0.200000</td>\n",
       "      <td>0.600000</td>\n",
       "    </tr>\n",
       "    <tr>\n",
       "      <th>75%</th>\n",
       "      <td>5.100000</td>\n",
       "      <td>11.050000</td>\n",
       "      <td>8.050000</td>\n",
       "      <td>2.200000</td>\n",
       "      <td>3.800000</td>\n",
       "    </tr>\n",
       "    <tr>\n",
       "      <th>max</th>\n",
       "      <td>14.400000</td>\n",
       "      <td>26.100000</td>\n",
       "      <td>17.600000</td>\n",
       "      <td>36.100000</td>\n",
       "      <td>11.800000</td>\n",
       "    </tr>\n",
       "  </tbody>\n",
       "</table>\n",
       "</div>"
      ],
      "text/plain": [
       "           MinTemp      MaxTemp  AverageTemp  Precipitation  SunshineDuration\n",
       "count  1823.000000  1823.000000  1823.000000    1823.000000       1823.000000\n",
       "mean      1.588316     7.375151     4.618541       1.986506          2.264619\n",
       "std       5.120745     5.361563     4.937279       4.091629          3.042207\n",
       "min     -17.700000    -8.700000   -12.100000       0.000000          0.000000\n",
       "25%      -1.500000     3.600000     1.400000       0.000000          0.000000\n",
       "50%       1.700000     7.600000     4.900000       0.200000          0.600000\n",
       "75%       5.100000    11.050000     8.050000       2.200000          3.800000\n",
       "max      14.400000    26.100000    17.600000      36.100000         11.800000"
      ]
     },
     "execution_count": 19,
     "metadata": {},
     "output_type": "execute_result"
    }
   ],
   "source": [
    "df_winter.describe()"
   ]
  },
  {
   "cell_type": "markdown",
   "metadata": {},
   "source": [
    "--- \n",
    "\n",
    "- The total number of rows in the dataset is 3,691 \n",
    "- The summer subset holds 1,868 rows (50.61 %)  \n",
    "- The winter subset holds 1,823 rows (49.39 %) \n",
    "\n",
    "--- "
   ]
  },
  {
   "cell_type": "code",
   "execution_count": 20,
   "metadata": {},
   "outputs": [],
   "source": [
    "# Copy the values in the column named 'AverageTemp' to an array with the appropiate length \n",
    "# see https://docs.scipy.org/doc/numpy/reference/generated/numpy.reshape.html\n",
    "AverageTemp_summer = df_summer[['AverageTemp']].values.reshape(len(df_summer))\n",
    "AverageTemp_winter = df_winter[['AverageTemp']].values.reshape(len(df_winter))"
   ]
  },
  {
   "cell_type": "code",
   "execution_count": 21,
   "metadata": {},
   "outputs": [],
   "source": [
    "loc_summer = 14.964026 # the mean value \n",
    "scale_summer = 4.444726 # the standard deviance \n",
    "lower = scipy.stats.norm.ppf(0.01,loc_summer,scale_summer)\n",
    "upper = scipy.stats.norm.ppf(0.99,loc_summer,scale_summer)\n",
    "x_summer = scipy.linspace(lower,upper,100)\n",
    "\n",
    "y_summer = scipy.stats.norm.pdf(x_summer,loc_summer,scale_summer)"
   ]
  },
  {
   "cell_type": "code",
   "execution_count": 22,
   "metadata": {},
   "outputs": [
    {
     "data": {
      "image/png": "[encoded data removed]",
      "text/plain": [
       "<Figure size 1080x360 with 1 Axes>"
      ]
     },
     "metadata": {},
     "output_type": "display_data"
    }
   ],
   "source": [
    "plt.figure(figsize=(15, 5))\n",
    "plt.title('AverageTemp for Summer')\n",
    "plt.hist(AverageTemp_summer, 100, density=True)\n",
    "plt.plot(x_summer,y_summer)\n",
    "plt.show()"
   ]
  },
  {
   "cell_type": "code",
   "execution_count": 23,
   "metadata": {},
   "outputs": [],
   "source": [
    "loc_winter = 4.618541 # the mean value \n",
    "scale_winter = 4.937279 # the standard deviance\n",
    "lower = scipy.stats.norm.ppf(0.01,loc_winter,scale_winter)\n",
    "upper = scipy.stats.norm.ppf(0.99,loc_winter,scale_winter)\n",
    "x_winter = scipy.linspace(lower,upper,100)\n",
    "\n",
    "y_winter = scipy.stats.norm.pdf(x_winter,loc_winter,scale_winter)"
   ]
  },
  {
   "cell_type": "code",
   "execution_count": 24,
   "metadata": {},
   "outputs": [
    {
     "data": {
      "image/png": "[encoded data removed]",
      "text/plain": [
       "<Figure size 1080x360 with 1 Axes>"
      ]
     },
     "metadata": {},
     "output_type": "display_data"
    }
   ],
   "source": [
    "plt.figure(figsize=(15, 5))\n",
    "plt.title('AverageTemp for Winter')\n",
    "plt.hist(AverageTemp_winter, 100, density=True)\n",
    "plt.plot(x_winter,y_winter)\n",
    "plt.show()"
   ]
  },
  {
   "cell_type": "markdown",
   "metadata": {},
   "source": [
    "## Intermediate result and proceeding \n",
    "\n",
    "- The split into subsets resolves the bimodal distribution, but shows an asymmetric (skewed) distribution. \n",
    "- I will subset the winter subset into years and try to group these subsets (“cold winters” and “warm winters”). "
   ]
  },
  {
   "cell_type": "code",
   "execution_count": 25,
   "metadata": {},
   "outputs": [
    {
     "data": {
      "text/plain": [
       "<matplotlib.axes._subplots.AxesSubplot at 0x7f9972b35ac8>"
      ]
     },
     "execution_count": 25,
     "metadata": {},
     "output_type": "execute_result"
    },
    {
     "data": {
      "image/png": "[encoded data removed]",
      "text/plain": [
       "<Figure size 1440x576 with 1 Axes>"
      ]
     },
     "metadata": {},
     "output_type": "display_data"
    }
   ],
   "source": [
    "df.plot(x = 'Date', y = 'AverageTemp', figsize=(20, 8))"
   ]
  },
  {
   "cell_type": "code",
   "execution_count": 26,
   "metadata": {},
   "outputs": [],
   "source": [
    "df_winter_0809 = df[(df['Date'] >= '2008-10-01') & (df['Date'] < '2009-04-01')]\n",
    "df_winter_0910 = df[(df['Date'] >= '2009-10-01') & (df['Date'] < '2010-04-01')]\n",
    "df_winter_1011 = df[(df['Date'] >= '2010-10-01') & (df['Date'] < '2011-04-01')]\n",
    "df_winter_1112 = df[(df['Date'] >= '2011-10-01') & (df['Date'] < '2012-04-01')]\n",
    "df_winter_1213 = df[(df['Date'] >= '2012-10-01') & (df['Date'] < '2013-04-01')]\n",
    "df_winter_1314 = df[(df['Date'] >= '2013-10-01') & (df['Date'] < '2014-04-01')]\n",
    "df_winter_1415 = df[(df['Date'] >= '2014-10-01') & (df['Date'] < '2015-04-01')]\n",
    "df_winter_1516 = df[(df['Date'] >= '2015-10-01') & (df['Date'] < '2016-04-01')]\n",
    "df_winter_1617 = df[(df['Date'] >= '2016-10-01') & (df['Date'] < '2017-04-01')]\n",
    "df_winter_1718 = df[(df['Date'] >= '2017-10-01') & (df['Date'] < '2018-04-01')]"
   ]
  },
  {
   "cell_type": "code",
   "execution_count": 27,
   "metadata": {},
   "outputs": [
    {
     "data": {
      "text/html": [
       "<div>\n",
       "<style scoped>\n",
       "    .dataframe tbody tr th:only-of-type {\n",
       "        vertical-align: middle;\n",
       "    }\n",
       "\n",
       "    .dataframe tbody tr th {\n",
       "        vertical-align: top;\n",
       "    }\n",
       "\n",
       "    .dataframe thead th {\n",
       "        text-align: right;\n",
       "    }\n",
       "</style>\n",
       "<table border=\"1\" class=\"dataframe\">\n",
       "  <thead>\n",
       "    <tr style=\"text-align: right;\">\n",
       "      <th></th>\n",
       "      <th>Date</th>\n",
       "      <th>MinTemp</th>\n",
       "      <th>MaxTemp</th>\n",
       "      <th>AverageTemp</th>\n",
       "      <th>Precipitation</th>\n",
       "      <th>SunshineDuration</th>\n",
       "      <th>MaxWindGust</th>\n",
       "      <th>Date_str</th>\n",
       "    </tr>\n",
       "  </thead>\n",
       "  <tbody>\n",
       "    <tr>\n",
       "      <th>90</th>\n",
       "      <td>2008-10-01</td>\n",
       "      <td>8.9</td>\n",
       "      <td>13.5</td>\n",
       "      <td>11.1</td>\n",
       "      <td>4.7</td>\n",
       "      <td>2.0</td>\n",
       "      <td>7.0</td>\n",
       "      <td>2008-10-01</td>\n",
       "    </tr>\n",
       "    <tr>\n",
       "      <th>91</th>\n",
       "      <td>2008-10-02</td>\n",
       "      <td>8.1</td>\n",
       "      <td>13.2</td>\n",
       "      <td>10.1</td>\n",
       "      <td>8.2</td>\n",
       "      <td>1.4</td>\n",
       "      <td>8.0</td>\n",
       "      <td>2008-10-02</td>\n",
       "    </tr>\n",
       "    <tr>\n",
       "      <th>92</th>\n",
       "      <td>2008-10-03</td>\n",
       "      <td>6.4</td>\n",
       "      <td>11.7</td>\n",
       "      <td>8.3</td>\n",
       "      <td>12.9</td>\n",
       "      <td>0.6</td>\n",
       "      <td>5.0</td>\n",
       "      <td>2008-10-03</td>\n",
       "    </tr>\n",
       "    <tr>\n",
       "      <th>93</th>\n",
       "      <td>2008-10-04</td>\n",
       "      <td>6.9</td>\n",
       "      <td>11.7</td>\n",
       "      <td>8.7</td>\n",
       "      <td>2.7</td>\n",
       "      <td>3.4</td>\n",
       "      <td>7.0</td>\n",
       "      <td>2008-10-04</td>\n",
       "    </tr>\n",
       "    <tr>\n",
       "      <th>94</th>\n",
       "      <td>2008-10-05</td>\n",
       "      <td>8.2</td>\n",
       "      <td>11.8</td>\n",
       "      <td>10.0</td>\n",
       "      <td>18.5</td>\n",
       "      <td>0.0</td>\n",
       "      <td>8.0</td>\n",
       "      <td>2008-10-05</td>\n",
       "    </tr>\n",
       "  </tbody>\n",
       "</table>\n",
       "</div>"
      ],
      "text/plain": [
       "         Date  MinTemp  MaxTemp  AverageTemp  Precipitation  SunshineDuration  \\\n",
       "90 2008-10-01      8.9     13.5         11.1            4.7               2.0   \n",
       "91 2008-10-02      8.1     13.2         10.1            8.2               1.4   \n",
       "92 2008-10-03      6.4     11.7          8.3           12.9               0.6   \n",
       "93 2008-10-04      6.9     11.7          8.7            2.7               3.4   \n",
       "94 2008-10-05      8.2     11.8         10.0           18.5               0.0   \n",
       "\n",
       "   MaxWindGust    Date_str  \n",
       "90         7.0  2008-10-01  \n",
       "91         8.0  2008-10-02  \n",
       "92         5.0  2008-10-03  \n",
       "93         7.0  2008-10-04  \n",
       "94         8.0  2008-10-05  "
      ]
     },
     "execution_count": 27,
     "metadata": {},
     "output_type": "execute_result"
    }
   ],
   "source": [
    "df_winter_0809.head()"
   ]
  },
  {
   "cell_type": "code",
   "execution_count": 28,
   "metadata": {},
   "outputs": [
    {
     "data": {
      "text/html": [
       "<div>\n",
       "<style scoped>\n",
       "    .dataframe tbody tr th:only-of-type {\n",
       "        vertical-align: middle;\n",
       "    }\n",
       "\n",
       "    .dataframe tbody tr th {\n",
       "        vertical-align: top;\n",
       "    }\n",
       "\n",
       "    .dataframe thead th {\n",
       "        text-align: right;\n",
       "    }\n",
       "</style>\n",
       "<table border=\"1\" class=\"dataframe\">\n",
       "  <thead>\n",
       "    <tr style=\"text-align: right;\">\n",
       "      <th></th>\n",
       "      <th>Date</th>\n",
       "      <th>MinTemp</th>\n",
       "      <th>MaxTemp</th>\n",
       "      <th>AverageTemp</th>\n",
       "      <th>Precipitation</th>\n",
       "      <th>SunshineDuration</th>\n",
       "      <th>MaxWindGust</th>\n",
       "      <th>Date_str</th>\n",
       "    </tr>\n",
       "  </thead>\n",
       "  <tbody>\n",
       "    <tr>\n",
       "      <th>268</th>\n",
       "      <td>2009-03-27</td>\n",
       "      <td>3.3</td>\n",
       "      <td>9.5</td>\n",
       "      <td>6.6</td>\n",
       "      <td>0.9</td>\n",
       "      <td>5.2</td>\n",
       "      <td>8.0</td>\n",
       "      <td>2009-03-27</td>\n",
       "    </tr>\n",
       "    <tr>\n",
       "      <th>269</th>\n",
       "      <td>2009-03-28</td>\n",
       "      <td>3.8</td>\n",
       "      <td>9.5</td>\n",
       "      <td>5.9</td>\n",
       "      <td>6.1</td>\n",
       "      <td>1.9</td>\n",
       "      <td>5.0</td>\n",
       "      <td>2009-03-28</td>\n",
       "    </tr>\n",
       "    <tr>\n",
       "      <th>270</th>\n",
       "      <td>2009-03-29</td>\n",
       "      <td>-0.5</td>\n",
       "      <td>9.5</td>\n",
       "      <td>5.6</td>\n",
       "      <td>0.6</td>\n",
       "      <td>3.9</td>\n",
       "      <td>5.0</td>\n",
       "      <td>2009-03-29</td>\n",
       "    </tr>\n",
       "    <tr>\n",
       "      <th>271</th>\n",
       "      <td>2009-03-30</td>\n",
       "      <td>-1.0</td>\n",
       "      <td>10.2</td>\n",
       "      <td>4.9</td>\n",
       "      <td>0.0</td>\n",
       "      <td>8.6</td>\n",
       "      <td>5.0</td>\n",
       "      <td>2009-03-30</td>\n",
       "    </tr>\n",
       "    <tr>\n",
       "      <th>272</th>\n",
       "      <td>2009-03-31</td>\n",
       "      <td>-0.2</td>\n",
       "      <td>11.2</td>\n",
       "      <td>7.2</td>\n",
       "      <td>0.0</td>\n",
       "      <td>1.9</td>\n",
       "      <td>4.0</td>\n",
       "      <td>2009-03-31</td>\n",
       "    </tr>\n",
       "  </tbody>\n",
       "</table>\n",
       "</div>"
      ],
      "text/plain": [
       "          Date  MinTemp  MaxTemp  AverageTemp  Precipitation  \\\n",
       "268 2009-03-27      3.3      9.5          6.6            0.9   \n",
       "269 2009-03-28      3.8      9.5          5.9            6.1   \n",
       "270 2009-03-29     -0.5      9.5          5.6            0.6   \n",
       "271 2009-03-30     -1.0     10.2          4.9            0.0   \n",
       "272 2009-03-31     -0.2     11.2          7.2            0.0   \n",
       "\n",
       "     SunshineDuration MaxWindGust    Date_str  \n",
       "268               5.2         8.0  2009-03-27  \n",
       "269               1.9         5.0  2009-03-28  \n",
       "270               3.9         5.0  2009-03-29  \n",
       "271               8.6         5.0  2009-03-30  \n",
       "272               1.9         4.0  2009-03-31  "
      ]
     },
     "execution_count": 28,
     "metadata": {},
     "output_type": "execute_result"
    }
   ],
   "source": [
    "df_winter_0809.tail()"
   ]
  },
  {
   "cell_type": "code",
   "execution_count": 29,
   "metadata": {},
   "outputs": [],
   "source": [
    "# Calculate mean values for all subsets \n",
    "\n",
    "df_winter_0809_mean = df_winter_0809.mean()\n",
    "df_winter_0910_mean = df_winter_0910.mean()\n",
    "df_winter_1011_mean = df_winter_1011.mean()\n",
    "df_winter_1112_mean = df_winter_1112.mean()\n",
    "df_winter_1213_mean = df_winter_1213.mean()\n",
    "df_winter_1314_mean = df_winter_1314.mean()\n",
    "df_winter_1415_mean = df_winter_1415.mean()\n",
    "df_winter_1516_mean = df_winter_1516.mean()\n",
    "df_winter_1617_mean = df_winter_1617.mean()\n",
    "df_winter_1718_mean = df_winter_1718.mean()"
   ]
  },
  {
   "cell_type": "code",
   "execution_count": 30,
   "metadata": {},
   "outputs": [
    {
     "data": {
      "text/html": [
       "<div>\n",
       "<style scoped>\n",
       "    .dataframe tbody tr th:only-of-type {\n",
       "        vertical-align: middle;\n",
       "    }\n",
       "\n",
       "    .dataframe tbody tr th {\n",
       "        vertical-align: top;\n",
       "    }\n",
       "\n",
       "    .dataframe thead th {\n",
       "        text-align: right;\n",
       "    }\n",
       "</style>\n",
       "<table border=\"1\" class=\"dataframe\">\n",
       "  <thead>\n",
       "    <tr style=\"text-align: right;\">\n",
       "      <th></th>\n",
       "      <th>index</th>\n",
       "      <th>0</th>\n",
       "      <th>1</th>\n",
       "      <th>2</th>\n",
       "      <th>3</th>\n",
       "      <th>4</th>\n",
       "      <th>5</th>\n",
       "      <th>6</th>\n",
       "      <th>7</th>\n",
       "      <th>8</th>\n",
       "      <th>9</th>\n",
       "    </tr>\n",
       "  </thead>\n",
       "  <tbody>\n",
       "    <tr>\n",
       "      <th>0</th>\n",
       "      <td>MinTemp</td>\n",
       "      <td>1.617486</td>\n",
       "      <td>0.200549</td>\n",
       "      <td>0.091209</td>\n",
       "      <td>1.948634</td>\n",
       "      <td>0.203846</td>\n",
       "      <td>2.756044</td>\n",
       "      <td>3.034615</td>\n",
       "      <td>2.640984</td>\n",
       "      <td>1.580220</td>\n",
       "      <td>1.801648</td>\n",
       "    </tr>\n",
       "    <tr>\n",
       "      <th>1</th>\n",
       "      <td>MaxTemp</td>\n",
       "      <td>7.072131</td>\n",
       "      <td>5.696154</td>\n",
       "      <td>5.923077</td>\n",
       "      <td>8.192350</td>\n",
       "      <td>5.725275</td>\n",
       "      <td>9.251099</td>\n",
       "      <td>8.556044</td>\n",
       "      <td>8.521858</td>\n",
       "      <td>7.643407</td>\n",
       "      <td>7.160989</td>\n",
       "    </tr>\n",
       "    <tr>\n",
       "      <th>2</th>\n",
       "      <td>AverageTemp</td>\n",
       "      <td>4.536612</td>\n",
       "      <td>3.232418</td>\n",
       "      <td>3.135165</td>\n",
       "      <td>5.166120</td>\n",
       "      <td>3.125275</td>\n",
       "      <td>6.136264</td>\n",
       "      <td>5.863736</td>\n",
       "      <td>5.707104</td>\n",
       "      <td>4.718132</td>\n",
       "      <td>4.556044</td>\n",
       "    </tr>\n",
       "    <tr>\n",
       "      <th>3</th>\n",
       "      <td>Precipitation</td>\n",
       "      <td>1.828415</td>\n",
       "      <td>2.335714</td>\n",
       "      <td>1.713187</td>\n",
       "      <td>1.866120</td>\n",
       "      <td>1.632418</td>\n",
       "      <td>1.722527</td>\n",
       "      <td>2.322527</td>\n",
       "      <td>2.188525</td>\n",
       "      <td>1.771429</td>\n",
       "      <td>2.484615</td>\n",
       "    </tr>\n",
       "    <tr>\n",
       "      <th>4</th>\n",
       "      <td>SunshineDuration</td>\n",
       "      <td>1.996721</td>\n",
       "      <td>1.827473</td>\n",
       "      <td>2.436813</td>\n",
       "      <td>2.609836</td>\n",
       "      <td>2.054945</td>\n",
       "      <td>2.743407</td>\n",
       "      <td>2.308791</td>\n",
       "      <td>2.134973</td>\n",
       "      <td>2.241758</td>\n",
       "      <td>2.291758</td>\n",
       "    </tr>\n",
       "  </tbody>\n",
       "</table>\n",
       "</div>"
      ],
      "text/plain": [
       "              index         0         1         2         3         4  \\\n",
       "0           MinTemp  1.617486  0.200549  0.091209  1.948634  0.203846   \n",
       "1           MaxTemp  7.072131  5.696154  5.923077  8.192350  5.725275   \n",
       "2       AverageTemp  4.536612  3.232418  3.135165  5.166120  3.125275   \n",
       "3     Precipitation  1.828415  2.335714  1.713187  1.866120  1.632418   \n",
       "4  SunshineDuration  1.996721  1.827473  2.436813  2.609836  2.054945   \n",
       "\n",
       "          5         6         7         8         9  \n",
       "0  2.756044  3.034615  2.640984  1.580220  1.801648  \n",
       "1  9.251099  8.556044  8.521858  7.643407  7.160989  \n",
       "2  6.136264  5.863736  5.707104  4.718132  4.556044  \n",
       "3  1.722527  2.322527  2.188525  1.771429  2.484615  \n",
       "4  2.743407  2.308791  2.134973  2.241758  2.291758  "
      ]
     },
     "execution_count": 30,
     "metadata": {},
     "output_type": "execute_result"
    }
   ],
   "source": [
    "# Concatenate mean values for winter subsets (pandas Series) to a DataFrame \n",
    "\n",
    "pd.concat([df_winter_0809_mean, df_winter_0910_mean, df_winter_1011_mean, df_winter_1112_mean, \\\n",
    "           df_winter_1213_mean, df_winter_1314_mean, df_winter_1415_mean, df_winter_1516_mean, \\\n",
    "           df_winter_1617_mean, df_winter_1718_mean], axis=1).reset_index()"
   ]
  },
  {
   "cell_type": "markdown",
   "metadata": {},
   "source": [
    "The average winter has a mean temperature of 4.62 (°C). \n",
    "- below average (cold) winters: 0, 1, 2, 4, 9\n",
    "- above average (warm) winters: 3, 5, 6, 7, 8 "
   ]
  },
  {
   "cell_type": "markdown",
   "metadata": {},
   "source": [
    "## Clustering of data with KMeans "
   ]
  },
  {
   "cell_type": "code",
   "execution_count": 31,
   "metadata": {},
   "outputs": [],
   "source": [
    "from sklearn.cluster import KMeans"
   ]
  },
  {
   "cell_type": "code",
   "execution_count": 32,
   "metadata": {},
   "outputs": [],
   "source": [
    "df_winter_no_date = df_winter.iloc[:,1:-1].head()"
   ]
  },
  {
   "cell_type": "code",
   "execution_count": 33,
   "metadata": {},
   "outputs": [
    {
     "data": {
      "text/html": [
       "<div>\n",
       "<style scoped>\n",
       "    .dataframe tbody tr th:only-of-type {\n",
       "        vertical-align: middle;\n",
       "    }\n",
       "\n",
       "    .dataframe tbody tr th {\n",
       "        vertical-align: top;\n",
       "    }\n",
       "\n",
       "    .dataframe thead th {\n",
       "        text-align: right;\n",
       "    }\n",
       "</style>\n",
       "<table border=\"1\" class=\"dataframe\">\n",
       "  <thead>\n",
       "    <tr style=\"text-align: right;\">\n",
       "      <th></th>\n",
       "      <th>MinTemp</th>\n",
       "      <th>MaxTemp</th>\n",
       "      <th>AverageTemp</th>\n",
       "      <th>Precipitation</th>\n",
       "      <th>SunshineDuration</th>\n",
       "      <th>MaxWindGust</th>\n",
       "    </tr>\n",
       "  </thead>\n",
       "  <tbody>\n",
       "    <tr>\n",
       "      <th>90</th>\n",
       "      <td>8.9</td>\n",
       "      <td>13.5</td>\n",
       "      <td>11.1</td>\n",
       "      <td>4.7</td>\n",
       "      <td>2.0</td>\n",
       "      <td>7.0</td>\n",
       "    </tr>\n",
       "    <tr>\n",
       "      <th>91</th>\n",
       "      <td>8.1</td>\n",
       "      <td>13.2</td>\n",
       "      <td>10.1</td>\n",
       "      <td>8.2</td>\n",
       "      <td>1.4</td>\n",
       "      <td>8.0</td>\n",
       "    </tr>\n",
       "    <tr>\n",
       "      <th>92</th>\n",
       "      <td>6.4</td>\n",
       "      <td>11.7</td>\n",
       "      <td>8.3</td>\n",
       "      <td>12.9</td>\n",
       "      <td>0.6</td>\n",
       "      <td>5.0</td>\n",
       "    </tr>\n",
       "    <tr>\n",
       "      <th>93</th>\n",
       "      <td>6.9</td>\n",
       "      <td>11.7</td>\n",
       "      <td>8.7</td>\n",
       "      <td>2.7</td>\n",
       "      <td>3.4</td>\n",
       "      <td>7.0</td>\n",
       "    </tr>\n",
       "    <tr>\n",
       "      <th>94</th>\n",
       "      <td>8.2</td>\n",
       "      <td>11.8</td>\n",
       "      <td>10.0</td>\n",
       "      <td>18.5</td>\n",
       "      <td>0.0</td>\n",
       "      <td>8.0</td>\n",
       "    </tr>\n",
       "  </tbody>\n",
       "</table>\n",
       "</div>"
      ],
      "text/plain": [
       "    MinTemp  MaxTemp  AverageTemp  Precipitation  SunshineDuration MaxWindGust\n",
       "90      8.9     13.5         11.1            4.7               2.0         7.0\n",
       "91      8.1     13.2         10.1            8.2               1.4         8.0\n",
       "92      6.4     11.7          8.3           12.9               0.6         5.0\n",
       "93      6.9     11.7          8.7            2.7               3.4         7.0\n",
       "94      8.2     11.8         10.0           18.5               0.0         8.0"
      ]
     },
     "execution_count": 33,
     "metadata": {},
     "output_type": "execute_result"
    }
   ],
   "source": [
    "df_winter_no_date.head()"
   ]
  },
  {
   "cell_type": "code",
   "execution_count": 34,
   "metadata": {},
   "outputs": [
    {
     "ename": "ValueError",
     "evalue": "Length of values does not match length of index",
     "output_type": "error",
     "traceback": [
      "\u001b[0;31m---------------------------------------------------------------------------\u001b[0m",
      "\u001b[0;31mValueError\u001b[0m                                Traceback (most recent call last)",
      "\u001b[0;32m<ipython-input-34-744f74c80635>\u001b[0m in \u001b[0;36m<module>\u001b[0;34m()\u001b[0m\n\u001b[1;32m      1\u001b[0m \u001b[0mkmeans\u001b[0m \u001b[0;34m=\u001b[0m \u001b[0mKMeans\u001b[0m\u001b[0;34m(\u001b[0m\u001b[0mn_clusters\u001b[0m\u001b[0;34m=\u001b[0m\u001b[0;36m2\u001b[0m\u001b[0;34m,\u001b[0m \u001b[0mrandom_state\u001b[0m\u001b[0;34m=\u001b[0m\u001b[0;36m0\u001b[0m\u001b[0;34m)\u001b[0m\u001b[0;34m.\u001b[0m\u001b[0mfit\u001b[0m\u001b[0;34m(\u001b[0m\u001b[0mdf_winter_no_date\u001b[0m\u001b[0;34m)\u001b[0m\u001b[0;34m\u001b[0m\u001b[0m\n\u001b[0;32m----> 2\u001b[0;31m \u001b[0mdf_winter\u001b[0m\u001b[0;34m[\u001b[0m\u001b[0;34m'cluster_id'\u001b[0m\u001b[0;34m]\u001b[0m \u001b[0;34m=\u001b[0m \u001b[0mkmeans\u001b[0m\u001b[0;34m.\u001b[0m\u001b[0mpredict\u001b[0m\u001b[0;34m(\u001b[0m\u001b[0mdf_winter_no_date\u001b[0m\u001b[0;34m)\u001b[0m\u001b[0;34m\u001b[0m\u001b[0m\n\u001b[0m",
      "\u001b[0;32m~/anaconda3/lib/python3.6/site-packages/pandas/core/frame.py\u001b[0m in \u001b[0;36m__setitem__\u001b[0;34m(self, key, value)\u001b[0m\n\u001b[1;32m   3114\u001b[0m         \u001b[0;32melse\u001b[0m\u001b[0;34m:\u001b[0m\u001b[0;34m\u001b[0m\u001b[0m\n\u001b[1;32m   3115\u001b[0m             \u001b[0;31m# set column\u001b[0m\u001b[0;34m\u001b[0m\u001b[0;34m\u001b[0m\u001b[0m\n\u001b[0;32m-> 3116\u001b[0;31m             \u001b[0mself\u001b[0m\u001b[0;34m.\u001b[0m\u001b[0m_set_item\u001b[0m\u001b[0;34m(\u001b[0m\u001b[0mkey\u001b[0m\u001b[0;34m,\u001b[0m \u001b[0mvalue\u001b[0m\u001b[0;34m)\u001b[0m\u001b[0;34m\u001b[0m\u001b[0m\n\u001b[0m\u001b[1;32m   3117\u001b[0m \u001b[0;34m\u001b[0m\u001b[0m\n\u001b[1;32m   3118\u001b[0m     \u001b[0;32mdef\u001b[0m \u001b[0m_setitem_slice\u001b[0m\u001b[0;34m(\u001b[0m\u001b[0mself\u001b[0m\u001b[0;34m,\u001b[0m \u001b[0mkey\u001b[0m\u001b[0;34m,\u001b[0m \u001b[0mvalue\u001b[0m\u001b[0;34m)\u001b[0m\u001b[0;34m:\u001b[0m\u001b[0;34m\u001b[0m\u001b[0m\n",
      "\u001b[0;32m~/anaconda3/lib/python3.6/site-packages/pandas/core/frame.py\u001b[0m in \u001b[0;36m_set_item\u001b[0;34m(self, key, value)\u001b[0m\n\u001b[1;32m   3189\u001b[0m \u001b[0;34m\u001b[0m\u001b[0m\n\u001b[1;32m   3190\u001b[0m         \u001b[0mself\u001b[0m\u001b[0;34m.\u001b[0m\u001b[0m_ensure_valid_index\u001b[0m\u001b[0;34m(\u001b[0m\u001b[0mvalue\u001b[0m\u001b[0;34m)\u001b[0m\u001b[0;34m\u001b[0m\u001b[0m\n\u001b[0;32m-> 3191\u001b[0;31m         \u001b[0mvalue\u001b[0m \u001b[0;34m=\u001b[0m \u001b[0mself\u001b[0m\u001b[0;34m.\u001b[0m\u001b[0m_sanitize_column\u001b[0m\u001b[0;34m(\u001b[0m\u001b[0mkey\u001b[0m\u001b[0;34m,\u001b[0m \u001b[0mvalue\u001b[0m\u001b[0;34m)\u001b[0m\u001b[0;34m\u001b[0m\u001b[0m\n\u001b[0m\u001b[1;32m   3192\u001b[0m         \u001b[0mNDFrame\u001b[0m\u001b[0;34m.\u001b[0m\u001b[0m_set_item\u001b[0m\u001b[0;34m(\u001b[0m\u001b[0mself\u001b[0m\u001b[0;34m,\u001b[0m \u001b[0mkey\u001b[0m\u001b[0;34m,\u001b[0m \u001b[0mvalue\u001b[0m\u001b[0;34m)\u001b[0m\u001b[0;34m\u001b[0m\u001b[0m\n\u001b[1;32m   3193\u001b[0m \u001b[0;34m\u001b[0m\u001b[0m\n",
      "\u001b[0;32m~/anaconda3/lib/python3.6/site-packages/pandas/core/frame.py\u001b[0m in \u001b[0;36m_sanitize_column\u001b[0;34m(self, key, value, broadcast)\u001b[0m\n\u001b[1;32m   3386\u001b[0m \u001b[0;34m\u001b[0m\u001b[0m\n\u001b[1;32m   3387\u001b[0m             \u001b[0;31m# turn me into an ndarray\u001b[0m\u001b[0;34m\u001b[0m\u001b[0;34m\u001b[0m\u001b[0m\n\u001b[0;32m-> 3388\u001b[0;31m             \u001b[0mvalue\u001b[0m \u001b[0;34m=\u001b[0m \u001b[0m_sanitize_index\u001b[0m\u001b[0;34m(\u001b[0m\u001b[0mvalue\u001b[0m\u001b[0;34m,\u001b[0m \u001b[0mself\u001b[0m\u001b[0;34m.\u001b[0m\u001b[0mindex\u001b[0m\u001b[0;34m,\u001b[0m \u001b[0mcopy\u001b[0m\u001b[0;34m=\u001b[0m\u001b[0;32mFalse\u001b[0m\u001b[0;34m)\u001b[0m\u001b[0;34m\u001b[0m\u001b[0m\n\u001b[0m\u001b[1;32m   3389\u001b[0m             \u001b[0;32mif\u001b[0m \u001b[0;32mnot\u001b[0m \u001b[0misinstance\u001b[0m\u001b[0;34m(\u001b[0m\u001b[0mvalue\u001b[0m\u001b[0;34m,\u001b[0m \u001b[0;34m(\u001b[0m\u001b[0mnp\u001b[0m\u001b[0;34m.\u001b[0m\u001b[0mndarray\u001b[0m\u001b[0;34m,\u001b[0m \u001b[0mIndex\u001b[0m\u001b[0;34m)\u001b[0m\u001b[0;34m)\u001b[0m\u001b[0;34m:\u001b[0m\u001b[0;34m\u001b[0m\u001b[0m\n\u001b[1;32m   3390\u001b[0m                 \u001b[0;32mif\u001b[0m \u001b[0misinstance\u001b[0m\u001b[0;34m(\u001b[0m\u001b[0mvalue\u001b[0m\u001b[0;34m,\u001b[0m \u001b[0mlist\u001b[0m\u001b[0;34m)\u001b[0m \u001b[0;32mand\u001b[0m \u001b[0mlen\u001b[0m\u001b[0;34m(\u001b[0m\u001b[0mvalue\u001b[0m\u001b[0;34m)\u001b[0m \u001b[0;34m>\u001b[0m \u001b[0;36m0\u001b[0m\u001b[0;34m:\u001b[0m\u001b[0;34m\u001b[0m\u001b[0m\n",
      "\u001b[0;32m~/anaconda3/lib/python3.6/site-packages/pandas/core/series.py\u001b[0m in \u001b[0;36m_sanitize_index\u001b[0;34m(data, index, copy)\u001b[0m\n\u001b[1;32m   3996\u001b[0m \u001b[0;34m\u001b[0m\u001b[0m\n\u001b[1;32m   3997\u001b[0m     \u001b[0;32mif\u001b[0m \u001b[0mlen\u001b[0m\u001b[0;34m(\u001b[0m\u001b[0mdata\u001b[0m\u001b[0;34m)\u001b[0m \u001b[0;34m!=\u001b[0m \u001b[0mlen\u001b[0m\u001b[0;34m(\u001b[0m\u001b[0mindex\u001b[0m\u001b[0;34m)\u001b[0m\u001b[0;34m:\u001b[0m\u001b[0;34m\u001b[0m\u001b[0m\n\u001b[0;32m-> 3998\u001b[0;31m         \u001b[0;32mraise\u001b[0m \u001b[0mValueError\u001b[0m\u001b[0;34m(\u001b[0m\u001b[0;34m'Length of values does not match length of '\u001b[0m \u001b[0;34m'index'\u001b[0m\u001b[0;34m)\u001b[0m\u001b[0;34m\u001b[0m\u001b[0m\n\u001b[0m\u001b[1;32m   3999\u001b[0m \u001b[0;34m\u001b[0m\u001b[0m\n\u001b[1;32m   4000\u001b[0m     \u001b[0;32mif\u001b[0m \u001b[0misinstance\u001b[0m\u001b[0;34m(\u001b[0m\u001b[0mdata\u001b[0m\u001b[0;34m,\u001b[0m \u001b[0mABCIndexClass\u001b[0m\u001b[0;34m)\u001b[0m \u001b[0;32mand\u001b[0m \u001b[0;32mnot\u001b[0m \u001b[0mcopy\u001b[0m\u001b[0;34m:\u001b[0m\u001b[0;34m\u001b[0m\u001b[0m\n",
      "\u001b[0;31mValueError\u001b[0m: Length of values does not match length of index"
     ]
    }
   ],
   "source": [
    "kmeans = KMeans(n_clusters=2, random_state=0).fit(df_winter_no_date)\n",
    "df_winter['cluster_id'] = kmeans.predict(df_winter_no_date)"
   ]
  },
  {
   "cell_type": "code",
   "execution_count": null,
   "metadata": {},
   "outputs": [],
   "source": []
  }
 ],
 "metadata": {
  "kernelspec": {
   "display_name": "Python 3",
   "language": "python",
   "name": "python3"
  },
  "language_info": {
   "codemirror_mode": {
    "name": "ipython",
    "version": 3
   },
   "file_extension": ".py",
   "mimetype": "text/x-python",
   "name": "python",
   "nbconvert_exporter": "python",
   "pygments_lexer": "ipython3",
   "version": "3.6.5"
  }
 },
 "nbformat": 4,
 "nbformat_minor": 2
}
